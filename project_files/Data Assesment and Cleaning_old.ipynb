{
 "cells": [
  {
   "cell_type": "markdown",
   "id": "8317cb17",
   "metadata": {},
   "source": [
    "## Data Gathering\n",
    "\n",
    "- I have used mixed approach to extract data like python & JS\n",
    "- Data extacted from smartprix.com/laptops\n",
    "- For cleaning I've used pandas mostly but also excel in some cases"
   ]
  },
  {
   "cell_type": "code",
   "execution_count": 2,
   "id": "74e7a8dc",
   "metadata": {},
   "outputs": [],
   "source": [
    "import pandas as pd\n",
    "import numpy as np\n",
    "import matplotlib.pyplot as plt\n",
    "import seaborn as sns"
   ]
  },
  {
   "cell_type": "code",
   "execution_count": 2,
   "id": "0ad26ce6",
   "metadata": {},
   "outputs": [],
   "source": [
    "df = pd.read_excel('smartprix_laptop.xlsx')"
   ]
  },
  {
   "cell_type": "code",
   "execution_count": 3,
   "id": "3914156e",
   "metadata": {},
   "outputs": [
    {
     "data": {
      "text/html": [
       "<div>\n",
       "<style scoped>\n",
       "    .dataframe tbody tr th:only-of-type {\n",
       "        vertical-align: middle;\n",
       "    }\n",
       "\n",
       "    .dataframe tbody tr th {\n",
       "        vertical-align: top;\n",
       "    }\n",
       "\n",
       "    .dataframe thead th {\n",
       "        text-align: right;\n",
       "    }\n",
       "</style>\n",
       "<table border=\"1\" class=\"dataframe\">\n",
       "  <thead>\n",
       "    <tr style=\"text-align: right;\">\n",
       "      <th></th>\n",
       "      <th>productName</th>\n",
       "      <th>price</th>\n",
       "      <th>rating</th>\n",
       "      <th>specScore</th>\n",
       "      <th>features</th>\n",
       "    </tr>\n",
       "  </thead>\n",
       "  <tbody>\n",
       "    <tr>\n",
       "      <th>0</th>\n",
       "      <td>Asus Vivobook 16X K3605ZF-MBN545WS Laptop (12t...</td>\n",
       "      <td>₹69,990</td>\n",
       "      <td>4.60</td>\n",
       "      <td>69.0</td>\n",
       "      <td>['12th Gen Intel Core i5 12500H', '12 Cores (4...</td>\n",
       "    </tr>\n",
       "    <tr>\n",
       "      <th>1</th>\n",
       "      <td>Asus Vivobook 16X K3605ZC-MBN554WS Laptop (12t...</td>\n",
       "      <td>₹74,990</td>\n",
       "      <td>4.05</td>\n",
       "      <td>71.0</td>\n",
       "      <td>['12th Gen Intel Core i5 12500H', '12 Cores (4...</td>\n",
       "    </tr>\n",
       "    <tr>\n",
       "      <th>2</th>\n",
       "      <td>Lenovo ThinkBook 15 G5 21JF002JIN Laptop (AMD ...</td>\n",
       "      <td>₹28,660</td>\n",
       "      <td>4.20</td>\n",
       "      <td>62.0</td>\n",
       "      <td>['7th Gen AMD Ryzen 3 7330U', 'Quad Core, 8 Th...</td>\n",
       "    </tr>\n",
       "    <tr>\n",
       "      <th>3</th>\n",
       "      <td>HP Victus 15-fa1351TX Gaming Laptop (12th Gen ...</td>\n",
       "      <td>₹57,990</td>\n",
       "      <td>4.75</td>\n",
       "      <td>61.0</td>\n",
       "      <td>['12th Gen Intel Core i5 12450H', 'Octa Core (...</td>\n",
       "    </tr>\n",
       "    <tr>\n",
       "      <th>4</th>\n",
       "      <td>Acer One 14 Z8-415 Laptop (11th Gen Core i3 / ...</td>\n",
       "      <td>₹24,990</td>\n",
       "      <td>4.05</td>\n",
       "      <td>54.0</td>\n",
       "      <td>['11th Gen Intel Core i3 1115G4', 'Dual Core, ...</td>\n",
       "    </tr>\n",
       "    <tr>\n",
       "      <th>...</th>\n",
       "      <td>...</td>\n",
       "      <td>...</td>\n",
       "      <td>...</td>\n",
       "      <td>...</td>\n",
       "      <td>...</td>\n",
       "    </tr>\n",
       "    <tr>\n",
       "      <th>1015</th>\n",
       "      <td>MSI Vector GP68 HX 13VG-214IN Gaming Laptop (1...</td>\n",
       "      <td>₹1,49,990</td>\n",
       "      <td>4.50</td>\n",
       "      <td>77.0</td>\n",
       "      <td>['13th Gen Intel Core i7 13700HX', '16 Cores (...</td>\n",
       "    </tr>\n",
       "    <tr>\n",
       "      <th>1016</th>\n",
       "      <td>Asus Vivobook 15X OLED M3504YA-LK552WS Laptop ...</td>\n",
       "      <td>₹58,990</td>\n",
       "      <td>4.10</td>\n",
       "      <td>61.0</td>\n",
       "      <td>['7th Gen AMD Ryzen 5 7530U', 'Hexa Core, 12 T...</td>\n",
       "    </tr>\n",
       "    <tr>\n",
       "      <th>1017</th>\n",
       "      <td>Lenovo IdeaPad 3 15IAU7 82RK00WXIN Laptop (12t...</td>\n",
       "      <td>₹33,999</td>\n",
       "      <td>4.30</td>\n",
       "      <td>53.0</td>\n",
       "      <td>['12th Gen Intel Core i3 1215U', 'Hexa Core (2...</td>\n",
       "    </tr>\n",
       "    <tr>\n",
       "      <th>1018</th>\n",
       "      <td>Lenovo IdeaPad 1 15AMN7 82VG00ERIN Laptop (AMD...</td>\n",
       "      <td>₹31,890</td>\n",
       "      <td>4.25</td>\n",
       "      <td>51.0</td>\n",
       "      <td>['7th Gen AMD Ryzen 3 7320U', 'Quad Core, 8 Th...</td>\n",
       "    </tr>\n",
       "    <tr>\n",
       "      <th>1019</th>\n",
       "      <td>HP 250 G9 7M657PA Laptop (12th Gen Core i3/ 8G...</td>\n",
       "      <td>₹32,490</td>\n",
       "      <td>4.40</td>\n",
       "      <td>56.0</td>\n",
       "      <td>['12th Gen Intel Core i3 1215U', 'Hexa Core (2...</td>\n",
       "    </tr>\n",
       "  </tbody>\n",
       "</table>\n",
       "<p>1020 rows × 5 columns</p>\n",
       "</div>"
      ],
      "text/plain": [
       "                                            productName      price  rating  \\\n",
       "0     Asus Vivobook 16X K3605ZF-MBN545WS Laptop (12t...    ₹69,990    4.60   \n",
       "1     Asus Vivobook 16X K3605ZC-MBN554WS Laptop (12t...    ₹74,990    4.05   \n",
       "2     Lenovo ThinkBook 15 G5 21JF002JIN Laptop (AMD ...    ₹28,660    4.20   \n",
       "3     HP Victus 15-fa1351TX Gaming Laptop (12th Gen ...    ₹57,990    4.75   \n",
       "4     Acer One 14 Z8-415 Laptop (11th Gen Core i3 / ...    ₹24,990    4.05   \n",
       "...                                                 ...        ...     ...   \n",
       "1015  MSI Vector GP68 HX 13VG-214IN Gaming Laptop (1...  ₹1,49,990    4.50   \n",
       "1016  Asus Vivobook 15X OLED M3504YA-LK552WS Laptop ...    ₹58,990    4.10   \n",
       "1017  Lenovo IdeaPad 3 15IAU7 82RK00WXIN Laptop (12t...    ₹33,999    4.30   \n",
       "1018  Lenovo IdeaPad 1 15AMN7 82VG00ERIN Laptop (AMD...    ₹31,890    4.25   \n",
       "1019  HP 250 G9 7M657PA Laptop (12th Gen Core i3/ 8G...    ₹32,490    4.40   \n",
       "\n",
       "      specScore                                           features  \n",
       "0          69.0  ['12th Gen Intel Core i5 12500H', '12 Cores (4...  \n",
       "1          71.0  ['12th Gen Intel Core i5 12500H', '12 Cores (4...  \n",
       "2          62.0  ['7th Gen AMD Ryzen 3 7330U', 'Quad Core, 8 Th...  \n",
       "3          61.0  ['12th Gen Intel Core i5 12450H', 'Octa Core (...  \n",
       "4          54.0  ['11th Gen Intel Core i3 1115G4', 'Dual Core, ...  \n",
       "...         ...                                                ...  \n",
       "1015       77.0  ['13th Gen Intel Core i7 13700HX', '16 Cores (...  \n",
       "1016       61.0  ['7th Gen AMD Ryzen 5 7530U', 'Hexa Core, 12 T...  \n",
       "1017       53.0  ['12th Gen Intel Core i3 1215U', 'Hexa Core (2...  \n",
       "1018       51.0  ['7th Gen AMD Ryzen 3 7320U', 'Quad Core, 8 Th...  \n",
       "1019       56.0  ['12th Gen Intel Core i3 1215U', 'Hexa Core (2...  \n",
       "\n",
       "[1020 rows x 5 columns]"
      ]
     },
     "execution_count": 3,
     "metadata": {},
     "output_type": "execute_result"
    }
   ],
   "source": [
    "df"
   ]
  },
  {
   "cell_type": "markdown",
   "id": "2ea04ec7",
   "metadata": {},
   "source": [
    "## Data Assesment & Cleaning"
   ]
  },
  {
   "attachments": {
    "image.png": {
     "image/png": "[encoded data removed]"
    }
   },
   "cell_type": "markdown",
   "id": "29413adb",
   "metadata": {},
   "source": [
    "![image.png](attachment:image.png)"
   ]
  },
  {
   "cell_type": "markdown",
   "id": "951e1387",
   "metadata": {},
   "source": [
    "### data description\n",
    "\n",
    "- Laptop Data extracted from SmartPrix.com\n",
    "1. productName: Laptop brand, model name, generation, ram rom, windows, graphics etc\n",
    "2. price: price of laptop\n",
    "3. rating: rating\n",
    "4. specScore: specScore\n",
    "5. features: lapotp features"
   ]
  },
  {
   "cell_type": "markdown",
   "id": "60cfc7a6",
   "metadata": {},
   "source": [
    "### issues in data\n",
    "\n",
    "1. dirty data\n",
    "    - remove ₹ sign in price & make it float\n",
    "    - 2 missing value in specScore\n",
    "\n",
    "2. messy data\n",
    "    - product name & features have multiple info, need to seperate them into new columns"
   ]
  },
  {
   "cell_type": "markdown",
   "id": "f488e7cc",
   "metadata": {},
   "source": [
    "### data assesment iteration 1"
   ]
  },
  {
   "cell_type": "code",
   "execution_count": 4,
   "id": "9ded7f94",
   "metadata": {},
   "outputs": [
    {
     "data": {
      "text/html": [
       "<div>\n",
       "<style scoped>\n",
       "    .dataframe tbody tr th:only-of-type {\n",
       "        vertical-align: middle;\n",
       "    }\n",
       "\n",
       "    .dataframe tbody tr th {\n",
       "        vertical-align: top;\n",
       "    }\n",
       "\n",
       "    .dataframe thead th {\n",
       "        text-align: right;\n",
       "    }\n",
       "</style>\n",
       "<table border=\"1\" class=\"dataframe\">\n",
       "  <thead>\n",
       "    <tr style=\"text-align: right;\">\n",
       "      <th></th>\n",
       "      <th>productName</th>\n",
       "      <th>price</th>\n",
       "      <th>rating</th>\n",
       "      <th>specScore</th>\n",
       "      <th>features</th>\n",
       "    </tr>\n",
       "  </thead>\n",
       "  <tbody>\n",
       "    <tr>\n",
       "      <th>0</th>\n",
       "      <td>Asus Vivobook 16X K3605ZF-MBN545WS Laptop (12t...</td>\n",
       "      <td>₹69,990</td>\n",
       "      <td>4.60</td>\n",
       "      <td>69.0</td>\n",
       "      <td>['12th Gen Intel Core i5 12500H', '12 Cores (4...</td>\n",
       "    </tr>\n",
       "    <tr>\n",
       "      <th>1</th>\n",
       "      <td>Asus Vivobook 16X K3605ZC-MBN554WS Laptop (12t...</td>\n",
       "      <td>₹74,990</td>\n",
       "      <td>4.05</td>\n",
       "      <td>71.0</td>\n",
       "      <td>['12th Gen Intel Core i5 12500H', '12 Cores (4...</td>\n",
       "    </tr>\n",
       "    <tr>\n",
       "      <th>2</th>\n",
       "      <td>Lenovo ThinkBook 15 G5 21JF002JIN Laptop (AMD ...</td>\n",
       "      <td>₹28,660</td>\n",
       "      <td>4.20</td>\n",
       "      <td>62.0</td>\n",
       "      <td>['7th Gen AMD Ryzen 3 7330U', 'Quad Core, 8 Th...</td>\n",
       "    </tr>\n",
       "    <tr>\n",
       "      <th>3</th>\n",
       "      <td>HP Victus 15-fa1351TX Gaming Laptop (12th Gen ...</td>\n",
       "      <td>₹57,990</td>\n",
       "      <td>4.75</td>\n",
       "      <td>61.0</td>\n",
       "      <td>['12th Gen Intel Core i5 12450H', 'Octa Core (...</td>\n",
       "    </tr>\n",
       "    <tr>\n",
       "      <th>4</th>\n",
       "      <td>Acer One 14 Z8-415 Laptop (11th Gen Core i3 / ...</td>\n",
       "      <td>₹24,990</td>\n",
       "      <td>4.05</td>\n",
       "      <td>54.0</td>\n",
       "      <td>['11th Gen Intel Core i3 1115G4', 'Dual Core, ...</td>\n",
       "    </tr>\n",
       "  </tbody>\n",
       "</table>\n",
       "</div>"
      ],
      "text/plain": [
       "                                         productName    price  rating  \\\n",
       "0  Asus Vivobook 16X K3605ZF-MBN545WS Laptop (12t...  ₹69,990    4.60   \n",
       "1  Asus Vivobook 16X K3605ZC-MBN554WS Laptop (12t...  ₹74,990    4.05   \n",
       "2  Lenovo ThinkBook 15 G5 21JF002JIN Laptop (AMD ...  ₹28,660    4.20   \n",
       "3  HP Victus 15-fa1351TX Gaming Laptop (12th Gen ...  ₹57,990    4.75   \n",
       "4  Acer One 14 Z8-415 Laptop (11th Gen Core i3 / ...  ₹24,990    4.05   \n",
       "\n",
       "   specScore                                           features  \n",
       "0       69.0  ['12th Gen Intel Core i5 12500H', '12 Cores (4...  \n",
       "1       71.0  ['12th Gen Intel Core i5 12500H', '12 Cores (4...  \n",
       "2       62.0  ['7th Gen AMD Ryzen 3 7330U', 'Quad Core, 8 Th...  \n",
       "3       61.0  ['12th Gen Intel Core i5 12450H', 'Octa Core (...  \n",
       "4       54.0  ['11th Gen Intel Core i3 1115G4', 'Dual Core, ...  "
      ]
     },
     "execution_count": 4,
     "metadata": {},
     "output_type": "execute_result"
    }
   ],
   "source": [
    "df.head()"
   ]
  },
  {
   "cell_type": "code",
   "execution_count": 5,
   "id": "09eaefa3",
   "metadata": {},
   "outputs": [
    {
     "data": {
      "text/html": [
       "<div>\n",
       "<style scoped>\n",
       "    .dataframe tbody tr th:only-of-type {\n",
       "        vertical-align: middle;\n",
       "    }\n",
       "\n",
       "    .dataframe tbody tr th {\n",
       "        vertical-align: top;\n",
       "    }\n",
       "\n",
       "    .dataframe thead th {\n",
       "        text-align: right;\n",
       "    }\n",
       "</style>\n",
       "<table border=\"1\" class=\"dataframe\">\n",
       "  <thead>\n",
       "    <tr style=\"text-align: right;\">\n",
       "      <th></th>\n",
       "      <th>productName</th>\n",
       "      <th>price</th>\n",
       "      <th>rating</th>\n",
       "      <th>specScore</th>\n",
       "      <th>features</th>\n",
       "    </tr>\n",
       "  </thead>\n",
       "  <tbody>\n",
       "    <tr>\n",
       "      <th>1015</th>\n",
       "      <td>MSI Vector GP68 HX 13VG-214IN Gaming Laptop (1...</td>\n",
       "      <td>₹1,49,990</td>\n",
       "      <td>4.50</td>\n",
       "      <td>77.0</td>\n",
       "      <td>['13th Gen Intel Core i7 13700HX', '16 Cores (...</td>\n",
       "    </tr>\n",
       "    <tr>\n",
       "      <th>1016</th>\n",
       "      <td>Asus Vivobook 15X OLED M3504YA-LK552WS Laptop ...</td>\n",
       "      <td>₹58,990</td>\n",
       "      <td>4.10</td>\n",
       "      <td>61.0</td>\n",
       "      <td>['7th Gen AMD Ryzen 5 7530U', 'Hexa Core, 12 T...</td>\n",
       "    </tr>\n",
       "    <tr>\n",
       "      <th>1017</th>\n",
       "      <td>Lenovo IdeaPad 3 15IAU7 82RK00WXIN Laptop (12t...</td>\n",
       "      <td>₹33,999</td>\n",
       "      <td>4.30</td>\n",
       "      <td>53.0</td>\n",
       "      <td>['12th Gen Intel Core i3 1215U', 'Hexa Core (2...</td>\n",
       "    </tr>\n",
       "    <tr>\n",
       "      <th>1018</th>\n",
       "      <td>Lenovo IdeaPad 1 15AMN7 82VG00ERIN Laptop (AMD...</td>\n",
       "      <td>₹31,890</td>\n",
       "      <td>4.25</td>\n",
       "      <td>51.0</td>\n",
       "      <td>['7th Gen AMD Ryzen 3 7320U', 'Quad Core, 8 Th...</td>\n",
       "    </tr>\n",
       "    <tr>\n",
       "      <th>1019</th>\n",
       "      <td>HP 250 G9 7M657PA Laptop (12th Gen Core i3/ 8G...</td>\n",
       "      <td>₹32,490</td>\n",
       "      <td>4.40</td>\n",
       "      <td>56.0</td>\n",
       "      <td>['12th Gen Intel Core i3 1215U', 'Hexa Core (2...</td>\n",
       "    </tr>\n",
       "  </tbody>\n",
       "</table>\n",
       "</div>"
      ],
      "text/plain": [
       "                                            productName      price  rating  \\\n",
       "1015  MSI Vector GP68 HX 13VG-214IN Gaming Laptop (1...  ₹1,49,990    4.50   \n",
       "1016  Asus Vivobook 15X OLED M3504YA-LK552WS Laptop ...    ₹58,990    4.10   \n",
       "1017  Lenovo IdeaPad 3 15IAU7 82RK00WXIN Laptop (12t...    ₹33,999    4.30   \n",
       "1018  Lenovo IdeaPad 1 15AMN7 82VG00ERIN Laptop (AMD...    ₹31,890    4.25   \n",
       "1019  HP 250 G9 7M657PA Laptop (12th Gen Core i3/ 8G...    ₹32,490    4.40   \n",
       "\n",
       "      specScore                                           features  \n",
       "1015       77.0  ['13th Gen Intel Core i7 13700HX', '16 Cores (...  \n",
       "1016       61.0  ['7th Gen AMD Ryzen 5 7530U', 'Hexa Core, 12 T...  \n",
       "1017       53.0  ['12th Gen Intel Core i3 1215U', 'Hexa Core (2...  \n",
       "1018       51.0  ['7th Gen AMD Ryzen 3 7320U', 'Quad Core, 8 Th...  \n",
       "1019       56.0  ['12th Gen Intel Core i3 1215U', 'Hexa Core (2...  "
      ]
     },
     "execution_count": 5,
     "metadata": {},
     "output_type": "execute_result"
    }
   ],
   "source": [
    "df.tail()"
   ]
  },
  {
   "cell_type": "code",
   "execution_count": 6,
   "id": "92c10b9e",
   "metadata": {},
   "outputs": [
    {
     "data": {
      "text/html": [
       "<div>\n",
       "<style scoped>\n",
       "    .dataframe tbody tr th:only-of-type {\n",
       "        vertical-align: middle;\n",
       "    }\n",
       "\n",
       "    .dataframe tbody tr th {\n",
       "        vertical-align: top;\n",
       "    }\n",
       "\n",
       "    .dataframe thead th {\n",
       "        text-align: right;\n",
       "    }\n",
       "</style>\n",
       "<table border=\"1\" class=\"dataframe\">\n",
       "  <thead>\n",
       "    <tr style=\"text-align: right;\">\n",
       "      <th></th>\n",
       "      <th>productName</th>\n",
       "      <th>price</th>\n",
       "      <th>rating</th>\n",
       "      <th>specScore</th>\n",
       "      <th>features</th>\n",
       "    </tr>\n",
       "  </thead>\n",
       "  <tbody>\n",
       "    <tr>\n",
       "      <th>517</th>\n",
       "      <td>Infinix Zerobook ZL513 2023 Laptop (13th Gen C...</td>\n",
       "      <td>₹51,990</td>\n",
       "      <td>4.20</td>\n",
       "      <td>52.0</td>\n",
       "      <td>['13th Gen Intel Core i5 13500H', '12 Cores (4...</td>\n",
       "    </tr>\n",
       "    <tr>\n",
       "      <th>177</th>\n",
       "      <td>Asus TUF Gaming A15 FA566NFR-HN259W Laptop (AM...</td>\n",
       "      <td>₹62,990</td>\n",
       "      <td>4.15</td>\n",
       "      <td>66.0</td>\n",
       "      <td>['7th Gen AMD Ryzen 7 7435HS', 'Octa Core, 16 ...</td>\n",
       "    </tr>\n",
       "    <tr>\n",
       "      <th>710</th>\n",
       "      <td>Microsoft Surface Laptop 7 ‎ZGM-00023 (Snapdra...</td>\n",
       "      <td>₹1,31,990</td>\n",
       "      <td>4.50</td>\n",
       "      <td>45.0</td>\n",
       "      <td>['Qualcomm Snapdragon X Plus', '10 Cores', '16...</td>\n",
       "    </tr>\n",
       "    <tr>\n",
       "      <th>835</th>\n",
       "      <td>MSI Pulse 16 AI C1VFKG-030IN Gaming Laptop (In...</td>\n",
       "      <td>₹1,45,990</td>\n",
       "      <td>4.55</td>\n",
       "      <td>77.0</td>\n",
       "      <td>['Intel Core Ultra 7 155H', '16 Cores (6P + 8E...</td>\n",
       "    </tr>\n",
       "    <tr>\n",
       "      <th>911</th>\n",
       "      <td>MSI Prestige 16 AI Studio B1VFG 2024 Laptop ( ...</td>\n",
       "      <td>₹1,87,990</td>\n",
       "      <td>4.40</td>\n",
       "      <td>83.0</td>\n",
       "      <td>['Intel Core Ultra 9 Series 1 185H', '16 Cores...</td>\n",
       "    </tr>\n",
       "    <tr>\n",
       "      <th>870</th>\n",
       "      <td>Lenovo IdeaPad Slim 3 ‎15IAH8 83ER00BCIN Lapto...</td>\n",
       "      <td>₹54,390</td>\n",
       "      <td>4.40</td>\n",
       "      <td>57.0</td>\n",
       "      <td>['12th Gen Intel Core i5 12450H', 'Octa Core (...</td>\n",
       "    </tr>\n",
       "    <tr>\n",
       "      <th>329</th>\n",
       "      <td>HP Pavilion 14-dv2014TU Laptop (12th Gen Core ...</td>\n",
       "      <td>₹61,400</td>\n",
       "      <td>4.25</td>\n",
       "      <td>61.0</td>\n",
       "      <td>['12th Gen Intel Core i5 1235U', '10 Cores (2P...</td>\n",
       "    </tr>\n",
       "  </tbody>\n",
       "</table>\n",
       "</div>"
      ],
      "text/plain": [
       "                                           productName      price  rating  \\\n",
       "517  Infinix Zerobook ZL513 2023 Laptop (13th Gen C...    ₹51,990    4.20   \n",
       "177  Asus TUF Gaming A15 FA566NFR-HN259W Laptop (AM...    ₹62,990    4.15   \n",
       "710  Microsoft Surface Laptop 7 ‎ZGM-00023 (Snapdra...  ₹1,31,990    4.50   \n",
       "835  MSI Pulse 16 AI C1VFKG-030IN Gaming Laptop (In...  ₹1,45,990    4.55   \n",
       "911  MSI Prestige 16 AI Studio B1VFG 2024 Laptop ( ...  ₹1,87,990    4.40   \n",
       "870  Lenovo IdeaPad Slim 3 ‎15IAH8 83ER00BCIN Lapto...    ₹54,390    4.40   \n",
       "329  HP Pavilion 14-dv2014TU Laptop (12th Gen Core ...    ₹61,400    4.25   \n",
       "\n",
       "     specScore                                           features  \n",
       "517       52.0  ['13th Gen Intel Core i5 13500H', '12 Cores (4...  \n",
       "177       66.0  ['7th Gen AMD Ryzen 7 7435HS', 'Octa Core, 16 ...  \n",
       "710       45.0  ['Qualcomm Snapdragon X Plus', '10 Cores', '16...  \n",
       "835       77.0  ['Intel Core Ultra 7 155H', '16 Cores (6P + 8E...  \n",
       "911       83.0  ['Intel Core Ultra 9 Series 1 185H', '16 Cores...  \n",
       "870       57.0  ['12th Gen Intel Core i5 12450H', 'Octa Core (...  \n",
       "329       61.0  ['12th Gen Intel Core i5 1235U', '10 Cores (2P...  "
      ]
     },
     "execution_count": 6,
     "metadata": {},
     "output_type": "execute_result"
    }
   ],
   "source": [
    "df.sample(7)"
   ]
  },
  {
   "cell_type": "code",
   "execution_count": 7,
   "id": "8c6c12f5",
   "metadata": {},
   "outputs": [
    {
     "name": "stdout",
     "output_type": "stream",
     "text": [
      "<class 'pandas.core.frame.DataFrame'>\n",
      "RangeIndex: 1020 entries, 0 to 1019\n",
      "Data columns (total 5 columns):\n",
      " #   Column       Non-Null Count  Dtype  \n",
      "---  ------       --------------  -----  \n",
      " 0   productName  1020 non-null   object \n",
      " 1   price        1020 non-null   object \n",
      " 2   rating       1020 non-null   float64\n",
      " 3   specScore    1018 non-null   float64\n",
      " 4   features     1020 non-null   object \n",
      "dtypes: float64(2), object(3)\n",
      "memory usage: 40.0+ KB\n"
     ]
    }
   ],
   "source": [
    "df.info()"
   ]
  },
  {
   "cell_type": "code",
   "execution_count": 8,
   "id": "8f6359ed",
   "metadata": {},
   "outputs": [
    {
     "data": {
      "text/plain": [
       "productName    0\n",
       "price          0\n",
       "rating         0\n",
       "specScore      2\n",
       "features       0\n",
       "dtype: int64"
      ]
     },
     "execution_count": 8,
     "metadata": {},
     "output_type": "execute_result"
    }
   ],
   "source": [
    "df.isnull().sum()"
   ]
  },
  {
   "cell_type": "code",
   "execution_count": 9,
   "id": "a680c0b8",
   "metadata": {},
   "outputs": [
    {
     "data": {
      "text/html": [
       "<div>\n",
       "<style scoped>\n",
       "    .dataframe tbody tr th:only-of-type {\n",
       "        vertical-align: middle;\n",
       "    }\n",
       "\n",
       "    .dataframe tbody tr th {\n",
       "        vertical-align: top;\n",
       "    }\n",
       "\n",
       "    .dataframe thead th {\n",
       "        text-align: right;\n",
       "    }\n",
       "</style>\n",
       "<table border=\"1\" class=\"dataframe\">\n",
       "  <thead>\n",
       "    <tr style=\"text-align: right;\">\n",
       "      <th></th>\n",
       "      <th>rating</th>\n",
       "      <th>specScore</th>\n",
       "    </tr>\n",
       "  </thead>\n",
       "  <tbody>\n",
       "    <tr>\n",
       "      <th>count</th>\n",
       "      <td>1020.000000</td>\n",
       "      <td>1018.000000</td>\n",
       "    </tr>\n",
       "    <tr>\n",
       "      <th>mean</th>\n",
       "      <td>4.376422</td>\n",
       "      <td>61.155206</td>\n",
       "    </tr>\n",
       "    <tr>\n",
       "      <th>std</th>\n",
       "      <td>0.235795</td>\n",
       "      <td>11.171915</td>\n",
       "    </tr>\n",
       "    <tr>\n",
       "      <th>min</th>\n",
       "      <td>3.850000</td>\n",
       "      <td>19.000000</td>\n",
       "    </tr>\n",
       "    <tr>\n",
       "      <th>25%</th>\n",
       "      <td>4.200000</td>\n",
       "      <td>54.000000</td>\n",
       "    </tr>\n",
       "    <tr>\n",
       "      <th>50%</th>\n",
       "      <td>4.400000</td>\n",
       "      <td>61.000000</td>\n",
       "    </tr>\n",
       "    <tr>\n",
       "      <th>75%</th>\n",
       "      <td>4.600000</td>\n",
       "      <td>68.000000</td>\n",
       "    </tr>\n",
       "    <tr>\n",
       "      <th>max</th>\n",
       "      <td>4.750000</td>\n",
       "      <td>98.000000</td>\n",
       "    </tr>\n",
       "  </tbody>\n",
       "</table>\n",
       "</div>"
      ],
      "text/plain": [
       "            rating    specScore\n",
       "count  1020.000000  1018.000000\n",
       "mean      4.376422    61.155206\n",
       "std       0.235795    11.171915\n",
       "min       3.850000    19.000000\n",
       "25%       4.200000    54.000000\n",
       "50%       4.400000    61.000000\n",
       "75%       4.600000    68.000000\n",
       "max       4.750000    98.000000"
      ]
     },
     "execution_count": 9,
     "metadata": {},
     "output_type": "execute_result"
    }
   ],
   "source": [
    "df.describe()"
   ]
  },
  {
   "cell_type": "code",
   "execution_count": 10,
   "id": "6e49f790",
   "metadata": {},
   "outputs": [
    {
     "data": {
      "text/plain": [
       "74"
      ]
     },
     "execution_count": 10,
     "metadata": {},
     "output_type": "execute_result"
    }
   ],
   "source": [
    "df.duplicated().sum()"
   ]
  },
  {
   "cell_type": "code",
   "execution_count": 11,
   "id": "ce22761e",
   "metadata": {},
   "outputs": [],
   "source": [
    "df.drop_duplicates(inplace=True)"
   ]
  },
  {
   "cell_type": "code",
   "execution_count": 12,
   "id": "02148f8a",
   "metadata": {},
   "outputs": [
    {
     "data": {
      "text/plain": [
       "(946, 5)"
      ]
     },
     "execution_count": 12,
     "metadata": {},
     "output_type": "execute_result"
    }
   ],
   "source": [
    "df.shape"
   ]
  },
  {
   "cell_type": "code",
   "execution_count": 13,
   "id": "cb3fec1d",
   "metadata": {},
   "outputs": [],
   "source": [
    "temp_df = df.copy()"
   ]
  },
  {
   "cell_type": "markdown",
   "id": "7b6c12df",
   "metadata": {},
   "source": [
    "### data cleaning iteration 1"
   ]
  },
  {
   "cell_type": "code",
   "execution_count": 14,
   "id": "568a2155",
   "metadata": {},
   "outputs": [],
   "source": [
    "temp_df['price'] = temp_df['price'].str.replace(\"₹\",\"\")"
   ]
  },
  {
   "cell_type": "code",
   "execution_count": 15,
   "id": "113ad4bb",
   "metadata": {},
   "outputs": [],
   "source": [
    "temp_df['price'] = temp_df['price'].str.replace(\",\",\"\")"
   ]
  },
  {
   "cell_type": "code",
   "execution_count": 16,
   "id": "532a5430",
   "metadata": {},
   "outputs": [],
   "source": [
    "temp_df['price'] = temp_df['price'].astype('float')"
   ]
  },
  {
   "cell_type": "code",
   "execution_count": 17,
   "id": "74a1a08d",
   "metadata": {},
   "outputs": [
    {
     "name": "stdout",
     "output_type": "stream",
     "text": [
      "<class 'pandas.core.frame.DataFrame'>\n",
      "Int64Index: 946 entries, 0 to 1019\n",
      "Data columns (total 5 columns):\n",
      " #   Column       Non-Null Count  Dtype  \n",
      "---  ------       --------------  -----  \n",
      " 0   productName  946 non-null    object \n",
      " 1   price        946 non-null    float64\n",
      " 2   rating       946 non-null    float64\n",
      " 3   specScore    945 non-null    float64\n",
      " 4   features     946 non-null    object \n",
      "dtypes: float64(3), object(2)\n",
      "memory usage: 44.3+ KB\n"
     ]
    }
   ],
   "source": [
    "temp_df.info()"
   ]
  },
  {
   "cell_type": "code",
   "execution_count": 18,
   "id": "2881da97",
   "metadata": {},
   "outputs": [
    {
     "data": {
      "text/html": [
       "<div>\n",
       "<style scoped>\n",
       "    .dataframe tbody tr th:only-of-type {\n",
       "        vertical-align: middle;\n",
       "    }\n",
       "\n",
       "    .dataframe tbody tr th {\n",
       "        vertical-align: top;\n",
       "    }\n",
       "\n",
       "    .dataframe thead th {\n",
       "        text-align: right;\n",
       "    }\n",
       "</style>\n",
       "<table border=\"1\" class=\"dataframe\">\n",
       "  <thead>\n",
       "    <tr style=\"text-align: right;\">\n",
       "      <th></th>\n",
       "      <th>productName</th>\n",
       "      <th>price</th>\n",
       "      <th>rating</th>\n",
       "      <th>specScore</th>\n",
       "      <th>features</th>\n",
       "    </tr>\n",
       "  </thead>\n",
       "  <tbody>\n",
       "    <tr>\n",
       "      <th>578</th>\n",
       "      <td>Samsung Galaxy Book 3 Laptop (13th Gen Core i5...</td>\n",
       "      <td>69990.0</td>\n",
       "      <td>4.75</td>\n",
       "      <td>NaN</td>\n",
       "      <td>[]</td>\n",
       "    </tr>\n",
       "  </tbody>\n",
       "</table>\n",
       "</div>"
      ],
      "text/plain": [
       "                                           productName    price  rating  \\\n",
       "578  Samsung Galaxy Book 3 Laptop (13th Gen Core i5...  69990.0    4.75   \n",
       "\n",
       "     specScore features  \n",
       "578        NaN       []  "
      ]
     },
     "execution_count": 18,
     "metadata": {},
     "output_type": "execute_result"
    }
   ],
   "source": [
    "temp_df[temp_df['specScore'].isnull()]"
   ]
  },
  {
   "cell_type": "code",
   "execution_count": 19,
   "id": "ac64f7a0",
   "metadata": {},
   "outputs": [],
   "source": [
    "## this row doesnt have feature info along with specscore so its better to remove this row"
   ]
  },
  {
   "cell_type": "code",
   "execution_count": 20,
   "id": "1d704ad4",
   "metadata": {},
   "outputs": [],
   "source": [
    "temp_df = temp_df.dropna(subset=['specScore'])"
   ]
  },
  {
   "cell_type": "code",
   "execution_count": 21,
   "id": "0d72463a",
   "metadata": {},
   "outputs": [
    {
     "data": {
      "text/plain": [
       "productName    0\n",
       "price          0\n",
       "rating         0\n",
       "specScore      0\n",
       "features       0\n",
       "dtype: int64"
      ]
     },
     "execution_count": 21,
     "metadata": {},
     "output_type": "execute_result"
    }
   ],
   "source": [
    "temp_df.isnull().sum()"
   ]
  },
  {
   "cell_type": "code",
   "execution_count": 22,
   "id": "209f6e87",
   "metadata": {},
   "outputs": [
    {
     "data": {
      "text/html": [
       "<div>\n",
       "<style scoped>\n",
       "    .dataframe tbody tr th:only-of-type {\n",
       "        vertical-align: middle;\n",
       "    }\n",
       "\n",
       "    .dataframe tbody tr th {\n",
       "        vertical-align: top;\n",
       "    }\n",
       "\n",
       "    .dataframe thead th {\n",
       "        text-align: right;\n",
       "    }\n",
       "</style>\n",
       "<table border=\"1\" class=\"dataframe\">\n",
       "  <thead>\n",
       "    <tr style=\"text-align: right;\">\n",
       "      <th></th>\n",
       "      <th>price</th>\n",
       "      <th>rating</th>\n",
       "      <th>specScore</th>\n",
       "    </tr>\n",
       "  </thead>\n",
       "  <tbody>\n",
       "    <tr>\n",
       "      <th>count</th>\n",
       "      <td>945.00000</td>\n",
       "      <td>945.000000</td>\n",
       "      <td>945.000000</td>\n",
       "    </tr>\n",
       "    <tr>\n",
       "      <th>mean</th>\n",
       "      <td>86862.78836</td>\n",
       "      <td>4.371746</td>\n",
       "      <td>61.223280</td>\n",
       "    </tr>\n",
       "    <tr>\n",
       "      <th>std</th>\n",
       "      <td>65209.37344</td>\n",
       "      <td>0.232947</td>\n",
       "      <td>11.190657</td>\n",
       "    </tr>\n",
       "    <tr>\n",
       "      <th>min</th>\n",
       "      <td>10990.00000</td>\n",
       "      <td>3.850000</td>\n",
       "      <td>19.000000</td>\n",
       "    </tr>\n",
       "    <tr>\n",
       "      <th>25%</th>\n",
       "      <td>47900.00000</td>\n",
       "      <td>4.200000</td>\n",
       "      <td>54.000000</td>\n",
       "    </tr>\n",
       "    <tr>\n",
       "      <th>50%</th>\n",
       "      <td>66990.00000</td>\n",
       "      <td>4.400000</td>\n",
       "      <td>61.000000</td>\n",
       "    </tr>\n",
       "    <tr>\n",
       "      <th>75%</th>\n",
       "      <td>104990.00000</td>\n",
       "      <td>4.550000</td>\n",
       "      <td>68.000000</td>\n",
       "    </tr>\n",
       "    <tr>\n",
       "      <th>max</th>\n",
       "      <td>549990.00000</td>\n",
       "      <td>4.750000</td>\n",
       "      <td>98.000000</td>\n",
       "    </tr>\n",
       "  </tbody>\n",
       "</table>\n",
       "</div>"
      ],
      "text/plain": [
       "              price      rating   specScore\n",
       "count     945.00000  945.000000  945.000000\n",
       "mean    86862.78836    4.371746   61.223280\n",
       "std     65209.37344    0.232947   11.190657\n",
       "min     10990.00000    3.850000   19.000000\n",
       "25%     47900.00000    4.200000   54.000000\n",
       "50%     66990.00000    4.400000   61.000000\n",
       "75%    104990.00000    4.550000   68.000000\n",
       "max    549990.00000    4.750000   98.000000"
      ]
     },
     "execution_count": 22,
     "metadata": {},
     "output_type": "execute_result"
    }
   ],
   "source": [
    "temp_df.describe()"
   ]
  },
  {
   "cell_type": "code",
   "execution_count": 23,
   "id": "d47f1999",
   "metadata": {},
   "outputs": [
    {
     "data": {
      "text/plain": [
       "Index(['productName', 'price', 'rating', 'specScore', 'features'], dtype='object')"
      ]
     },
     "execution_count": 23,
     "metadata": {},
     "output_type": "execute_result"
    }
   ],
   "source": [
    "temp_df.columns"
   ]
  },
  {
   "cell_type": "code",
   "execution_count": 24,
   "id": "a4440111",
   "metadata": {},
   "outputs": [],
   "source": [
    "# display max row & columns\n",
    "pd.set_option('display.max_rows', None)\n",
    "pd.set_option('display.max_columns', None)\n",
    "pd.set_option('display.max_colwidth', None)"
   ]
  },
  {
   "cell_type": "code",
   "execution_count": 25,
   "id": "6c11d245",
   "metadata": {},
   "outputs": [],
   "source": [
    "temp_df['brand'] = temp_df['productName'].str.split(\" \").str[0]"
   ]
  },
  {
   "cell_type": "code",
   "execution_count": 26,
   "id": "50a7f1ad",
   "metadata": {},
   "outputs": [],
   "source": [
    "temp_df['feature1'] = temp_df['productName'].str.split(\"Laptop \").str[1]"
   ]
  },
  {
   "cell_type": "code",
   "execution_count": 27,
   "id": "4a2f17d5",
   "metadata": {},
   "outputs": [],
   "source": [
    "temp_df['feature1'] = temp_df['feature1'].astype(str).str.split(\"/\")"
   ]
  },
  {
   "cell_type": "code",
   "execution_count": 28,
   "id": "325e89d5",
   "metadata": {},
   "outputs": [],
   "source": [
    "max_length = temp_df['feature1'].apply(len).max()"
   ]
  },
  {
   "cell_type": "code",
   "execution_count": 29,
   "id": "bc5c6642",
   "metadata": {},
   "outputs": [],
   "source": [
    "split_df = pd.DataFrame(temp_df['feature1'].tolist(), columns=[f'item_{i+1}' for i in range(max_length)])"
   ]
  },
  {
   "cell_type": "code",
   "execution_count": 30,
   "id": "c3a7616f",
   "metadata": {},
   "outputs": [],
   "source": [
    "temp_df = temp_df.drop(columns='feature1').join(split_df)"
   ]
  },
  {
   "cell_type": "code",
   "execution_count": 31,
   "id": "e7f4bf7c",
   "metadata": {},
   "outputs": [],
   "source": [
    "temp_df.rename(columns={'item_1':'processors'}, inplace=True)\n",
    "temp_df.rename(columns={'item_2':'ram'}, inplace=True)\n",
    "temp_df.rename(columns={'item_3':'storage'}, inplace=True)\n",
    "temp_df.rename(columns={'item_4':'os'}, inplace=True)\n",
    "temp_df.rename(columns={'item_5':'graphics_card'}, inplace=True)"
   ]
  },
  {
   "cell_type": "code",
   "execution_count": 32,
   "id": "c27e3c85",
   "metadata": {},
   "outputs": [
    {
     "data": {
      "text/plain": [
       "232                                                               ['Apple M3 Pro', '11 Cores (5P + 6E)', '18\\u2009GB  RAM', '512\\u2009GB SSD', '14 Core GPU', '14.2\\u2009inches, 3024\\u2009x\\u20091964\\u2009pixels', 'Mac OS', '1 Year Warranty']\n",
       "973    ['13th Gen Intel Core i9 13900H', '14 Cores (6P + 8E), 20 Threads', '16\\u2009GB  RAM', '1\\u2009TB SSD', 'Intel Iris Xe Graphics', '14.2\\u2009inches, 2520\\u2009x\\u20091680\\u2009pixels, Touch Screen', 'Windows 11 OS', '1 Year Warranty']\n",
       "83                   ['12th Gen Intel Core i3 1215U', 'Hexa Core (2P + 4E), 8 Threads', '8\\u2009GB DDR4 RAM', '512\\u2009GB SSD', 'Intel UHD Graphics', '15.6\\u2009inches, 1920\\u2009x\\u20091080\\u2009pixels', 'Windows 11 OS', '1 Year Warranty']\n",
       "Name: features, dtype: object"
      ]
     },
     "execution_count": 32,
     "metadata": {},
     "output_type": "execute_result"
    }
   ],
   "source": [
    "temp_df['features'].sample(3)"
   ]
  },
  {
   "cell_type": "code",
   "execution_count": 33,
   "id": "346e6f60",
   "metadata": {},
   "outputs": [],
   "source": [
    "temp_df['warranty'] = temp_df['features'].str.split(\",\").str[-1].str.split(\" \").str[1].str.replace(\"'\",\"\")"
   ]
  },
  {
   "cell_type": "code",
   "execution_count": 34,
   "id": "08c5c6dd",
   "metadata": {},
   "outputs": [],
   "source": [
    "temp_df['resolution'] = temp_df['features'].str.split(\",\").str[-3]"
   ]
  },
  {
   "cell_type": "code",
   "execution_count": 35,
   "id": "f9a98c86",
   "metadata": {},
   "outputs": [],
   "source": [
    "temp_df['cores'] = temp_df['features'].str.split(\",\").str[1]"
   ]
  },
  {
   "cell_type": "markdown",
   "id": "2ce809ce",
   "metadata": {},
   "source": [
    "### data assesment iteration 2\n",
    "\n",
    "- dirty data\n",
    "    1. brand: asus written differently, make them all lower case\n",
    "    2. processors: remove (, 72 missing values\n",
    "    3. ram: 80 missing values, remove gb\n",
    "    4. storage: 80 missing values, remove gb ssd\n",
    "    5. os: 80 missing values, remove )\n",
    "    6. warranty: remove ')'\n",
    "    9. cores: correct information\n",
    "    \n",
    "    \n",
    "- messy data\n",
    "    1. resolution: feature engineer it to scree size\n",
    "    2. warranty: have other column info\n",
    "    3. graphics_card: some may not have it available, check from other cols & fill\n",
    "    4. brand: all < 20 should come under Others"
   ]
  },
  {
   "cell_type": "code",
   "execution_count": 36,
   "id": "70e2da6c",
   "metadata": {},
   "outputs": [
    {
     "data": {
      "text/plain": [
       "productName        0\n",
       "price              0\n",
       "rating             0\n",
       "specScore          0\n",
       "features           0\n",
       "brand              0\n",
       "processors        72\n",
       "ram               80\n",
       "storage           80\n",
       "os                80\n",
       "graphics_card    635\n",
       "warranty           0\n",
       "resolution         0\n",
       "cores              0\n",
       "dtype: int64"
      ]
     },
     "execution_count": 36,
     "metadata": {},
     "output_type": "execute_result"
    }
   ],
   "source": [
    "temp_df.isnull().sum()"
   ]
  },
  {
   "cell_type": "code",
   "execution_count": 37,
   "id": "9a8b3e0e",
   "metadata": {},
   "outputs": [
    {
     "data": {
      "text/html": [
       "<div>\n",
       "<style scoped>\n",
       "    .dataframe tbody tr th:only-of-type {\n",
       "        vertical-align: middle;\n",
       "    }\n",
       "\n",
       "    .dataframe tbody tr th {\n",
       "        vertical-align: top;\n",
       "    }\n",
       "\n",
       "    .dataframe thead th {\n",
       "        text-align: right;\n",
       "    }\n",
       "</style>\n",
       "<table border=\"1\" class=\"dataframe\">\n",
       "  <thead>\n",
       "    <tr style=\"text-align: right;\">\n",
       "      <th></th>\n",
       "      <th>productName</th>\n",
       "      <th>price</th>\n",
       "      <th>rating</th>\n",
       "      <th>specScore</th>\n",
       "      <th>features</th>\n",
       "      <th>brand</th>\n",
       "      <th>processors</th>\n",
       "      <th>ram</th>\n",
       "      <th>storage</th>\n",
       "      <th>os</th>\n",
       "      <th>graphics_card</th>\n",
       "      <th>warranty</th>\n",
       "      <th>resolution</th>\n",
       "      <th>cores</th>\n",
       "    </tr>\n",
       "  </thead>\n",
       "  <tbody>\n",
       "    <tr>\n",
       "      <th>0</th>\n",
       "      <td>Asus Vivobook 16X K3605ZF-MBN545WS Laptop (12th Gen Core i5/ 16GB/ 512GB SSD/ Win11/ 4GB RTX2050)</td>\n",
       "      <td>69990.0</td>\n",
       "      <td>4.60</td>\n",
       "      <td>69.0</td>\n",
       "      <td>['12th Gen Intel Core i5 12500H', '12 Cores (4P + 8E), 16 Threads', '16\\u2009GB DDR4 RAM', '512\\u2009GB SSD', '4\\u2009GB NVIDIA GeForce RTX 2050', '16\\u2009inches, 1920\\u2009x\\u20091200\\u2009pixels', 'Windows 11 OS', '1 Year Warranty']</td>\n",
       "      <td>Asus</td>\n",
       "      <td>(12th Gen Core i5</td>\n",
       "      <td>16GB</td>\n",
       "      <td>512GB SSD</td>\n",
       "      <td>Win11</td>\n",
       "      <td>4GB RTX2050)</td>\n",
       "      <td>1</td>\n",
       "      <td>1920\\u2009x\\u20091200\\u2009pixels'</td>\n",
       "      <td>'12 Cores (4P + 8E)</td>\n",
       "    </tr>\n",
       "    <tr>\n",
       "      <th>1</th>\n",
       "      <td>Asus Vivobook 16X K3605ZC-MBN554WS Laptop (12th Gen Core i5/ 16GB/ 1TB SSD/ Win11/ 4GB RTX3050)</td>\n",
       "      <td>74990.0</td>\n",
       "      <td>4.05</td>\n",
       "      <td>71.0</td>\n",
       "      <td>['12th Gen Intel Core i5 12500H', '12 Cores (4P + 8E), 16 Threads', '16\\u2009GB DDR4 RAM', '1\\u2009TB SSD', '4\\u2009GB NVIDIA GeForce RTX 3050', '16\\u2009inches, 1920\\u2009x\\u20091200\\u2009pixels', 'Windows 11 OS', '1 Year Warranty']</td>\n",
       "      <td>Asus</td>\n",
       "      <td>(12th Gen Core i5</td>\n",
       "      <td>16GB</td>\n",
       "      <td>1TB SSD</td>\n",
       "      <td>Win11</td>\n",
       "      <td>4GB RTX3050)</td>\n",
       "      <td>1</td>\n",
       "      <td>1920\\u2009x\\u20091200\\u2009pixels'</td>\n",
       "      <td>'12 Cores (4P + 8E)</td>\n",
       "    </tr>\n",
       "    <tr>\n",
       "      <th>2</th>\n",
       "      <td>Lenovo ThinkBook 15 G5 21JF002JIN Laptop (AMD Ryzen 3 7330U/ 8 GB/ 512 GB SSD/ Win11)</td>\n",
       "      <td>28660.0</td>\n",
       "      <td>4.20</td>\n",
       "      <td>62.0</td>\n",
       "      <td>['7th Gen AMD Ryzen 3 7330U', 'Quad Core, 8 Threads', '8\\u2009GB DDR4 RAM', '512\\u2009GB SSD', 'AMD Radeon AMD', '15.6\\u2009inches, 1920\\u2009x\\u20091080\\u2009pixels', 'Windows 11 OS', '1 Year Warranty']</td>\n",
       "      <td>Lenovo</td>\n",
       "      <td>(AMD Ryzen 3 7330U</td>\n",
       "      <td>8 GB</td>\n",
       "      <td>512 GB SSD</td>\n",
       "      <td>Win11)</td>\n",
       "      <td>None</td>\n",
       "      <td>1</td>\n",
       "      <td>1920\\u2009x\\u20091080\\u2009pixels'</td>\n",
       "      <td>'Quad Core</td>\n",
       "    </tr>\n",
       "    <tr>\n",
       "      <th>3</th>\n",
       "      <td>HP Victus 15-fa1351TX Gaming Laptop (12th Gen Core i5/ 16GB/ 512GB SSD/ Win11 Home/ RTX 2050)</td>\n",
       "      <td>57990.0</td>\n",
       "      <td>4.75</td>\n",
       "      <td>61.0</td>\n",
       "      <td>['12th Gen Intel Core i5 12450H', 'Octa Core (4P + 4E), 12 Threads', '16\\u2009GB DDR4 RAM', '512\\u2009GB SSD', '4\\u2009GB NVIDIA GeForce RTX 2050', '15.6\\u2009inches, 1920\\u2009x\\u20091080\\u2009pixels', 'Windows 11 OS', '1 Year Warranty']</td>\n",
       "      <td>HP</td>\n",
       "      <td>(12th Gen Core i5</td>\n",
       "      <td>16GB</td>\n",
       "      <td>512GB SSD</td>\n",
       "      <td>Win11 Home</td>\n",
       "      <td>RTX 2050)</td>\n",
       "      <td>1</td>\n",
       "      <td>1920\\u2009x\\u20091080\\u2009pixels'</td>\n",
       "      <td>'Octa Core (4P + 4E)</td>\n",
       "    </tr>\n",
       "    <tr>\n",
       "      <th>4</th>\n",
       "      <td>Acer One 14 Z8-415 Laptop (11th Gen Core i3 / 8GB/ 512GB SSD/ Win11 Home)</td>\n",
       "      <td>24990.0</td>\n",
       "      <td>4.05</td>\n",
       "      <td>54.0</td>\n",
       "      <td>['11th Gen Intel Core i3 1115G4', 'Dual Core, 4 Threads', '8\\u2009GB DDR4 RAM', '512\\u2009GB SSD', '\\u200eIntel Iris Xe Graphics', '14\\u2009inches, 1920\\u2009x\\u20091080\\u2009pixels', 'Windows 11 OS', '1 Year Warranty']</td>\n",
       "      <td>Acer</td>\n",
       "      <td>(11th Gen Core i3</td>\n",
       "      <td>8GB</td>\n",
       "      <td>512GB SSD</td>\n",
       "      <td>Win11 Home)</td>\n",
       "      <td>None</td>\n",
       "      <td>1</td>\n",
       "      <td>1920\\u2009x\\u20091080\\u2009pixels'</td>\n",
       "      <td>'Dual Core</td>\n",
       "    </tr>\n",
       "  </tbody>\n",
       "</table>\n",
       "</div>"
      ],
      "text/plain": [
       "                                                                                         productName  \\\n",
       "0  Asus Vivobook 16X K3605ZF-MBN545WS Laptop (12th Gen Core i5/ 16GB/ 512GB SSD/ Win11/ 4GB RTX2050)   \n",
       "1    Asus Vivobook 16X K3605ZC-MBN554WS Laptop (12th Gen Core i5/ 16GB/ 1TB SSD/ Win11/ 4GB RTX3050)   \n",
       "2              Lenovo ThinkBook 15 G5 21JF002JIN Laptop (AMD Ryzen 3 7330U/ 8 GB/ 512 GB SSD/ Win11)   \n",
       "3      HP Victus 15-fa1351TX Gaming Laptop (12th Gen Core i5/ 16GB/ 512GB SSD/ Win11 Home/ RTX 2050)   \n",
       "4                          Acer One 14 Z8-415 Laptop (11th Gen Core i3 / 8GB/ 512GB SSD/ Win11 Home)   \n",
       "\n",
       "     price  rating  specScore  \\\n",
       "0  69990.0    4.60       69.0   \n",
       "1  74990.0    4.05       71.0   \n",
       "2  28660.0    4.20       62.0   \n",
       "3  57990.0    4.75       61.0   \n",
       "4  24990.0    4.05       54.0   \n",
       "\n",
       "                                                                                                                                                                                                                                         features  \\\n",
       "0     ['12th Gen Intel Core i5 12500H', '12 Cores (4P + 8E), 16 Threads', '16\\u2009GB DDR4 RAM', '512\\u2009GB SSD', '4\\u2009GB NVIDIA GeForce RTX 2050', '16\\u2009inches, 1920\\u2009x\\u20091200\\u2009pixels', 'Windows 11 OS', '1 Year Warranty']   \n",
       "1       ['12th Gen Intel Core i5 12500H', '12 Cores (4P + 8E), 16 Threads', '16\\u2009GB DDR4 RAM', '1\\u2009TB SSD', '4\\u2009GB NVIDIA GeForce RTX 3050', '16\\u2009inches, 1920\\u2009x\\u20091200\\u2009pixels', 'Windows 11 OS', '1 Year Warranty']   \n",
       "2                                     ['7th Gen AMD Ryzen 3 7330U', 'Quad Core, 8 Threads', '8\\u2009GB DDR4 RAM', '512\\u2009GB SSD', 'AMD Radeon AMD', '15.6\\u2009inches, 1920\\u2009x\\u20091080\\u2009pixels', 'Windows 11 OS', '1 Year Warranty']   \n",
       "3  ['12th Gen Intel Core i5 12450H', 'Octa Core (4P + 4E), 12 Threads', '16\\u2009GB DDR4 RAM', '512\\u2009GB SSD', '4\\u2009GB NVIDIA GeForce RTX 2050', '15.6\\u2009inches, 1920\\u2009x\\u20091080\\u2009pixels', 'Windows 11 OS', '1 Year Warranty']   \n",
       "4                     ['11th Gen Intel Core i3 1115G4', 'Dual Core, 4 Threads', '8\\u2009GB DDR4 RAM', '512\\u2009GB SSD', '\\u200eIntel Iris Xe Graphics', '14\\u2009inches, 1920\\u2009x\\u20091080\\u2009pixels', 'Windows 11 OS', '1 Year Warranty']   \n",
       "\n",
       "    brand          processors    ram      storage            os  \\\n",
       "0    Asus   (12th Gen Core i5   16GB    512GB SSD         Win11   \n",
       "1    Asus   (12th Gen Core i5   16GB      1TB SSD         Win11   \n",
       "2  Lenovo  (AMD Ryzen 3 7330U   8 GB   512 GB SSD        Win11)   \n",
       "3      HP   (12th Gen Core i5   16GB    512GB SSD    Win11 Home   \n",
       "4    Acer  (11th Gen Core i3     8GB    512GB SSD   Win11 Home)   \n",
       "\n",
       "   graphics_card warranty                           resolution  \\\n",
       "0   4GB RTX2050)        1   1920\\u2009x\\u20091200\\u2009pixels'   \n",
       "1   4GB RTX3050)        1   1920\\u2009x\\u20091200\\u2009pixels'   \n",
       "2           None        1   1920\\u2009x\\u20091080\\u2009pixels'   \n",
       "3      RTX 2050)        1   1920\\u2009x\\u20091080\\u2009pixels'   \n",
       "4           None        1   1920\\u2009x\\u20091080\\u2009pixels'   \n",
       "\n",
       "                   cores  \n",
       "0    '12 Cores (4P + 8E)  \n",
       "1    '12 Cores (4P + 8E)  \n",
       "2             'Quad Core  \n",
       "3   'Octa Core (4P + 4E)  \n",
       "4             'Dual Core  "
      ]
     },
     "execution_count": 37,
     "metadata": {},
     "output_type": "execute_result"
    }
   ],
   "source": [
    "temp_df.head()"
   ]
  },
  {
   "cell_type": "code",
   "execution_count": 38,
   "id": "f24d2cd3",
   "metadata": {},
   "outputs": [
    {
     "data": {
      "text/html": [
       "<div>\n",
       "<style scoped>\n",
       "    .dataframe tbody tr th:only-of-type {\n",
       "        vertical-align: middle;\n",
       "    }\n",
       "\n",
       "    .dataframe tbody tr th {\n",
       "        vertical-align: top;\n",
       "    }\n",
       "\n",
       "    .dataframe thead th {\n",
       "        text-align: right;\n",
       "    }\n",
       "</style>\n",
       "<table border=\"1\" class=\"dataframe\">\n",
       "  <thead>\n",
       "    <tr style=\"text-align: right;\">\n",
       "      <th></th>\n",
       "      <th>productName</th>\n",
       "      <th>price</th>\n",
       "      <th>rating</th>\n",
       "      <th>specScore</th>\n",
       "      <th>features</th>\n",
       "      <th>brand</th>\n",
       "      <th>processors</th>\n",
       "      <th>ram</th>\n",
       "      <th>storage</th>\n",
       "      <th>os</th>\n",
       "      <th>graphics_card</th>\n",
       "      <th>warranty</th>\n",
       "      <th>resolution</th>\n",
       "      <th>cores</th>\n",
       "    </tr>\n",
       "  </thead>\n",
       "  <tbody>\n",
       "    <tr>\n",
       "      <th>1014</th>\n",
       "      <td>Dell Inspiron 3530 IN3530RMD8W001ORS1 Laptop (13th Gen Core i5/ 16GB/ 1TB SSD/ Win11 Home)</td>\n",
       "      <td>61990.0</td>\n",
       "      <td>4.05</td>\n",
       "      <td>50.0</td>\n",
       "      <td>['13th Gen Intel Core i5 1335U', '10 Cores (2P + 8E), 12 Threads', '16\\u2009GB DDR4 RAM', '1\\u2009TB SSD', 'Intel UHD Graphics', '15.6\\u2009inches, 1920\\u2009x\\u20091080\\u2009pixels', 'Windows 11 OS', '1 Year Warranty']</td>\n",
       "      <td>Dell</td>\n",
       "      <td>NaN</td>\n",
       "      <td>NaN</td>\n",
       "      <td>NaN</td>\n",
       "      <td>NaN</td>\n",
       "      <td>NaN</td>\n",
       "      <td>1</td>\n",
       "      <td>1920\\u2009x\\u20091080\\u2009pixels'</td>\n",
       "      <td>'10 Cores (2P + 8E)</td>\n",
       "    </tr>\n",
       "    <tr>\n",
       "      <th>1015</th>\n",
       "      <td>MSI Vector GP68 HX 13VG-214IN Gaming Laptop (13th Gen Core i7/ 16GB/ 1TB SSD/ Win11/ 8GB Graph)</td>\n",
       "      <td>149990.0</td>\n",
       "      <td>4.50</td>\n",
       "      <td>77.0</td>\n",
       "      <td>['13th Gen Intel Core i7 13700HX', '16 Cores (8P + 8E), 24 Threads', '16\\u2009GB DDR5 RAM', '1\\u2009TB SSD', '8\\u2009GB NVIDIA GeForce RTX 4070', '16\\u2009inches, 2560\\u2009x\\u20091600\\u2009pixels', 'Windows 11 OS', '1 Year Warranty']</td>\n",
       "      <td>MSI</td>\n",
       "      <td>NaN</td>\n",
       "      <td>NaN</td>\n",
       "      <td>NaN</td>\n",
       "      <td>NaN</td>\n",
       "      <td>NaN</td>\n",
       "      <td>1</td>\n",
       "      <td>2560\\u2009x\\u20091600\\u2009pixels'</td>\n",
       "      <td>'16 Cores (8P + 8E)</td>\n",
       "    </tr>\n",
       "    <tr>\n",
       "      <th>1016</th>\n",
       "      <td>Asus Vivobook 15X OLED M3504YA-LK552WS Laptop (AMD Ryzen 5 7530U/ 16GB/ 1TB SSD/ Win11 Home)</td>\n",
       "      <td>58990.0</td>\n",
       "      <td>4.10</td>\n",
       "      <td>61.0</td>\n",
       "      <td>['7th Gen AMD Ryzen 5 7530U', 'Hexa Core, 12 Threads', '16\\u2009GB DDR4 RAM', '1\\u2009TB SSD', 'Intel Iris Xe Graphics', '15.6\\u2009inches, 1920\\u2009x\\u20091080\\u2009pixels', 'Windows 11 OS', '1 Year Warranty']</td>\n",
       "      <td>Asus</td>\n",
       "      <td>NaN</td>\n",
       "      <td>NaN</td>\n",
       "      <td>NaN</td>\n",
       "      <td>NaN</td>\n",
       "      <td>NaN</td>\n",
       "      <td>1</td>\n",
       "      <td>1920\\u2009x\\u20091080\\u2009pixels'</td>\n",
       "      <td>'Hexa Core</td>\n",
       "    </tr>\n",
       "    <tr>\n",
       "      <th>1017</th>\n",
       "      <td>Lenovo IdeaPad 3 15IAU7 82RK00WXIN Laptop (12th Gen Core i3/ 8GB/ 256GB SSD/ Win11 Home)</td>\n",
       "      <td>33999.0</td>\n",
       "      <td>4.30</td>\n",
       "      <td>53.0</td>\n",
       "      <td>['12th Gen Intel Core i3 1215U', 'Hexa Core (2P + 4E), 8 Threads', '8\\u2009GB DDR4 RAM', '256\\u2009GB SSD', 'Intel UHD Graphics', '15.6\\u2009inches, 1920\\u2009x\\u20091080\\u2009pixels', 'Windows 11 OS', '1 Year Warranty']</td>\n",
       "      <td>Lenovo</td>\n",
       "      <td>NaN</td>\n",
       "      <td>NaN</td>\n",
       "      <td>NaN</td>\n",
       "      <td>NaN</td>\n",
       "      <td>NaN</td>\n",
       "      <td>1</td>\n",
       "      <td>1920\\u2009x\\u20091080\\u2009pixels'</td>\n",
       "      <td>'Hexa Core (2P + 4E)</td>\n",
       "    </tr>\n",
       "    <tr>\n",
       "      <th>1019</th>\n",
       "      <td>HP 250 G9 7M657PA Laptop (12th Gen Core i3/ 8GB/ 512GB SSD/ Win11)</td>\n",
       "      <td>32490.0</td>\n",
       "      <td>4.40</td>\n",
       "      <td>56.0</td>\n",
       "      <td>['12th Gen Intel Core i3 1215U', 'Hexa Core (2P + 4E), 8 Threads', '8\\u2009GB DDR4 RAM', '512\\u2009GB SSD', 'Intel Integrated', '15.6\\u2009inches, 1366\\u2009x\\u2009768\\u2009pixels', 'Windows 11 OS', '1 Year Warranty']</td>\n",
       "      <td>HP</td>\n",
       "      <td>NaN</td>\n",
       "      <td>NaN</td>\n",
       "      <td>NaN</td>\n",
       "      <td>NaN</td>\n",
       "      <td>NaN</td>\n",
       "      <td>1</td>\n",
       "      <td>1366\\u2009x\\u2009768\\u2009pixels'</td>\n",
       "      <td>'Hexa Core (2P + 4E)</td>\n",
       "    </tr>\n",
       "  </tbody>\n",
       "</table>\n",
       "</div>"
      ],
      "text/plain": [
       "                                                                                          productName  \\\n",
       "1014       Dell Inspiron 3530 IN3530RMD8W001ORS1 Laptop (13th Gen Core i5/ 16GB/ 1TB SSD/ Win11 Home)   \n",
       "1015  MSI Vector GP68 HX 13VG-214IN Gaming Laptop (13th Gen Core i7/ 16GB/ 1TB SSD/ Win11/ 8GB Graph)   \n",
       "1016     Asus Vivobook 15X OLED M3504YA-LK552WS Laptop (AMD Ryzen 5 7530U/ 16GB/ 1TB SSD/ Win11 Home)   \n",
       "1017         Lenovo IdeaPad 3 15IAU7 82RK00WXIN Laptop (12th Gen Core i3/ 8GB/ 256GB SSD/ Win11 Home)   \n",
       "1019                               HP 250 G9 7M657PA Laptop (12th Gen Core i3/ 8GB/ 512GB SSD/ Win11)   \n",
       "\n",
       "         price  rating  specScore  \\\n",
       "1014   61990.0    4.05       50.0   \n",
       "1015  149990.0    4.50       77.0   \n",
       "1016   58990.0    4.10       61.0   \n",
       "1017   33999.0    4.30       53.0   \n",
       "1019   32490.0    4.40       56.0   \n",
       "\n",
       "                                                                                                                                                                                                                                        features  \\\n",
       "1014                 ['13th Gen Intel Core i5 1335U', '10 Cores (2P + 8E), 12 Threads', '16\\u2009GB DDR4 RAM', '1\\u2009TB SSD', 'Intel UHD Graphics', '15.6\\u2009inches, 1920\\u2009x\\u20091080\\u2009pixels', 'Windows 11 OS', '1 Year Warranty']   \n",
       "1015  ['13th Gen Intel Core i7 13700HX', '16 Cores (8P + 8E), 24 Threads', '16\\u2009GB DDR5 RAM', '1\\u2009TB SSD', '8\\u2009GB NVIDIA GeForce RTX 4070', '16\\u2009inches, 2560\\u2009x\\u20091600\\u2009pixels', 'Windows 11 OS', '1 Year Warranty']   \n",
       "1016                         ['7th Gen AMD Ryzen 5 7530U', 'Hexa Core, 12 Threads', '16\\u2009GB DDR4 RAM', '1\\u2009TB SSD', 'Intel Iris Xe Graphics', '15.6\\u2009inches, 1920\\u2009x\\u20091080\\u2009pixels', 'Windows 11 OS', '1 Year Warranty']   \n",
       "1017                ['12th Gen Intel Core i3 1215U', 'Hexa Core (2P + 4E), 8 Threads', '8\\u2009GB DDR4 RAM', '256\\u2009GB SSD', 'Intel UHD Graphics', '15.6\\u2009inches, 1920\\u2009x\\u20091080\\u2009pixels', 'Windows 11 OS', '1 Year Warranty']   \n",
       "1019                   ['12th Gen Intel Core i3 1215U', 'Hexa Core (2P + 4E), 8 Threads', '8\\u2009GB DDR4 RAM', '512\\u2009GB SSD', 'Intel Integrated', '15.6\\u2009inches, 1366\\u2009x\\u2009768\\u2009pixels', 'Windows 11 OS', '1 Year Warranty']   \n",
       "\n",
       "       brand processors  ram storage   os graphics_card warranty  \\\n",
       "1014    Dell        NaN  NaN     NaN  NaN           NaN        1   \n",
       "1015     MSI        NaN  NaN     NaN  NaN           NaN        1   \n",
       "1016    Asus        NaN  NaN     NaN  NaN           NaN        1   \n",
       "1017  Lenovo        NaN  NaN     NaN  NaN           NaN        1   \n",
       "1019      HP        NaN  NaN     NaN  NaN           NaN        1   \n",
       "\n",
       "                               resolution                  cores  \n",
       "1014   1920\\u2009x\\u20091080\\u2009pixels'    '10 Cores (2P + 8E)  \n",
       "1015   2560\\u2009x\\u20091600\\u2009pixels'    '16 Cores (8P + 8E)  \n",
       "1016   1920\\u2009x\\u20091080\\u2009pixels'             'Hexa Core  \n",
       "1017   1920\\u2009x\\u20091080\\u2009pixels'   'Hexa Core (2P + 4E)  \n",
       "1019    1366\\u2009x\\u2009768\\u2009pixels'   'Hexa Core (2P + 4E)  "
      ]
     },
     "execution_count": 38,
     "metadata": {},
     "output_type": "execute_result"
    }
   ],
   "source": [
    "temp_df.tail()"
   ]
  },
  {
   "cell_type": "code",
   "execution_count": 39,
   "id": "c2e953a9",
   "metadata": {},
   "outputs": [
    {
     "data": {
      "text/html": [
       "<div>\n",
       "<style scoped>\n",
       "    .dataframe tbody tr th:only-of-type {\n",
       "        vertical-align: middle;\n",
       "    }\n",
       "\n",
       "    .dataframe tbody tr th {\n",
       "        vertical-align: top;\n",
       "    }\n",
       "\n",
       "    .dataframe thead th {\n",
       "        text-align: right;\n",
       "    }\n",
       "</style>\n",
       "<table border=\"1\" class=\"dataframe\">\n",
       "  <thead>\n",
       "    <tr style=\"text-align: right;\">\n",
       "      <th></th>\n",
       "      <th>productName</th>\n",
       "      <th>price</th>\n",
       "      <th>rating</th>\n",
       "      <th>specScore</th>\n",
       "      <th>features</th>\n",
       "      <th>brand</th>\n",
       "      <th>processors</th>\n",
       "      <th>ram</th>\n",
       "      <th>storage</th>\n",
       "      <th>os</th>\n",
       "      <th>graphics_card</th>\n",
       "      <th>warranty</th>\n",
       "      <th>resolution</th>\n",
       "      <th>cores</th>\n",
       "    </tr>\n",
       "  </thead>\n",
       "  <tbody>\n",
       "    <tr>\n",
       "      <th>439</th>\n",
       "      <td>Asus Vivobook 14X K3405ZF-LY752WS  Laptop (12th Gen Core i7/ 16 GB RAM/ 1TB SSD/ Win 11/ 4 GB Graphics)</td>\n",
       "      <td>76999.0</td>\n",
       "      <td>4.20</td>\n",
       "      <td>63.0</td>\n",
       "      <td>['12th Gen Intel Core i7 12650H', '10 Cores (6P + 4E), 16 Threads', '16\\u2009GB DDR4 RAM', '1\\u2009TB SSD', '4\\u2009GB NVIDIA GeForce RTX 2050', '14\\u2009inches, 1920\\u2009x\\u20091200\\u2009pixels', 'Windows 11 OS', '1 Year Warranty']</td>\n",
       "      <td>Asus</td>\n",
       "      <td>(AMD Ryzen 5 7530U</td>\n",
       "      <td>16 GB RAM</td>\n",
       "      <td>512 GB SSD</td>\n",
       "      <td>Win 11)</td>\n",
       "      <td>None</td>\n",
       "      <td>1</td>\n",
       "      <td>1920\\u2009x\\u20091200\\u2009pixels'</td>\n",
       "      <td>'10 Cores (6P + 4E)</td>\n",
       "    </tr>\n",
       "    <tr>\n",
       "      <th>404</th>\n",
       "      <td>HP Pavilion 16-af0015TU Laptop (Intel Core Ultra 5 125U/ 16GB/ 512GB SSD/ Win11)</td>\n",
       "      <td>75990.0</td>\n",
       "      <td>4.10</td>\n",
       "      <td>52.0</td>\n",
       "      <td>['Intel Core Ultra 5 Processor 125U', '12 Cores (2P + 8E + 2LP-E), 14 Threads', '16\\u2009GB LPDDR5 RAM', '512\\u2009GB SSD', 'Intel Integrated', '16\\u2009inches, 1920\\u2009x\\u20091200\\u2009pixels', 'Windows 11 OS', '1 Year Warranty']</td>\n",
       "      <td>HP</td>\n",
       "      <td>(12th Gen Core i3</td>\n",
       "      <td>16GB</td>\n",
       "      <td>512GB SSD</td>\n",
       "      <td>Win11)</td>\n",
       "      <td>None</td>\n",
       "      <td>1</td>\n",
       "      <td>1920\\u2009x\\u20091200\\u2009pixels'</td>\n",
       "      <td>'12 Cores (2P + 8E + 2LP-E)</td>\n",
       "    </tr>\n",
       "    <tr>\n",
       "      <th>36</th>\n",
       "      <td>MSI Modern 14 C7M-062IN Laptop (Ryzen 5 7530U/ 16GB/ 512GB SSD/ Win11)</td>\n",
       "      <td>36990.0</td>\n",
       "      <td>4.55</td>\n",
       "      <td>59.0</td>\n",
       "      <td>['7th Gen AMD Ryzen 5 7530U', 'Hexa Core, 12 Threads', '16\\u2009GB DDR4 RAM', '512\\u2009GB SSD', 'AMD Radeon AMD', '14\\u2009inches, 1920\\u2009x\\u20091080\\u2009pixels', 'Windows 11 OS', '1 Year Warranty']</td>\n",
       "      <td>MSI</td>\n",
       "      <td>(Ryzen 5 7530U</td>\n",
       "      <td>16GB</td>\n",
       "      <td>512GB SSD</td>\n",
       "      <td>Win11)</td>\n",
       "      <td>None</td>\n",
       "      <td>1</td>\n",
       "      <td>1920\\u2009x\\u20091080\\u2009pixels'</td>\n",
       "      <td>'Hexa Core</td>\n",
       "    </tr>\n",
       "    <tr>\n",
       "      <th>167</th>\n",
       "      <td>MSI Stealth 17 A13VH-055IN Gaming Laptop (13th Gen Core i9/ 64GB/ 2TB SSD/ Win11 Home/ 12GB Graph)</td>\n",
       "      <td>439990.0</td>\n",
       "      <td>4.70</td>\n",
       "      <td>98.0</td>\n",
       "      <td>['13th Gen Intel Core i9 13900H', '14 Cores (6P + 8E), 20 Threads', '64\\u2009GB DDR5 RAM', '2\\u2009TB SSD', '12\\u2009GB Nvidia GeForce RTX4080', '17.3\\u2009inches, 3840\\u2009x\\u20092160\\u2009pixels', 'Windows 11 OS', '2 Year Warranty']</td>\n",
       "      <td>MSI</td>\n",
       "      <td>(12th Gen Core i3</td>\n",
       "      <td>16GB</td>\n",
       "      <td>512GB SSD</td>\n",
       "      <td>Win11 Home)</td>\n",
       "      <td>None</td>\n",
       "      <td>2</td>\n",
       "      <td>3840\\u2009x\\u20092160\\u2009pixels'</td>\n",
       "      <td>'14 Cores (6P + 8E)</td>\n",
       "    </tr>\n",
       "    <tr>\n",
       "      <th>606</th>\n",
       "      <td>HP 255 G8 Laptop (AMD Athlon 3050U/ 8GB/ 256GB SSD/ Win11)</td>\n",
       "      <td>22710.0</td>\n",
       "      <td>4.10</td>\n",
       "      <td>42.0</td>\n",
       "      <td>['3rd Gen AMD Athlon  3050U', 'Dual Core, 2 Threads', '8\\u2009GB DDR4 RAM', '256\\u2009GB SSD', '\\u200eAMD Integrated', '15.6\\u2009inches, 1920\\u2009x\\u20091080\\u2009pixels', 'Windows 11 OS', '1 Year Warranty']</td>\n",
       "      <td>HP</td>\n",
       "      <td>(13th Gen Core i3</td>\n",
       "      <td>8GB</td>\n",
       "      <td>512GB SSD</td>\n",
       "      <td>Win11)</td>\n",
       "      <td>None</td>\n",
       "      <td>1</td>\n",
       "      <td>1920\\u2009x\\u20091080\\u2009pixels'</td>\n",
       "      <td>'Dual Core</td>\n",
       "    </tr>\n",
       "  </tbody>\n",
       "</table>\n",
       "</div>"
      ],
      "text/plain": [
       "                                                                                                 productName  \\\n",
       "439  Asus Vivobook 14X K3405ZF-LY752WS  Laptop (12th Gen Core i7/ 16 GB RAM/ 1TB SSD/ Win 11/ 4 GB Graphics)   \n",
       "404                         HP Pavilion 16-af0015TU Laptop (Intel Core Ultra 5 125U/ 16GB/ 512GB SSD/ Win11)   \n",
       "36                                    MSI Modern 14 C7M-062IN Laptop (Ryzen 5 7530U/ 16GB/ 512GB SSD/ Win11)   \n",
       "167       MSI Stealth 17 A13VH-055IN Gaming Laptop (13th Gen Core i9/ 64GB/ 2TB SSD/ Win11 Home/ 12GB Graph)   \n",
       "606                                               HP 255 G8 Laptop (AMD Athlon 3050U/ 8GB/ 256GB SSD/ Win11)   \n",
       "\n",
       "        price  rating  specScore  \\\n",
       "439   76999.0    4.20       63.0   \n",
       "404   75990.0    4.10       52.0   \n",
       "36    36990.0    4.55       59.0   \n",
       "167  439990.0    4.70       98.0   \n",
       "606   22710.0    4.10       42.0   \n",
       "\n",
       "                                                                                                                                                                                                                                        features  \\\n",
       "439    ['12th Gen Intel Core i7 12650H', '10 Cores (6P + 4E), 16 Threads', '16\\u2009GB DDR4 RAM', '1\\u2009TB SSD', '4\\u2009GB NVIDIA GeForce RTX 2050', '14\\u2009inches, 1920\\u2009x\\u20091200\\u2009pixels', 'Windows 11 OS', '1 Year Warranty']   \n",
       "404     ['Intel Core Ultra 5 Processor 125U', '12 Cores (2P + 8E + 2LP-E), 14 Threads', '16\\u2009GB LPDDR5 RAM', '512\\u2009GB SSD', 'Intel Integrated', '16\\u2009inches, 1920\\u2009x\\u20091200\\u2009pixels', 'Windows 11 OS', '1 Year Warranty']   \n",
       "36                                   ['7th Gen AMD Ryzen 5 7530U', 'Hexa Core, 12 Threads', '16\\u2009GB DDR4 RAM', '512\\u2009GB SSD', 'AMD Radeon AMD', '14\\u2009inches, 1920\\u2009x\\u20091080\\u2009pixels', 'Windows 11 OS', '1 Year Warranty']   \n",
       "167  ['13th Gen Intel Core i9 13900H', '14 Cores (6P + 8E), 20 Threads', '64\\u2009GB DDR5 RAM', '2\\u2009TB SSD', '12\\u2009GB Nvidia GeForce RTX4080', '17.3\\u2009inches, 3840\\u2009x\\u20092160\\u2009pixels', 'Windows 11 OS', '2 Year Warranty']   \n",
       "606                            ['3rd Gen AMD Athlon  3050U', 'Dual Core, 2 Threads', '8\\u2009GB DDR4 RAM', '256\\u2009GB SSD', '\\u200eAMD Integrated', '15.6\\u2009inches, 1920\\u2009x\\u20091080\\u2009pixels', 'Windows 11 OS', '1 Year Warranty']   \n",
       "\n",
       "    brand          processors         ram      storage            os  \\\n",
       "439  Asus  (AMD Ryzen 5 7530U   16 GB RAM   512 GB SSD       Win 11)   \n",
       "404    HP   (12th Gen Core i3        16GB    512GB SSD        Win11)   \n",
       "36    MSI      (Ryzen 5 7530U        16GB    512GB SSD        Win11)   \n",
       "167   MSI   (12th Gen Core i3        16GB    512GB SSD   Win11 Home)   \n",
       "606    HP   (13th Gen Core i3         8GB    512GB SSD        Win11)   \n",
       "\n",
       "    graphics_card warranty                           resolution  \\\n",
       "439          None        1   1920\\u2009x\\u20091200\\u2009pixels'   \n",
       "404          None        1   1920\\u2009x\\u20091200\\u2009pixels'   \n",
       "36           None        1   1920\\u2009x\\u20091080\\u2009pixels'   \n",
       "167          None        2   3840\\u2009x\\u20092160\\u2009pixels'   \n",
       "606          None        1   1920\\u2009x\\u20091080\\u2009pixels'   \n",
       "\n",
       "                            cores  \n",
       "439           '10 Cores (6P + 4E)  \n",
       "404   '12 Cores (2P + 8E + 2LP-E)  \n",
       "36                     'Hexa Core  \n",
       "167           '14 Cores (6P + 8E)  \n",
       "606                    'Dual Core  "
      ]
     },
     "execution_count": 39,
     "metadata": {},
     "output_type": "execute_result"
    }
   ],
   "source": [
    "temp_df.sample(5)"
   ]
  },
  {
   "cell_type": "code",
   "execution_count": 40,
   "id": "2433ddf9",
   "metadata": {},
   "outputs": [
    {
     "name": "stdout",
     "output_type": "stream",
     "text": [
      "<class 'pandas.core.frame.DataFrame'>\n",
      "Int64Index: 945 entries, 0 to 1019\n",
      "Data columns (total 14 columns):\n",
      " #   Column         Non-Null Count  Dtype  \n",
      "---  ------         --------------  -----  \n",
      " 0   productName    945 non-null    object \n",
      " 1   price          945 non-null    float64\n",
      " 2   rating         945 non-null    float64\n",
      " 3   specScore      945 non-null    float64\n",
      " 4   features       945 non-null    object \n",
      " 5   brand          945 non-null    object \n",
      " 6   processors     873 non-null    object \n",
      " 7   ram            865 non-null    object \n",
      " 8   storage        865 non-null    object \n",
      " 9   os             865 non-null    object \n",
      " 10  graphics_card  310 non-null    object \n",
      " 11  warranty       945 non-null    object \n",
      " 12  resolution     945 non-null    object \n",
      " 13  cores          945 non-null    object \n",
      "dtypes: float64(3), object(11)\n",
      "memory usage: 143.0+ KB\n"
     ]
    }
   ],
   "source": [
    "temp_df.info()"
   ]
  },
  {
   "cell_type": "code",
   "execution_count": 41,
   "id": "ad7fe34c",
   "metadata": {},
   "outputs": [
    {
     "data": {
      "text/html": [
       "<div>\n",
       "<style scoped>\n",
       "    .dataframe tbody tr th:only-of-type {\n",
       "        vertical-align: middle;\n",
       "    }\n",
       "\n",
       "    .dataframe tbody tr th {\n",
       "        vertical-align: top;\n",
       "    }\n",
       "\n",
       "    .dataframe thead th {\n",
       "        text-align: right;\n",
       "    }\n",
       "</style>\n",
       "<table border=\"1\" class=\"dataframe\">\n",
       "  <thead>\n",
       "    <tr style=\"text-align: right;\">\n",
       "      <th></th>\n",
       "      <th>price</th>\n",
       "      <th>rating</th>\n",
       "      <th>specScore</th>\n",
       "    </tr>\n",
       "  </thead>\n",
       "  <tbody>\n",
       "    <tr>\n",
       "      <th>count</th>\n",
       "      <td>945.00000</td>\n",
       "      <td>945.000000</td>\n",
       "      <td>945.000000</td>\n",
       "    </tr>\n",
       "    <tr>\n",
       "      <th>mean</th>\n",
       "      <td>86862.78836</td>\n",
       "      <td>4.371746</td>\n",
       "      <td>61.223280</td>\n",
       "    </tr>\n",
       "    <tr>\n",
       "      <th>std</th>\n",
       "      <td>65209.37344</td>\n",
       "      <td>0.232947</td>\n",
       "      <td>11.190657</td>\n",
       "    </tr>\n",
       "    <tr>\n",
       "      <th>min</th>\n",
       "      <td>10990.00000</td>\n",
       "      <td>3.850000</td>\n",
       "      <td>19.000000</td>\n",
       "    </tr>\n",
       "    <tr>\n",
       "      <th>25%</th>\n",
       "      <td>47900.00000</td>\n",
       "      <td>4.200000</td>\n",
       "      <td>54.000000</td>\n",
       "    </tr>\n",
       "    <tr>\n",
       "      <th>50%</th>\n",
       "      <td>66990.00000</td>\n",
       "      <td>4.400000</td>\n",
       "      <td>61.000000</td>\n",
       "    </tr>\n",
       "    <tr>\n",
       "      <th>75%</th>\n",
       "      <td>104990.00000</td>\n",
       "      <td>4.550000</td>\n",
       "      <td>68.000000</td>\n",
       "    </tr>\n",
       "    <tr>\n",
       "      <th>max</th>\n",
       "      <td>549990.00000</td>\n",
       "      <td>4.750000</td>\n",
       "      <td>98.000000</td>\n",
       "    </tr>\n",
       "  </tbody>\n",
       "</table>\n",
       "</div>"
      ],
      "text/plain": [
       "              price      rating   specScore\n",
       "count     945.00000  945.000000  945.000000\n",
       "mean    86862.78836    4.371746   61.223280\n",
       "std     65209.37344    0.232947   11.190657\n",
       "min     10990.00000    3.850000   19.000000\n",
       "25%     47900.00000    4.200000   54.000000\n",
       "50%     66990.00000    4.400000   61.000000\n",
       "75%    104990.00000    4.550000   68.000000\n",
       "max    549990.00000    4.750000   98.000000"
      ]
     },
     "execution_count": 41,
     "metadata": {},
     "output_type": "execute_result"
    }
   ],
   "source": [
    "temp_df.describe()"
   ]
  },
  {
   "cell_type": "code",
   "execution_count": 42,
   "id": "e116ba2a",
   "metadata": {},
   "outputs": [],
   "source": [
    "##group processors category into lesser count"
   ]
  },
  {
   "cell_type": "code",
   "execution_count": 43,
   "id": "d648d2ef",
   "metadata": {},
   "outputs": [],
   "source": [
    "# import pandas as pd\n",
    "\n",
    "\n",
    "# processor_mapping = {\n",
    "#     \"Intel\": {\n",
    "#         \"Core i3\": \"Intel Core i3\",\n",
    "#         \"Core i5\": \"Intel Core i5\",\n",
    "#         \"Core i7\": \"Intel Core i7\",\n",
    "#         \"Core i9\": \"Intel Core i9\",\n",
    "#         \"Core Ultra\": \"Intel Core Ultra\",\n",
    "#         \"Pentium\": \"Intel Pentium\",\n",
    "#         \"Celeron\": \"Intel Celeron\",\n",
    "#     },\n",
    "#     \"AMD\": {\n",
    "#         \"Ryzen 3\": \"AMD Ryzen 3\",\n",
    "#         \"Ryzen 5\": \"AMD Ryzen 5\",\n",
    "#         \"Ryzen 7\": \"AMD Ryzen 7\",\n",
    "#         \"Ryzen 9\": \"AMD Ryzen 9\",\n",
    "#         \"Athlon\": \"AMD Athlon\",\n",
    "#     },\n",
    "#     \"Apple\": {\n",
    "#         \"M1\": \"Apple M1\",\n",
    "#         \"M2\": \"Apple M2\",\n",
    "#         \"M3\": \"Apple M3\",\n",
    "#         \"M3 Pro\": \"Apple M3 Pro\",\n",
    "#         \"M3 Max\": \"Apple M3 Max\",\n",
    "#     },\n",
    "#     \"MediaTek\": {\n",
    "#         \"MT8183\": \"MediaTek MT8183\",\n",
    "#         \"MT8788\": \"MediaTek MT8788\",\n",
    "#         \"Kompanio\": \"MediaTek Kompanio\",\n",
    "#     },\n",
    "#     \"Snapdragon\": {\n",
    "#         \"X Elite\": \"Snapdragon X Elite\",\n",
    "#         \"X Plus\": \"Snapdragon X Plus\",\n",
    "#     },\n",
    "# }\n",
    "\n",
    "\n",
    "# data = [\n",
    "#     \"(12th Gen Core i5\", \"(13th Gen Core i5\", \"(13th Gen Core i7\", \"(12th Gen Core i3\", \n",
    "#     \"(12th Gen Core i7\", \"(Intel Core Ultra 7 155H\", \"(11th Gen Core i5\", \n",
    "#     \"(13th Gen Core i9\", \"(14th Gen Core i9\", \"(13th Gen Core i3\", \n",
    "#     \"(14th Gen Core i7\", \"(Intel Core Ultra 9 185H\", \"(Intel Core Ultra 7\", \n",
    "#     \"(Intel Core Ultra 5 125H\", \"(Intel Core Ultra 5\", \"(AMD Ryzen 7 7840HS\", \n",
    "#     \"(11th Gen Core i7\", \"(AMD Ryzen 5 5500U\", \"(AMD Ryzen 5 7535HS\", \"(11th Gen Core i3\", \n",
    "#     \"(Celeron N4020\", \"(AMD Ryzen 5 7530U\", \"(Apple M3\", \"(Ryzen 3 7320U\", \n",
    "#     \"(Snapdragon X Elite\", \"(Intel Celeron N4500\", \"(AMD Ryzen 7 8845HS\", \n",
    "#     \"(Intel Core 5 Processor 120U\", \"(Celeron N4500\", \"(AMD Ryzen 7 7435HS\", \n",
    "#     \"(AMD Ryzen 7 7730U\", \"(Apple M2\", \"(AMD Ryzen 5 7520U\", \"(AMD Ryzen 3 5300U\", \n",
    "#     \"(AMD Ryzen 9 8945HS\", \"(Apple M3 Pro\", \"(AMD Ryzen 7 7735H\", \n",
    "#     \"(AMD Ryzen 3 7320U\", \"(Ryzen 5 7520U\", \"(Intel Core 7 Processor 150U\", \n",
    "#     \"(Intel Core i3-N305\", \"(AMD Ryzen 5 5600H\", \"(AMD Ryzen 3 7330U\", \n",
    "#     \"(Intel Core 5 120U\", \"(10th Gen Core i5\", \"(MediaTek MT8183\", \n",
    "#     \"(Apple M3 Max\", \"(10th Gen Core i3\", \"(Intel Core i3 N305\", \n",
    "#     \"(AMD Ryzen 5 7535H\", \"(Ryzen 5 5600H\", \"(AMD Ryzen 7 5700U\", \n",
    "#     \"(Intel Core Ultra 7\", \"(Intel Core Ultra 5 125U\", \"(Snapdragon X Plus\", \n",
    "#     \"(12th Gen Core i5-12450H\", \"(AMD Ryzen 7 7735HS\", \"(11th Gen Core i5\", \n",
    "#     \"(Ryzen 5 5500U\", \"(Intel Core Ultra 7 155U\", \"(AMD Ryzen 7 6800H\", \n",
    "#     \"(AMD Ryzen 5 7235HS\", \"(Intel Processor N100\", \"(AMD Ryzen 3 3250U\", \n",
    "#     \"(11th Gen Core i3\", \"(Intel Core Ultra 9\", \"(Apple M1\", \n",
    "#     \"(Ryzen 5 7530U\", \"(Intel Celeron N4020\", \"(12th Gen Core i7\", \n",
    "#     \"(AMD Ryzen 9 AI HX 370\", \"(MediaTek Kompanio 520\", \"(Intel Core Celeron N4500\", \n",
    "#     \"(AMD Ryzen 7 7735HS\", \"(Intel Celeron N5100\", \"(10th Gen Core i7\", \n",
    "#     \"(Intel Core 5 120U Processor\", \"(Intel Evo Core Ultra 7 155U\", \n",
    "#     \"(Snapdragon X Elite\", \"(AMD Ryzen 7 Pro 7840U\", \n",
    "#     \"(Snapdragon X Elite\", \"(AMD Ryzen AI 300 Series Processors\", \n",
    "#     \"(Intel Evo Core Ultra 7 155H\", \"(Snapdragon X Elite X1E-80-100\", \n",
    "#     \"(Snapdragon X Elite\", \"(AMD Ryzen 7 8840HS\", \"(AMD Ryzen 5 7535HS\", \n",
    "#     \"(Octa Core\", \"(AMD Ryzen R3-7320U\", \"(Kirin 9006C\", \"(Intel Core Ultra 9\", \n",
    "#     \"(AMD Ryzen 5 7530U\", \"(Intel Pentium N100\", \"(Intel Pentium Gold\", \n",
    "#     \"(Intel Core Ultra 9\", \"(Intel Celeron N100\", \"(Intel Core Ultra 7 155U\", \n",
    "#     \"(Intel Core 3 Processor 100U\", \"(13th Gen Core i3 1315U\", \n",
    "#     \"(Intel Pentium Gold 7505\", \"(Intel Core Ultra 7 155H\", \n",
    "#     \"(Intel Core Ultra 7 165U\", \"(8th Gen Core i7\", \"(Intel Core 3 100U\", \n",
    "#     \"(Intel Core Ultra 9 185H\", \"(AMD Ryzen 9 7940HS\", \"(Intel Core 7 150U Processor\", \n",
    "#     \"(AMD Ryzen R7 5700U\", \"(AMD Ryzen 7 7735U\", \"(AMD Ryzen 5 8540U\", \n",
    "#     \"(AMD Ryzen 5 8645HS\", \"(9th Gen Core i9\", \"(Ryzen 7 5800H\", \n",
    "#     \"(AMD Ryzen 9 8945H\", \"(Intel Core Ultra 5 125H\", \"(AMD Ryzen 7 8840U\", \n",
    "#     \"(Intel Core Ultra i7 155H\", \"(Ryzen 3 5300U\", \"(Intel Core i7 1355U\", \n",
    "#     \"(Intel Core i5 13420H\", \"(Snapdragon X Elite\", \"(AMD Ryzen 5 7535HS\", \n",
    "#     \"(Intel Core i5 1335U\", \"(AMD Ryzen 7 7840H\", \"(13th Gen Intel Core i5-1335U\", \n",
    "#     \"(AMD Ryzen AI 9 HX 370\", \"(Ryzen AI 9 HX 370\", \"(8th Gen Core i5\", \n",
    "#     \"(Intel Celeron N4120\", \"(10th Gen Core i5\", \"(AMD Ryzen 7 7435H\", \n",
    "#     \"(12th Gen Core i3\", \"(AMD Ryzen 7 7730U\", \"(Ryzen 5 7520U\", \n",
    "#     \"(Snapdragon X Elite X1E-78-100\", \"(AMD Ryzen 3\", \n",
    "#     \"(AMD Athlon Silver-3050U\", \"(AMD Ryzen 9\", \"(Ryzen 7 5700U\", \n",
    "#     \"(Ryzen 5-5600H\", \"(AMD Athlon 3050U\", \"(Ryzen 5 6600H\", \n",
    "#     \"(AMD Ryzen 5-5600H\", \"(MediaTek MT8788\", \"(AMD Ryzen 5 5625U\", \n",
    "#     \"(Ryzen 7 5800HS\", \"(AMD Ryzen 9 7845HX\", \"(Intel 12th Gen Core i7\", \n",
    "#     \"(13th Gen Core i5\", \"(AMD Ryzen 5 5600HS\", \"(AMD Ryzen 5 5500U\", \n",
    "#     \"(Intel Celeron N4500\", \"(AMD Ryzen 3 7320U\", \"(Intel Core Ultra 7 155H\", \n",
    "#     \"(12th Gen Core i5-12450H\", \"(Snapdragon X Plus\", \"(AMD Ryzen 5 7640HS\", \n",
    "#     \"(AMD Athlon Silver 7120U\"\n",
    "# ]"
   ]
  },
  {
   "cell_type": "code",
   "execution_count": 44,
   "id": "411a63b5",
   "metadata": {},
   "outputs": [],
   "source": [
    "# def map_processor(name):\n",
    "#     if not isinstance(name, str):\n",
    "#         return \"Unknown\"\n",
    "    \n",
    "#     for brand, processors in processor_mapping.items():\n",
    "#         for short_name, full_name in processors.items():\n",
    "#             if short_name in name:\n",
    "#                 return full_name\n",
    "#     return \"Other\""
   ]
  },
  {
   "cell_type": "code",
   "execution_count": 45,
   "id": "2dbbb532",
   "metadata": {},
   "outputs": [],
   "source": [
    "# temp_df[\"category\"] = temp_df['processors'].apply(map_processor)"
   ]
  },
  {
   "cell_type": "code",
   "execution_count": 46,
   "id": "07ca53f6",
   "metadata": {},
   "outputs": [],
   "source": [
    "# temp_df[\"category\"].value_counts()"
   ]
  },
  {
   "cell_type": "code",
   "execution_count": 47,
   "id": "aed6f7dc",
   "metadata": {},
   "outputs": [],
   "source": [
    "# temp_df[temp_df[\"category\"] == 'Unknown']"
   ]
  },
  {
   "cell_type": "code",
   "execution_count": 48,
   "id": "efdc96f2",
   "metadata": {},
   "outputs": [],
   "source": [
    "temp_df['brand'] = temp_df['brand'].str.strip().str.lower()"
   ]
  },
  {
   "cell_type": "code",
   "execution_count": 49,
   "id": "770505b8",
   "metadata": {},
   "outputs": [
    {
     "data": {
      "text/plain": [
       "hp           195\n",
       "lenovo       181\n",
       "asus         135\n",
       "msi          105\n",
       "acer          87\n",
       "dell          87\n",
       "samsung       29\n",
       "apple         23\n",
       "infinix       21\n",
       "microsoft     20\n",
       "honor          7\n",
       "gigabyte       7\n",
       "thomson        6\n",
       "chuwi          5\n",
       "xiaomi         5\n",
       "zebronics      4\n",
       "huawei         4\n",
       "avita          4\n",
       "ultimus        3\n",
       "colorful       3\n",
       "primebook      3\n",
       "realme         2\n",
       "air            2\n",
       "agb            2\n",
       "‎lenovo        1\n",
       "walker         1\n",
       "red            1\n",
       "razer          1\n",
       "jio            1\n",
       "Name: brand, dtype: int64"
      ]
     },
     "execution_count": 49,
     "metadata": {},
     "output_type": "execute_result"
    }
   ],
   "source": [
    "temp_df['brand'].value_counts()"
   ]
  },
  {
   "cell_type": "code",
   "execution_count": 50,
   "id": "f21c8fdd",
   "metadata": {},
   "outputs": [
    {
     "name": "stderr",
     "output_type": "stream",
     "text": [
      "C:\\Users\\iampr\\AppData\\Local\\Temp\\ipykernel_8152\\4019342.py:1: FutureWarning: The default value of regex will change from True to False in a future version. In addition, single character regular expressions will *not* be treated as literal strings when regex=True.\n",
      "  temp_df['processors'] = temp_df['processors'].str.replace(\"(\", \"\")\n"
     ]
    }
   ],
   "source": [
    "temp_df['processors'] = temp_df['processors'].str.replace(\"(\", \"\")"
   ]
  },
  {
   "cell_type": "code",
   "execution_count": 51,
   "id": "4089296a",
   "metadata": {},
   "outputs": [],
   "source": [
    "# temp_df[temp_df['processors'].isnull()]['productName'].str.split(\"Laptop \").str[1].str.split(\"/\").str[0]\n",
    "extracted_values = temp_df[temp_df['processors'].isnull()]['productName'] \\\n",
    "    .str.split(\"Laptop \", expand=True)[1] \\\n",
    "    .str.split(\"/\", expand=True)[0]"
   ]
  },
  {
   "cell_type": "code",
   "execution_count": 52,
   "id": "8e43a08b",
   "metadata": {},
   "outputs": [],
   "source": [
    "temp_df.loc[temp_df['processors'].isnull(), 'processors'] = extracted_values"
   ]
  },
  {
   "cell_type": "code",
   "execution_count": 53,
   "id": "eaa66da4",
   "metadata": {},
   "outputs": [
    {
     "data": {
      "text/plain": [
       "productName        0\n",
       "price              0\n",
       "rating             0\n",
       "specScore          0\n",
       "features           0\n",
       "brand              0\n",
       "processors         1\n",
       "ram               80\n",
       "storage           80\n",
       "os                80\n",
       "graphics_card    635\n",
       "warranty           0\n",
       "resolution         0\n",
       "cores              0\n",
       "dtype: int64"
      ]
     },
     "execution_count": 53,
     "metadata": {},
     "output_type": "execute_result"
    }
   ],
   "source": [
    "temp_df.isnull().sum()"
   ]
  },
  {
   "cell_type": "code",
   "execution_count": 54,
   "id": "8153f8f3",
   "metadata": {},
   "outputs": [],
   "source": [
    "extracted_values_ram = temp_df[temp_df['ram'].isnull()]['productName'] \\\n",
    "    .str.split(\"Laptop \", expand=True)[1] \\\n",
    "    .str.split(\"/\", expand=True)[1]"
   ]
  },
  {
   "cell_type": "code",
   "execution_count": 55,
   "id": "0fdb7bc5",
   "metadata": {},
   "outputs": [],
   "source": [
    "temp_df.loc[temp_df['ram'].isnull(), 'ram'] = extracted_values_ram"
   ]
  },
  {
   "cell_type": "code",
   "execution_count": 56,
   "id": "f9f26082",
   "metadata": {},
   "outputs": [
    {
     "data": {
      "text/plain": [
       "productName        0\n",
       "price              0\n",
       "rating             0\n",
       "specScore          0\n",
       "features           0\n",
       "brand              0\n",
       "processors         1\n",
       "ram                1\n",
       "storage           80\n",
       "os                80\n",
       "graphics_card    635\n",
       "warranty           0\n",
       "resolution         0\n",
       "cores              0\n",
       "dtype: int64"
      ]
     },
     "execution_count": 56,
     "metadata": {},
     "output_type": "execute_result"
    }
   ],
   "source": [
    "temp_df.isnull().sum()"
   ]
  },
  {
   "cell_type": "code",
   "execution_count": 57,
   "id": "91cba02e",
   "metadata": {},
   "outputs": [],
   "source": [
    "extracted_values_storage = temp_df[temp_df['storage'].isnull()]['productName'] \\\n",
    "    .str.split(\"Laptop \", expand=True)[1] \\\n",
    "    .str.split(\"/\", expand=True)[2]"
   ]
  },
  {
   "cell_type": "code",
   "execution_count": 58,
   "id": "2fcc5e7c",
   "metadata": {},
   "outputs": [],
   "source": [
    "temp_df.loc[temp_df['storage'].isnull(), 'storage'] = extracted_values_storage"
   ]
  },
  {
   "cell_type": "code",
   "execution_count": 59,
   "id": "fba9bd83",
   "metadata": {},
   "outputs": [
    {
     "data": {
      "text/plain": [
       "productName        0\n",
       "price              0\n",
       "rating             0\n",
       "specScore          0\n",
       "features           0\n",
       "brand              0\n",
       "processors         1\n",
       "ram                1\n",
       "storage            1\n",
       "os                80\n",
       "graphics_card    635\n",
       "warranty           0\n",
       "resolution         0\n",
       "cores              0\n",
       "dtype: int64"
      ]
     },
     "execution_count": 59,
     "metadata": {},
     "output_type": "execute_result"
    }
   ],
   "source": [
    "temp_df.isnull().sum()"
   ]
  },
  {
   "cell_type": "code",
   "execution_count": 60,
   "id": "96f5297c",
   "metadata": {},
   "outputs": [],
   "source": [
    "extracted_values_os = temp_df[temp_df['os'].isnull()]['productName'] \\\n",
    "    .str.split(\"Laptop \", expand=True)[1] \\\n",
    "    .str.split(\"/\", expand=True)[3]"
   ]
  },
  {
   "cell_type": "code",
   "execution_count": 61,
   "id": "3dac6ade",
   "metadata": {},
   "outputs": [],
   "source": [
    "temp_df.loc[temp_df['os'].isnull(), 'os'] = extracted_values_os"
   ]
  },
  {
   "cell_type": "code",
   "execution_count": 62,
   "id": "6962b5d0",
   "metadata": {},
   "outputs": [
    {
     "data": {
      "text/plain": [
       "productName        0\n",
       "price              0\n",
       "rating             0\n",
       "specScore          0\n",
       "features           0\n",
       "brand              0\n",
       "processors         1\n",
       "ram                1\n",
       "storage            1\n",
       "os                 1\n",
       "graphics_card    635\n",
       "warranty           0\n",
       "resolution         0\n",
       "cores              0\n",
       "dtype: int64"
      ]
     },
     "execution_count": 62,
     "metadata": {},
     "output_type": "execute_result"
    }
   ],
   "source": [
    "temp_df.isnull().sum()"
   ]
  },
  {
   "cell_type": "code",
   "execution_count": 63,
   "id": "9488cd28",
   "metadata": {},
   "outputs": [],
   "source": [
    "extracted_values_graphics_card = temp_df[temp_df['graphics_card'].isnull()]['productName'].str.split(\"Laptop\", expand=False).str[1].str.split(\"/\").str[4]"
   ]
  },
  {
   "cell_type": "code",
   "execution_count": 64,
   "id": "eb085b92",
   "metadata": {},
   "outputs": [],
   "source": [
    "temp_df.loc[temp_df['graphics_card'].isnull(), 'graphics_card'] = extracted_values_graphics_card"
   ]
  },
  {
   "cell_type": "code",
   "execution_count": 65,
   "id": "6460e113",
   "metadata": {
    "scrolled": true
   },
   "outputs": [
    {
     "data": {
      "text/plain": [
       "productName        0\n",
       "price              0\n",
       "rating             0\n",
       "specScore          0\n",
       "features           0\n",
       "brand              0\n",
       "processors         1\n",
       "ram                1\n",
       "storage            1\n",
       "os                 1\n",
       "graphics_card    443\n",
       "warranty           0\n",
       "resolution         0\n",
       "cores              0\n",
       "dtype: int64"
      ]
     },
     "execution_count": 65,
     "metadata": {},
     "output_type": "execute_result"
    }
   ],
   "source": [
    "temp_df.isnull().sum()"
   ]
  },
  {
   "cell_type": "code",
   "execution_count": 66,
   "id": "0686542b",
   "metadata": {},
   "outputs": [],
   "source": [
    "extracted_values_graphics_card1 = temp_df[temp_df['graphics_card'].isnull()]['features'].str.split(\",\").str[5].str.split(\"u2009\")"
   ]
  },
  {
   "cell_type": "code",
   "execution_count": 67,
   "id": "cf22c397",
   "metadata": {},
   "outputs": [],
   "source": [
    "temp_df.loc[temp_df['graphics_card'].isnull(), 'graphics_card'] = extracted_values_graphics_card1"
   ]
  },
  {
   "cell_type": "code",
   "execution_count": 68,
   "id": "1066bdaa",
   "metadata": {},
   "outputs": [
    {
     "data": {
      "text/plain": [
       "productName      0\n",
       "price            0\n",
       "rating           0\n",
       "specScore        0\n",
       "features         0\n",
       "brand            0\n",
       "processors       1\n",
       "ram              1\n",
       "storage          1\n",
       "os               1\n",
       "graphics_card    0\n",
       "warranty         0\n",
       "resolution       0\n",
       "cores            0\n",
       "dtype: int64"
      ]
     },
     "execution_count": 68,
     "metadata": {},
     "output_type": "execute_result"
    }
   ],
   "source": [
    "temp_df.isnull().sum()"
   ]
  },
  {
   "cell_type": "code",
   "execution_count": 69,
   "id": "cc993fd8",
   "metadata": {},
   "outputs": [
    {
     "data": {
      "text/plain": [
       "0                                       4GB RTX2050)\n",
       "1                                       4GB RTX3050)\n",
       "2                                [ 'AMD Radeon AMD']\n",
       "3                                          RTX 2050)\n",
       "4                  [ '\\u200eIntel Iris Xe Graphics']\n",
       "5                           [ 'AMD Radeon Graphics']\n",
       "6                                      4GB RTX 3050)\n",
       "7                                [ 'Intel Graphics']\n",
       "8                                 6GB RTX3050 Graph)\n",
       "9                              [ 'Intel Integrated']\n",
       "10                                        4GB Graph)\n",
       "11                                        6GB Graph)\n",
       "12                                [ 'Intel Iris Xe']\n",
       "13                [ 'Integrated Intel UHD Graphics']\n",
       "14                                 [ '13.3\\, inches]\n",
       "15                               4GB RTX 2050 Graph)\n",
       "16                     [ 'Intel Integrated Iris Xe']\n",
       "17                                        4GB Graph)\n",
       "18                                         RTX 4060)\n",
       "19                               6GB RTX 3050 Graph)\n",
       "20                                     4GB RTX 2050)\n",
       "21                                        4GB Graph)\n",
       "22                               [ 'AMD Radeon AMD']\n",
       "23                                        4GB Graph)\n",
       "24                                6GB RTX3050 Graph)\n",
       "25                                        4GB Graph)\n",
       "26                                      8GB RTX4070)\n",
       "27                       [ 2880\\, x\\, 1800\\, pixels]\n",
       "28                                         RTX 4060)\n",
       "29                           [ 'Intel UHD Graphics']\n",
       "30                             [ 'Intel Integrated']\n",
       "31                                        4GB Graph)\n",
       "32                                        4GB Graph)\n",
       "33                     [ 'Intel Integrated Iris Xe']\n",
       "34                                    4 GB Graphics)\n",
       "35                [ 'Integrated Intel UHD Graphics']\n",
       "36                               [ 'AMD Radeon AMD']\n",
       "37                                 [ '13.6\\, inches]\n",
       "38                     [ 'Intel Integrated Iris Xe']\n",
       "39                               8GB RTX 4060 Graph)\n",
       "40                [ 'Intel Integrated UHD Graphics']\n",
       "41                       [ 'Intel Iris Xe Graphics']\n",
       "42                               [ 'AMD Radeon AMD']\n",
       "43                     [ 'Intel Integrated Iris Xe']\n",
       "44                        [ 'Intel Integrated Iris']\n",
       "45                     [ 'Intel Integrated UHD 600']\n",
       "46                                        4GB Graph)\n",
       "47                                        2GB Graph)\n",
       "48                         [ 'Intel Integrated UHD']\n",
       "49                                        8GB Graph)\n",
       "50                                      6GB RTX3050)\n",
       "51                                        4GB Graph)\n",
       "52                           [ 'Intel UHD Graphics']\n",
       "53                             [ 'Intel Integrated']\n",
       "54                                 [ '13.6\\, inches]\n",
       "55                                        6GB Graph)\n",
       "56                           [ 'Intel UHD Graphics']\n",
       "57                           [ 'Intel UHD Graphics']\n",
       "58                                [ 'Intel Iris Xe']\n",
       "59                                 [ '13.6\\, inches]\n",
       "60                                        6GB Graph)\n",
       "61                      [ 2560\\, x\\, 1600\\, pixels']\n",
       "62                 [ '\\u200eIntel Iris Xe Graphics']\n",
       "63                       [ 'Intel Iris Xe Graphics']\n",
       "64                                [ 'Intel Iris Xe']\n",
       "65                               [ 'Intel Graphics']\n",
       "66                                      8GB RTX4060)\n",
       "67                      [ 3840\\, x\\, 2400\\, pixels']\n",
       "68                                        8GB Graph)\n",
       "69                                 [ '14.5\\, inches]\n",
       "70                                     6GB RTX 4050)\n",
       "71                                        6GB Graph)\n",
       "72                       [ 'Intel Iris Xe Graphics']\n",
       "73                       [ 'Intel Iris Xe Graphics']\n",
       "74                                 [ '11.6\\, inches]\n",
       "75                                      4GB RTX3050)\n",
       "76                             [ 'Intel Integrated']\n",
       "77               [ 'Integrated AMD Radeon Graphics']\n",
       "78                                        6GB Graph)\n",
       "79                                 [ '16.2\\, inches]\n",
       "80                                        4GB Graph)\n",
       "81                     [ 'Intel Integrated Iris Xe']\n",
       "83                                        4GB Graph)\n",
       "84                                        4GB Graph)\n",
       "85                                        4GB Graph)\n",
       "86                           16GB Graphics RTX 4090)\n",
       "87                           16GB Graphics RTX 4090)\n",
       "89                         [ 'Intel Integrated UHD']\n",
       "90                   [ 'Intel Integrated Intel Arc']\n",
       "91                       [ 'Intel Iris Xe Graphics']\n",
       "92                               6GB RTX 3050 Graph)\n",
       "93                                        6GB Graph)\n",
       "94                                      6GB RTX4050)\n",
       "95                                        6GB Graph)\n",
       "96                                      6GB RTX4050)\n",
       "97                                      6GB RTX4050)\n",
       "99                                     4GB RTX 2050)\n",
       "100                                     6GB RTX4050)\n",
       "101                              4GB RTX 2050 Graph)\n",
       "102                                       8GB Graph)\n",
       "105                      [ 'Intel Iris Xe Graphics']\n",
       "108                                       6GB Graph)\n",
       "109                                       8GB Graph)\n",
       "110                                       4GB Graph)\n",
       "111                 [ 'Intel Integrated Integrated']\n",
       "112                          [ 'Intel UHD Graphics']\n",
       "113                      [ 'Intel Iris Xe Graphics']\n",
       "115                          [ 'Intel UHD Graphics']\n",
       "116                                       6GB Graph)\n",
       "117                                       4GB Graph)\n",
       "118                                       4GB Graph)\n",
       "119                                       4GB Graph)\n",
       "120                      [ 'Intel Iris Xe Graphics']\n",
       "121     [ 'Intel Integrated Intel Iris Xe Graphics']\n",
       "122                         [ 'AMD Radeon Graphics']\n",
       "123                                [ '15.3\\, inches]\n",
       "124                               [ 'Intel Iris Xe']\n",
       "125                                       4GB Graph)\n",
       "126                                       4GB Graph)\n",
       "127                                       4GB Graph)\n",
       "128                                       4GB Graph)\n",
       "129                              6GB Graph RTX 3050)\n",
       "130                               [ 'Intel Iris Xe']\n",
       "131                              [ 'AMD Radeon AMD']\n",
       "134                                       8GB Graph)\n",
       "135                                       6GB Graph)\n",
       "136                                       8GB Graph)\n",
       "137                                       4GB Graph)\n",
       "138                                       4GB Graph)\n",
       "139                                       6GB Graph)\n",
       "140                              [ 'AMD Radeon AMD']\n",
       "141               [ 'Integrated Intel Arc Graphics']\n",
       "142                          [ 'Intel Arc Graphics']\n",
       "143                                [ 'AMD Graphics']\n",
       "144                                       6GB Graph)\n",
       "145                                       8GB Graph)\n",
       "146                                       8GB Graph)\n",
       "147                      [ 'Intel Iris Xe Graphics']\n",
       "148                                       4GB Graph)\n",
       "149                                       6GB Graph)\n",
       "151                                       4GB Graph)\n",
       "152                                      12GB Graph)\n",
       "153                         [ 'AMD Radeon Graphics']\n",
       "155                          [ 'Intel UHD Graphics']\n",
       "156                                       6GB Graph)\n",
       "157                                       8GB Graph)\n",
       "159                         [ 'AMD Radeon Graphics']\n",
       "160                                     6GB RTX3050)\n",
       "162                                       4GB Graph)\n",
       "163                          [ 'Intel UHD Graphics']\n",
       "164                                       8GB Graph)\n",
       "166                                       4GB Graph)\n",
       "167                                      12GB Graph)\n",
       "168                                       6GB Graph)\n",
       "169                                       6GB Graph)\n",
       "170                                       4GB Graph)\n",
       "171                                       4GB Graph)\n",
       "172                              8GB RTX 4070 Graph)\n",
       "173                                       8GB Graph)\n",
       "174                      [ 'Intel Iris Xe Graphics']\n",
       "175                                     6GB RTX3050)\n",
       "176                                       4GB Graph)\n",
       "177                                       4GB Graph)\n",
       "178                                       8GB Graph)\n",
       "179                                    4GB RTX 2050)\n",
       "180                                       4GB Graph)\n",
       "181                               6GB RTX3050 Graph)\n",
       "182                                       8GB Graph)\n",
       "184                                    4GB RTX 2050)\n",
       "185                                       6GB Graph)\n",
       "187                               4GB RTX3050 Graph)\n",
       "188                                       4GB Graph)\n",
       "189                                    4GB RTX 3050)\n",
       "190                                        RTX 2050)\n",
       "191                                       8GB Graph)\n",
       "192                                        RTX 2050)\n",
       "193                        [ 'Intel Integrated UHD']\n",
       "194                        [ 'Intel Integrated UHD']\n",
       "195                               6GB RTX3050 Graph)\n",
       "196                                    4GB RTX 2050)\n",
       "197                                       8GB Graph)\n",
       "198                                       8GB Graph)\n",
       "199                                       8GB Graph)\n",
       "201                              8GB RTX 4060 Graph)\n",
       "202                                       6GB Graph)\n",
       "203                            [ 'Iris Xe Graphics']\n",
       "204                               4GB RTX3050 Graph)\n",
       "205                               4GB RTX3050 Graph)\n",
       "206                                       8GB Graph)\n",
       "207                                    4GB RTX 3050)\n",
       "208                                       6GB Graph)\n",
       "209                                       8GB Graph)\n",
       "210                                       6GB Graph)\n",
       "211                    [ 'Intel Integrated Iris Xe']\n",
       "212                           [ 'Intel Arc Graphic']\n",
       "213                               6GB RTX3050 Graph)\n",
       "214                              [ 'AMD Radeon AMD']\n",
       "215                                       8GB Graph)\n",
       "216                                       6GB Graph)\n",
       "217                                       6GB Graph)\n",
       "218                          [ 'Intel UHD Graphics']\n",
       "219                        [ 'Intel Integrated UHD']\n",
       "220                                    4GB Graphics)\n",
       "221                        [ 'Intel Integrated UHD']\n",
       "222                                       8GB Graph)\n",
       "223                           6GB RTX 4050 Graphics)\n",
       "224                                       8GB Graph)\n",
       "225                               6GB RTX3050 Graph)\n",
       "226                               6GB RTX3050 Graph)\n",
       "227               [ 'Intel Integrated UHD Graphics']\n",
       "228                                       8GB Graph)\n",
       "229            [ 'Integrated Intel IrisXe Graphics']\n",
       "230                    [ 'Intel Integrated Iris Xe']\n",
       "231                          [ 'Intel ARC Graphics']\n",
       "232                                     8GB RTX4060)\n",
       "233                                [ 'AMD Graphics']\n",
       "234                                       6GB Graph)\n",
       "235                                     6GB RTX3050)\n",
       "236                                      12GB Graph)\n",
       "237                        [ 'Intel Integrated UHD']\n",
       "238                                       4GB Graph)\n",
       "239                         [ 'AMD Radeon Graphics']\n",
       "240                                       8GB Graph)\n",
       "241                           6GB RTX 4050 Graphics)\n",
       "242                                  [ '13\\, inches]\n",
       "243                               6GB RTX3050 Graph)\n",
       "246                                    8GB Graphics)\n",
       "248                                       6GB Graph)\n",
       "249                                       8GB Graph)\n",
       "250               [ 'Intel Integrated Arc Graphics']\n",
       "251                                       6GB Graph)\n",
       "252                                       4GB Graph)\n",
       "254                                     8GB RTX4060)\n",
       "256                            [ 'Iris Xe Graphics']\n",
       "257                                       4GB Graph)\n",
       "258                                     6GB RTX3050)\n",
       "259                                       4GB Graph)\n",
       "262             [ 'Intel Integrated Intel Graphics']\n",
       "263                                       4GB Graph)\n",
       "264                                [ '13.6\\, inches]\n",
       "265                                       4GB Graph)\n",
       "268                                       4GB Graph)\n",
       "269                        [ 'Intel Integrated UHD']\n",
       "271                          [ 'Intel Arc Graphics']\n",
       "274                                       8GB Graph)\n",
       "275               [ 'Intel Integrated UHD Graphics']\n",
       "276                                    8GB Graphics)\n",
       "278                                       4GB Graph)\n",
       "279                                       6GB Graph)\n",
       "280                                      16GB Graph)\n",
       "281                              [ 'AMD Radeon AMD']\n",
       "283                                       6GB Graph)\n",
       "284                                   4 GB Graphics)\n",
       "285                                [ '11.6\\, inches]\n",
       "286                                       4GB Graph)\n",
       "287                              [ 'AMD Radeon AMD']\n",
       "288                                       4GB Graph)\n",
       "289                                       4GB Graph)\n",
       "291         [ 'Intel Integrated Intel UHD Graphics']\n",
       "292                                       4GB Graph)\n",
       "293                        [ 'Intel Integrated UHD']\n",
       "294                                       4GB Graph)\n",
       "295                        [ 'Intel Integrated UHD']\n",
       "296                                       2GB Graph)\n",
       "297                          [ 'Intel UHD Graphics']\n",
       "298                                       8GB Graph)\n",
       "299                                       2GB Graph)\n",
       "300                                       4GB Graph)\n",
       "301                                       4GB Graph)\n",
       "302                          [ 'Intel UHD Graphics']\n",
       "303                                       8GB Graph)\n",
       "304                                       4GB Graph)\n",
       "305                                       6GB Graph)\n",
       "306                                       6GB Graph)\n",
       "307                               6GB RTX3050 Graph)\n",
       "308                              [ 'AMD Radeon AMD']\n",
       "309                                       4GB Graph)\n",
       "310                          [ 'Intel UHD Graphics']\n",
       "311                  [ 'AMD Radeon Radeon Graphics']\n",
       "312                    [ 'Intel Integrated Iris Xe']\n",
       "314                                      16GB Graph)\n",
       "315     [ 'Intel Integrated Intel Iris Xe Graphics']\n",
       "316                                       8GB Graph)\n",
       "317                          [ 'Intel UHD Graphics']\n",
       "318                                   4 GB Graphics)\n",
       "319                 [ 'Intel Integrated Integrated']\n",
       "320                                       4GB Graph)\n",
       "321                 [ 'Intel Integrated Integrated']\n",
       "323                              6GB RTX 3050 Graph)\n",
       "324         [ 'Intel Integrated Intel UHD Graphics']\n",
       "325                    [ 'Intel Integrated Iris Xe']\n",
       "326                              [ 'AMD Radeon AMD']\n",
       "327                              RTX 3050 6GB Graph)\n",
       "328                    [ 'Intel Integrated Iris Xe']\n",
       "329                                       4GB Graph)\n",
       "330                      [ 'Intel Iris Xe Graphics']\n",
       "331                              4GB RTX 2050 Graph)\n",
       "332                                      12GB Graph)\n",
       "333                                    4GB RTX 2050)\n",
       "334                                        RTX 4080)\n",
       "335                                       4GB Graph)\n",
       "336                                       4GB Graph)\n",
       "337                                [ '13.6\\, inches]\n",
       "338                                    6GB RTX 4050)\n",
       "343                           6GB RTX 3050 Graphics)\n",
       "345                [ 'Intel Iris Xe Graphics comes']\n",
       "346                                [ '13.4\\, inches]\n",
       "347                               6GB RTX3050 Graph)\n",
       "348               [ 'Integrated Intel Arc Graphics']\n",
       "349                                   6 GB Graphics)\n",
       "350                              8GB RTX 4070 Graph)\n",
       "351                                       8GB Graph)\n",
       "352                        [ 'Intel Integrated UHD']\n",
       "353                             [ 'Intel  Graphics']\n",
       "354                               6GB RTX4050 Graph)\n",
       "355                                    4GB RTX 2050)\n",
       "356                              8GB RTX 4070 Graph)\n",
       "357                            6GB RTX3050 Graphics)\n",
       "358                                       4GB Graph)\n",
       "359                                       8GB Graph)\n",
       "360                                  [ 'AMD Radeon']\n",
       "361                              RTX 4060 8GB Graph)\n",
       "362                                       8GB Graph)\n",
       "363                                       6GB Graph)\n",
       "364                                       6GB Graph)\n",
       "366                           [ 'Intel HD Graphics']\n",
       "367                                       6GB Graph)\n",
       "368                              RTX 3050 6GB Graph)\n",
       "369                                     8GB RTX4060)\n",
       "370                                       4GB Graph)\n",
       "371                                       4GB Graph)\n",
       "372                                     6GB RTX3050)\n",
       "373                                      12GB Graph)\n",
       "374                                    4GB RTX 2050)\n",
       "375                                     8GB RTX4060)\n",
       "376                                       4GB Graph)\n",
       "377                              [ 'Intel Graphics']\n",
       "378                   [ 'Intel Integarted Graphics']\n",
       "379                                    6GB RTX 4050)\n",
       "380                                       8GB Graph)\n",
       "381                                       8GB Graph)\n",
       "382                        [ 'Intel Integrated UHD']\n",
       "383                        [ 'Intel Integrated UHD']\n",
       "384                                       8GB Graph)\n",
       "385                                  [ 'AMD Radeon']\n",
       "386                    [ 'Intel Integrated Iris Xe']\n",
       "387                      [ 2304\\, x\\, 1536\\, pixels]\n",
       "388                        [ 'Intel Integrated Arc']\n",
       "389                          [ 'Intel Arc Graphics']\n",
       "390                                      12GB Graph)\n",
       "391                              8GB RTX 4070 Graph)\n",
       "392                                       8GB Graph)\n",
       "393                                  [ 'AMD Radeon']\n",
       "394                    [ 'Intel Integrated Iris Xe']\n",
       "395                               6GB RTX4050 Graph)\n",
       "396                                   4 GB Graphics)\n",
       "397                              8GB RTX 4070 Graph)\n",
       "398                            6GB RTX3050 Graphics)\n",
       "399                              RTX 3050 6GB Graph)\n",
       "401                                       8GB Graph)\n",
       "402                                       4GB Graph)\n",
       "403                              RTX 4060 8GB Graph)\n",
       "404                            [ 'Intel Integrated']\n",
       "405                                       6GB Graph)\n",
       "406                                       6GB Graph)\n",
       "407                              8GB RTX 4070 Graph)\n",
       "409                         [ 'AMD Radeon Graphics']\n",
       "410                                       6GB Graph)\n",
       "411                          [ 'Intel UHD Graphics']\n",
       "412                                     8GB RTX4060)\n",
       "413                                       6GB Graph)\n",
       "414                                    6GB Graphics)\n",
       "415                                       6GB Graph)\n",
       "416                          [ 'Intel Arc Graphics']\n",
       "417                            [ 'Intel Integrated']\n",
       "418                                     8GB RTX4060)\n",
       "419                      [ 'Intel Iris Xe Graphics']\n",
       "420               [ 'Intel Integrated ARC Graphics']\n",
       "421                [ '\\u200eIntel Iris Xe Graphics']\n",
       "422               [ 'Integrated Intel Arc Graphics']\n",
       "423                                       8GB Graph)\n",
       "424                                [ 'AMD Graphics']\n",
       "425                   [ 'Integrated Intel Graphics']\n",
       "426                              [ 'Intel Graphics']\n",
       "427                                       8GB Graph)\n",
       "428                      [ 'Intel Iris Xe Graphics']\n",
       "429                    [ 'Intel Integrated Iris Xe']\n",
       "430                          [ 'Intel UHD Graphics']\n",
       "431                          [ 'Intel UHD Graphics']\n",
       "432                                       6GB Graph)\n",
       "433                                       6GB Graph)\n",
       "434                         [ 'Intel  ARC Graphics']\n",
       "435                      [ 'Intel Iris Xe Graphics']\n",
       "436                          [ 'Intel Arc Graphics']\n",
       "437                          [ 'Intel Arc Graphics']\n",
       "438                                   4 GB Graphics)\n",
       "439                                   4 GB Graphics)\n",
       "440                        [ 'Intel Integrated UHD']\n",
       "441                                       4GB Graph)\n",
       "442                                       4GB Graph)\n",
       "443                                       4GB Graph)\n",
       "444                                  [ '14\\, inches]\n",
       "445                                       4GB Graph)\n",
       "446                                       4GB Graph)\n",
       "447                          [ 'Intel UHD Graphics']\n",
       "449               [ 'Intel Integrated UHD Graphics']\n",
       "450                                       6GB Graph)\n",
       "452                            [ 'Intel integrated']\n",
       "453                                       4GB Graph)\n",
       "455                      [ 'Intel Iris Xe Graphics']\n",
       "456                                       6GB Graph)\n",
       "457                                       8GB Graph)\n",
       "458                                       8GB Graph)\n",
       "459                                       6GB Graph)\n",
       "460                                      16GB Graph)\n",
       "461                                       6GB Graph)\n",
       "462                                      12GB Graph)\n",
       "463                                       6GB Graph)\n",
       "465                        [ 'Intel Integrated UHD']\n",
       "466                        [ 'Intel Integrated UHD']\n",
       "467                        [ 'Intel Integrated UHD']\n",
       "468                            [ 'Intel Integrated']\n",
       "469                        [ 'Intel Integrated UHD']\n",
       "470                                  [ 'AMD Radeon']\n",
       "471                      [ 'Intel Iris Xe Graphics']\n",
       "472                         [ 'AMD Radeon Graphics']\n",
       "473                    [ 'Intel Integrated Iris Xe']\n",
       "474                                       2GB Graph)\n",
       "475                    [ '\\u200eIntel UHD Graphics']\n",
       "476                   [ 'Intel Integrated Graphics']\n",
       "477                   [ 'Intel Integrated Graphics']\n",
       "478                      [ 'Intel Iris Xe Graphics']\n",
       "479                                       6GB Graph)\n",
       "480                                       6GB Graph)\n",
       "481                       [ 'Intel Integrated Iris']\n",
       "482                      [ 'Intel Iris Xe Graphics']\n",
       "483                    [ 'Intel Integrated Iris Xe']\n",
       "484                                       6GB Graph)\n",
       "485                                       6GB Graph)\n",
       "486                         [ 'AMD Radeon Graphics']\n",
       "487                    [ '\\u200eIntel UHD Graphics']\n",
       "488                                       8GB Graph)\n",
       "489                                       4GB Graph)\n",
       "490                                       4GB Graph)\n",
       "491                        [ 'Intel Integrated UHD']\n",
       "492                    [ 'AMD Radeon 610M Graphics']\n",
       "493                                       4GB Graph)\n",
       "494                              [ 'Intel Graphics']\n",
       "495                              [ 'AMD Radeon AMD']\n",
       "496                    [ 'Intel Integrated Iris Xe']\n",
       "497                    [ 'Intel Integrated Iris Xe']\n",
       "498                                       6GB Graph)\n",
       "499                                       8GB Graph)\n",
       "500                                       4GB Graph)\n",
       "501                                   4 GB Graphics)\n",
       "502                          [ 'Intel UHD Graphics']\n",
       "503                                       4GB Graph)\n",
       "504                                       8GB Graph)\n",
       "505                                       8GB Graph)\n",
       "506                            [ 'Intel Integrated']\n",
       "507                                      16GB Graph)\n",
       "508                    [ 'Intel Integrated Iris Xe']\n",
       "509                                      12GB Graph)\n",
       "510                                       4GB Graph)\n",
       "511                                       4GB Graph)\n",
       "512               [ 'Intel Integrated UHD Graphics']\n",
       "513                      [ 'Intel Iris Xe Graphics']\n",
       "514                        [ 'Intel Integrated UHD']\n",
       "515                      [ 'Intel Iris Xe Graphics']\n",
       "516                           [ 'AMD Radeon Radeon']\n",
       "517                    [ 'Intel Integrated Iris Xe']\n",
       "518                                   [ 'Intel UHD']\n",
       "519                              [ 'AMD Integrated']\n",
       "520                    [ 'AMD Radeon 610M Graphics']\n",
       "521                                       2GB Graph)\n",
       "522                                       4GB Graph)\n",
       "523                                    4GB Graphics)\n",
       "524                        [ 'Intel Integrated UHD']\n",
       "525                    [ 'Intel Integrated Iris Xe']\n",
       "526                      [ 'Intel Iris Xe Graphics']\n",
       "527                      [ 'Intel Iris Xe Graphics']\n",
       "528                                       6GB Graph)\n",
       "529                               [ 'Intel Iris Xe']\n",
       "530                              [ 'AMD Radeon AMD']\n",
       "531                                       6GB Graph)\n",
       "532                                       6GB Graph)\n",
       "533               [ 'Integrated Intel UHD Graphics']\n",
       "534                    [ 'Intel Integrated Iris Xe']\n",
       "535                                       8GB Graph)\n",
       "536                                       4GB Graph)\n",
       "537                 [ 'Intel Integrated Integrated']\n",
       "538                    [ 'Intel Integrated Iris Xe']\n",
       "539                                       4GB Graph)\n",
       "540                 [ 'Intel Integrated Integrated']\n",
       "541                                       4GB Graph)\n",
       "542                 [ 'Intel Integrated Integrated']\n",
       "543                                       4GB Graph)\n",
       "544                                       4GB Graph)\n",
       "545                                       6GB Graph)\n",
       "546                                       8GB Graph)\n",
       "547                                       4GB Graph)\n",
       "548                                   4 GB Graphics)\n",
       "549                              [ 'AMD Radeon AMD']\n",
       "550                                       4GB Graph)\n",
       "551                          [ 'Intel UHD Graphics']\n",
       "552               [ 'Integrated Intel UHD Graphics']\n",
       "553                                    4GB Graphics)\n",
       "554                         [ 'AMD Radeon Graphics']\n",
       "555                     [ 1920\\, x\\, 1080\\, pixels']\n",
       "556                                       6GB Graph)\n",
       "557                                       4GB Graph)\n",
       "558                        [ 'Intel Integrated UHD']\n",
       "559                          [ 'Intel UHD Graphics']\n",
       "560                        [ 'Intel Integrated UHD']\n",
       "561                              [ 'AMD Radeon AMD']\n",
       "562                        [ 'Intel Integrated UHD']\n",
       "563                    [ 'Intel Integrated Iris Xe']\n",
       "564                    [ 'Intel Integrated Iris Xe']\n",
       "565                              [ 'AMD Radeon AMD']\n",
       "566                        [ 'Intel Integrated UHD']\n",
       "567               [ 'Intel Integrated UHD Graphics']\n",
       "568                        [ 'Intel Integrated UHD']\n",
       "569                                       4GB Graph)\n",
       "570                                    4GB Graphics)\n",
       "571                              [ 'AMD Radeon AMD']\n",
       "572                              [ 'AMD Radeon AMD']\n",
       "573                              [ 'AMD Radeon AMD']\n",
       "574                              [ 'AMD Radeon AMD']\n",
       "575                                       6GB Graph)\n",
       "576                          [ 'Intel UHD Graphics']\n",
       "577                                [ '11.6\\, inches]\n",
       "579                         [ 'AMD Radeon Graphics']\n",
       "580                          [ 'Intel UHD Graphics']\n",
       "581                               [ 'Intel Iris Xe']\n",
       "582                      [ 'Intel Iris Xe Graphics']\n",
       "583                                  [ 'AMD Radeon']\n",
       "584                         [ 'AMD Radeon Graphics']\n",
       "585                                       4GB Graph)\n",
       "586                              [ 'Intel Graphics']\n",
       "587                                       4GB Graph)\n",
       "588                      [ 'Intel Iris Xe Graphics']\n",
       "589                                       4GB Graph)\n",
       "590                                [ '256\\, GB SSD']\n",
       "591                                       4GB Graph)\n",
       "592                                       4GB Graph)\n",
       "593                                       4GB Graph)\n",
       "594                                       4GB Graph)\n",
       "595                      [ 'Intel Iris Xe Graphics']\n",
       "596                      [ 'Intel Iris Xe Graphics']\n",
       "597                      [ 'Intel Iris XE Graphics']\n",
       "598                                      12GB Graph)\n",
       "599                      [ 'Intel Iris XE Graphics']\n",
       "600                              [ 'AMD Radeon AMD']\n",
       "601                                    4GB Graphics)\n",
       "602                                    4GB Graphics)\n",
       "603                              [ 'AMD Radeon AMD']\n",
       "604                                       6GB Graph)\n",
       "605                        [ 'Intel Integrated UHD']\n",
       "606                        [ '\\u200eAMD Integrated']\n",
       "607                          [ 'Intel UHD Graphics']\n",
       "610                                [ '13.6\\, inches]\n",
       "612                                       RTX 3050A)\n",
       "613                                     8GB RTX4070)\n",
       "614                      [ 'Intel Iris Xe Graphics']\n",
       "615                      [ 'Intel Iris Xe Graphics']\n",
       "616                               [ 'Intel Iris Xe']\n",
       "617                                       RTX 3050A)\n",
       "618                      [ 'Intel Iris Xe Graphics']\n",
       "620                           [ 'Intel HD Graphics']\n",
       "624                    [ 'Intel Integrated Iris Xe']\n",
       "625                      [ 'Intel Iris Xe Graphics']\n",
       "627                      [ 'Intel Iris Xe Graphics']\n",
       "628                                [ '256\\, GB SSD']\n",
       "630                  [ 'AMD Radeon Vega 7 Graphics']\n",
       "633                      [ 'Intel Iris Xe Graphics']\n",
       "634                      [ 'Intel Iris Xe Graphics']\n",
       "635                      [ 'Intel Iris Xe Graphics']\n",
       "636                      [ 'Intel Iris Xᵉ Graphics']\n",
       "637                                      16GB Graph)\n",
       "638                         [ 'AMD Radeon Graphics']\n",
       "639                      [ 'Intel UHD Graphics 600']\n",
       "640                                    6GB RTX 4050)\n",
       "641                              [ 'AMD Radeon AMD']\n",
       "642                                [ '13.3\\, inches]\n",
       "643                      [ 'Intel Iris Xe Graphics']\n",
       "644                                       4GB Graph)\n",
       "645                          [ 'Intel UHD Graphics']\n",
       "646                                       4GB Graph)\n",
       "647                           [ 'AMD Radeon Vega 8']\n",
       "648                                    [ 'Intel HD']\n",
       "649                        [ 'Intel Integrated UHD']\n",
       "650                             [ 'Intel Iris Plus']\n",
       "651                      [ 3840\\, x\\, 2160\\, pixels]\n",
       "652                                       4GB Graph)\n",
       "653                                       4GB Graph)\n",
       "654                      [ 'Intel Iris Xe Graphics']\n",
       "655                                       8GB Graph)\n",
       "656                              RTX 4060 8GB Graph)\n",
       "657                                      12GB Graph)\n",
       "658                                    6GB Graphics)\n",
       "659                      [ 'Intel Iris Xe Graphics']\n",
       "660                    [ 'Intel Integrated Iris Xe']\n",
       "661                                    4GB Graphics)\n",
       "662                                       6GB Graph)\n",
       "663                                       6GB Graph)\n",
       "664                          [ 'Intel Arc Graphics']\n",
       "666                                       8GB Graph)\n",
       "667                                  [ '14\\, inches]\n",
       "668                                       8GB Graph)\n",
       "669                      [ 'Intel Iris Xe Graphics']\n",
       "670                          [ 'Intel UHD Graphics']\n",
       "671                                     8GB RTX4060)\n",
       "672                                       RTX 3050A)\n",
       "673                                     8GB RTX4070)\n",
       "674                        [ 'Intel Integrated UHD']\n",
       "675                         [ 'AMD Radeon Graphics']\n",
       "676                   [ 'Intel Integrated Graphics']\n",
       "677                           8GB Graphics RTX 4060)\n",
       "678                              [ 'Intel Graphics']\n",
       "679                                  [ 'AMD Radeon']\n",
       "680                                       4GB Graph)\n",
       "681                            [ 'Iris Xe Graphics']\n",
       "682                                       6GB Graph)\n",
       "683                         [ 'AMD Radeon Graphics']\n",
       "685                                       8GB Graph)\n",
       "686                                       8GB Graph)\n",
       "687                           RTX 4060 8GB Graphics)\n",
       "688                        [ 'Intel Integrated UHD']\n",
       "689                        [ 'Intel Integrated UHD']\n",
       "690                    [ 'Intel Integrated Iris Xe']\n",
       "691                                       8GB Graph)\n",
       "692                              8GB RTX 4070 Graph)\n",
       "693                           RTX 4050 6GB Graphics)\n",
       "694                        [ 'Intel Integrated UHD']\n",
       "695                      [ 2240\\, x\\, 1400\\, pixels]\n",
       "696                              4GB RTX 2050 Graph)\n",
       "697                             12GB RTX 4080 Graph)\n",
       "698                                [ '13.4\\, inches]\n",
       "699                                       8GB Graph)\n",
       "700                                   [ 'Intel UHD']\n",
       "701                                    6GB RTX 4050)\n",
       "702                                  [ '15\\, inches]\n",
       "703                                  [ '13\\, inches]\n",
       "704                                  [ '13\\, inches]\n",
       "705                             16GB RTX 4090 Graph)\n",
       "706                                     6GB RTX4050)\n",
       "707                                [ '13.8\\, inches]\n",
       "708                                  [ '15\\, inches]\n",
       "709                                        RTX 4050)\n",
       "710                                       8GB Graph)\n",
       "711               [ 'Integrated Intel UHD Graphics']\n",
       "712                                  [ '14\\, inches]\n",
       "713                                [ '13.4\\, inches]\n",
       "714                                       6GB Graph)\n",
       "715                                       6GB Graph)\n",
       "716                                       8GB Graph)\n",
       "717                           6GB RTX 3050 Graphics)\n",
       "718               [ 'Integrated Intel UHD Graphics']\n",
       "719                                    6GB Graphics)\n",
       "720                        [ 'Intel Integrated UHD']\n",
       "721                        [ 'Intel Integrated UHD']\n",
       "722                            [ 'Intel Integrated']\n",
       "723                                       6GB Graph)\n",
       "724                                       6GB Graph)\n",
       "726                        [ 'Intel Integrated UHD']\n",
       "727                                    8GB Graphics)\n",
       "728                                       8GB Graph)\n",
       "729                                       8GB Graph)\n",
       "730                                       8GB Graph)\n",
       "731                              8GB RTX 4060 Graph)\n",
       "732                      [ 'Intel Iris Xe Graphics']\n",
       "733                                       8GB Graph)\n",
       "734                             4GB  RTX 3050 Graph)\n",
       "735                               6GB RTX4050 Graph)\n",
       "736                               4GB RTX3050 Graph)\n",
       "737                                       4GB Graph)\n",
       "738                               6GB RTX3050 Graph)\n",
       "739                           8GB Graphics RTX 4060)\n",
       "740                    [ 'Intel Integrated Iris Xe']\n",
       "741                        [ 'Intel Integrated UHD']\n",
       "742                                       4GB Graph)\n",
       "743                                       8GB Graph)\n",
       "744                                       8GB Graph)\n",
       "745                          [ 'Intel UHD Graphics']\n",
       "746                                       4GB Graph)\n",
       "747                                       6GB Graph)\n",
       "748                                       8GB Graph)\n",
       "749                           RTX 4060 8GB Graphics)\n",
       "750                                       4GB Graph)\n",
       "751                                       4GB Graph)\n",
       "752                                       4GB Graph)\n",
       "753                                       4GB Graph)\n",
       "754                                       6GB Graph)\n",
       "755                                       8GB Graph)\n",
       "756                              6GB RTX 4050 Graph)\n",
       "757                          [ 'Intel Arc Graphics']\n",
       "758                                      12GB Graph)\n",
       "759                               8GB RTX4070 Graph)\n",
       "760                                       8GB Graph)\n",
       "761                                       8GB Graph)\n",
       "762                                     8GB RTX4070)\n",
       "763                                     6GB RTX4050)\n",
       "764                                       8GB Graph)\n",
       "765                                       8GB Graph)\n",
       "767                                       4GB Graph)\n",
       "768                             16GB RTX 4090 Graph)\n",
       "769                                     6GB RTX4050)\n",
       "770                              [ 'Intel Graphics']\n",
       "771                          [ 'Intel Arc Graphics']\n",
       "773                                        RTX 4050)\n",
       "774                                       8GB Graph)\n",
       "775                            [ 'Intel Integrated']\n",
       "776                        [ 'Intel Integrated UHD']\n",
       "777                                      16GB Graph)\n",
       "778                                     8GB RTX4070)\n",
       "779                                      16GB Graph)\n",
       "780                        [ 'Intel Integrated UHD']\n",
       "781                                       6GB Graph)\n",
       "782                        [ 'Intel Integrated Arc']\n",
       "784                                      16GB Graph)\n",
       "785                  [ 'Intel Integrated Intel Arc']\n",
       "786                                       8GB Graph)\n",
       "787                                       6GB Graph)\n",
       "788                                  [ '13\\, inches]\n",
       "789                          [ 'Intel Arc Graphics']\n",
       "790                  [ 'Intel Integrated Intel Arc']\n",
       "792                                       6GB Graph)\n",
       "793                                    8GB Graphics)\n",
       "794                                       6GB Graph)\n",
       "795                                       8GB Graph)\n",
       "798                              [ 'Intel Graphics']\n",
       "799                              8GB RTX 4060 Graph)\n",
       "801               [ 'Integrated Intel Arc Graphics']\n",
       "802                                       8GB Graph)\n",
       "803                             4GB  RTX 3050 Graph)\n",
       "804                                    4GB Graphics)\n",
       "805                               4GB RTX3050 Graph)\n",
       "806                                       4GB Graph)\n",
       "807                               6GB RTX3050 Graph)\n",
       "808                          [ 'Intel Arc Graphics']\n",
       "809                                      12GB Graph)\n",
       "810                                    4GB Graphics)\n",
       "811                 [ 'Intel Integrated Integrated']\n",
       "812                                       8GB Graph)\n",
       "813                                       8GB Graph)\n",
       "815               [ 'Intel Integrated Arc Graphics']\n",
       "816                                       4GB Graph)\n",
       "817                                       6GB Graph)\n",
       "818                                       8GB Graph)\n",
       "819                            [ 'Intel Integrated']\n",
       "821                                    4GB Graphics)\n",
       "822                                       4GB Graph)\n",
       "823                                      12GB Graph)\n",
       "824                                       6GB Graph)\n",
       "825                                       8GB Graph)\n",
       "826                                       6GB Graph)\n",
       "827                                       6GB Graph)\n",
       "828                                       8GB Graph)\n",
       "829                                      12GB Graph)\n",
       "830                                       4GB Graph)\n",
       "831                                       8GB Graph)\n",
       "832                                       8GB Graph)\n",
       "833                                     8GB RTX4070)\n",
       "834                                       4GB Graph)\n",
       "835                                       8GB Graph)\n",
       "836                                       8GB Graph)\n",
       "837                                       6GB Graph)\n",
       "838                                       4GB Graph)\n",
       "839                                      16GB Graph)\n",
       "840                                    8GB Graphics)\n",
       "841                                [ '11.6\\, inches]\n",
       "842                              [ 'AMD Radeon AMD']\n",
       "843                                       8GB Graph)\n",
       "844                          [ 'Intel UHD Graphics']\n",
       "845                            [ 'Intel Integrated']\n",
       "846                                    8GB Graphics)\n",
       "847                              [ 'Intel Graphics']\n",
       "848                                      16GB Graph)\n",
       "849                                     8GB RTX4070)\n",
       "850                                    6GB Graphics)\n",
       "851                            [ 'Intel Integrated']\n",
       "852                                       6GB Graph)\n",
       "853                          [ 'Intel Arc Graphics']\n",
       "854                          [ 'Intel Arc Graphics']\n",
       "855                                      16GB Graph)\n",
       "856                [ 'Intel Iris Xe Graphics comes']\n",
       "857                                       8GB Graph)\n",
       "858                                       6GB Graph)\n",
       "859                          [ 'Intel Arc Graphics']\n",
       "860                                      12GB Graph)\n",
       "861               [ 'Intel Integrated ARC Graphics']\n",
       "862                                       4GB Graph)\n",
       "863                                       6GB Graph)\n",
       "864                          [ 'Intel UHD Graphics']\n",
       "865                                       6GB Graph)\n",
       "866                        [ 'Intel Integrated UHD']\n",
       "867                                       6GB Graph)\n",
       "868                          [ 'Intel UHD Graphics']\n",
       "869                                       6GB Graph)\n",
       "870               [ 'Intel Integrated UHD Graphics']\n",
       "871                                       4GB Graph)\n",
       "872                        [ 'Intel Integrated UHD']\n",
       "873                        [ 'Intel Integrated UHD']\n",
       "874                [ 'Intel Iris Xe Graphics comes']\n",
       "875                                       4GB Graph)\n",
       "876                   [ 'Integrated Intel Graphics']\n",
       "877                   [ 'Integrated Intel Graphics']\n",
       "878                         [ 'AMD Radeon Graphics']\n",
       "879                   [ 'Integrated Intel Graphics']\n",
       "880                                        RTX 4090)\n",
       "881                                       6GB Graph)\n",
       "882     [ 'Intel Integrated Intel Iris Xe Graphics']\n",
       "883                      [ '4\\, GB NVIDIA RTX A500']\n",
       "884                                       6GB Graph)\n",
       "885                                       8GB Graph)\n",
       "886                              [ 'Intel Graphics']\n",
       "887                                       8GB Graph)\n",
       "888               [ 'Intel Integrated UHD Graphics']\n",
       "889                                       8GB Graph)\n",
       "890                                       8GB Graph)\n",
       "891                    [ 'Intel Integrated Iris Xe']\n",
       "892                                    4GB Graphics)\n",
       "893                      [ 'Intel UHD Graphics 600']\n",
       "894                                      12GB Graph)\n",
       "895                                       6GB Graph)\n",
       "896                                       8GB Graph)\n",
       "897                                       6GB Graph)\n",
       "898                                       6GB Graph)\n",
       "899                                       8GB Graph)\n",
       "900                                [ '15.3\\, inches]\n",
       "901                                       4GB Graph)\n",
       "902                                       8GB Graph)\n",
       "903                                       4GB Graph)\n",
       "904                           [ 'Intel HD Graphics']\n",
       "905                                       4GB Graph)\n",
       "906                    [ 'Intel Integrated Iris Xe']\n",
       "907                    [ 'Intel Integrated Iris Xe']\n",
       "908                    [ 'Intel Integrated Iris Xe']\n",
       "909               [ 'Intel Integrated UHD Graphics']\n",
       "910                                       8GB Graph)\n",
       "911                                    8GB Graphics)\n",
       "912                              [ 'Intel Graphics']\n",
       "913                              [ 'Intel Graphics']\n",
       "914                              [ 'Intel Graphics']\n",
       "915                          [ 'Intel Arc Graphics']\n",
       "916                            [ 'Intel Integrated']\n",
       "917                                    8GB Graphics)\n",
       "918                                       4GB Graph)\n",
       "919                    [ 'Intel Integrated Iris Xe']\n",
       "920                      [ 'Intel Iris Xe Graphics']\n",
       "921                                    6GB Graphics)\n",
       "922                          [ 'Intel Arc Graphics']\n",
       "923                          [ 'Intel Arc Graphics']\n",
       "924                          [ 'Intel Arc Graphics']\n",
       "925                        [ 'Intel Integrated Arc']\n",
       "926                          [ 'Intel Arc Graphics']\n",
       "927                                       4GB Graph)\n",
       "928                          [ 'Intel Arc Graphics']\n",
       "929                          [ 'Intel Arc Graphics']\n",
       "930                          [ 'Intel Arc Graphics']\n",
       "931                                      12GB Graph)\n",
       "932                        [ 'Intel Integrated UHD']\n",
       "933                                       6GB Graph)\n",
       "934                          [ 'Intel Arc Graphics']\n",
       "935                          [ 'Intel Arc Graphics']\n",
       "936                                       4GB Graph)\n",
       "937              [ 'Intel Integrated Intel Iris Xe']\n",
       "938                                       4GB Graph)\n",
       "940                          [ 'Intel UHD Graphics']\n",
       "941                                       8GB Graph)\n",
       "942                         [ 'AMD Radeon Graphics']\n",
       "943                                       4GB Graph)\n",
       "944                          [ 'Intel UHD Graphics']\n",
       "945                         [ 'AMD Radeon Graphics']\n",
       "946                                  [ '14\\, inches]\n",
       "947                                       4GB Graph)\n",
       "948                          [ 'Intel Arc Graphics']\n",
       "949                          [ 'Intel Arc Graphics']\n",
       "950                      [ 'Intel Iris Xe Graphics']\n",
       "951                          [ 'Intel Arc Graphics']\n",
       "952                                        RTX 4090)\n",
       "953                                       6GB Graph)\n",
       "954               [ 'Integrated Intel UHD Graphics']\n",
       "955                                  [ 'AMD Radeon']\n",
       "956                                       6GB Graph)\n",
       "957                                       8GB Graph)\n",
       "958                          [ 'Intel Arc Graphics']\n",
       "959                                       8GB Graph)\n",
       "960                    [ 'Intel Integrated Iris Xe']\n",
       "961                        [ 'Intel Integrated UHD']\n",
       "962                                       8GB Graph)\n",
       "963                      [ 'Intel Iris Xe Graphics']\n",
       "964                          [ 'Intel Arc Graphics']\n",
       "965                          [ 'Intel Arc Graphics']\n",
       "966                      [ 'Intel Iris Xe Graphics']\n",
       "967           [ 'Integrated Intel Iris Xe Graphics']\n",
       "968           [ 'Integrated Intel Iris Xe Graphics']\n",
       "969                                   [ 'Linux OS']]\n",
       "970              [ '6\\, GB NVIDIA GeForce RTX 4050']\n",
       "971            [ 'Integrated Intel IrisXe Graphics']\n",
       "973                      [ 'Intel Iris Xe Graphics']\n",
       "974                         [ 'AMD Radeon Graphics']\n",
       "975                      [ 'Intel Iris Xe Graphics']\n",
       "976                                       4GB Graph)\n",
       "977                          [ 'Intel UHD Graphics']\n",
       "978                      [ 'Intel Iris Xe Graphics']\n",
       "979                      [ 'Intel Iris Xe Graphics']\n",
       "980               [ 'Integrated Intel UHD Graphics']\n",
       "981               [ 'Integrated Intel UHD Graphics']\n",
       "982                            [ '1 Year Warranty']]\n",
       "983                                       8GB Graph)\n",
       "984                          [ 'Intel UHD Graphics']\n",
       "985                            [ 'Intel Integrated']\n",
       "986                          [ 'Intel UHD Graphics']\n",
       "987                      [ 'Intel Iris Xe Graphics']\n",
       "988                      [ 'Intel Iris Xe Graphics']\n",
       "989                   [ 'Intel Integrated Graphics']\n",
       "990                    [ 'Intel Integrated Iris Xe']\n",
       "991                                       4GB Graph)\n",
       "992                      [ 'Intel Iris Xe Graphics']\n",
       "993               [ 'Intel Integrated UHD Graphics']\n",
       "994                                [ '16.2\\, inches]\n",
       "995                                [ '14.2\\, inches]\n",
       "996                                [ '16.2\\, inches]\n",
       "997                                [ '16.2\\, inches]\n",
       "998                                [ '14.2\\, inches]\n",
       "999                                [ '14.2\\, inches]\n",
       "1000                                      4GB Graph)\n",
       "1001                   [ 'Intel Integrated Iris Xe']\n",
       "1002                     [ 'Intel Iris Xe Graphics']\n",
       "1003                       [ 'Intel Integrated UHD']\n",
       "1004                       [ 'Intel Integrated UHD']\n",
       "1005                            [ 'AMD Radeon 610M']\n",
       "1006                                      6GB Graph)\n",
       "1007                         [ 'Intel UHD Graphics']\n",
       "1008                               [ 'AMD Graphics']\n",
       "1009                                      4GB Graph)\n",
       "1010                           [ 'Intel Integrated']\n",
       "1011                                      4GB Graph)\n",
       "1012                                 [ 'AMD Radeon']\n",
       "1014                         [ 'Intel UHD Graphics']\n",
       "1015                                      8GB Graph)\n",
       "1016                     [ 'Intel Iris Xe Graphics']\n",
       "1017                         [ 'Intel UHD Graphics']\n",
       "1019                           [ 'Intel Integrated']\n",
       "Name: graphics_card, dtype: object"
      ]
     },
     "execution_count": 69,
     "metadata": {},
     "output_type": "execute_result"
    }
   ],
   "source": [
    "temp_df['graphics_card']"
   ]
  },
  {
   "cell_type": "code",
   "execution_count": 70,
   "id": "49b0b676",
   "metadata": {},
   "outputs": [],
   "source": [
    "def extract_from_list(value):\n",
    "    if isinstance(value, list):\n",
    "        return ', '.join(str(item) for item in value)  # Join all list items with commas\n",
    "    return value"
   ]
  },
  {
   "cell_type": "code",
   "execution_count": 71,
   "id": "22b58942",
   "metadata": {},
   "outputs": [],
   "source": [
    "# Apply the function to the 'graphics_card' column\n",
    "temp_df['graphics_card'] = temp_df['graphics_card'].apply(extract_from_list)\n",
    "\n",
    "# Optionally, clean up extra spaces or characters (example)\n",
    "temp_df['graphics_card'] = temp_df['graphics_card'].str.strip()  # Remove leading/trailing spaces"
   ]
  },
  {
   "cell_type": "code",
   "execution_count": 72,
   "id": "993c6bd0",
   "metadata": {},
   "outputs": [
    {
     "name": "stderr",
     "output_type": "stream",
     "text": [
      "C:\\Users\\iampr\\AppData\\Local\\Temp\\ipykernel_8152\\227793616.py:1: FutureWarning: The default value of regex will change from True to False in a future version. In addition, single character regular expressions will *not* be treated as literal strings when regex=True.\n",
      "  temp_df['graphics_card'] = temp_df['graphics_card'].str.replace(\")\",\"\").str.replace(\"'\",\"\")\n"
     ]
    }
   ],
   "source": [
    "temp_df['graphics_card'] = temp_df['graphics_card'].str.replace(\")\",\"\").str.replace(\"'\",\"\")"
   ]
  },
  {
   "cell_type": "code",
   "execution_count": 73,
   "id": "fd0f20a3",
   "metadata": {},
   "outputs": [],
   "source": [
    "temp_df['graphics_card'] = temp_df['graphics_card'].str.replace(\"13.6\\, inches\", \"N/A\", regex=True)\n",
    "temp_df['graphics_card'] = temp_df['graphics_card'].str.replace(\"13.3\\, inches\", \"N/A\", regex=True)"
   ]
  },
  {
   "cell_type": "code",
   "execution_count": 74,
   "id": "73d987e5",
   "metadata": {},
   "outputs": [
    {
     "data": {
      "text/plain": [
       "4GB Graph                                  125\n",
       "8GB Graph                                   97\n",
       "6GB Graph                                   89\n",
       "Intel Iris Xe Graphics                      52\n",
       "Intel Integrated UHD                        45\n",
       "Intel UHD Graphics                          37\n",
       "Intel Integrated Iris Xe                    36\n",
       "Intel Arc Graphics                          30\n",
       "AMD Radeon AMD                              24\n",
       "AMD Radeon Graphics                         18\n",
       "12GB Graph                                  17\n",
       "Intel Integrated                            17\n",
       "Intel Graphics                              14\n",
       "6GB RTX3050 Graph                           12\n",
       "16GB Graph                                  11\n",
       "4GB Graphics                                11\n",
       "Intel Integrated UHD Graphics               10\n",
       "Integrated Intel UHD Graphics                9\n",
       "AMD Radeon                                   8\n",
       "8GB RTX4060                                  8\n",
       "4 GB Graphics                                8\n",
       "8GB Graphics                                 8\n",
       "Intel Iris Xe                                8\n",
       "4GB RTX 2050                                 8\n",
       "8GB RTX4070                                  7\n",
       "6GB RTX4050                                  7\n",
       "Intel Integrated Integrated                  7\n",
       "8GB RTX 4070 Graph                           7\n",
       "13.6\\, inches                                6\n",
       "6GB RTX3050                                  6\n",
       "6GB Graphics                                 5\n",
       "6GB RTX 4050                                 5\n",
       "2GB Graph                                    5\n",
       "4GB RTX3050 Graph                            5\n",
       "Intel Integrated Graphics                    4\n",
       "14\\, inches                                  4\n",
       "Integrated Intel Graphics                    4\n",
       "16.2\\, inches                                4\n",
       "AMD Graphics                                 4\n",
       "8GB RTX 4060 Graph                           4\n",
       "11.6\\, inches                                4\n",
       "13\\, inches                                  4\n",
       "4GB RTX 2050 Graph                           4\n",
       "Integrated Intel Arc Graphics                4\n",
       "Iris Xe Graphics                             3\n",
       "Intel Integrated Arc                         3\n",
       "Intel HD Graphics                            3\n",
       "RTX 4060 8GB Graph                           3\n",
       "RTX 3050 6GB Graph                           3\n",
       "6GB RTX4050 Graph                            3\n",
       "Intel Iris Xe Graphics comes                 3\n",
       "Intel Integrated Intel Arc                   3\n",
       "RTX 2050                                     3\n",
       "13.4\\, inches                                3\n",
       "\\u200eIntel Iris Xe Graphics                 3\n",
       "4GB RTX 3050                                 3\n",
       "RTX 3050A                                    3\n",
       "Intel Integrated Intel Iris Xe Graphics      3\n",
       "14.2\\, inches                                3\n",
       "6GB RTX 3050 Graph                           3\n",
       "Intel Integrated ARC Graphics                2\n",
       "Intel Iris XE Graphics                       2\n",
       "RTX 4050                                     2\n",
       "6GB RTX3050 Graphics                         2\n",
       "256\\, GB SSD                                 2\n",
       "16GB RTX 4090 Graph                          2\n",
       "15\\, inches                                  2\n",
       "8GB Graphics RTX 4060                        2\n",
       "RTX 4060 8GB Graphics                        2\n",
       "AMD Radeon 610M Graphics                     2\n",
       "\\u200eIntel UHD Graphics                     2\n",
       "Intel UHD                                    2\n",
       "Intel UHD Graphics 600                       2\n",
       "6GB RTX 3050 Graphics                        2\n",
       "6GB RTX 4050 Graphics                        2\n",
       "Integrated Intel Iris Xe Graphics            2\n",
       "16GB Graphics RTX 4090                       2\n",
       "Intel Integrated Iris                        2\n",
       "15.3\\, inches                                2\n",
       "RTX 4060                                     2\n",
       "13.3\\, inches                                2\n",
       "RTX 4090                                     2\n",
       "Integrated Intel IrisXe Graphics             2\n",
       "Intel Integrated Arc Graphics                2\n",
       "4GB RTX3050                                  2\n",
       "Intel Integrated Intel UHD Graphics          2\n",
       "4GB  RTX 3050 Graph                          2\n",
       "Linux OS]                                    1\n",
       "Intel Iris Plus                              1\n",
       "3840\\, x\\, 2160\\, pixels                     1\n",
       "Intel HD                                     1\n",
       "1 Year Warranty]                             1\n",
       "6\\, GB NVIDIA GeForce RTX 4050               1\n",
       "2240\\, x\\, 1400\\, pixels                     1\n",
       "RTX 4050 6GB Graphics                        1\n",
       "Intel Integrated Intel Iris Xe               1\n",
       "13.8\\, inches                                1\n",
       "12GB RTX 4080 Graph                          1\n",
       "4\\, GB NVIDIA RTX A500                       1\n",
       "AMD Radeon Vega 8                            1\n",
       "8GB RTX4070 Graph                            1\n",
       "6GB RTX 4050 Graph                           1\n",
       "4GB RTX2050                                  1\n",
       "Intel Integrated Intel Graphics              1\n",
       "Intel Iris Xᵉ Graphics                       1\n",
       "AMD Radeon Vega 7 Graphics                   1\n",
       "2880\\, x\\, 1800\\, pixels                     1\n",
       "Intel Integrated UHD 600                     1\n",
       "2560\\, x\\, 1600\\, pixels                     1\n",
       "3840\\, x\\, 2400\\, pixels                     1\n",
       "14.5\\, inches                                1\n",
       "Integrated AMD Radeon Graphics               1\n",
       "6GB Graph RTX 3050                           1\n",
       "Intel Arc Graphic                            1\n",
       "Intel ARC Graphics                           1\n",
       "AMD Radeon Radeon Graphics                   1\n",
       "RTX 4080                                     1\n",
       "6 GB Graphics                                1\n",
       "Intel  Graphics                              1\n",
       "Intel Integarted Graphics                    1\n",
       "2304\\, x\\, 1536\\, pixels                     1\n",
       "Intel  ARC Graphics                          1\n",
       "Intel integrated                             1\n",
       "AMD Radeon Radeon                            1\n",
       "AMD Integrated                               1\n",
       "1920\\, x\\, 1080\\, pixels                     1\n",
       "\\u200eAMD Integrated                         1\n",
       "AMD Radeon 610M                              1\n",
       "Name: graphics_card, dtype: int64"
      ]
     },
     "execution_count": 74,
     "metadata": {},
     "output_type": "execute_result"
    }
   ],
   "source": [
    "temp_df['graphics_card'].value_counts()"
   ]
  },
  {
   "cell_type": "code",
   "execution_count": 75,
   "id": "3fab89c2",
   "metadata": {},
   "outputs": [],
   "source": [
    "temp_df['graphics_card'] = temp_df['graphics_card'].str.lower()"
   ]
  },
  {
   "cell_type": "code",
   "execution_count": 76,
   "id": "5e83fddf",
   "metadata": {},
   "outputs": [
    {
     "data": {
      "text/plain": [
       "4gb graph                                  125\n",
       "8gb graph                                   97\n",
       "6gb graph                                   89\n",
       "intel iris xe graphics                      54\n",
       "intel integrated uhd                        45\n",
       "intel uhd graphics                          37\n",
       "intel integrated iris xe                    36\n",
       "intel arc graphics                          31\n",
       "amd radeon amd                              24\n",
       "amd radeon graphics                         18\n",
       "intel integrated                            18\n",
       "12gb graph                                  17\n",
       "intel graphics                              14\n",
       "6gb rtx3050 graph                           12\n",
       "16gb graph                                  11\n",
       "4gb graphics                                11\n",
       "intel integrated uhd graphics               10\n",
       "integrated intel uhd graphics                9\n",
       "8gb graphics                                 8\n",
       "4gb rtx 2050                                 8\n",
       "amd radeon                                   8\n",
       "intel iris xe                                8\n",
       "8gb rtx4060                                  8\n",
       "4 gb graphics                                8\n",
       "8gb rtx 4070 graph                           7\n",
       "intel integrated integrated                  7\n",
       "8gb rtx4070                                  7\n",
       "6gb rtx4050                                  7\n",
       "13.6\\, inches                                6\n",
       "6gb rtx3050                                  6\n",
       "4gb rtx3050 graph                            5\n",
       "2gb graph                                    5\n",
       "6gb graphics                                 5\n",
       "6gb rtx 4050                                 5\n",
       "13\\, inches                                  4\n",
       "16.2\\, inches                                4\n",
       "integrated intel graphics                    4\n",
       "amd graphics                                 4\n",
       "14\\, inches                                  4\n",
       "intel integrated graphics                    4\n",
       "intel integrated arc graphics                4\n",
       "integrated intel arc graphics                4\n",
       "8gb rtx 4060 graph                           4\n",
       "11.6\\, inches                                4\n",
       "4gb rtx 2050 graph                           4\n",
       "iris xe graphics                             3\n",
       "intel integrated intel arc                   3\n",
       "6gb rtx4050 graph                            3\n",
       "rtx 3050 6gb graph                           3\n",
       "rtx 4060 8gb graph                           3\n",
       "intel hd graphics                            3\n",
       "6gb rtx 3050 graph                           3\n",
       "14.2\\, inches                                3\n",
       "intel integrated arc                         3\n",
       "4gb rtx 3050                                 3\n",
       "intel iris xe graphics comes                 3\n",
       "\\u200eintel iris xe graphics                 3\n",
       "rtx 2050                                     3\n",
       "intel integrated intel iris xe graphics      3\n",
       "rtx 3050a                                    3\n",
       "13.4\\, inches                                3\n",
       "rtx 4050                                     2\n",
       "13.3\\, inches                                2\n",
       "\\u200eintel uhd graphics                     2\n",
       "amd radeon 610m graphics                     2\n",
       "15\\, inches                                  2\n",
       "16gb rtx 4090 graph                          2\n",
       "intel uhd                                    2\n",
       "rtx 4060 8gb graphics                        2\n",
       "256\\, gb ssd                                 2\n",
       "8gb graphics rtx 4060                        2\n",
       "6gb rtx3050 graphics                         2\n",
       "16gb graphics rtx 4090                       2\n",
       "intel uhd graphics 600                       2\n",
       "4gb rtx3050                                  2\n",
       "15.3\\, inches                                2\n",
       "6gb rtx 3050 graphics                        2\n",
       "intel integrated iris                        2\n",
       "rtx 4090                                     2\n",
       "integrated intel irisxe graphics             2\n",
       "6gb rtx 4050 graphics                        2\n",
       "rtx 4060                                     2\n",
       "intel integrated intel uhd graphics          2\n",
       "4gb  rtx 3050 graph                          2\n",
       "integrated intel iris xe graphics            2\n",
       "3840\\, x\\, 2160\\, pixels                     1\n",
       "rtx 4050 6gb graphics                        1\n",
       "intel integrated intel iris xe               1\n",
       "intel iris plus                              1\n",
       "4\\, gb nvidia rtx a500                       1\n",
       "intel hd                                     1\n",
       "13.8\\, inches                                1\n",
       "2240\\, x\\, 1400\\, pixels                     1\n",
       "linux os]                                    1\n",
       "6\\, gb nvidia geforce rtx 4050               1\n",
       "12gb rtx 4080 graph                          1\n",
       "8gb rtx4070 graph                            1\n",
       "6gb rtx 4050 graph                           1\n",
       "1 year warranty]                             1\n",
       "4gb rtx2050                                  1\n",
       "amd radeon vega 8                            1\n",
       "intel iris xᵉ graphics                       1\n",
       "2880\\, x\\, 1800\\, pixels                     1\n",
       "intel integrated uhd 600                     1\n",
       "2560\\, x\\, 1600\\, pixels                     1\n",
       "3840\\, x\\, 2400\\, pixels                     1\n",
       "14.5\\, inches                                1\n",
       "integrated amd radeon graphics               1\n",
       "6gb graph rtx 3050                           1\n",
       "intel arc graphic                            1\n",
       "intel integrated intel graphics              1\n",
       "amd radeon radeon graphics                   1\n",
       "rtx 4080                                     1\n",
       "6 gb graphics                                1\n",
       "intel  graphics                              1\n",
       "intel integarted graphics                    1\n",
       "2304\\, x\\, 1536\\, pixels                     1\n",
       "intel  arc graphics                          1\n",
       "amd radeon radeon                            1\n",
       "amd integrated                               1\n",
       "1920\\, x\\, 1080\\, pixels                     1\n",
       "\\u200eamd integrated                         1\n",
       "amd radeon vega 7 graphics                   1\n",
       "amd radeon 610m                              1\n",
       "Name: graphics_card, dtype: int64"
      ]
     },
     "execution_count": 76,
     "metadata": {},
     "output_type": "execute_result"
    }
   ],
   "source": [
    "temp_df['graphics_card'].value_counts()"
   ]
  },
  {
   "cell_type": "code",
   "execution_count": 77,
   "id": "010c2e77",
   "metadata": {},
   "outputs": [
    {
     "data": {
      "text/html": [
       "<div>\n",
       "<style scoped>\n",
       "    .dataframe tbody tr th:only-of-type {\n",
       "        vertical-align: middle;\n",
       "    }\n",
       "\n",
       "    .dataframe tbody tr th {\n",
       "        vertical-align: top;\n",
       "    }\n",
       "\n",
       "    .dataframe thead th {\n",
       "        text-align: right;\n",
       "    }\n",
       "</style>\n",
       "<table border=\"1\" class=\"dataframe\">\n",
       "  <thead>\n",
       "    <tr style=\"text-align: right;\">\n",
       "      <th></th>\n",
       "      <th>productName</th>\n",
       "      <th>price</th>\n",
       "      <th>rating</th>\n",
       "      <th>specScore</th>\n",
       "      <th>features</th>\n",
       "      <th>brand</th>\n",
       "      <th>processors</th>\n",
       "      <th>ram</th>\n",
       "      <th>storage</th>\n",
       "      <th>os</th>\n",
       "      <th>graphics_card</th>\n",
       "      <th>warranty</th>\n",
       "      <th>resolution</th>\n",
       "      <th>cores</th>\n",
       "    </tr>\n",
       "  </thead>\n",
       "  <tbody>\n",
       "    <tr>\n",
       "      <th>707</th>\n",
       "      <td>Microsoft Surface Laptop 7 ‎ZXX-00059 (Snapdragon X Elite/ 16GB/ 1TB SSD/ Win11)</td>\n",
       "      <td>170990.0</td>\n",
       "      <td>4.35</td>\n",
       "      <td>46.0</td>\n",
       "      <td>['Qualcomm Snapdragon X Elite', '12 Cores', '16\\u2009GB  RAM', '1\\u2009TB SSD', 'Qualcomm Adreno GPU', '13.8\\u2009inches, 2304\\u2009x\\u20091536\\u2009pixels, Touch Screen', 'Windows 11 OS', '1 Year Warranty']</td>\n",
       "      <td>microsoft</td>\n",
       "      <td>Intel Core 7 Processor 150U</td>\n",
       "      <td>16GB</td>\n",
       "      <td>512GB SSD</td>\n",
       "      <td>Win11)</td>\n",
       "      <td>13.8\\, inches</td>\n",
       "      <td>1</td>\n",
       "      <td>Touch Screen'</td>\n",
       "      <td>'12 Cores'</td>\n",
       "    </tr>\n",
       "  </tbody>\n",
       "</table>\n",
       "</div>"
      ],
      "text/plain": [
       "                                                                          productName  \\\n",
       "707  Microsoft Surface Laptop 7 ‎ZXX-00059 (Snapdragon X Elite/ 16GB/ 1TB SSD/ Win11)   \n",
       "\n",
       "        price  rating  specScore  \\\n",
       "707  170990.0    4.35       46.0   \n",
       "\n",
       "                                                                                                                                                                                                            features  \\\n",
       "707  ['Qualcomm Snapdragon X Elite', '12 Cores', '16\\u2009GB  RAM', '1\\u2009TB SSD', 'Qualcomm Adreno GPU', '13.8\\u2009inches, 2304\\u2009x\\u20091536\\u2009pixels, Touch Screen', 'Windows 11 OS', '1 Year Warranty']   \n",
       "\n",
       "         brand                   processors    ram     storage       os  \\\n",
       "707  microsoft  Intel Core 7 Processor 150U   16GB   512GB SSD   Win11)   \n",
       "\n",
       "     graphics_card warranty      resolution        cores  \n",
       "707  13.8\\, inches        1   Touch Screen'   '12 Cores'  "
      ]
     },
     "execution_count": 77,
     "metadata": {},
     "output_type": "execute_result"
    }
   ],
   "source": [
    "temp_df[temp_df['graphics_card'] == \"13.8\\, inches\"]"
   ]
  },
  {
   "cell_type": "code",
   "execution_count": 78,
   "id": "6764be1c",
   "metadata": {},
   "outputs": [],
   "source": [
    "temp_df['graphics_card'] = temp_df['graphics_card'].replace('13.6, inches', 'Apple 8 Core GPU')\n",
    "temp_df['graphics_card'] = temp_df['graphics_card'].replace('13.3, inches', 'Apple M1 Integrated Graphics')\n",
    "temp_df['graphics_card'] = temp_df['graphics_card'].replace('13\\, inches', 'Qualcomm Adreno GPU')\n",
    "temp_df['graphics_card'] = temp_df['graphics_card'].replace('13.4\\, inches', 'Qualcomm Adreno GPU')\n",
    "temp_df['graphics_card'] = temp_df['graphics_card'].replace('15\\, inches', 'Qualcomm Adreno GPU')\n",
    "temp_df['graphics_card'] = temp_df['graphics_card'].replace('14.5\\, inches', 'Qualcomm Adreno GPU')\n",
    "temp_df['graphics_card'] = temp_df['graphics_card'].replace('15.3, inches', 'Apple 10 Core GPU')\n",
    "temp_df['graphics_card'] = temp_df['graphics_card'].replace('13.6\\, inches', 'Apple 8 Core GPU')\n",
    "temp_df['graphics_card'] = temp_df['graphics_card'].replace('11.6\\, inches', 'Arm Mali-G72')\n",
    "temp_df['graphics_card'] = temp_df['graphics_card'].replace('15.3\\, inches', 'Apple 10 Core GPU')\n",
    "temp_df['graphics_card'] = temp_df['graphics_card'].replace('13.8\\, inches', 'Qualcomm Adreno GPU')"
   ]
  },
  {
   "cell_type": "code",
   "execution_count": 79,
   "id": "e2de1f11",
   "metadata": {},
   "outputs": [
    {
     "data": {
      "text/plain": [
       "4gb graph                                  125\n",
       "8gb graph                                   97\n",
       "6gb graph                                   89\n",
       "intel iris xe graphics                      54\n",
       "intel integrated uhd                        45\n",
       "intel uhd graphics                          37\n",
       "intel integrated iris xe                    36\n",
       "intel arc graphics                          31\n",
       "amd radeon amd                              24\n",
       "amd radeon graphics                         18\n",
       "intel integrated                            18\n",
       "12gb graph                                  17\n",
       "intel graphics                              14\n",
       "6gb rtx3050 graph                           12\n",
       "4gb graphics                                11\n",
       "16gb graph                                  11\n",
       "Qualcomm Adreno GPU                         11\n",
       "intel integrated uhd graphics               10\n",
       "integrated intel uhd graphics                9\n",
       "8gb graphics                                 8\n",
       "amd radeon                                   8\n",
       "4 gb graphics                                8\n",
       "8gb rtx4060                                  8\n",
       "4gb rtx 2050                                 8\n",
       "intel iris xe                                8\n",
       "6gb rtx4050                                  7\n",
       "8gb rtx 4070 graph                           7\n",
       "8gb rtx4070                                  7\n",
       "intel integrated integrated                  7\n",
       "6gb rtx3050                                  6\n",
       "Apple 8 Core GPU                             6\n",
       "6gb rtx 4050                                 5\n",
       "4gb rtx3050 graph                            5\n",
       "2gb graph                                    5\n",
       "6gb graphics                                 5\n",
       "integrated intel arc graphics                4\n",
       "integrated intel graphics                    4\n",
       "14\\, inches                                  4\n",
       "16.2\\, inches                                4\n",
       "amd graphics                                 4\n",
       "Arm Mali-G72                                 4\n",
       "intel integrated graphics                    4\n",
       "4gb rtx 2050 graph                           4\n",
       "intel integrated arc graphics                4\n",
       "8gb rtx 4060 graph                           4\n",
       "intel integrated arc                         3\n",
       "4gb rtx 3050                                 3\n",
       "iris xe graphics                             3\n",
       "intel hd graphics                            3\n",
       "rtx 4060 8gb graph                           3\n",
       "\\u200eintel iris xe graphics                 3\n",
       "rtx 2050                                     3\n",
       "rtx 3050 6gb graph                           3\n",
       "6gb rtx4050 graph                            3\n",
       "14.2\\, inches                                3\n",
       "intel integrated intel iris xe graphics      3\n",
       "rtx 3050a                                    3\n",
       "intel integrated intel arc                   3\n",
       "6gb rtx 3050 graph                           3\n",
       "intel iris xe graphics comes                 3\n",
       "\\u200eintel uhd graphics                     2\n",
       "16gb rtx 4090 graph                          2\n",
       "amd radeon 610m graphics                     2\n",
       "4gb  rtx 3050 graph                          2\n",
       "intel uhd                                    2\n",
       "256\\, gb ssd                                 2\n",
       "6gb rtx3050 graphics                         2\n",
       "rtx 4060 8gb graphics                        2\n",
       "8gb graphics rtx 4060                        2\n",
       "rtx 4050                                     2\n",
       "intel uhd graphics 600                       2\n",
       "6gb rtx 3050 graphics                        2\n",
       "6gb rtx 4050 graphics                        2\n",
       "13.3\\, inches                                2\n",
       "rtx 4060                                     2\n",
       "intel integrated iris                        2\n",
       "integrated intel iris xe graphics            2\n",
       "Apple 10 Core GPU                            2\n",
       "16gb graphics rtx 4090                       2\n",
       "integrated intel irisxe graphics             2\n",
       "4gb rtx3050                                  2\n",
       "intel integrated intel uhd graphics          2\n",
       "rtx 4090                                     2\n",
       "12gb rtx 4080 graph                          1\n",
       "1 year warranty]                             1\n",
       "intel hd                                     1\n",
       "intel iris plus                              1\n",
       "8gb rtx4070 graph                            1\n",
       "3840\\, x\\, 2160\\, pixels                     1\n",
       "6\\, gb nvidia geforce rtx 4050               1\n",
       "4\\, gb nvidia rtx a500                       1\n",
       "rtx 4050 6gb graphics                        1\n",
       "linux os]                                    1\n",
       "6gb rtx 4050 graph                           1\n",
       "2240\\, x\\, 1400\\, pixels                     1\n",
       "amd radeon vega 8                            1\n",
       "intel integrated intel iris xe               1\n",
       "4gb rtx2050                                  1\n",
       "intel iris xᵉ graphics                       1\n",
       "amd radeon vega 7 graphics                   1\n",
       "2880\\, x\\, 1800\\, pixels                     1\n",
       "intel integrated uhd 600                     1\n",
       "2560\\, x\\, 1600\\, pixels                     1\n",
       "3840\\, x\\, 2400\\, pixels                     1\n",
       "integrated amd radeon graphics               1\n",
       "6gb graph rtx 3050                           1\n",
       "intel arc graphic                            1\n",
       "intel integrated intel graphics              1\n",
       "amd radeon radeon graphics                   1\n",
       "rtx 4080                                     1\n",
       "6 gb graphics                                1\n",
       "intel  graphics                              1\n",
       "intel integarted graphics                    1\n",
       "2304\\, x\\, 1536\\, pixels                     1\n",
       "intel  arc graphics                          1\n",
       "amd radeon radeon                            1\n",
       "amd integrated                               1\n",
       "1920\\, x\\, 1080\\, pixels                     1\n",
       "\\u200eamd integrated                         1\n",
       "amd radeon 610m                              1\n",
       "Name: graphics_card, dtype: int64"
      ]
     },
     "execution_count": 79,
     "metadata": {},
     "output_type": "execute_result"
    }
   ],
   "source": [
    "temp_df['graphics_card'].value_counts()"
   ]
  },
  {
   "cell_type": "code",
   "execution_count": 80,
   "id": "85ca550a",
   "metadata": {},
   "outputs": [],
   "source": [
    "# --> need to chaneg them differently\n",
    "\n",
    "# temp_df[temp_df['graphics_card'] == \"16.2\\, inches\"]\n",
    "# temp_df[temp_df['graphics_card'] == \"14\\, inches\"]\n",
    "# temp_df[temp_df['graphics_card'] == \"11.6\\, inches\"]\n",
    "# temp_df[temp_df['graphics_card'] == \"14.2\\, inches\"]"
   ]
  },
  {
   "cell_type": "code",
   "execution_count": 81,
   "id": "af52d670",
   "metadata": {},
   "outputs": [
    {
     "data": {
      "text/plain": [
       "79      ['Apple M3 Max', '16 Cores (12P + 4E)', '48\\u2009GB  RAM', '1\\u2009TB SSD', '40 Core GPU', '16.2\\u2009inches, 3456\\u2009x\\u20092234\\u2009pixels', 'Mac OS', '1 Year Warranty']\n",
       "994    ['Apple M3 Pro', '12 Cores (6P + 6E)', '18\\u2009GB  RAM', '512\\u2009GB SSD', '18 Core GPU', '16.2\\u2009inches, 3456\\u2009x\\u20092234\\u2009pixels', 'Mac OS', '1 Year Warranty']\n",
       "996     ['Apple M3 Max', '14 Cores (10P + 4E)', '36\\u2009GB  RAM', '1\\u2009TB SSD', '30 Core GPU', '16.2\\u2009inches, 3456\\u2009x\\u20092234\\u2009pixels', 'Mac OS', '1 Year Warranty']\n",
       "997    ['Apple M3 Pro', '12 Cores (6P + 6E)', '36\\u2009GB  RAM', '512\\u2009GB SSD', '18 Core GPU', '16.2\\u2009inches, 3456\\u2009x\\u20092234\\u2009pixels', 'Mac OS', '1 Year Warranty']\n",
       "Name: features, dtype: object"
      ]
     },
     "execution_count": 81,
     "metadata": {},
     "output_type": "execute_result"
    }
   ],
   "source": [
    "temp_df[temp_df['graphics_card'] == \"16.2\\, inches\"]['features']"
   ]
  },
  {
   "cell_type": "code",
   "execution_count": 82,
   "id": "71757d86",
   "metadata": {},
   "outputs": [
    {
     "data": {
      "text/plain": [
       "4gb graph                                  125\n",
       "8gb graph                                   97\n",
       "6gb graph                                   89\n",
       "intel iris xe graphics                      54\n",
       "intel integrated uhd                        45\n",
       "intel uhd graphics                          37\n",
       "intel integrated iris xe                    36\n",
       "intel arc graphics                          31\n",
       "amd radeon amd                              24\n",
       "amd radeon graphics                         18\n",
       "intel integrated                            18\n",
       "12gb graph                                  17\n",
       "intel graphics                              14\n",
       "6gb rtx3050 graph                           12\n",
       "4gb graphics                                11\n",
       "16gb graph                                  11\n",
       "Qualcomm Adreno GPU                         11\n",
       "intel integrated uhd graphics               10\n",
       "integrated intel uhd graphics                9\n",
       "8gb graphics                                 8\n",
       "amd radeon                                   8\n",
       "4 gb graphics                                8\n",
       "8gb rtx4060                                  8\n",
       "4gb rtx 2050                                 8\n",
       "intel iris xe                                8\n",
       "6gb rtx4050                                  7\n",
       "8gb rtx 4070 graph                           7\n",
       "8gb rtx4070                                  7\n",
       "intel integrated integrated                  7\n",
       "6gb rtx3050                                  6\n",
       "Apple 8 Core GPU                             6\n",
       "6gb rtx 4050                                 5\n",
       "4gb rtx3050 graph                            5\n",
       "2gb graph                                    5\n",
       "6gb graphics                                 5\n",
       "integrated intel arc graphics                4\n",
       "integrated intel graphics                    4\n",
       "14\\, inches                                  4\n",
       "16.2\\, inches                                4\n",
       "amd graphics                                 4\n",
       "Arm Mali-G72                                 4\n",
       "intel integrated graphics                    4\n",
       "4gb rtx 2050 graph                           4\n",
       "intel integrated arc graphics                4\n",
       "8gb rtx 4060 graph                           4\n",
       "intel integrated arc                         3\n",
       "4gb rtx 3050                                 3\n",
       "iris xe graphics                             3\n",
       "intel hd graphics                            3\n",
       "rtx 4060 8gb graph                           3\n",
       "\\u200eintel iris xe graphics                 3\n",
       "rtx 2050                                     3\n",
       "rtx 3050 6gb graph                           3\n",
       "6gb rtx4050 graph                            3\n",
       "14.2\\, inches                                3\n",
       "intel integrated intel iris xe graphics      3\n",
       "rtx 3050a                                    3\n",
       "intel integrated intel arc                   3\n",
       "6gb rtx 3050 graph                           3\n",
       "intel iris xe graphics comes                 3\n",
       "\\u200eintel uhd graphics                     2\n",
       "16gb rtx 4090 graph                          2\n",
       "amd radeon 610m graphics                     2\n",
       "4gb  rtx 3050 graph                          2\n",
       "intel uhd                                    2\n",
       "256\\, gb ssd                                 2\n",
       "6gb rtx3050 graphics                         2\n",
       "rtx 4060 8gb graphics                        2\n",
       "8gb graphics rtx 4060                        2\n",
       "rtx 4050                                     2\n",
       "intel uhd graphics 600                       2\n",
       "6gb rtx 3050 graphics                        2\n",
       "6gb rtx 4050 graphics                        2\n",
       "13.3\\, inches                                2\n",
       "rtx 4060                                     2\n",
       "intel integrated iris                        2\n",
       "integrated intel iris xe graphics            2\n",
       "Apple 10 Core GPU                            2\n",
       "16gb graphics rtx 4090                       2\n",
       "integrated intel irisxe graphics             2\n",
       "4gb rtx3050                                  2\n",
       "intel integrated intel uhd graphics          2\n",
       "rtx 4090                                     2\n",
       "12gb rtx 4080 graph                          1\n",
       "1 year warranty]                             1\n",
       "intel hd                                     1\n",
       "intel iris plus                              1\n",
       "8gb rtx4070 graph                            1\n",
       "3840\\, x\\, 2160\\, pixels                     1\n",
       "6\\, gb nvidia geforce rtx 4050               1\n",
       "4\\, gb nvidia rtx a500                       1\n",
       "rtx 4050 6gb graphics                        1\n",
       "linux os]                                    1\n",
       "6gb rtx 4050 graph                           1\n",
       "2240\\, x\\, 1400\\, pixels                     1\n",
       "amd radeon vega 8                            1\n",
       "intel integrated intel iris xe               1\n",
       "4gb rtx2050                                  1\n",
       "intel iris xᵉ graphics                       1\n",
       "amd radeon vega 7 graphics                   1\n",
       "2880\\, x\\, 1800\\, pixels                     1\n",
       "intel integrated uhd 600                     1\n",
       "2560\\, x\\, 1600\\, pixels                     1\n",
       "3840\\, x\\, 2400\\, pixels                     1\n",
       "integrated amd radeon graphics               1\n",
       "6gb graph rtx 3050                           1\n",
       "intel arc graphic                            1\n",
       "intel integrated intel graphics              1\n",
       "amd radeon radeon graphics                   1\n",
       "rtx 4080                                     1\n",
       "6 gb graphics                                1\n",
       "intel  graphics                              1\n",
       "intel integarted graphics                    1\n",
       "2304\\, x\\, 1536\\, pixels                     1\n",
       "intel  arc graphics                          1\n",
       "amd radeon radeon                            1\n",
       "amd integrated                               1\n",
       "1920\\, x\\, 1080\\, pixels                     1\n",
       "\\u200eamd integrated                         1\n",
       "amd radeon 610m                              1\n",
       "Name: graphics_card, dtype: int64"
      ]
     },
     "execution_count": 82,
     "metadata": {},
     "output_type": "execute_result"
    }
   ],
   "source": [
    "temp_df['graphics_card'].value_counts()"
   ]
  },
  {
   "cell_type": "code",
   "execution_count": 83,
   "id": "241f8835",
   "metadata": {},
   "outputs": [],
   "source": [
    "# \\u200eintel iris xe graphics = intel iris xe graphics\n",
    "# \\u200eintel uhd graphics = intel uhd graphics\n",
    "# 256\\, gb ssd = Not available\n",
    "# 3840\\, x\\, 2160\\, pixels = Not available\n",
    "# 6\\, gb nvidia geforce rtx 4050 = gb nvidia geforce rtx 4050\n",
    "# 4\\, gb nvidia rtx a500 = gb nvidia rtx a500\n",
    "# linux os] = Not available\n",
    "# 2240\\, x\\, 1400\\, pixels = Not available\n",
    "# 2880\\, x\\, 1800\\, pixels = Not available\n",
    "# 2560\\, x\\, 1600\\, pixels= Not available\n",
    "# 3840\\, x\\, 2400\\, pixels= Not available\n",
    "# 2304\\, x\\, 1536\\, pixels= Not available\n",
    "# 1920\\, x\\, 1080\\, pixels = Not available\n",
    "# \\u200eamd integrated = amd integrated"
   ]
  },
  {
   "cell_type": "code",
   "execution_count": 84,
   "id": "b714c56a",
   "metadata": {},
   "outputs": [],
   "source": [
    "# Define the replacements using regex patterns\n",
    "replacements = {\n",
    "    r'\\u200eintel iris xe graphics': 'intel iris xe graphics',\n",
    "    r'\\u200eintel uhd graphics': 'intel uhd graphics',\n",
    "    r'256\\\\, gb ssd': 'Not available',\n",
    "    r'3840\\\\, x\\\\, 2160\\\\, pixels': 'Not available',\n",
    "    r'6\\\\, gb nvidia geforce rtx 4050': 'gb nvidia geforce rtx 4050',\n",
    "    r'4\\\\, gb nvidia rtx a500': 'gb nvidia rtx a500',\n",
    "    r'linux os\\]': 'Not available',\n",
    "    r'2240\\\\, x\\\\, 1400\\\\, pixels': 'Not available',\n",
    "    r'2880\\\\, x\\\\, 1800\\\\, pixels': 'Not available',\n",
    "    r'2560\\\\, x\\\\, 1600\\\\, pixels': 'Not available',\n",
    "    r'3840\\\\, x\\\\, 2400\\\\, pixels': 'Not available',\n",
    "    r'2304\\\\, x\\\\, 1536\\\\, pixels': 'Not available',\n",
    "    r'1920\\\\, x\\\\, 1080\\\\, pixels': 'Not available',\n",
    "    r'\\u200eamd integrated': 'amd integrated'\n",
    "}\n",
    "\n",
    "# Normalize unicode and special characters\n",
    "def preprocess_text(text):\n",
    "    # Remove Unicode left-to-right embedding\n",
    "    text = text.replace('\\u200e', '')\n",
    "    # Replace escaped commas with normal commas\n",
    "    text = text.replace('\\\\,', ',')\n",
    "    return text\n",
    "\n",
    "# Apply preprocessing\n",
    "temp_df['graphics_card'] = temp_df['graphics_card'].apply(preprocess_text)\n",
    "\n",
    "# Apply replacements using regex\n",
    "for old, new in replacements.items():\n",
    "    temp_df['graphics_card'] = temp_df['graphics_card'].replace(old, new, regex=True)"
   ]
  },
  {
   "cell_type": "code",
   "execution_count": 85,
   "id": "bc1b992b",
   "metadata": {},
   "outputs": [
    {
     "data": {
      "text/plain": [
       "4gb graph                                  125\n",
       "8gb graph                                   97\n",
       "6gb graph                                   89\n",
       "intel iris xe graphics                      54\n",
       "intel integrated uhd                        45\n",
       "intel uhd graphics                          37\n",
       "intel integrated iris xe                    36\n",
       "intel arc graphics                          31\n",
       "amd radeon amd                              24\n",
       "amd radeon graphics                         18\n",
       "intel integrated                            18\n",
       "12gb graph                                  17\n",
       "intel graphics                              14\n",
       "6gb rtx3050 graph                           12\n",
       "4gb graphics                                11\n",
       "16gb graph                                  11\n",
       "Qualcomm Adreno GPU                         11\n",
       "intel integrated uhd graphics               10\n",
       "integrated intel uhd graphics                9\n",
       "8gb graphics                                 8\n",
       "amd radeon                                   8\n",
       "4 gb graphics                                8\n",
       "8gb rtx4060                                  8\n",
       "4gb rtx 2050                                 8\n",
       "intel iris xe                                8\n",
       "6gb rtx4050                                  7\n",
       "8gb rtx 4070 graph                           7\n",
       "8gb rtx4070                                  7\n",
       "intel integrated integrated                  7\n",
       "6gb rtx3050                                  6\n",
       "Apple 8 Core GPU                             6\n",
       "6gb rtx 4050                                 5\n",
       "4gb rtx3050 graph                            5\n",
       "2gb graph                                    5\n",
       "6gb graphics                                 5\n",
       "integrated intel arc graphics                4\n",
       "integrated intel graphics                    4\n",
       "14, inches                                   4\n",
       "16.2, inches                                 4\n",
       "amd graphics                                 4\n",
       "Arm Mali-G72                                 4\n",
       "intel integrated graphics                    4\n",
       "4gb rtx 2050 graph                           4\n",
       "intel integrated arc graphics                4\n",
       "8gb rtx 4060 graph                           4\n",
       "intel integrated arc                         3\n",
       "4gb rtx 3050                                 3\n",
       "iris xe graphics                             3\n",
       "intel hd graphics                            3\n",
       "rtx 4060 8gb graph                           3\n",
       "\\u200eintel iris xe graphics                 3\n",
       "rtx 2050                                     3\n",
       "rtx 3050 6gb graph                           3\n",
       "6gb rtx4050 graph                            3\n",
       "14.2, inches                                 3\n",
       "intel integrated intel iris xe graphics      3\n",
       "rtx 3050a                                    3\n",
       "intel integrated intel arc                   3\n",
       "6gb rtx 3050 graph                           3\n",
       "intel iris xe graphics comes                 3\n",
       "\\u200eintel uhd graphics                     2\n",
       "16gb rtx 4090 graph                          2\n",
       "amd radeon 610m graphics                     2\n",
       "4gb  rtx 3050 graph                          2\n",
       "intel uhd                                    2\n",
       "256, gb ssd                                  2\n",
       "6gb rtx3050 graphics                         2\n",
       "rtx 4060 8gb graphics                        2\n",
       "8gb graphics rtx 4060                        2\n",
       "rtx 4050                                     2\n",
       "intel uhd graphics 600                       2\n",
       "6gb rtx 3050 graphics                        2\n",
       "6gb rtx 4050 graphics                        2\n",
       "13.3, inches                                 2\n",
       "rtx 4060                                     2\n",
       "intel integrated iris                        2\n",
       "integrated intel iris xe graphics            2\n",
       "Apple 10 Core GPU                            2\n",
       "16gb graphics rtx 4090                       2\n",
       "integrated intel irisxe graphics             2\n",
       "4gb rtx3050                                  2\n",
       "intel integrated intel uhd graphics          2\n",
       "rtx 4090                                     2\n",
       "12gb rtx 4080 graph                          1\n",
       "1 year warranty]                             1\n",
       "intel hd                                     1\n",
       "intel iris plus                              1\n",
       "8gb rtx4070 graph                            1\n",
       "3840, x, 2160, pixels                        1\n",
       "6, gb nvidia geforce rtx 4050                1\n",
       "4, gb nvidia rtx a500                        1\n",
       "rtx 4050 6gb graphics                        1\n",
       "Not available                                1\n",
       "6gb rtx 4050 graph                           1\n",
       "2240, x, 1400, pixels                        1\n",
       "amd radeon vega 8                            1\n",
       "intel integrated intel iris xe               1\n",
       "4gb rtx2050                                  1\n",
       "intel iris xᵉ graphics                       1\n",
       "amd radeon vega 7 graphics                   1\n",
       "2880, x, 1800, pixels                        1\n",
       "intel integrated uhd 600                     1\n",
       "2560, x, 1600, pixels                        1\n",
       "3840, x, 2400, pixels                        1\n",
       "integrated amd radeon graphics               1\n",
       "6gb graph rtx 3050                           1\n",
       "intel arc graphic                            1\n",
       "intel integrated intel graphics              1\n",
       "amd radeon radeon graphics                   1\n",
       "rtx 4080                                     1\n",
       "6 gb graphics                                1\n",
       "intel  graphics                              1\n",
       "intel integarted graphics                    1\n",
       "2304, x, 1536, pixels                        1\n",
       "intel  arc graphics                          1\n",
       "amd radeon radeon                            1\n",
       "amd integrated                               1\n",
       "1920, x, 1080, pixels                        1\n",
       "\\u200eamd integrated                         1\n",
       "amd radeon 610m                              1\n",
       "Name: graphics_card, dtype: int64"
      ]
     },
     "execution_count": 85,
     "metadata": {},
     "output_type": "execute_result"
    }
   ],
   "source": [
    "temp_df['graphics_card'].value_counts()"
   ]
  },
  {
   "cell_type": "code",
   "execution_count": 86,
   "id": "aea575b9",
   "metadata": {},
   "outputs": [],
   "source": [
    "# Define the replacements using regex patterns\n",
    "replacements = {\n",
    "    r'\\u200eintel iris xe graphics': 'intel iris xe graphics',\n",
    "    r'\\u200eintel uhd graphics': 'intel uhd graphics',\n",
    "    r'\\u200eamd integrated': 'amd integrated'\n",
    "}\n",
    "\n",
    "# Normalize unicode and special characters\n",
    "def preprocess_text(text):\n",
    "    # Remove Unicode left-to-right embedding\n",
    "    text = text.replace('\\u200e', '')\n",
    "    # Replace escaped commas with normal commas\n",
    "    text = text.replace('\\\\,', ',')\n",
    "    return text\n",
    "\n",
    "# Apply preprocessing\n",
    "temp_df['graphics_card'] = temp_df['graphics_card'].apply(preprocess_text)\n",
    "\n",
    "# Apply replacements using regex\n",
    "for old, new in replacements.items():\n",
    "    temp_df['graphics_card'] = temp_df['graphics_card'].replace(old, new, regex=True)"
   ]
  },
  {
   "cell_type": "code",
   "execution_count": 87,
   "id": "429fff36",
   "metadata": {},
   "outputs": [
    {
     "data": {
      "text/plain": [
       "4gb graph                                  125\n",
       "8gb graph                                   97\n",
       "6gb graph                                   89\n",
       "intel iris xe graphics                      54\n",
       "intel integrated uhd                        45\n",
       "intel uhd graphics                          37\n",
       "intel integrated iris xe                    36\n",
       "intel arc graphics                          31\n",
       "amd radeon amd                              24\n",
       "amd radeon graphics                         18\n",
       "intel integrated                            18\n",
       "12gb graph                                  17\n",
       "intel graphics                              14\n",
       "6gb rtx3050 graph                           12\n",
       "4gb graphics                                11\n",
       "16gb graph                                  11\n",
       "Qualcomm Adreno GPU                         11\n",
       "intel integrated uhd graphics               10\n",
       "integrated intel uhd graphics                9\n",
       "8gb graphics                                 8\n",
       "amd radeon                                   8\n",
       "4 gb graphics                                8\n",
       "8gb rtx4060                                  8\n",
       "4gb rtx 2050                                 8\n",
       "intel iris xe                                8\n",
       "6gb rtx4050                                  7\n",
       "8gb rtx 4070 graph                           7\n",
       "8gb rtx4070                                  7\n",
       "intel integrated integrated                  7\n",
       "6gb rtx3050                                  6\n",
       "Apple 8 Core GPU                             6\n",
       "6gb rtx 4050                                 5\n",
       "4gb rtx3050 graph                            5\n",
       "2gb graph                                    5\n",
       "6gb graphics                                 5\n",
       "integrated intel arc graphics                4\n",
       "integrated intel graphics                    4\n",
       "14, inches                                   4\n",
       "16.2, inches                                 4\n",
       "amd graphics                                 4\n",
       "Arm Mali-G72                                 4\n",
       "intel integrated graphics                    4\n",
       "4gb rtx 2050 graph                           4\n",
       "intel integrated arc graphics                4\n",
       "8gb rtx 4060 graph                           4\n",
       "intel integrated arc                         3\n",
       "4gb rtx 3050                                 3\n",
       "iris xe graphics                             3\n",
       "intel hd graphics                            3\n",
       "rtx 4060 8gb graph                           3\n",
       "\\u200eintel iris xe graphics                 3\n",
       "rtx 2050                                     3\n",
       "rtx 3050 6gb graph                           3\n",
       "6gb rtx4050 graph                            3\n",
       "14.2, inches                                 3\n",
       "intel integrated intel iris xe graphics      3\n",
       "rtx 3050a                                    3\n",
       "intel integrated intel arc                   3\n",
       "6gb rtx 3050 graph                           3\n",
       "intel iris xe graphics comes                 3\n",
       "\\u200eintel uhd graphics                     2\n",
       "16gb rtx 4090 graph                          2\n",
       "amd radeon 610m graphics                     2\n",
       "4gb  rtx 3050 graph                          2\n",
       "intel uhd                                    2\n",
       "256, gb ssd                                  2\n",
       "6gb rtx3050 graphics                         2\n",
       "rtx 4060 8gb graphics                        2\n",
       "8gb graphics rtx 4060                        2\n",
       "rtx 4050                                     2\n",
       "intel uhd graphics 600                       2\n",
       "6gb rtx 3050 graphics                        2\n",
       "6gb rtx 4050 graphics                        2\n",
       "13.3, inches                                 2\n",
       "rtx 4060                                     2\n",
       "intel integrated iris                        2\n",
       "integrated intel iris xe graphics            2\n",
       "Apple 10 Core GPU                            2\n",
       "16gb graphics rtx 4090                       2\n",
       "integrated intel irisxe graphics             2\n",
       "4gb rtx3050                                  2\n",
       "intel integrated intel uhd graphics          2\n",
       "rtx 4090                                     2\n",
       "12gb rtx 4080 graph                          1\n",
       "1 year warranty]                             1\n",
       "intel hd                                     1\n",
       "intel iris plus                              1\n",
       "8gb rtx4070 graph                            1\n",
       "3840, x, 2160, pixels                        1\n",
       "6, gb nvidia geforce rtx 4050                1\n",
       "4, gb nvidia rtx a500                        1\n",
       "rtx 4050 6gb graphics                        1\n",
       "Not available                                1\n",
       "6gb rtx 4050 graph                           1\n",
       "2240, x, 1400, pixels                        1\n",
       "amd radeon vega 8                            1\n",
       "intel integrated intel iris xe               1\n",
       "4gb rtx2050                                  1\n",
       "intel iris xᵉ graphics                       1\n",
       "amd radeon vega 7 graphics                   1\n",
       "2880, x, 1800, pixels                        1\n",
       "intel integrated uhd 600                     1\n",
       "2560, x, 1600, pixels                        1\n",
       "3840, x, 2400, pixels                        1\n",
       "integrated amd radeon graphics               1\n",
       "6gb graph rtx 3050                           1\n",
       "intel arc graphic                            1\n",
       "intel integrated intel graphics              1\n",
       "amd radeon radeon graphics                   1\n",
       "rtx 4080                                     1\n",
       "6 gb graphics                                1\n",
       "intel  graphics                              1\n",
       "intel integarted graphics                    1\n",
       "2304, x, 1536, pixels                        1\n",
       "intel  arc graphics                          1\n",
       "amd radeon radeon                            1\n",
       "amd integrated                               1\n",
       "1920, x, 1080, pixels                        1\n",
       "\\u200eamd integrated                         1\n",
       "amd radeon 610m                              1\n",
       "Name: graphics_card, dtype: int64"
      ]
     },
     "execution_count": 87,
     "metadata": {},
     "output_type": "execute_result"
    }
   ],
   "source": [
    "temp_df['graphics_card'].value_counts()"
   ]
  },
  {
   "cell_type": "code",
   "execution_count": 88,
   "id": "be139ec3",
   "metadata": {},
   "outputs": [],
   "source": [
    "#its not getting changed so we can do it manually\n",
    "\n",
    "# replacements = {\n",
    "#     r'\\u200eintel iris xe graphics': 'intel iris xe graphics',\n",
    "#     r'\\u200eintel uhd graphics': 'intel uhd graphics',\n",
    "#     r'\\u200eamd integrated': 'amd integrated'\n",
    "# }"
   ]
  },
  {
   "cell_type": "code",
   "execution_count": 89,
   "id": "87a6243c",
   "metadata": {},
   "outputs": [
    {
     "data": {
      "text/html": [
       "<div>\n",
       "<style scoped>\n",
       "    .dataframe tbody tr th:only-of-type {\n",
       "        vertical-align: middle;\n",
       "    }\n",
       "\n",
       "    .dataframe tbody tr th {\n",
       "        vertical-align: top;\n",
       "    }\n",
       "\n",
       "    .dataframe thead th {\n",
       "        text-align: right;\n",
       "    }\n",
       "</style>\n",
       "<table border=\"1\" class=\"dataframe\">\n",
       "  <thead>\n",
       "    <tr style=\"text-align: right;\">\n",
       "      <th></th>\n",
       "      <th>productName</th>\n",
       "      <th>price</th>\n",
       "      <th>rating</th>\n",
       "      <th>specScore</th>\n",
       "      <th>features</th>\n",
       "      <th>brand</th>\n",
       "      <th>processors</th>\n",
       "      <th>ram</th>\n",
       "      <th>storage</th>\n",
       "      <th>os</th>\n",
       "      <th>graphics_card</th>\n",
       "      <th>warranty</th>\n",
       "      <th>resolution</th>\n",
       "      <th>cores</th>\n",
       "    </tr>\n",
       "  </thead>\n",
       "  <tbody>\n",
       "    <tr>\n",
       "      <th>4</th>\n",
       "      <td>Acer One 14 Z8-415 Laptop (11th Gen Core i3 / 8GB/ 512GB SSD/ Win11 Home)</td>\n",
       "      <td>24990.0</td>\n",
       "      <td>4.05</td>\n",
       "      <td>54.0</td>\n",
       "      <td>['11th Gen Intel Core i3 1115G4', 'Dual Core, 4 Threads', '8\\u2009GB DDR4 RAM', '512\\u2009GB SSD', '\\u200eIntel Iris Xe Graphics', '14\\u2009inches, 1920\\u2009x\\u20091080\\u2009pixels', 'Windows 11 OS', '1 Year Warranty']</td>\n",
       "      <td>acer</td>\n",
       "      <td>11th Gen Core i3</td>\n",
       "      <td>8GB</td>\n",
       "      <td>512GB SSD</td>\n",
       "      <td>Win11 Home)</td>\n",
       "      <td>\\u200eintel iris xe graphics</td>\n",
       "      <td>1</td>\n",
       "      <td>1920\\u2009x\\u20091080\\u2009pixels'</td>\n",
       "      <td>'Dual Core</td>\n",
       "    </tr>\n",
       "    <tr>\n",
       "      <th>62</th>\n",
       "      <td>HP 15-fd0316TU Laptop (13th Gen Core i5/ 16GB/ 512GB SSD/ Win11 Home)</td>\n",
       "      <td>55990.0</td>\n",
       "      <td>4.00</td>\n",
       "      <td>57.0</td>\n",
       "      <td>['13th Gen Intel Core i5 1334U', '10 Cores (2P + 8E), 12 Threads', '16\\u2009GB DDR4 RAM', '512\\u2009GB SSD', '\\u200eIntel Iris Xe Graphics', '15.6\\u2009inches, 1920\\u2009x\\u20091080\\u2009pixels', 'Windows 11 OS', '1 Year Warranty']</td>\n",
       "      <td>hp</td>\n",
       "      <td>13th Gen Core i5</td>\n",
       "      <td>16GB</td>\n",
       "      <td>512GB SSD</td>\n",
       "      <td>Win11 Home)</td>\n",
       "      <td>\\u200eintel iris xe graphics</td>\n",
       "      <td>1</td>\n",
       "      <td>1920\\u2009x\\u20091080\\u2009pixels'</td>\n",
       "      <td>'10 Cores (2P + 8E)</td>\n",
       "    </tr>\n",
       "    <tr>\n",
       "      <th>421</th>\n",
       "      <td>Samsung Galaxy Book 3 Pro 14 ‎NP944XFG-KC1IN Laptop (13th Gen Core i7/ 16GB/ 512GB SSD/ Win11)</td>\n",
       "      <td>109999.0</td>\n",
       "      <td>4.30</td>\n",
       "      <td>68.0</td>\n",
       "      <td>['13th Gen Intel Core i7 1360P', '12 Cores (4P + 8E), 16 Threads', '16\\u2009GB LPDDR5 RAM', '512\\u2009GB SSD', '\\u200eIntel Iris Xe Graphics', '14\\u2009inches, 2880\\u2009x\\u20091800\\u2009pixels', 'Windows 11 OS', '1 Year Warranty']</td>\n",
       "      <td>samsung</td>\n",
       "      <td>12th Gen Core i7</td>\n",
       "      <td>16GB</td>\n",
       "      <td>1TB SSD</td>\n",
       "      <td>Win11 Home)</td>\n",
       "      <td>\\u200eintel iris xe graphics</td>\n",
       "      <td>1</td>\n",
       "      <td>2880\\u2009x\\u20091800\\u2009pixels'</td>\n",
       "      <td>'12 Cores (4P + 8E)</td>\n",
       "    </tr>\n",
       "  </tbody>\n",
       "</table>\n",
       "</div>"
      ],
      "text/plain": [
       "                                                                                        productName  \\\n",
       "4                         Acer One 14 Z8-415 Laptop (11th Gen Core i3 / 8GB/ 512GB SSD/ Win11 Home)   \n",
       "62                            HP 15-fd0316TU Laptop (13th Gen Core i5/ 16GB/ 512GB SSD/ Win11 Home)   \n",
       "421  Samsung Galaxy Book 3 Pro 14 ‎NP944XFG-KC1IN Laptop (13th Gen Core i7/ 16GB/ 512GB SSD/ Win11)   \n",
       "\n",
       "        price  rating  specScore  \\\n",
       "4     24990.0    4.05       54.0   \n",
       "62    55990.0    4.00       57.0   \n",
       "421  109999.0    4.30       68.0   \n",
       "\n",
       "                                                                                                                                                                                                                                    features  \\\n",
       "4                ['11th Gen Intel Core i3 1115G4', 'Dual Core, 4 Threads', '8\\u2009GB DDR4 RAM', '512\\u2009GB SSD', '\\u200eIntel Iris Xe Graphics', '14\\u2009inches, 1920\\u2009x\\u20091080\\u2009pixels', 'Windows 11 OS', '1 Year Warranty']   \n",
       "62   ['13th Gen Intel Core i5 1334U', '10 Cores (2P + 8E), 12 Threads', '16\\u2009GB DDR4 RAM', '512\\u2009GB SSD', '\\u200eIntel Iris Xe Graphics', '15.6\\u2009inches, 1920\\u2009x\\u20091080\\u2009pixels', 'Windows 11 OS', '1 Year Warranty']   \n",
       "421  ['13th Gen Intel Core i7 1360P', '12 Cores (4P + 8E), 16 Threads', '16\\u2009GB LPDDR5 RAM', '512\\u2009GB SSD', '\\u200eIntel Iris Xe Graphics', '14\\u2009inches, 2880\\u2009x\\u20091800\\u2009pixels', 'Windows 11 OS', '1 Year Warranty']   \n",
       "\n",
       "       brand         processors    ram     storage            os  \\\n",
       "4       acer  11th Gen Core i3     8GB   512GB SSD   Win11 Home)   \n",
       "62        hp   13th Gen Core i5   16GB   512GB SSD   Win11 Home)   \n",
       "421  samsung  12th Gen Core i7    16GB     1TB SSD   Win11 Home)   \n",
       "\n",
       "                    graphics_card warranty  \\\n",
       "4    \\u200eintel iris xe graphics        1   \n",
       "62   \\u200eintel iris xe graphics        1   \n",
       "421  \\u200eintel iris xe graphics        1   \n",
       "\n",
       "                              resolution                 cores  \n",
       "4     1920\\u2009x\\u20091080\\u2009pixels'            'Dual Core  \n",
       "62    1920\\u2009x\\u20091080\\u2009pixels'   '10 Cores (2P + 8E)  \n",
       "421   2880\\u2009x\\u20091800\\u2009pixels'   '12 Cores (4P + 8E)  "
      ]
     },
     "execution_count": 89,
     "metadata": {},
     "output_type": "execute_result"
    }
   ],
   "source": [
    "temp_df[temp_df['graphics_card'] == r'\\u200eintel iris xe graphics']"
   ]
  },
  {
   "cell_type": "code",
   "execution_count": 90,
   "id": "b45aba29",
   "metadata": {},
   "outputs": [],
   "source": [
    "old_value = r'\\u200eamd integrated'\n",
    "new_value = 'amd integrated'\n",
    "\n",
    "# Replace the old value with the new value\n",
    "temp_df['graphics_card'] = temp_df['graphics_card'].replace(old_value, new_value)"
   ]
  },
  {
   "cell_type": "code",
   "execution_count": 91,
   "id": "fb74a8ce",
   "metadata": {},
   "outputs": [
    {
     "data": {
      "text/html": [
       "<div>\n",
       "<style scoped>\n",
       "    .dataframe tbody tr th:only-of-type {\n",
       "        vertical-align: middle;\n",
       "    }\n",
       "\n",
       "    .dataframe tbody tr th {\n",
       "        vertical-align: top;\n",
       "    }\n",
       "\n",
       "    .dataframe thead th {\n",
       "        text-align: right;\n",
       "    }\n",
       "</style>\n",
       "<table border=\"1\" class=\"dataframe\">\n",
       "  <thead>\n",
       "    <tr style=\"text-align: right;\">\n",
       "      <th></th>\n",
       "      <th>productName</th>\n",
       "      <th>price</th>\n",
       "      <th>rating</th>\n",
       "      <th>specScore</th>\n",
       "      <th>features</th>\n",
       "      <th>brand</th>\n",
       "      <th>processors</th>\n",
       "      <th>ram</th>\n",
       "      <th>storage</th>\n",
       "      <th>os</th>\n",
       "      <th>graphics_card</th>\n",
       "      <th>warranty</th>\n",
       "      <th>resolution</th>\n",
       "      <th>cores</th>\n",
       "    </tr>\n",
       "  </thead>\n",
       "  <tbody>\n",
       "  </tbody>\n",
       "</table>\n",
       "</div>"
      ],
      "text/plain": [
       "Empty DataFrame\n",
       "Columns: [productName, price, rating, specScore, features, brand, processors, ram, storage, os, graphics_card, warranty, resolution, cores]\n",
       "Index: []"
      ]
     },
     "execution_count": 91,
     "metadata": {},
     "output_type": "execute_result"
    }
   ],
   "source": [
    "temp_df[temp_df['graphics_card'] == r'\\u200eamd integrated']"
   ]
  },
  {
   "cell_type": "code",
   "execution_count": 92,
   "id": "8976722e",
   "metadata": {},
   "outputs": [
    {
     "data": {
      "text/plain": [
       "4gb graph                                  125\n",
       "8gb graph                                   97\n",
       "6gb graph                                   89\n",
       "intel iris xe graphics                      54\n",
       "intel integrated uhd                        45\n",
       "intel uhd graphics                          37\n",
       "intel integrated iris xe                    36\n",
       "intel arc graphics                          31\n",
       "amd radeon amd                              24\n",
       "intel integrated                            18\n",
       "amd radeon graphics                         18\n",
       "12gb graph                                  17\n",
       "intel graphics                              14\n",
       "6gb rtx3050 graph                           12\n",
       "16gb graph                                  11\n",
       "Qualcomm Adreno GPU                         11\n",
       "4gb graphics                                11\n",
       "intel integrated uhd graphics               10\n",
       "integrated intel uhd graphics                9\n",
       "8gb graphics                                 8\n",
       "8gb rtx4060                                  8\n",
       "4 gb graphics                                8\n",
       "4gb rtx 2050                                 8\n",
       "amd radeon                                   8\n",
       "intel iris xe                                8\n",
       "8gb rtx4070                                  7\n",
       "6gb rtx4050                                  7\n",
       "intel integrated integrated                  7\n",
       "8gb rtx 4070 graph                           7\n",
       "Apple 8 Core GPU                             6\n",
       "6gb rtx3050                                  6\n",
       "2gb graph                                    5\n",
       "4gb rtx3050 graph                            5\n",
       "6gb graphics                                 5\n",
       "6gb rtx 4050                                 5\n",
       "Arm Mali-G72                                 4\n",
       "16.2, inches                                 4\n",
       "intel integrated arc graphics                4\n",
       "integrated intel arc graphics                4\n",
       "intel integrated graphics                    4\n",
       "8gb rtx 4060 graph                           4\n",
       "4gb rtx 2050 graph                           4\n",
       "integrated intel graphics                    4\n",
       "14, inches                                   4\n",
       "amd graphics                                 4\n",
       "rtx 3050 6gb graph                           3\n",
       "intel iris xe graphics comes                 3\n",
       "6gb rtx4050 graph                            3\n",
       "rtx 4060 8gb graph                           3\n",
       "intel hd graphics                            3\n",
       "iris xe graphics                             3\n",
       "intel integrated arc                         3\n",
       "intel integrated intel arc                   3\n",
       "rtx 3050a                                    3\n",
       "intel integrated intel iris xe graphics      3\n",
       "rtx 2050                                     3\n",
       "\\u200eintel iris xe graphics                 3\n",
       "4gb rtx 3050                                 3\n",
       "6gb rtx 3050 graph                           3\n",
       "14.2, inches                                 3\n",
       "4gb  rtx 3050 graph                          2\n",
       "\\u200eintel uhd graphics                     2\n",
       "13.3, inches                                 2\n",
       "intel uhd                                    2\n",
       "16gb rtx 4090 graph                          2\n",
       "rtx 4060                                     2\n",
       "6gb rtx3050 graphics                         2\n",
       "intel integrated iris                        2\n",
       "rtx 4050                                     2\n",
       "intel uhd graphics 600                       2\n",
       "Apple 10 Core GPU                            2\n",
       "6gb rtx 3050 graphics                        2\n",
       "amd integrated                               2\n",
       "rtx 4060 8gb graphics                        2\n",
       "intel integrated intel uhd graphics          2\n",
       "8gb graphics rtx 4060                        2\n",
       "rtx 4090                                     2\n",
       "integrated intel iris xe graphics            2\n",
       "16gb graphics rtx 4090                       2\n",
       "4gb rtx3050                                  2\n",
       "6gb rtx 4050 graphics                        2\n",
       "amd radeon 610m graphics                     2\n",
       "256, gb ssd                                  2\n",
       "integrated intel irisxe graphics             2\n",
       "3840, x, 2160, pixels                        1\n",
       "rtx 4050 6gb graphics                        1\n",
       "intel integrated intel iris xe               1\n",
       "2240, x, 1400, pixels                        1\n",
       "12gb rtx 4080 graph                          1\n",
       "6gb rtx 4050 graph                           1\n",
       "8gb rtx4070 graph                            1\n",
       "4, gb nvidia rtx a500                        1\n",
       "intel hd                                     1\n",
       "Not available                                1\n",
       "6, gb nvidia geforce rtx 4050                1\n",
       "1 year warranty]                             1\n",
       "intel iris plus                              1\n",
       "4gb rtx2050                                  1\n",
       "amd radeon vega 8                            1\n",
       "amd radeon radeon graphics                   1\n",
       "2880, x, 1800, pixels                        1\n",
       "intel integrated uhd 600                     1\n",
       "2560, x, 1600, pixels                        1\n",
       "3840, x, 2400, pixels                        1\n",
       "integrated amd radeon graphics               1\n",
       "6gb graph rtx 3050                           1\n",
       "intel arc graphic                            1\n",
       "intel integrated intel graphics              1\n",
       "rtx 4080                                     1\n",
       "intel iris xᵉ graphics                       1\n",
       "6 gb graphics                                1\n",
       "intel  graphics                              1\n",
       "intel integarted graphics                    1\n",
       "2304, x, 1536, pixels                        1\n",
       "intel  arc graphics                          1\n",
       "amd radeon radeon                            1\n",
       "1920, x, 1080, pixels                        1\n",
       "amd radeon vega 7 graphics                   1\n",
       "amd radeon 610m                              1\n",
       "Name: graphics_card, dtype: int64"
      ]
     },
     "execution_count": 92,
     "metadata": {},
     "output_type": "execute_result"
    }
   ],
   "source": [
    "temp_df['graphics_card'].value_counts()"
   ]
  },
  {
   "cell_type": "code",
   "execution_count": 93,
   "id": "ed521163",
   "metadata": {},
   "outputs": [],
   "source": [
    "#lets fix this:\n",
    "\n",
    "# temp_df[temp_df['graphics_card'] == \"16.2\\, inches\"]\n",
    "# temp_df[temp_df['graphics_card'] == \"14\\, inches\"]\n",
    "# temp_df[temp_df['graphics_card'] == \"11.6\\, inches\"]\n",
    "# temp_df[temp_df['graphics_card'] == \"14.2\\, inches\"]"
   ]
  },
  {
   "cell_type": "code",
   "execution_count": 94,
   "id": "c45a3527",
   "metadata": {},
   "outputs": [],
   "source": [
    "extracted_values_graphics_card2 = temp_df[temp_df['graphics_card'] == \"16.2, inches\"]['features'].apply(extract_from_list).str.split(\",\").str[4]"
   ]
  },
  {
   "cell_type": "code",
   "execution_count": 95,
   "id": "8f6cdd10",
   "metadata": {},
   "outputs": [],
   "source": [
    "temp_df.loc[temp_df['graphics_card'] == \"16.2, inches\", 'graphics_card'] = extracted_values_graphics_card2"
   ]
  },
  {
   "cell_type": "code",
   "execution_count": 96,
   "id": "99418c84",
   "metadata": {},
   "outputs": [],
   "source": [
    "extracted_values_graphics_card2 = temp_df[temp_df['graphics_card'] == \"14, inches\"]['features'].apply(extract_from_list).str.split(\",\").str[4]"
   ]
  },
  {
   "cell_type": "code",
   "execution_count": 97,
   "id": "109e0b6f",
   "metadata": {},
   "outputs": [],
   "source": [
    "temp_df.loc[temp_df['graphics_card'] == \"14, inches\", 'graphics_card'] = extracted_values_graphics_card2"
   ]
  },
  {
   "cell_type": "code",
   "execution_count": 98,
   "id": "c5f1b518",
   "metadata": {},
   "outputs": [],
   "source": [
    "extracted_values_graphics_card2 = temp_df[temp_df['graphics_card'] == \"11.6, inches\"]['features'].apply(extract_from_list).str.split(\",\").str[4]\n",
    "temp_df.loc[temp_df['graphics_card'] == \"11.6, inches\", 'graphics_card'] = extracted_values_graphics_card2"
   ]
  },
  {
   "cell_type": "code",
   "execution_count": 99,
   "id": "e54bba71",
   "metadata": {},
   "outputs": [],
   "source": [
    "extracted_values_graphics_card2 = temp_df[temp_df['graphics_card'] == \"14.2, inches\"]['features'].apply(extract_from_list).str.split(\",\").str[4]\n",
    "temp_df.loc[temp_df['graphics_card'] == \"14.2, inches\", 'graphics_card'] = extracted_values_graphics_card2"
   ]
  },
  {
   "cell_type": "code",
   "execution_count": 100,
   "id": "7d967125",
   "metadata": {},
   "outputs": [
    {
     "data": {
      "text/plain": [
       "4gb graph                                  125\n",
       "8gb graph                                   97\n",
       "6gb graph                                   89\n",
       "intel iris xe graphics                      54\n",
       "intel integrated uhd                        45\n",
       "intel uhd graphics                          37\n",
       "intel integrated iris xe                    36\n",
       "intel arc graphics                          31\n",
       "amd radeon amd                              24\n",
       "amd radeon graphics                         18\n",
       "intel integrated                            18\n",
       "12gb graph                                  17\n",
       "intel graphics                              14\n",
       "6gb rtx3050 graph                           12\n",
       "4gb graphics                                11\n",
       "16gb graph                                  11\n",
       "Qualcomm Adreno GPU                         11\n",
       "intel integrated uhd graphics               10\n",
       "integrated intel uhd graphics                9\n",
       "amd radeon                                   8\n",
       "8gb graphics                                 8\n",
       "intel iris xe                                8\n",
       "8gb rtx4060                                  8\n",
       "4 gb graphics                                8\n",
       "4gb rtx 2050                                 8\n",
       "6gb rtx4050                                  7\n",
       "8gb rtx4070                                  7\n",
       "8gb rtx 4070 graph                           7\n",
       "intel integrated integrated                  7\n",
       "Apple 8 Core GPU                             6\n",
       "6gb rtx3050                                  6\n",
       "6gb rtx 4050                                 5\n",
       "2gb graph                                    5\n",
       "4gb rtx3050 graph                            5\n",
       "6gb graphics                                 5\n",
       "amd graphics                                 4\n",
       "integrated intel graphics                    4\n",
       "intel integrated graphics                    4\n",
       "intel integrated arc graphics                4\n",
       "integrated intel arc graphics                4\n",
       "4gb rtx 2050 graph                           4\n",
       "8gb rtx 4060 graph                           4\n",
       "Arm Mali-G72                                 4\n",
       "\\u200eintel iris xe graphics                 3\n",
       "4gb rtx 3050                                 3\n",
       "intel integrated arc                         3\n",
       "intel hd graphics                            3\n",
       "rtx 4060 8gb graph                           3\n",
       "6gb rtx4050 graph                            3\n",
       "rtx 3050 6gb graph                           3\n",
       "rtx 3050a                                    3\n",
       "6gb rtx 3050 graph                           3\n",
       "iris xe graphics                             3\n",
       "intel iris xe graphics comes                 3\n",
       "rtx 2050                                     3\n",
       "intel integrated intel arc                   3\n",
       " '18 Core GPU'                               3\n",
       "intel integrated intel iris xe graphics      3\n",
       "intel integrated iris                        2\n",
       "\\u200eintel uhd graphics                     2\n",
       "16gb rtx 4090 graph                          2\n",
       "16gb graphics rtx 4090                       2\n",
       " 'Qualcomm Adreno GPU'                       2\n",
       "rtx 4050                                     2\n",
       "4gb  rtx 3050 graph                          2\n",
       "Apple 10 Core GPU                            2\n",
       "13.3, inches                                 2\n",
       "6gb rtx3050 graphics                         2\n",
       "integrated intel iris xe graphics            2\n",
       "intel uhd                                    2\n",
       " '30 Core GPU'                               2\n",
       "6gb rtx 3050 graphics                        2\n",
       "rtx 4090                                     2\n",
       "intel uhd graphics 600                       2\n",
       "256, gb ssd                                  2\n",
       "intel integrated intel uhd graphics          2\n",
       "amd radeon 610m graphics                     2\n",
       "4gb rtx3050                                  2\n",
       "rtx 4060                                     2\n",
       "integrated intel irisxe graphics             2\n",
       "6gb rtx 4050 graphics                        2\n",
       "8gb graphics rtx 4060                        2\n",
       "rtx 4060 8gb graphics                        2\n",
       "amd integrated                               2\n",
       "rtx 4050 6gb graphics                        1\n",
       "2240, x, 1400, pixels                        1\n",
       "6, gb nvidia geforce rtx 4050                1\n",
       "12gb rtx 4080 graph                          1\n",
       "6gb rtx 4050 graph                           1\n",
       "8gb rtx4070 graph                            1\n",
       "Not available                                1\n",
       "4, gb nvidia rtx a500                        1\n",
       "intel integrated intel iris xe               1\n",
       " 'Arm Mali G52 MC2 2EE'                      1\n",
       " '10 Core GPU'                               1\n",
       "intel iris plus                              1\n",
       "1 year warranty]                             1\n",
       "3840, x, 2160, pixels                        1\n",
       "4gb rtx2050                                  1\n",
       "intel hd                                     1\n",
       "amd radeon vega 8                            1\n",
       "2880, x, 1800, pixels                        1\n",
       "intel integrated uhd 600                     1\n",
       "2560, x, 1600, pixels                        1\n",
       "3840, x, 2400, pixels                        1\n",
       "integrated amd radeon graphics               1\n",
       " '40 Core GPU'                               1\n",
       "6gb graph rtx 3050                           1\n",
       "intel arc graphic                            1\n",
       "intel integrated intel graphics              1\n",
       "amd radeon radeon graphics                   1\n",
       "rtx 4080                                     1\n",
       "6 gb graphics                                1\n",
       "intel  graphics                              1\n",
       "intel integarted graphics                    1\n",
       "2304, x, 1536, pixels                        1\n",
       "intel  arc graphics                          1\n",
       " 'Arm Mali G52 MC2 2EE Graphics'             1\n",
       "amd radeon radeon                            1\n",
       "1920, x, 1080, pixels                        1\n",
       "amd radeon vega 7 graphics                   1\n",
       "intel iris xᵉ graphics                       1\n",
       "amd radeon 610m                              1\n",
       "Name: graphics_card, dtype: int64"
      ]
     },
     "execution_count": 100,
     "metadata": {},
     "output_type": "execute_result"
    }
   ],
   "source": [
    "temp_df['graphics_card'].value_counts()"
   ]
  },
  {
   "cell_type": "code",
   "execution_count": 101,
   "id": "817c959e",
   "metadata": {},
   "outputs": [],
   "source": [
    "# \\u200eintel iris xe graphics\n",
    "# \\u200eintel uhd graphics \n",
    "#  '18 Core GPU'\n",
    "#  'Qualcomm Adreno GPU'\n",
    "\n",
    "# 13.3, inches\n",
    "\n",
    "#  '30 Core GPU'\n",
    "# 256, gb ssd \n",
    "# 4, gb nvidia rtx a500  \n",
    "#  'Arm Mali G52 MC2 2EE'\n",
    "#  '10 Core GPU'\n",
    "\n",
    "# 1 year warranty]\n",
    "# 3840, x, 2160, pixels\n",
    "# 2880, x, 1800, pixels\n",
    "# 2560, x, 1600, pixels\n",
    "# 3840, x, 2400, pixels\n",
    "\n",
    "#  '40 Core GPU' \n",
    "\n",
    "# 2304, x, 1536, pixels\n",
    "\n",
    "#  'Arm Mali G52 MC2 2EE Graphics'\n",
    "\n",
    "# 1920, x, 1080, pixels"
   ]
  },
  {
   "cell_type": "code",
   "execution_count": 102,
   "id": "54e397ad",
   "metadata": {},
   "outputs": [
    {
     "data": {
      "text/html": [
       "<div>\n",
       "<style scoped>\n",
       "    .dataframe tbody tr th:only-of-type {\n",
       "        vertical-align: middle;\n",
       "    }\n",
       "\n",
       "    .dataframe tbody tr th {\n",
       "        vertical-align: top;\n",
       "    }\n",
       "\n",
       "    .dataframe thead th {\n",
       "        text-align: right;\n",
       "    }\n",
       "</style>\n",
       "<table border=\"1\" class=\"dataframe\">\n",
       "  <thead>\n",
       "    <tr style=\"text-align: right;\">\n",
       "      <th></th>\n",
       "      <th>productName</th>\n",
       "      <th>price</th>\n",
       "      <th>rating</th>\n",
       "      <th>specScore</th>\n",
       "      <th>features</th>\n",
       "      <th>brand</th>\n",
       "      <th>processors</th>\n",
       "      <th>ram</th>\n",
       "      <th>storage</th>\n",
       "      <th>os</th>\n",
       "      <th>graphics_card</th>\n",
       "      <th>warranty</th>\n",
       "      <th>resolution</th>\n",
       "      <th>cores</th>\n",
       "    </tr>\n",
       "  </thead>\n",
       "  <tbody>\n",
       "    <tr>\n",
       "      <th>4</th>\n",
       "      <td>Acer One 14 Z8-415 Laptop (11th Gen Core i3 / 8GB/ 512GB SSD/ Win11 Home)</td>\n",
       "      <td>24990.0</td>\n",
       "      <td>4.05</td>\n",
       "      <td>54.0</td>\n",
       "      <td>['11th Gen Intel Core i3 1115G4', 'Dual Core, 4 Threads', '8\\u2009GB DDR4 RAM', '512\\u2009GB SSD', '\\u200eIntel Iris Xe Graphics', '14\\u2009inches, 1920\\u2009x\\u20091080\\u2009pixels', 'Windows 11 OS', '1 Year Warranty']</td>\n",
       "      <td>acer</td>\n",
       "      <td>11th Gen Core i3</td>\n",
       "      <td>8GB</td>\n",
       "      <td>512GB SSD</td>\n",
       "      <td>Win11 Home)</td>\n",
       "      <td>\\u200eintel iris xe graphics</td>\n",
       "      <td>1</td>\n",
       "      <td>1920\\u2009x\\u20091080\\u2009pixels'</td>\n",
       "      <td>'Dual Core</td>\n",
       "    </tr>\n",
       "    <tr>\n",
       "      <th>62</th>\n",
       "      <td>HP 15-fd0316TU Laptop (13th Gen Core i5/ 16GB/ 512GB SSD/ Win11 Home)</td>\n",
       "      <td>55990.0</td>\n",
       "      <td>4.00</td>\n",
       "      <td>57.0</td>\n",
       "      <td>['13th Gen Intel Core i5 1334U', '10 Cores (2P + 8E), 12 Threads', '16\\u2009GB DDR4 RAM', '512\\u2009GB SSD', '\\u200eIntel Iris Xe Graphics', '15.6\\u2009inches, 1920\\u2009x\\u20091080\\u2009pixels', 'Windows 11 OS', '1 Year Warranty']</td>\n",
       "      <td>hp</td>\n",
       "      <td>13th Gen Core i5</td>\n",
       "      <td>16GB</td>\n",
       "      <td>512GB SSD</td>\n",
       "      <td>Win11 Home)</td>\n",
       "      <td>\\u200eintel iris xe graphics</td>\n",
       "      <td>1</td>\n",
       "      <td>1920\\u2009x\\u20091080\\u2009pixels'</td>\n",
       "      <td>'10 Cores (2P + 8E)</td>\n",
       "    </tr>\n",
       "    <tr>\n",
       "      <th>421</th>\n",
       "      <td>Samsung Galaxy Book 3 Pro 14 ‎NP944XFG-KC1IN Laptop (13th Gen Core i7/ 16GB/ 512GB SSD/ Win11)</td>\n",
       "      <td>109999.0</td>\n",
       "      <td>4.30</td>\n",
       "      <td>68.0</td>\n",
       "      <td>['13th Gen Intel Core i7 1360P', '12 Cores (4P + 8E), 16 Threads', '16\\u2009GB LPDDR5 RAM', '512\\u2009GB SSD', '\\u200eIntel Iris Xe Graphics', '14\\u2009inches, 2880\\u2009x\\u20091800\\u2009pixels', 'Windows 11 OS', '1 Year Warranty']</td>\n",
       "      <td>samsung</td>\n",
       "      <td>12th Gen Core i7</td>\n",
       "      <td>16GB</td>\n",
       "      <td>1TB SSD</td>\n",
       "      <td>Win11 Home)</td>\n",
       "      <td>\\u200eintel iris xe graphics</td>\n",
       "      <td>1</td>\n",
       "      <td>2880\\u2009x\\u20091800\\u2009pixels'</td>\n",
       "      <td>'12 Cores (4P + 8E)</td>\n",
       "    </tr>\n",
       "  </tbody>\n",
       "</table>\n",
       "</div>"
      ],
      "text/plain": [
       "                                                                                        productName  \\\n",
       "4                         Acer One 14 Z8-415 Laptop (11th Gen Core i3 / 8GB/ 512GB SSD/ Win11 Home)   \n",
       "62                            HP 15-fd0316TU Laptop (13th Gen Core i5/ 16GB/ 512GB SSD/ Win11 Home)   \n",
       "421  Samsung Galaxy Book 3 Pro 14 ‎NP944XFG-KC1IN Laptop (13th Gen Core i7/ 16GB/ 512GB SSD/ Win11)   \n",
       "\n",
       "        price  rating  specScore  \\\n",
       "4     24990.0    4.05       54.0   \n",
       "62    55990.0    4.00       57.0   \n",
       "421  109999.0    4.30       68.0   \n",
       "\n",
       "                                                                                                                                                                                                                                    features  \\\n",
       "4                ['11th Gen Intel Core i3 1115G4', 'Dual Core, 4 Threads', '8\\u2009GB DDR4 RAM', '512\\u2009GB SSD', '\\u200eIntel Iris Xe Graphics', '14\\u2009inches, 1920\\u2009x\\u20091080\\u2009pixels', 'Windows 11 OS', '1 Year Warranty']   \n",
       "62   ['13th Gen Intel Core i5 1334U', '10 Cores (2P + 8E), 12 Threads', '16\\u2009GB DDR4 RAM', '512\\u2009GB SSD', '\\u200eIntel Iris Xe Graphics', '15.6\\u2009inches, 1920\\u2009x\\u20091080\\u2009pixels', 'Windows 11 OS', '1 Year Warranty']   \n",
       "421  ['13th Gen Intel Core i7 1360P', '12 Cores (4P + 8E), 16 Threads', '16\\u2009GB LPDDR5 RAM', '512\\u2009GB SSD', '\\u200eIntel Iris Xe Graphics', '14\\u2009inches, 2880\\u2009x\\u20091800\\u2009pixels', 'Windows 11 OS', '1 Year Warranty']   \n",
       "\n",
       "       brand         processors    ram     storage            os  \\\n",
       "4       acer  11th Gen Core i3     8GB   512GB SSD   Win11 Home)   \n",
       "62        hp   13th Gen Core i5   16GB   512GB SSD   Win11 Home)   \n",
       "421  samsung  12th Gen Core i7    16GB     1TB SSD   Win11 Home)   \n",
       "\n",
       "                    graphics_card warranty  \\\n",
       "4    \\u200eintel iris xe graphics        1   \n",
       "62   \\u200eintel iris xe graphics        1   \n",
       "421  \\u200eintel iris xe graphics        1   \n",
       "\n",
       "                              resolution                 cores  \n",
       "4     1920\\u2009x\\u20091080\\u2009pixels'            'Dual Core  \n",
       "62    1920\\u2009x\\u20091080\\u2009pixels'   '10 Cores (2P + 8E)  \n",
       "421   2880\\u2009x\\u20091800\\u2009pixels'   '12 Cores (4P + 8E)  "
      ]
     },
     "execution_count": 102,
     "metadata": {},
     "output_type": "execute_result"
    }
   ],
   "source": [
    "temp_df[temp_df['graphics_card'] == r'\\u200eintel iris xe graphics']"
   ]
  },
  {
   "cell_type": "code",
   "execution_count": 103,
   "id": "b19eeb3e",
   "metadata": {},
   "outputs": [],
   "source": [
    "old_value = r'\\u200eintel iris xe graphics'\n",
    "new_value = 'intel iris xe graphics'\n",
    "\n",
    "# Replace the old value with the new value\n",
    "temp_df['graphics_card'] = temp_df['graphics_card'].replace(old_value, new_value)"
   ]
  },
  {
   "cell_type": "code",
   "execution_count": 104,
   "id": "dcaed49e",
   "metadata": {},
   "outputs": [],
   "source": [
    "old_value = r'\\u200eintel uhd graphics'\n",
    "new_value = 'intel uhd graphics'\n",
    "\n",
    "# Replace the old value with the new value\n",
    "temp_df['graphics_card'] = temp_df['graphics_card'].replace(old_value, new_value)"
   ]
  },
  {
   "cell_type": "code",
   "execution_count": 105,
   "id": "cb7cecf3",
   "metadata": {},
   "outputs": [],
   "source": [
    "old_value = \" '18 Core GPU'\"\n",
    "new_value = '18 Core GPU'\n",
    "\n",
    "# Replace the old value with the new value\n",
    "temp_df['graphics_card'] = temp_df['graphics_card'].replace(old_value, new_value)"
   ]
  },
  {
   "cell_type": "code",
   "execution_count": 106,
   "id": "995f88e6",
   "metadata": {},
   "outputs": [],
   "source": [
    "old_value = \" 'Qualcomm Adreno GPU'\"\n",
    "new_value = 'Qualcomm Adreno GPU'\n",
    "\n",
    "# Replace the old value with the new value\n",
    "temp_df['graphics_card'] = temp_df['graphics_card'].replace(old_value, new_value)"
   ]
  },
  {
   "cell_type": "code",
   "execution_count": 107,
   "id": "280df03a",
   "metadata": {},
   "outputs": [],
   "source": [
    "old_value = \" '30 Core GPU'\"\n",
    "new_value = '30 Core GPU'\n",
    "\n",
    "# Replace the old value with the new value\n",
    "temp_df['graphics_card'] = temp_df['graphics_card'].replace(old_value, new_value)"
   ]
  },
  {
   "cell_type": "code",
   "execution_count": 108,
   "id": "3b51ac32",
   "metadata": {},
   "outputs": [],
   "source": [
    "old_value = '4, gb nvidia rtx a500'\n",
    "new_value = 'nvidia rtx a500'\n",
    "\n",
    "# Replace the old value with the new value\n",
    "temp_df['graphics_card'] = temp_df['graphics_card'].replace(old_value, new_value)"
   ]
  },
  {
   "cell_type": "code",
   "execution_count": 109,
   "id": "2535ddb4",
   "metadata": {},
   "outputs": [],
   "source": [
    "old_value = \" 'Arm Mali G52 MC2 2EE'\"\n",
    "new_value = 'Arm Mali G52 MC2 2EE'\n",
    "\n",
    "# Replace the old value with the new value\n",
    "temp_df['graphics_card'] = temp_df['graphics_card'].replace(old_value, new_value)"
   ]
  },
  {
   "cell_type": "code",
   "execution_count": 110,
   "id": "c8ed841d",
   "metadata": {},
   "outputs": [],
   "source": [
    "old_value = \" '10 Core GPU'\"\n",
    "new_value = '10 Core GPU'\n",
    "\n",
    "# Replace the old value with the new value\n",
    "temp_df['graphics_card'] = temp_df['graphics_card'].replace(old_value, new_value)"
   ]
  },
  {
   "cell_type": "code",
   "execution_count": 111,
   "id": "188cd9a7",
   "metadata": {},
   "outputs": [],
   "source": [
    "old_value = \" '40 Core GPU'\"\n",
    "new_value = '40 Core GPU'\n",
    "\n",
    "# Replace the old value with the new value\n",
    "temp_df['graphics_card'] = temp_df['graphics_card'].replace(old_value, new_value)"
   ]
  },
  {
   "cell_type": "code",
   "execution_count": 112,
   "id": "41a0128e",
   "metadata": {},
   "outputs": [],
   "source": [
    "old_value = \" 'Arm Mali G52 MC2 2EE Graphics'\"\n",
    "new_value = 'Arm Mali G52 MC2 2EE Graphics'\n",
    "\n",
    "# Replace the old value with the new value\n",
    "temp_df['graphics_card'] = temp_df['graphics_card'].replace(old_value, new_value)\n"
   ]
  },
  {
   "cell_type": "code",
   "execution_count": 113,
   "id": "aeada8f9",
   "metadata": {},
   "outputs": [
    {
     "data": {
      "text/plain": [
       "4gb graph                                  125\n",
       "8gb graph                                   97\n",
       "6gb graph                                   89\n",
       "intel iris xe graphics                      57\n",
       "intel integrated uhd                        45\n",
       "intel uhd graphics                          39\n",
       "intel integrated iris xe                    36\n",
       "intel arc graphics                          31\n",
       "amd radeon amd                              24\n",
       "intel integrated                            18\n",
       "amd radeon graphics                         18\n",
       "12gb graph                                  17\n",
       "intel graphics                              14\n",
       "Qualcomm Adreno GPU                         13\n",
       "6gb rtx3050 graph                           12\n",
       "16gb graph                                  11\n",
       "4gb graphics                                11\n",
       "intel integrated uhd graphics               10\n",
       "integrated intel uhd graphics                9\n",
       "8gb rtx4060                                  8\n",
       "4 gb graphics                                8\n",
       "4gb rtx 2050                                 8\n",
       "8gb graphics                                 8\n",
       "amd radeon                                   8\n",
       "intel iris xe                                8\n",
       "8gb rtx4070                                  7\n",
       "intel integrated integrated                  7\n",
       "8gb rtx 4070 graph                           7\n",
       "6gb rtx4050                                  7\n",
       "6gb rtx3050                                  6\n",
       "Apple 8 Core GPU                             6\n",
       "6gb graphics                                 5\n",
       "2gb graph                                    5\n",
       "4gb rtx3050 graph                            5\n",
       "6gb rtx 4050                                 5\n",
       "amd graphics                                 4\n",
       "integrated intel arc graphics                4\n",
       "integrated intel graphics                    4\n",
       "intel integrated graphics                    4\n",
       "intel integrated arc graphics                4\n",
       "8gb rtx 4060 graph                           4\n",
       "Arm Mali-G72                                 4\n",
       "4gb rtx 2050 graph                           4\n",
       "iris xe graphics                             3\n",
       "rtx 3050 6gb graph                           3\n",
       "rtx 2050                                     3\n",
       "rtx 4060 8gb graph                           3\n",
       "4gb rtx 3050                                 3\n",
       "intel hd graphics                            3\n",
       "intel integrated arc                         3\n",
       "6gb rtx 3050 graph                           3\n",
       "6gb rtx4050 graph                            3\n",
       "rtx 3050a                                    3\n",
       "18 Core GPU                                  3\n",
       "intel iris xe graphics comes                 3\n",
       "intel integrated intel iris xe graphics      3\n",
       "intel integrated intel arc                   3\n",
       "rtx 4060 8gb graphics                        2\n",
       "intel uhd                                    2\n",
       "8gb graphics rtx 4060                        2\n",
       "256, gb ssd                                  2\n",
       "rtx 4050                                     2\n",
       "intel uhd graphics 600                       2\n",
       "4gb  rtx 3050 graph                          2\n",
       "16gb rtx 4090 graph                          2\n",
       "amd integrated                               2\n",
       "6gb rtx3050 graphics                         2\n",
       "amd radeon 610m graphics                     2\n",
       "integrated intel iris xe graphics            2\n",
       "integrated intel irisxe graphics             2\n",
       "16gb graphics rtx 4090                       2\n",
       "6gb rtx 3050 graphics                        2\n",
       "rtx 4090                                     2\n",
       "13.3, inches                                 2\n",
       "intel integrated intel uhd graphics          2\n",
       "rtx 4060                                     2\n",
       "4gb rtx3050                                  2\n",
       "6gb rtx 4050 graphics                        2\n",
       "30 Core GPU                                  2\n",
       "intel integrated iris                        2\n",
       "Apple 10 Core GPU                            2\n",
       "rtx 4050 6gb graphics                        1\n",
       "8gb rtx4070 graph                            1\n",
       "10 Core GPU                                  1\n",
       "6, gb nvidia geforce rtx 4050                1\n",
       "1 year warranty]                             1\n",
       "12gb rtx 4080 graph                          1\n",
       "2240, x, 1400, pixels                        1\n",
       "Not available                                1\n",
       "6gb rtx 4050 graph                           1\n",
       "intel iris plus                              1\n",
       "Arm Mali G52 MC2 2EE                         1\n",
       "intel integrated intel iris xe               1\n",
       "nvidia rtx a500                              1\n",
       "3840, x, 2160, pixels                        1\n",
       "4gb rtx2050                                  1\n",
       "intel hd                                     1\n",
       "amd radeon vega 8                            1\n",
       "2880, x, 1800, pixels                        1\n",
       "intel integrated uhd 600                     1\n",
       "2560, x, 1600, pixels                        1\n",
       "3840, x, 2400, pixels                        1\n",
       "integrated amd radeon graphics               1\n",
       "40 Core GPU                                  1\n",
       "6gb graph rtx 3050                           1\n",
       "intel arc graphic                            1\n",
       "intel integrated intel graphics              1\n",
       "amd radeon radeon graphics                   1\n",
       "rtx 4080                                     1\n",
       "6 gb graphics                                1\n",
       "intel  graphics                              1\n",
       "intel integarted graphics                    1\n",
       "2304, x, 1536, pixels                        1\n",
       "intel  arc graphics                          1\n",
       "Arm Mali G52 MC2 2EE Graphics                1\n",
       "amd radeon radeon                            1\n",
       "1920, x, 1080, pixels                        1\n",
       "amd radeon vega 7 graphics                   1\n",
       "intel iris xᵉ graphics                       1\n",
       "amd radeon 610m                              1\n",
       "Name: graphics_card, dtype: int64"
      ]
     },
     "execution_count": 113,
     "metadata": {},
     "output_type": "execute_result"
    }
   ],
   "source": [
    "temp_df['graphics_card'].value_counts()"
   ]
  },
  {
   "cell_type": "markdown",
   "id": "1f882e00",
   "metadata": {},
   "source": [
    "#### importing cleaned data to avoid any mishaps"
   ]
  },
  {
   "cell_type": "code",
   "execution_count": 114,
   "id": "0c16e5d8",
   "metadata": {},
   "outputs": [],
   "source": [
    "temp_df.to_excel(\"cleaned_laptop.xlsx\", index=False)"
   ]
  },
  {
   "cell_type": "code",
   "execution_count": 116,
   "id": "f32bbc18",
   "metadata": {},
   "outputs": [],
   "source": [
    "temp_df = pd.read_excel(\"cleaned_laptop.xlsx\")"
   ]
  },
  {
   "cell_type": "code",
   "execution_count": 117,
   "id": "0683a334",
   "metadata": {},
   "outputs": [
    {
     "data": {
      "text/plain": [
       "4gb graph                                  125\n",
       "8gb graph                                   97\n",
       "6gb graph                                   89\n",
       "intel iris xe graphics                      57\n",
       "intel integrated uhd                        45\n",
       "intel uhd graphics                          39\n",
       "intel integrated iris xe                    36\n",
       "intel arc graphics                          31\n",
       "amd radeon amd                              24\n",
       "intel integrated                            18\n",
       "amd radeon graphics                         18\n",
       "12gb graph                                  17\n",
       "intel graphics                              14\n",
       "Qualcomm Adreno GPU                         13\n",
       "6gb rtx3050 graph                           12\n",
       "16gb graph                                  11\n",
       "4gb graphics                                11\n",
       "intel integrated uhd graphics               10\n",
       "integrated intel uhd graphics                9\n",
       "8gb rtx4060                                  8\n",
       "4 gb graphics                                8\n",
       "4gb rtx 2050                                 8\n",
       "8gb graphics                                 8\n",
       "amd radeon                                   8\n",
       "intel iris xe                                8\n",
       "8gb rtx4070                                  7\n",
       "intel integrated integrated                  7\n",
       "8gb rtx 4070 graph                           7\n",
       "6gb rtx4050                                  7\n",
       "6gb rtx3050                                  6\n",
       "Apple 8 Core GPU                             6\n",
       "6gb graphics                                 5\n",
       "2gb graph                                    5\n",
       "4gb rtx3050 graph                            5\n",
       "6gb rtx 4050                                 5\n",
       "amd graphics                                 4\n",
       "integrated intel arc graphics                4\n",
       "integrated intel graphics                    4\n",
       "intel integrated graphics                    4\n",
       "intel integrated arc graphics                4\n",
       "8gb rtx 4060 graph                           4\n",
       "Arm Mali-G72                                 4\n",
       "4gb rtx 2050 graph                           4\n",
       "iris xe graphics                             3\n",
       "rtx 3050 6gb graph                           3\n",
       "rtx 2050                                     3\n",
       "rtx 4060 8gb graph                           3\n",
       "4gb rtx 3050                                 3\n",
       "intel hd graphics                            3\n",
       "intel integrated arc                         3\n",
       "6gb rtx 3050 graph                           3\n",
       "6gb rtx4050 graph                            3\n",
       "rtx 3050a                                    3\n",
       "18 Core GPU                                  3\n",
       "intel iris xe graphics comes                 3\n",
       "intel integrated intel iris xe graphics      3\n",
       "intel integrated intel arc                   3\n",
       "rtx 4060 8gb graphics                        2\n",
       "intel uhd                                    2\n",
       "8gb graphics rtx 4060                        2\n",
       "256, gb ssd                                  2\n",
       "rtx 4050                                     2\n",
       "intel uhd graphics 600                       2\n",
       "4gb  rtx 3050 graph                          2\n",
       "16gb rtx 4090 graph                          2\n",
       "amd integrated                               2\n",
       "6gb rtx3050 graphics                         2\n",
       "amd radeon 610m graphics                     2\n",
       "integrated intel iris xe graphics            2\n",
       "integrated intel irisxe graphics             2\n",
       "16gb graphics rtx 4090                       2\n",
       "6gb rtx 3050 graphics                        2\n",
       "rtx 4090                                     2\n",
       "13.3, inches                                 2\n",
       "intel integrated intel uhd graphics          2\n",
       "rtx 4060                                     2\n",
       "4gb rtx3050                                  2\n",
       "6gb rtx 4050 graphics                        2\n",
       "30 Core GPU                                  2\n",
       "intel integrated iris                        2\n",
       "Apple 10 Core GPU                            2\n",
       "rtx 4050 6gb graphics                        1\n",
       "8gb rtx4070 graph                            1\n",
       "10 Core GPU                                  1\n",
       "6, gb nvidia geforce rtx 4050                1\n",
       "1 year warranty]                             1\n",
       "12gb rtx 4080 graph                          1\n",
       "2240, x, 1400, pixels                        1\n",
       "Not available                                1\n",
       "6gb rtx 4050 graph                           1\n",
       "intel iris plus                              1\n",
       "Arm Mali G52 MC2 2EE                         1\n",
       "intel integrated intel iris xe               1\n",
       "nvidia rtx a500                              1\n",
       "3840, x, 2160, pixels                        1\n",
       "4gb rtx2050                                  1\n",
       "intel hd                                     1\n",
       "amd radeon vega 8                            1\n",
       "2880, x, 1800, pixels                        1\n",
       "intel integrated uhd 600                     1\n",
       "2560, x, 1600, pixels                        1\n",
       "3840, x, 2400, pixels                        1\n",
       "integrated amd radeon graphics               1\n",
       "40 Core GPU                                  1\n",
       "6gb graph rtx 3050                           1\n",
       "intel arc graphic                            1\n",
       "intel integrated intel graphics              1\n",
       "amd radeon radeon graphics                   1\n",
       "rtx 4080                                     1\n",
       "6 gb graphics                                1\n",
       "intel  graphics                              1\n",
       "intel integarted graphics                    1\n",
       "2304, x, 1536, pixels                        1\n",
       "intel  arc graphics                          1\n",
       "Arm Mali G52 MC2 2EE Graphics                1\n",
       "amd radeon radeon                            1\n",
       "1920, x, 1080, pixels                        1\n",
       "amd radeon vega 7 graphics                   1\n",
       "intel iris xᵉ graphics                       1\n",
       "amd radeon 610m                              1\n",
       "Name: graphics_card, dtype: int64"
      ]
     },
     "execution_count": 117,
     "metadata": {},
     "output_type": "execute_result"
    }
   ],
   "source": [
    "temp_df['graphics_card'].value_counts()"
   ]
  },
  {
   "cell_type": "code",
   "execution_count": 118,
   "id": "1ccff887",
   "metadata": {},
   "outputs": [],
   "source": [
    "# 13.3, inches\n",
    "# 1 year warranty]\n",
    "# 3840, x, 2160, pixels\n",
    "# 2880, x, 1800, pixels\n",
    "\n",
    "# 2560, x, 1600, pixels\n",
    "# 3840, x, 2400, pixels\n",
    "# 2304, x, 1536, pixels\n",
    "# 1920, x, 1080, pixels"
   ]
  },
  {
   "cell_type": "code",
   "execution_count": 119,
   "id": "0658cffe",
   "metadata": {},
   "outputs": [],
   "source": [
    "extracted_values_graphics_card3 = temp_df[temp_df['graphics_card'] == \"13.3, inches\"]['features'].apply(extract_from_list).str.split(\",\").str[4]\n",
    "temp_df.loc[temp_df['graphics_card'] == \"13.3, inches\", 'graphics_card'] = extracted_values_graphics_card3"
   ]
  },
  {
   "cell_type": "code",
   "execution_count": 120,
   "id": "e2a72e50",
   "metadata": {},
   "outputs": [
    {
     "data": {
      "text/plain": [
       "4gb graph                                  125\n",
       "8gb graph                                   97\n",
       "6gb graph                                   89\n",
       "intel iris xe graphics                      57\n",
       "intel integrated uhd                        45\n",
       "intel uhd graphics                          39\n",
       "intel integrated iris xe                    36\n",
       "intel arc graphics                          31\n",
       "amd radeon amd                              24\n",
       "intel integrated                            18\n",
       "amd radeon graphics                         18\n",
       "12gb graph                                  17\n",
       "intel graphics                              14\n",
       "Qualcomm Adreno GPU                         13\n",
       "6gb rtx3050 graph                           12\n",
       "16gb graph                                  11\n",
       "4gb graphics                                11\n",
       "intel integrated uhd graphics               10\n",
       "integrated intel uhd graphics                9\n",
       "8gb rtx4060                                  8\n",
       "4 gb graphics                                8\n",
       "4gb rtx 2050                                 8\n",
       "8gb graphics                                 8\n",
       "amd radeon                                   8\n",
       "intel iris xe                                8\n",
       "8gb rtx4070                                  7\n",
       "intel integrated integrated                  7\n",
       "8gb rtx 4070 graph                           7\n",
       "6gb rtx4050                                  7\n",
       "6gb rtx3050                                  6\n",
       "Apple 8 Core GPU                             6\n",
       "6gb graphics                                 5\n",
       "2gb graph                                    5\n",
       "4gb rtx3050 graph                            5\n",
       "6gb rtx 4050                                 5\n",
       "amd graphics                                 4\n",
       "integrated intel arc graphics                4\n",
       "integrated intel graphics                    4\n",
       "intel integrated graphics                    4\n",
       "intel integrated arc graphics                4\n",
       "8gb rtx 4060 graph                           4\n",
       "Arm Mali-G72                                 4\n",
       "4gb rtx 2050 graph                           4\n",
       "iris xe graphics                             3\n",
       "rtx 3050 6gb graph                           3\n",
       "rtx 2050                                     3\n",
       "rtx 4060 8gb graph                           3\n",
       "4gb rtx 3050                                 3\n",
       "intel hd graphics                            3\n",
       "intel integrated arc                         3\n",
       "6gb rtx 3050 graph                           3\n",
       "6gb rtx4050 graph                            3\n",
       "rtx 3050a                                    3\n",
       "18 Core GPU                                  3\n",
       "intel iris xe graphics comes                 3\n",
       "intel integrated intel iris xe graphics      3\n",
       "intel integrated intel arc                   3\n",
       "rtx 4060 8gb graphics                        2\n",
       "intel uhd                                    2\n",
       "8gb graphics rtx 4060                        2\n",
       "256, gb ssd                                  2\n",
       "rtx 4050                                     2\n",
       "intel uhd graphics 600                       2\n",
       "4gb  rtx 3050 graph                          2\n",
       "16gb rtx 4090 graph                          2\n",
       "amd integrated                               2\n",
       "6gb rtx3050 graphics                         2\n",
       "amd radeon 610m graphics                     2\n",
       "integrated intel iris xe graphics            2\n",
       "integrated intel irisxe graphics             2\n",
       "16gb graphics rtx 4090                       2\n",
       "6gb rtx 3050 graphics                        2\n",
       "rtx 4090                                     2\n",
       " 'Apple M1 Integrated Graphics'              2\n",
       "intel integrated intel uhd graphics          2\n",
       "rtx 4060                                     2\n",
       "4gb rtx3050                                  2\n",
       "6gb rtx 4050 graphics                        2\n",
       "30 Core GPU                                  2\n",
       "intel integrated iris                        2\n",
       "Apple 10 Core GPU                            2\n",
       "rtx 4050 6gb graphics                        1\n",
       "8gb rtx4070 graph                            1\n",
       "10 Core GPU                                  1\n",
       "6, gb nvidia geforce rtx 4050                1\n",
       "1 year warranty]                             1\n",
       "12gb rtx 4080 graph                          1\n",
       "2240, x, 1400, pixels                        1\n",
       "Not available                                1\n",
       "6gb rtx 4050 graph                           1\n",
       "intel iris plus                              1\n",
       "Arm Mali G52 MC2 2EE                         1\n",
       "intel integrated intel iris xe               1\n",
       "nvidia rtx a500                              1\n",
       "3840, x, 2160, pixels                        1\n",
       "4gb rtx2050                                  1\n",
       "intel hd                                     1\n",
       "amd radeon vega 8                            1\n",
       "2880, x, 1800, pixels                        1\n",
       "intel integrated uhd 600                     1\n",
       "2560, x, 1600, pixels                        1\n",
       "3840, x, 2400, pixels                        1\n",
       "integrated amd radeon graphics               1\n",
       "40 Core GPU                                  1\n",
       "6gb graph rtx 3050                           1\n",
       "intel arc graphic                            1\n",
       "intel integrated intel graphics              1\n",
       "amd radeon radeon graphics                   1\n",
       "rtx 4080                                     1\n",
       "6 gb graphics                                1\n",
       "intel  graphics                              1\n",
       "intel integarted graphics                    1\n",
       "2304, x, 1536, pixels                        1\n",
       "intel  arc graphics                          1\n",
       "Arm Mali G52 MC2 2EE Graphics                1\n",
       "amd radeon radeon                            1\n",
       "1920, x, 1080, pixels                        1\n",
       "amd radeon vega 7 graphics                   1\n",
       "intel iris xᵉ graphics                       1\n",
       "amd radeon 610m                              1\n",
       "Name: graphics_card, dtype: int64"
      ]
     },
     "execution_count": 120,
     "metadata": {},
     "output_type": "execute_result"
    }
   ],
   "source": [
    "temp_df['graphics_card'].value_counts()"
   ]
  },
  {
   "cell_type": "code",
   "execution_count": 121,
   "id": "31578310",
   "metadata": {},
   "outputs": [],
   "source": [
    "temp_df.loc[temp_df['graphics_card'] == \"1 year warranty]\", 'graphics_card'] = \"Not available\""
   ]
  },
  {
   "cell_type": "code",
   "execution_count": 122,
   "id": "1adf8f4e",
   "metadata": {},
   "outputs": [],
   "source": [
    "extracted_values_graphics_card4 = temp_df[temp_df['graphics_card'] == \"3840, x, 2160, pixels\"]['features'].apply(extract_from_list).str.split(\",\").str[3]\n",
    "temp_df.loc[temp_df['graphics_card'] == \"3840, x, 2160, pixels\", 'graphics_card'] = extracted_values_graphics_card4"
   ]
  },
  {
   "cell_type": "code",
   "execution_count": 123,
   "id": "96a99eba",
   "metadata": {},
   "outputs": [],
   "source": [
    "extracted_values_graphics_card5 = temp_df[temp_df['graphics_card'] == \"2880, x, 1800, pixels\"]['features'].apply(extract_from_list).str.split(\",\").str[3]\n",
    "temp_df.loc[temp_df['graphics_card'] == \"2880, x, 1800, pixels\", 'graphics_card'] = extracted_values_graphics_card5"
   ]
  },
  {
   "cell_type": "code",
   "execution_count": 124,
   "id": "37c6f256",
   "metadata": {},
   "outputs": [],
   "source": [
    "extracted_values_graphics_card6 = temp_df[temp_df['graphics_card'] == \"2560, x, 1600, pixels\"]['features'].apply(extract_from_list).str.split(\",\").str[3]\n",
    "extracted_values_graphics_card7 = temp_df[temp_df['graphics_card'] == \"3840, x, 2400, pixels\"]['features'].apply(extract_from_list).str.split(\",\").str[3]\n",
    "extracted_values_graphics_card8 = temp_df[temp_df['graphics_card'] == \"2304, x, 1536, pixels\"]['features'].apply(extract_from_list).str.split(\",\").str[3]\n",
    "extracted_values_graphics_card9 = temp_df[temp_df['graphics_card'] == \"1920, x, 1080, pixels\"]['features'].apply(extract_from_list).str.split(\",\").str[3]\n",
    "\n",
    "\n",
    "temp_df.loc[temp_df['graphics_card'] == \"2560, x, 1600, pixels\", 'graphics_card'] = extracted_values_graphics_card6\n",
    "temp_df.loc[temp_df['graphics_card'] == \"3840, x, 2400, pixels\", 'graphics_card'] = extracted_values_graphics_card7\n",
    "temp_df.loc[temp_df['graphics_card'] == \"2304, x, 1536, pixels\", 'graphics_card'] = extracted_values_graphics_card8\n",
    "temp_df.loc[temp_df['graphics_card'] == \"1920, x, 1080, pixels\", 'graphics_card'] = extracted_values_graphics_card9"
   ]
  },
  {
   "cell_type": "code",
   "execution_count": 125,
   "id": "abee10a1",
   "metadata": {},
   "outputs": [
    {
     "data": {
      "text/plain": [
       "4gb graph                                  125\n",
       "8gb graph                                   97\n",
       "6gb graph                                   89\n",
       "intel iris xe graphics                      57\n",
       "intel integrated uhd                        45\n",
       "intel uhd graphics                          39\n",
       "intel integrated iris xe                    36\n",
       "intel arc graphics                          31\n",
       "amd radeon amd                              24\n",
       "intel integrated                            18\n",
       "amd radeon graphics                         18\n",
       "12gb graph                                  17\n",
       "intel graphics                              14\n",
       "Qualcomm Adreno GPU                         13\n",
       "6gb rtx3050 graph                           12\n",
       "16gb graph                                  11\n",
       "4gb graphics                                11\n",
       "intel integrated uhd graphics               10\n",
       "integrated intel uhd graphics                9\n",
       "8gb graphics                                 8\n",
       "8gb rtx4060                                  8\n",
       "4 gb graphics                                8\n",
       "4gb rtx 2050                                 8\n",
       "amd radeon                                   8\n",
       "intel iris xe                                8\n",
       "8gb rtx 4070 graph                           7\n",
       "8gb rtx4070                                  7\n",
       "6gb rtx4050                                  7\n",
       "intel integrated integrated                  7\n",
       "Apple 8 Core GPU                             6\n",
       "6gb rtx3050                                  6\n",
       "4gb rtx3050 graph                            5\n",
       "2gb graph                                    5\n",
       "6gb graphics                                 5\n",
       "6gb rtx 4050                                 5\n",
       "amd graphics                                 4\n",
       "intel integrated arc graphics                4\n",
       "integrated intel arc graphics                4\n",
       "integrated intel graphics                    4\n",
       "intel integrated graphics                    4\n",
       "4gb rtx 2050 graph                           4\n",
       "Arm Mali-G72                                 4\n",
       "8gb rtx 4060 graph                           4\n",
       "iris xe graphics                             3\n",
       "rtx 2050                                     3\n",
       "4gb rtx 3050                                 3\n",
       "intel integrated arc                         3\n",
       "intel hd graphics                            3\n",
       "rtx 4060 8gb graph                           3\n",
       "6gb rtx4050 graph                            3\n",
       "intel iris xe graphics comes                 3\n",
       "rtx 3050 6gb graph                           3\n",
       "6gb rtx 3050 graph                           3\n",
       "rtx 3050a                                    3\n",
       "intel integrated intel arc                   3\n",
       "intel integrated intel iris xe graphics      3\n",
       "18 Core GPU                                  3\n",
       "30 Core GPU                                  2\n",
       "intel integrated iris                        2\n",
       "intel uhd                                    2\n",
       "amd radeon 610m graphics                     2\n",
       "Not available                                2\n",
       "16gb rtx 4090 graph                          2\n",
       "rtx 4050                                     2\n",
       "Apple 10 Core GPU                            2\n",
       "8gb graphics rtx 4060                        2\n",
       " 'Apple M1 Integrated Graphics'              2\n",
       "6gb rtx3050 graphics                         2\n",
       "4gb  rtx 3050 graph                          2\n",
       "amd integrated                               2\n",
       "6gb rtx 3050 graphics                        2\n",
       "rtx 4060 8gb graphics                        2\n",
       "intel uhd graphics 600                       2\n",
       "rtx 4090                                     2\n",
       "intel integrated intel uhd graphics          2\n",
       "16gb graphics rtx 4090                       2\n",
       "256, gb ssd                                  2\n",
       "rtx 4060                                     2\n",
       "4gb rtx3050                                  2\n",
       "integrated intel irisxe graphics             2\n",
       "6gb rtx 4050 graphics                        2\n",
       "integrated intel iris xe graphics            2\n",
       " 'Intel Integrated'                          1\n",
       "rtx 4050 6gb graphics                        1\n",
       "Arm Mali G52 MC2 2EE                         1\n",
       "2240, x, 1400, pixels                        1\n",
       "12gb rtx 4080 graph                          1\n",
       "6gb rtx 4050 graph                           1\n",
       "8gb rtx4070 graph                            1\n",
       "nvidia rtx a500                              1\n",
       "intel integrated intel iris xe               1\n",
       "intel hd                                     1\n",
       "6, gb nvidia geforce rtx 4050                1\n",
       "10 Core GPU                                  1\n",
       "intel iris plus                              1\n",
       "4gb rtx2050                                  1\n",
       "amd radeon vega 8                            1\n",
       "amd radeon radeon graphics                   1\n",
       " 'Intel Arc Graphics'                        1\n",
       "intel integrated uhd 600                     1\n",
       " '8\\u2009GB NVIDIA GeForce RTX 4060'         1\n",
       " '8\\u2009GB NVIDIA GeForce RTX 4070'         1\n",
       "integrated amd radeon graphics               1\n",
       "40 Core GPU                                  1\n",
       "6gb graph rtx 3050                           1\n",
       "intel arc graphic                            1\n",
       "intel integrated intel graphics              1\n",
       "rtx 4080                                     1\n",
       "intel iris xᵉ graphics                       1\n",
       "6 gb graphics                                1\n",
       "intel  graphics                              1\n",
       "intel integarted graphics                    1\n",
       " 'Qualcomm Adreno GPU'                       1\n",
       "intel  arc graphics                          1\n",
       "Arm Mali G52 MC2 2EE Graphics                1\n",
       "amd radeon radeon                            1\n",
       " 'Intel Integrated Integrated'               1\n",
       "amd radeon vega 7 graphics                   1\n",
       "amd radeon 610m                              1\n",
       "Name: graphics_card, dtype: int64"
      ]
     },
     "execution_count": 125,
     "metadata": {},
     "output_type": "execute_result"
    }
   ],
   "source": [
    "temp_df['graphics_card'].value_counts()"
   ]
  },
  {
   "cell_type": "code",
   "execution_count": 126,
   "id": "2086fe0a",
   "metadata": {},
   "outputs": [],
   "source": [
    "#  '8\\u2009GB NVIDIA GeForce RTX 4060'         1\n",
    "#  '8\\u2009GB NVIDIA GeForce RTX 4070'         1\n",
    "#  'Qualcomm Adreno GPU'                       1\n",
    "#  'Intel Integrated Integrated'               1"
   ]
  },
  {
   "cell_type": "code",
   "execution_count": 127,
   "id": "ee17f543",
   "metadata": {},
   "outputs": [],
   "source": [
    "old_value = r\" '8\\u2009GB NVIDIA GeForce RTX 4060'\"\n",
    "new_value = 'NVIDIA GeForce RTX 4060'\n",
    "\n",
    "# Replace the old value with the new value\n",
    "temp_df['graphics_card'] = temp_df['graphics_card'].replace(old_value, new_value)"
   ]
  },
  {
   "cell_type": "code",
   "execution_count": 128,
   "id": "9c7b0aab",
   "metadata": {},
   "outputs": [],
   "source": [
    "old_value = r\" '8\\u2009GB NVIDIA GeForce RTX 4070'\"\n",
    "new_value = 'NVIDIA GeForce RTX 4070'\n",
    "\n",
    "# Replace the old value with the new value\n",
    "temp_df['graphics_card'] = temp_df['graphics_card'].replace(old_value, new_value)"
   ]
  },
  {
   "cell_type": "code",
   "execution_count": 129,
   "id": "83539a5e",
   "metadata": {},
   "outputs": [],
   "source": [
    "old_value = r\" 'Qualcomm Adreno GPU'\"\n",
    "new_value = 'Qualcomm Adreno GPU'\n",
    "\n",
    "# Replace the old value with the new value\n",
    "temp_df['graphics_card'] = temp_df['graphics_card'].replace(old_value, new_value)"
   ]
  },
  {
   "cell_type": "code",
   "execution_count": 130,
   "id": "00293e28",
   "metadata": {},
   "outputs": [],
   "source": [
    "old_value = r\" 'Intel Integrated'\"\n",
    "new_value = 'Intel Integrated'\n",
    "\n",
    "# Replace the old value with the new value\n",
    "temp_df['graphics_card'] = temp_df['graphics_card'].replace(old_value, new_value)"
   ]
  },
  {
   "cell_type": "code",
   "execution_count": 131,
   "id": "d33f612f",
   "metadata": {},
   "outputs": [],
   "source": [
    "old_value = r\" 'Intel Arc Graphics'\"\n",
    "new_value = 'Intel Arc Graphics'\n",
    "\n",
    "# Replace the old value with the new value\n",
    "temp_df['graphics_card'] = temp_df['graphics_card'].replace(old_value, new_value)"
   ]
  },
  {
   "cell_type": "code",
   "execution_count": 132,
   "id": "ebfe5d92",
   "metadata": {},
   "outputs": [
    {
     "data": {
      "text/plain": [
       "4gb graph                                  125\n",
       "8gb graph                                   97\n",
       "6gb graph                                   89\n",
       "intel iris xe graphics                      57\n",
       "intel integrated uhd                        45\n",
       "intel uhd graphics                          39\n",
       "intel integrated iris xe                    36\n",
       "intel arc graphics                          31\n",
       "amd radeon amd                              24\n",
       "intel integrated                            18\n",
       "amd radeon graphics                         18\n",
       "12gb graph                                  17\n",
       "Qualcomm Adreno GPU                         14\n",
       "intel graphics                              14\n",
       "6gb rtx3050 graph                           12\n",
       "16gb graph                                  11\n",
       "4gb graphics                                11\n",
       "intel integrated uhd graphics               10\n",
       "integrated intel uhd graphics                9\n",
       "8gb rtx4060                                  8\n",
       "amd radeon                                   8\n",
       "4 gb graphics                                8\n",
       "8gb graphics                                 8\n",
       "4gb rtx 2050                                 8\n",
       "intel iris xe                                8\n",
       "6gb rtx4050                                  7\n",
       "8gb rtx4070                                  7\n",
       "intel integrated integrated                  7\n",
       "8gb rtx 4070 graph                           7\n",
       "Apple 8 Core GPU                             6\n",
       "6gb rtx3050                                  6\n",
       "2gb graph                                    5\n",
       "4gb rtx3050 graph                            5\n",
       "6gb graphics                                 5\n",
       "6gb rtx 4050                                 5\n",
       "Arm Mali-G72                                 4\n",
       "intel integrated arc graphics                4\n",
       "integrated intel arc graphics                4\n",
       "8gb rtx 4060 graph                           4\n",
       "4gb rtx 2050 graph                           4\n",
       "integrated intel graphics                    4\n",
       "intel integrated graphics                    4\n",
       "amd graphics                                 4\n",
       "rtx 3050 6gb graph                           3\n",
       "intel iris xe graphics comes                 3\n",
       "6gb rtx4050 graph                            3\n",
       "rtx 3050a                                    3\n",
       "rtx 4060 8gb graph                           3\n",
       "intel hd graphics                            3\n",
       "iris xe graphics                             3\n",
       "intel integrated arc                         3\n",
       "intel integrated intel arc                   3\n",
       "18 Core GPU                                  3\n",
       "intel integrated intel iris xe graphics      3\n",
       "rtx 2050                                     3\n",
       "4gb rtx 3050                                 3\n",
       "6gb rtx 3050 graph                           3\n",
       "amd integrated                               2\n",
       "intel uhd                                    2\n",
       "16gb rtx 4090 graph                          2\n",
       " 'Apple M1 Integrated Graphics'              2\n",
       "rtx 4060                                     2\n",
       "rtx 4050                                     2\n",
       "30 Core GPU                                  2\n",
       "intel integrated iris                        2\n",
       "6gb rtx3050 graphics                         2\n",
       "intel uhd graphics 600                       2\n",
       "4gb  rtx 3050 graph                          2\n",
       "rtx 4060 8gb graphics                        2\n",
       "Apple 10 Core GPU                            2\n",
       "6gb rtx 3050 graphics                        2\n",
       "8gb graphics rtx 4060                        2\n",
       "rtx 4090                                     2\n",
       "intel integrated intel uhd graphics          2\n",
       "Not available                                2\n",
       "256, gb ssd                                  2\n",
       "integrated intel iris xe graphics            2\n",
       "4gb rtx3050                                  2\n",
       "integrated intel irisxe graphics             2\n",
       "6gb rtx 4050 graphics                        2\n",
       "16gb graphics rtx 4090                       2\n",
       "amd radeon 610m graphics                     2\n",
       "rtx 4050 6gb graphics                        1\n",
       "2240, x, 1400, pixels                        1\n",
       "Arm Mali G52 MC2 2EE                         1\n",
       "12gb rtx 4080 graph                          1\n",
       "6gb rtx 4050 graph                           1\n",
       "8gb rtx4070 graph                            1\n",
       "nvidia rtx a500                              1\n",
       "intel integrated intel iris xe               1\n",
       "intel iris plus                              1\n",
       "6, gb nvidia geforce rtx 4050                1\n",
       "10 Core GPU                                  1\n",
       "Intel Integrated                             1\n",
       "4gb rtx2050                                  1\n",
       "intel hd                                     1\n",
       "amd radeon radeon graphics                   1\n",
       "Intel Arc Graphics                           1\n",
       "intel integrated uhd 600                     1\n",
       "NVIDIA GeForce RTX 4060                      1\n",
       "NVIDIA GeForce RTX 4070                      1\n",
       "integrated amd radeon graphics               1\n",
       "40 Core GPU                                  1\n",
       "6gb graph rtx 3050                           1\n",
       "intel arc graphic                            1\n",
       "intel integrated intel graphics              1\n",
       "rtx 4080                                     1\n",
       "amd radeon vega 8                            1\n",
       "6 gb graphics                                1\n",
       "intel  graphics                              1\n",
       "intel integarted graphics                    1\n",
       "intel  arc graphics                          1\n",
       "Arm Mali G52 MC2 2EE Graphics                1\n",
       "amd radeon radeon                            1\n",
       " 'Intel Integrated Integrated'               1\n",
       "amd radeon vega 7 graphics                   1\n",
       "intel iris xᵉ graphics                       1\n",
       "amd radeon 610m                              1\n",
       "Name: graphics_card, dtype: int64"
      ]
     },
     "execution_count": 132,
     "metadata": {},
     "output_type": "execute_result"
    }
   ],
   "source": [
    "temp_df['graphics_card'].value_counts()"
   ]
  },
  {
   "cell_type": "code",
   "execution_count": 133,
   "id": "63681fe8",
   "metadata": {},
   "outputs": [],
   "source": [
    "mapping = {\n",
    "    \"4gb graph\": \"Intel Integrated Graphics\",\n",
    "    \"8gb graph\": \"Intel Integrated Graphics\",\n",
    "    \"6gb graph\": \"Intel Integrated Graphics\",\n",
    "    \"intel iris xe graphics\": \"Intel Integrated Graphics\",\n",
    "    \"intel integrated uhd\": \"Intel Integrated Graphics\",\n",
    "    \"intel uhd graphics\": \"Intel Integrated Graphics\",\n",
    "    \"intel integrated iris xe\": \"Intel Integrated Graphics\",\n",
    "    \"intel arc graphics\": \"Intel Integrated Graphics\",\n",
    "    \"amd radeon amd\": \"AMD Graphics\",\n",
    "    \"amd radeon graphics\": \"AMD Graphics\",\n",
    "    \"intel integrated\": \"Intel Integrated Graphics\",\n",
    "    \"12gb graph\": \"Other\",\n",
    "    \"Qualcomm Adreno GPU\": \"Other\",\n",
    "    \"intel graphics\": \"Intel Integrated Graphics\",\n",
    "    \"6gb rtx3050 graph\": \"NVIDIA Graphics\",\n",
    "    \"16gb graph\": \"Other\",\n",
    "    \"4gb graphics\": \"Intel Integrated Graphics\",\n",
    "    \"intel integrated uhd graphics\": \"Intel Integrated Graphics\",\n",
    "    \"integrated intel uhd graphics\": \"Intel Integrated Graphics\",\n",
    "    \"4gb rtx 2050\": \"NVIDIA Graphics\",\n",
    "    \"8gb rtx4060\": \"NVIDIA Graphics\",\n",
    "    \"4 gb graphics\": \"Intel Integrated Graphics\",\n",
    "    \"8gb graphics\": \"Intel Integrated Graphics\",\n",
    "    \"intel iris xe\": \"Intel Integrated Graphics\",\n",
    "    \"amd radeon\": \"AMD Graphics\",\n",
    "    \"6gb rtx4050\": \"NVIDIA Graphics\",\n",
    "    \"intel integrated integrated\": \"Intel Integrated Graphics\",\n",
    "    \"8gb rtx4070\": \"NVIDIA Graphics\",\n",
    "    \"8gb rtx 4070 graph\": \"NVIDIA Graphics\",\n",
    "    \"6gb rtx3050\": \"NVIDIA Graphics\",\n",
    "    \"Apple 8 Core GPU\": \"Other\",\n",
    "    \"2gb graph\": \"Other\",\n",
    "    \"4gb rtx3050 graph\": \"NVIDIA Graphics\",\n",
    "    \"6gb rtx 4050\": \"NVIDIA Graphics\",\n",
    "    \"6gb graphics\": \"Intel Integrated Graphics\",\n",
    "    \"integrated intel graphics\": \"Intel Integrated Graphics\",\n",
    "    \"integrated intel arc graphics\": \"Intel Integrated Graphics\",\n",
    "    \"amd graphics\": \"AMD Graphics\",\n",
    "    \"intel integrated graphics\": \"Intel Integrated Graphics\",\n",
    "    \"intel integrated arc graphics\": \"Intel Integrated Graphics\",\n",
    "    \"Arm Mali-G72\": \"Other\",\n",
    "    \"4gb rtx 2050 graph\": \"NVIDIA Graphics\",\n",
    "    \"8gb rtx 4060 graph\": \"NVIDIA Graphics\",\n",
    "    \"rtx 4060 8gb graph\": \"NVIDIA Graphics\",\n",
    "    \"6gb rtx 3050 graph\": \"NVIDIA Graphics\",\n",
    "    \"intel integrated arc\": \"Intel Integrated Graphics\",\n",
    "    \"rtx 2050\": \"NVIDIA Graphics\",\n",
    "    \"4gb rtx 3050\": \"NVIDIA Graphics\",\n",
    "    \"iris xe graphics\": \"Intel Integrated Graphics\",\n",
    "    \"6gb rtx4050 graph\": \"NVIDIA Graphics\",\n",
    "    \"intel iris xe graphics comes\": \"Intel Integrated Graphics\",\n",
    "    \"intel integrated intel arc\": \"Intel Integrated Graphics\",\n",
    "    \"rtx 3050a\": \"NVIDIA Graphics\",\n",
    "    \"rtx 3050 6gb graph\": \"NVIDIA Graphics\",\n",
    "    \"intel hd graphics\": \"Intel Integrated Graphics\",\n",
    "    \"intel integrated intel iris xe graphics\": \"Intel Integrated Graphics\",\n",
    "    \"18 Core GPU\": \"Other\",\n",
    "    \"6gb rtx3050 graphics\": \"NVIDIA Graphics\",\n",
    "    \"integrated intel irisxe graphics\": \"Intel Integrated Graphics\",\n",
    "    \"rtx 4050\": \"NVIDIA Graphics\",\n",
    "    \"16gb rtx 4090 graph\": \"NVIDIA Graphics\",\n",
    "    \"amd radeon 610m graphics\": \"AMD Graphics\",\n",
    "    \"intel uhd\": \"Intel Integrated Graphics\",\n",
    "    \"4gb  rtx 3050 graph\": \"NVIDIA Graphics\",\n",
    "    \"256, gb ssd\": \"Other\",\n",
    "    \"rtx 4060 8gb graphics\": \"NVIDIA Graphics\",\n",
    "    \"intel uhd graphics 600\": \"Intel Integrated Graphics\",\n",
    "    \"amd integrated\": \"AMD Graphics\",\n",
    "    \"8gb graphics rtx 4060\": \"NVIDIA Graphics\",\n",
    "    \"rtx 4060\": \"NVIDIA Graphics\",\n",
    "    \"rtx 4090\": \"NVIDIA Graphics\",\n",
    "    \"intel integrated intel uhd graphics\": \"Intel Integrated Graphics\",\n",
    "    \"30 Core GPU\": \"Other\",\n",
    "    \"4gb rtx3050\": \"NVIDIA Graphics\",\n",
    "    \"6gb rtx 4050 graphics\": \"NVIDIA Graphics\",\n",
    "    \"intel integrated iris\": \"Intel Integrated Graphics\",\n",
    "    \"Apple 10 Core GPU\": \"Other\",\n",
    "    \"6gb rtx 3050 graphics\": \"NVIDIA Graphics\",\n",
    "    \"16gb graphics rtx 4090\": \"NVIDIA Graphics\",\n",
    "    \"integrated intel iris xe graphics\": \"Intel Integrated Graphics\",\n",
    "    \"Not available\": \"Other\",\n",
    "    \"6gb rtx 4050 graph\": \"NVIDIA Graphics\",\n",
    "    \"6, gb nvidia geforce rtx 4050\": \"NVIDIA Graphics\",\n",
    "    \"rtx 4050 6gb graphics\": \"NVIDIA Graphics\",\n",
    "    \"10 Core GPU\": \"Other\",\n",
    "    \"12gb rtx 4080 graph\": \"NVIDIA Graphics\",\n",
    "    \"2240, x, 1400, pixels\": \"Other\",\n",
    "    \"intel iris plus\": \"Intel Integrated Graphics\",\n",
    "    \"intel integrated intel iris xe\": \"Intel Integrated Graphics\",\n",
    "    \"nvidia rtx a500\": \"NVIDIA Graphics\",\n",
    "    \"8gb rtx4070 graph\": \"NVIDIA Graphics\",\n",
    "    \"Arm Mali G52 MC2 2EE\": \"Other\",\n",
    "    \"4gb rtx2050\": \"NVIDIA Graphics\",\n",
    "    \"intel hd\": \"Intel Integrated Graphics\",\n",
    "    \"amd radeon vega 8\": \"AMD Graphics\",\n",
    "    \"Intel Arc Graphics\": \"Intel Integrated Graphics\",\n",
    "    \"intel integrated uhd 600\": \"Intel Integrated Graphics\",\n",
    "    \"NVIDIA GeForce RTX 4060\": \"NVIDIA Graphics\",\n",
    "    \"NVIDIA GeForce RTX 4070\": \"NVIDIA Graphics\",\n",
    "    \"integrated amd radeon graphics\": \"AMD Graphics\",\n",
    "    \"40 Core GPU\": \"Other\",\n",
    "    \"6gb graph rtx 3050\": \"NVIDIA Graphics\",\n",
    "    \"intel arc graphic\": \"Intel Integrated Graphics\",\n",
    "    \"intel integrated intel graphics\": \"Intel Integrated Graphics\",\n",
    "    \"amd radeon radeon graphics\": \"AMD Graphics\",\n",
    "    \"rtx 4080\": \"NVIDIA Graphics\",\n",
    "    \"6 gb graphics\": \"Intel Integrated Graphics\",\n",
    "    \"intel  graphics\": \"Intel Integrated Graphics\",\n",
    "    \"intel integarted graphics\": \"Intel Integrated Graphics\",\n",
    "    \"intel  arc graphics\": \"Intel Integrated Graphics\",\n",
    "    \"Arm Mali G52 MC2 2EE Graphics\": \"Other\",\n",
    "    \"amd radeon radeon\": \"AMD Graphics\",\n",
    "    \"amd radeon vega 7 graphics\": \"AMD Graphics\",\n",
    "    \"intel iris xᵉ graphics\": \"Intel Integrated Graphics\",\n",
    "    \"amd radeon 610m\": \"AMD Graphics\"\n",
    "}\n",
    "\n",
    "# Apply the mapping to the DataFrame\n",
    "temp_df['graphics_card'] = temp_df['graphics_card'].map(mapping).fillna(\"Other\")"
   ]
  },
  {
   "cell_type": "code",
   "execution_count": 134,
   "id": "3c876f91",
   "metadata": {},
   "outputs": [
    {
     "data": {
      "text/plain": [
       "Intel Integrated Graphics    675\n",
       "NVIDIA Graphics              129\n",
       "Other                         77\n",
       "AMD Graphics                  64\n",
       "Name: graphics_card, dtype: int64"
      ]
     },
     "execution_count": 134,
     "metadata": {},
     "output_type": "execute_result"
    }
   ],
   "source": [
    "temp_df['graphics_card'].value_counts()"
   ]
  },
  {
   "cell_type": "code",
   "execution_count": 135,
   "id": "cbdb0501",
   "metadata": {},
   "outputs": [
    {
     "data": {
      "text/plain": [
       "21      1920\\u2009x\\u20091080\\u2009pixels'\n",
       "161     1920\\u2009x\\u20091080\\u2009pixels'\n",
       "298     1920\\u2009x\\u20091080\\u2009pixels'\n",
       "381     1920\\u2009x\\u20091080\\u2009pixels'\n",
       "893                          Touch Screen'\n",
       "368     1920\\u2009x\\u20091080\\u2009pixels'\n",
       "443     1920\\u2009x\\u20091080\\u2009pixels'\n",
       "Name: resolution, dtype: object"
      ]
     },
     "execution_count": 135,
     "metadata": {},
     "output_type": "execute_result"
    }
   ],
   "source": [
    "temp_df['resolution'].sample(7)"
   ]
  },
  {
   "cell_type": "code",
   "execution_count": 136,
   "id": "3220bb26",
   "metadata": {},
   "outputs": [],
   "source": [
    "# Replace thin spaces with regular spaces\n",
    "temp_df['resolution'] = temp_df['resolution'].str.replace(r'\\u2009', ' ', regex=False)"
   ]
  },
  {
   "cell_type": "code",
   "execution_count": 137,
   "id": "cd62db28",
   "metadata": {},
   "outputs": [],
   "source": [
    "# Format resolution if it contains \"pixels\", otherwise keep \"Touch Screen\"\n",
    "def format_resolution(value):\n",
    "    if 'Touch Screen' in value:\n",
    "        return 'Touch Screen'\n",
    "    match = pd.Series(value).str.extract(r'(\\d{3,4})\\s*x\\s*(\\d{3,4})\\s*pixels', expand=False)\n",
    "    if not match.empty and not match.isna().all().all():\n",
    "        return f\"{match[0][0]} x {match[0][1]} pixels\"\n",
    "    return 'Not available'"
   ]
  },
  {
   "cell_type": "code",
   "execution_count": 138,
   "id": "26e8b124",
   "metadata": {},
   "outputs": [],
   "source": [
    "# temp_df['resolution'] = temp_df['resolution'].apply(format_resolution)"
   ]
  },
  {
   "cell_type": "code",
   "execution_count": 139,
   "id": "99769dad",
   "metadata": {},
   "outputs": [],
   "source": [
    "temp_df['resolution'] = temp_df['resolution'].str.replace(\"'\", \"\")"
   ]
  },
  {
   "cell_type": "code",
   "execution_count": 140,
   "id": "15cf3e9a",
   "metadata": {},
   "outputs": [
    {
     "data": {
      "text/plain": [
       " 1920 x 1080 pixels    529\n",
       " Touch Screen          112\n",
       " 1920 x 1200 pixels     98\n",
       " 2560 x 1600 pixels     58\n",
       " 1366 x 768 pixels      30\n",
       " 2880 x 1800 pixels     29\n",
       " 2560 x 1440 pixels     14\n",
       " Windows 11 OS          10\n",
       " 3200 x 2000 pixels      6\n",
       " 2560 x 1664 pixels      6\n",
       " 2880 x 1620 pixels      6\n",
       " 3840 x 2400 pixels      5\n",
       " 3024 x 1964 pixels      5\n",
       " 15.6 inches             4\n",
       " 1080 x 1920 pixels      4\n",
       " 2880 x 1864 pixels      4\n",
       " 3456 x 2234 pixels      4\n",
       " 2240 x 1400 pixels      3\n",
       " 3840 x 2160 pixels      2\n",
       " 3072 x 1920 pixels      2\n",
       " 2048 x 1280 pixels      2\n",
       " 2160 x 1440 pixels      2\n",
       " 3200 x 1800 pixels      1\n",
       " 18 inches               1\n",
       " DOS OS                  1\n",
       " 2880 x 1920 pixels      1\n",
       " 1440 x 2160 pixels      1\n",
       " Chrome OS               1\n",
       " 1440 x 2560 pixels      1\n",
       " 2561 x 1600 pixels      1\n",
       " 14 inches               1\n",
       " 11.6 inches             1\n",
       "Name: resolution, dtype: int64"
      ]
     },
     "execution_count": 140,
     "metadata": {},
     "output_type": "execute_result"
    }
   ],
   "source": [
    "temp_df['resolution'].value_counts()"
   ]
  },
  {
   "cell_type": "code",
   "execution_count": 141,
   "id": "29071d40",
   "metadata": {},
   "outputs": [],
   "source": [
    "# Windows 11 OS\n",
    "# 15.6 inches \n",
    "# 18 inches\n",
    "# DOS OS\n",
    "# Chrome OS\n",
    "# 14 inches\n",
    "# 11.6 inches"
   ]
  },
  {
   "cell_type": "code",
   "execution_count": 142,
   "id": "b4dc639a",
   "metadata": {},
   "outputs": [],
   "source": [
    "extracted_values_graphics_card10 = temp_df[temp_df['resolution'] == \" Windows 11 OS\"]['features'].str.split(\",\").str[5]\n",
    "temp_df.loc[temp_df['resolution'] == \" Windows 11 OS\", 'resolution'] = extracted_values_graphics_card10"
   ]
  },
  {
   "cell_type": "code",
   "execution_count": 143,
   "id": "83b7f7e0",
   "metadata": {},
   "outputs": [],
   "source": [
    "extracted_values_graphics_card11 = temp_df[temp_df['resolution'] == \" 15.6 inches\"]['features'].str.split(\",\").str[8]\n",
    "temp_df.loc[temp_df['resolution'] == \" 15.6 inches\", 'resolution'] = extracted_values_graphics_card11"
   ]
  },
  {
   "cell_type": "code",
   "execution_count": 144,
   "id": "ea74a0d2",
   "metadata": {},
   "outputs": [],
   "source": [
    "extracted_values_graphics_card12 = temp_df[temp_df['resolution'] == \" 18 inches\"]['features'].str.split(\",\").str[8]\n",
    "temp_df.loc[temp_df['resolution'] == \" 18 inches\", 'resolution'] = extracted_values_graphics_card12"
   ]
  },
  {
   "cell_type": "code",
   "execution_count": 145,
   "id": "05f3b441",
   "metadata": {},
   "outputs": [],
   "source": [
    "extracted_values_graphics_card13 =temp_df[temp_df['resolution'] == \" DOS OS\"]['features'].str.split(\",\").str[5]\n",
    "temp_df.loc[temp_df['resolution'] == \" DOS OS\", 'resolution'] = extracted_values_graphics_card13"
   ]
  },
  {
   "cell_type": "code",
   "execution_count": 146,
   "id": "71cb5b3a",
   "metadata": {},
   "outputs": [],
   "source": [
    "extracted_values_graphics_card14 = temp_df[temp_df['resolution'] == \" Chrome OS\"]['features'].str.split(\",\").str[5]\n",
    "temp_df.loc[temp_df['resolution'] == \" Chrome OS\", 'resolution'] = extracted_values_graphics_card14"
   ]
  },
  {
   "cell_type": "code",
   "execution_count": 147,
   "id": "84b065a6",
   "metadata": {},
   "outputs": [],
   "source": [
    "extracted_values_graphics_card15 = temp_df[temp_df['resolution'] == \" 14 inches\"]['features'].str.split(\",\").str[4]\n",
    "temp_df.loc[temp_df['resolution'] == \" 14 inches\", 'resolution'] = extracted_values_graphics_card15"
   ]
  },
  {
   "cell_type": "code",
   "execution_count": 148,
   "id": "99249070",
   "metadata": {},
   "outputs": [],
   "source": [
    "extracted_values_graphics_card16 = temp_df[temp_df['resolution'] == \" 11.6 inches\"]['features'].str.split(\",\").str[4]\n",
    "temp_df.loc[temp_df['resolution'] == \" 11.6 inches\", 'resolution'] = extracted_values_graphics_card16"
   ]
  },
  {
   "cell_type": "code",
   "execution_count": 149,
   "id": "43288591",
   "metadata": {},
   "outputs": [
    {
     "data": {
      "text/plain": [
       " 1920 x 1080 pixels                    529\n",
       " Touch Screen                          112\n",
       " 1920 x 1200 pixels                     98\n",
       " 2560 x 1600 pixels                     58\n",
       " 1366 x 768 pixels                      30\n",
       " 2880 x 1800 pixels                     29\n",
       " 2560 x 1440 pixels                     14\n",
       " 1920\\u2009x\\u20091080\\u2009pixels'      7\n",
       " 2880 x 1620 pixels                      6\n",
       " 2560 x 1664 pixels                      6\n",
       " 3200 x 2000 pixels                      6\n",
       " 3024 x 1964 pixels                      5\n",
       " 3840 x 2400 pixels                      5\n",
       " 1080 x 1920 pixels                      4\n",
       " 3456 x 2234 pixels                      4\n",
       " 2880 x 1864 pixels                      4\n",
       " 2240 x 1400 pixels                      3\n",
       " 3840\\u2009x\\u20092400\\u2009pixels'      3\n",
       " 2240\\u2009x\\u20091400\\u2009pixels       2\n",
       " 2048 x 1280 pixels                      2\n",
       " 3072 x 1920 pixels                      2\n",
       " 3840 x 2160 pixels                      2\n",
       " 2304\\u2009x\\u20091536\\u2009pixels       2\n",
       " 2160 x 1440 pixels                      2\n",
       " 1440 x 2560 pixels                      1\n",
       " 2560\\u2009x\\u20091600\\u2009pixels'      1\n",
       " 3200 x 1800 pixels                      1\n",
       " 2880 x 1920 pixels                      1\n",
       " 1440 x 2160 pixels                      1\n",
       " 3840\\u2009x\\u20092160\\u2009pixels       1\n",
       " 2880\\u2009x\\u20091800\\u2009pixels       1\n",
       " 2561 x 1600 pixels                      1\n",
       " 2160\\u2009x\\u20091440\\u2009pixels'      1\n",
       " 1366\\u2009x\\u2009768\\u2009pixels'       1\n",
       "Name: resolution, dtype: int64"
      ]
     },
     "execution_count": 149,
     "metadata": {},
     "output_type": "execute_result"
    }
   ],
   "source": [
    "temp_df['resolution'].value_counts()"
   ]
  },
  {
   "cell_type": "code",
   "execution_count": 150,
   "id": "9f92951d",
   "metadata": {},
   "outputs": [],
   "source": [
    "old_value = r\" 1920\\u2009x\\u20091080\\u2009pixels'\"\n",
    "new_value = '1920 x 1080 pixels'\n",
    "\n",
    "# Replace the old value with the new value\n",
    "temp_df['resolution'] = temp_df['resolution'].replace(old_value, new_value)"
   ]
  },
  {
   "cell_type": "code",
   "execution_count": 151,
   "id": "acd5b361",
   "metadata": {},
   "outputs": [],
   "source": [
    "old_value = r\" 3840\\u2009x\\u20092400\\u2009pixels'\"\n",
    "new_value = '3840 x 2400 pixels'\n",
    "\n",
    "# Replace the old value with the new value\n",
    "temp_df['resolution'] = temp_df['resolution'].replace(old_value, new_value)"
   ]
  },
  {
   "cell_type": "code",
   "execution_count": 152,
   "id": "5df494d0",
   "metadata": {},
   "outputs": [],
   "source": [
    "old_value = r\" 3840\\u2009x\\u20092160\\u2009pixels\"\n",
    "new_value = '3840 x 2160 pixels'\n",
    "\n",
    "# Replace the old value with the new value\n",
    "temp_df['resolution'] = temp_df['resolution'].replace(old_value, new_value)"
   ]
  },
  {
   "cell_type": "code",
   "execution_count": 153,
   "id": "64956278",
   "metadata": {},
   "outputs": [],
   "source": [
    "old_value = r\" 2160\\u2009x\\u20091440\\u2009pixels'\"\n",
    "new_value = '2160 x 1440 pixels'\n",
    "\n",
    "# Replace the old value with the new value\n",
    "temp_df['resolution'] = temp_df['resolution'].replace(old_value, new_value)"
   ]
  },
  {
   "cell_type": "code",
   "execution_count": 154,
   "id": "20487349",
   "metadata": {},
   "outputs": [],
   "source": [
    "old_value = r\" 1366\\u2009x\\u2009768\\u2009pixels'\"\n",
    "new_value = '1366 x 768 pixels'\n",
    "\n",
    "# Replace the old value with the new value\n",
    "temp_df['resolution'] = temp_df['resolution'].replace(old_value, new_value)"
   ]
  },
  {
   "cell_type": "code",
   "execution_count": 155,
   "id": "fa9909f2",
   "metadata": {},
   "outputs": [],
   "source": [
    "temp_df['resolution'] = temp_df['resolution'].str.strip()"
   ]
  },
  {
   "cell_type": "code",
   "execution_count": 156,
   "id": "22a814cd",
   "metadata": {},
   "outputs": [
    {
     "data": {
      "text/plain": [
       "Intel Integrated Graphics    675\n",
       "NVIDIA Graphics              129\n",
       "Other                         77\n",
       "AMD Graphics                  64\n",
       "Name: graphics_card, dtype: int64"
      ]
     },
     "execution_count": 156,
     "metadata": {},
     "output_type": "execute_result"
    }
   ],
   "source": [
    "temp_df['graphics_card'].value_counts()"
   ]
  },
  {
   "cell_type": "code",
   "execution_count": 170,
   "id": "c557f7dc",
   "metadata": {},
   "outputs": [],
   "source": [
    "temp_df['screen_size'] = temp_df['features'].str.split(\",\").str[6].str.replace(\"'\", \"\")"
   ]
  },
  {
   "cell_type": "code",
   "execution_count": 183,
   "id": "962c6f30",
   "metadata": {},
   "outputs": [],
   "source": [
    "# temp_df[temp_df['screen_size'] == r\" 15.6\\u2009inches\"]"
   ]
  },
  {
   "cell_type": "code",
   "execution_count": 186,
   "id": "b3dbce96",
   "metadata": {},
   "outputs": [],
   "source": [
    "# temp_df['screen_size'].str.replace('\\u2009', '', regex=False)\n",
    "# since this is not working, we can do some cleaning on excel file directly & come back"
   ]
  },
  {
   "cell_type": "code",
   "execution_count": 188,
   "id": "e6cf14e5",
   "metadata": {},
   "outputs": [],
   "source": [
    "temp_df.to_excel(\"cleaned_laptop1.xlsx\", index=False)"
   ]
  },
  {
   "cell_type": "code",
   "execution_count": 206,
   "id": "a98c65f7",
   "metadata": {},
   "outputs": [],
   "source": [
    "temp_df2['screen_size'].value_counts()temp_df2 = pd.read_excel(\"cleaned_laptop1.xlsx\")"
   ]
  },
  {
   "cell_type": "code",
   "execution_count": 207,
   "id": "b15d0298",
   "metadata": {},
   "outputs": [
    {
     "data": {
      "text/plain": [
       " 15.6inches                      433\n",
       " 14inches                        209\n",
       " 16inches                        133\n",
       " 16.1inches                       18\n",
       " 13.3inches                       16\n",
       " 1920x1080pixels                  12\n",
       " 17.3inches                       12\n",
       " 14.1inches                        8\n",
       " 17inches                          6\n",
       " 1366x768pixels                    6\n",
       " 2560x1664pixels                   6\n",
       " Touch Screen                      6\n",
       " Windows 11 OS                     5\n",
       " 3024x1964pixels                   5\n",
       " 2880x1920pixels                   5\n",
       " 2560x1600pixels                   5\n",
       " 13inches                          5\n",
       " 14.5inches                        5\n",
       " 18inches                          5\n",
       " 3456x2234pixels                   4\n",
       " 2880x1864pixels                   4\n",
       " 1920x1200pixels                   4\n",
       " 2304x1536pixels                   3\n",
       " 2496x1664pixels                   3\n",
       " 14.2inches                        3\n",
       " 13.5inches                        3\n",
       " 2880x1800pixels                   3\n",
       " Intel Integrated UHD              2\n",
       " 13.4inches                        2\n",
       " 14.6inches                        1\n",
       " 11.6inches                        1\n",
       " 8GB NVIDIA GeForce RTX 4060       1\n",
       " DOS OS                            1\n",
       " 2240x1400pixels                   1\n",
       " 4GB NVIDIA GeForce GTX 1650       1\n",
       " 12.4inches                        1\n",
       " 3072x1920pixels                   1\n",
       " 16GB NVIDIA GeForce RTX 4090      1\n",
       " 2944x1840pixels                   1\n",
       " 16.3inches                        1\n",
       " 15.75inches                       1\n",
       "Name: screen_size, dtype: int64"
      ]
     },
     "execution_count": 207,
     "metadata": {},
     "output_type": "execute_result"
    }
   ],
   "source": [
    "temp_df2['screen_size'].value_counts()"
   ]
  },
  {
   "cell_type": "code",
   "execution_count": 212,
   "id": "84a224e6",
   "metadata": {},
   "outputs": [],
   "source": [
    "temp_df2 = temp_df2.applymap(lambda x: x.strip() if isinstance(x, str) else x)"
   ]
  },
  {
   "cell_type": "code",
   "execution_count": 218,
   "id": "488a7b1c",
   "metadata": {},
   "outputs": [],
   "source": [
    "extracted_screen_size = temp_df2[temp_df2['screen_size'] == \"1920x1080pixels\"]['features'].str.split(\",\").str[5]\n",
    "temp_df2.loc[temp_df2['screen_size'] == \"1920x1080pixels\", 'screen_size'] = extracted_screen_size"
   ]
  },
  {
   "cell_type": "code",
   "execution_count": 220,
   "id": "59353ede",
   "metadata": {},
   "outputs": [],
   "source": [
    "extracted_screen_size1 = temp_df2[temp_df2['screen_size'] == \"1366x768pixels\"]['features'].str.split(\",\").str[5]\n",
    "temp_df2.loc[temp_df2['screen_size'] == \"1366x768pixels\", 'screen_size'] = extracted_screen_size1"
   ]
  },
  {
   "cell_type": "code",
   "execution_count": 222,
   "id": "3bcbf272",
   "metadata": {},
   "outputs": [],
   "source": [
    "extracted_screen_size2 = temp_df2[temp_df2['screen_size'] == \"2560x1664pixels\"]['features'].str.split(\",\").str[5]\n",
    "temp_df2.loc[temp_df2['screen_size'] == \"2560x1664pixels\", 'screen_size'] = extracted_screen_size2"
   ]
  },
  {
   "cell_type": "code",
   "execution_count": 225,
   "id": "2cbebd9d",
   "metadata": {},
   "outputs": [],
   "source": [
    "screen_size_item_list = [\"3024x1964pixels\",\"2880x1920pixels\",\"2560x1600pixels\",\"456x2234pixels\",\"2880x1864pixels\",\"1920x1200pixels\",\"2304x1536pixels\",\"2496x1664pixels\",\"2880x1800pixels     \",\"2880x1800pixels  \",\"2240x1400pixels\",\"2944x1840pixels\",\"3072x1920pixels\",]"
   ]
  },
  {
   "cell_type": "code",
   "execution_count": 227,
   "id": "81ba02c1",
   "metadata": {},
   "outputs": [],
   "source": [
    "for item in screen_size_item_list:\n",
    "    extracted_screen_size2 = temp_df2[temp_df2['screen_size'] == item]['features'].str.split(\",\").str[5]\n",
    "    temp_df2.loc[temp_df2['screen_size'] == item, 'screen_size'] = extracted_screen_size2"
   ]
  },
  {
   "cell_type": "code",
   "execution_count": 228,
   "id": "78664283",
   "metadata": {},
   "outputs": [
    {
     "data": {
      "text/plain": [
       "15.6inches                      433\n",
       "14inches                        209\n",
       "16inches                        133\n",
       "16.1inches                       18\n",
       "13.3inches                       16\n",
       "17.3inches                       12\n",
       " '15.6\\u2009inches               12\n",
       "14.1inches                        8\n",
       "17inches                          6\n",
       " '13.6\\u2009inches                6\n",
       "Touch Screen                      6\n",
       "Windows 11 OS                     5\n",
       "18inches                          5\n",
       "13inches                          5\n",
       " '14.2\\u2009inches                5\n",
       " '13\\u2009inches                  5\n",
       "14.5inches                        5\n",
       " '14\\u2009inches                  5\n",
       " '11.6\\u2009inches                5\n",
       "3456x2234pixels                   4\n",
       " '15.3\\u2009inches                4\n",
       " '15\\u2009inches                  3\n",
       " '13.8\\u2009inches                3\n",
       "14.2inches                        3\n",
       "13.5inches                        3\n",
       "2880x1800pixels                   3\n",
       " '16\\u2009inches                  3\n",
       "Intel Integrated UHD              2\n",
       "13.4inches                        2\n",
       " '13.4\\u2009inches                2\n",
       " '13.3\\u2009inches                2\n",
       "14.6inches                        1\n",
       "11.6inches                        1\n",
       "8GB NVIDIA GeForce RTX 4060       1\n",
       "DOS OS                            1\n",
       "16GB NVIDIA GeForce RTX 4090      1\n",
       "4GB NVIDIA GeForce GTX 1650       1\n",
       "12.4inches                        1\n",
       " '14.5\\u2009inches                1\n",
       "16.3inches                        1\n",
       "15.75inches                       1\n",
       "Name: screen_size, dtype: int64"
      ]
     },
     "execution_count": 228,
     "metadata": {},
     "output_type": "execute_result"
    }
   ],
   "source": [
    "temp_df2['screen_size'].value_counts()"
   ]
  },
  {
   "cell_type": "code",
   "execution_count": 229,
   "id": "98da3cb7",
   "metadata": {},
   "outputs": [],
   "source": [
    "temp_df2.to_excel(\"cleaned_laptop2.xlsx\", index=False)"
   ]
  },
  {
   "cell_type": "code",
   "execution_count": 231,
   "id": "2bce88de",
   "metadata": {},
   "outputs": [],
   "source": [
    "temp_df3 = pd.read_excel(\"cleaned_laptop2.xlsx\")"
   ]
  },
  {
   "cell_type": "code",
   "execution_count": 234,
   "id": "1e4b1d88",
   "metadata": {},
   "outputs": [],
   "source": [
    "temp_df3['screen_size'] = temp_df3['screen_size'].str.strip()"
   ]
  },
  {
   "cell_type": "code",
   "execution_count": 238,
   "id": "808b65ec",
   "metadata": {},
   "outputs": [],
   "source": [
    "temp_df3['screen_size'] = temp_df3['screen_size'].str.replace(\"'\", \"\")"
   ]
  },
  {
   "cell_type": "code",
   "execution_count": 239,
   "id": "edc090bc",
   "metadata": {},
   "outputs": [
    {
     "data": {
      "text/plain": [
       "15.6inches                      445\n",
       "14inches                        214\n",
       "16inches                        136\n",
       "13.3inches                       18\n",
       "16.1inches                       18\n",
       "17.3inches                       12\n",
       "13inches                         10\n",
       "14.2inches                        8\n",
       "14.1inches                        8\n",
       "13.6inches                        6\n",
       "17inches                          6\n",
       "Touch Screen                      6\n",
       "11.6inches                        6\n",
       "14.5inches                        6\n",
       "18inches                          5\n",
       "Windows 11 OS                     5\n",
       "3456x2234pixels                   4\n",
       "15.3inches                        4\n",
       "13.4inches                        4\n",
       "13.5inches                        3\n",
       "2880x1800pixels                   3\n",
       "13.8inches                        3\n",
       "15inches                          3\n",
       "Intel Integrated UHD              2\n",
       "16.3inches                        1\n",
       "12.4inches                        1\n",
       "14.6inches                        1\n",
       "4GB NVIDIA GeForce GTX 1650       1\n",
       "DOS OS                            1\n",
       "8GB NVIDIA GeForce RTX 4060       1\n",
       "16GB NVIDIA GeForce RTX 4090      1\n",
       "15.75inches                       1\n",
       "Name: screen_size, dtype: int64"
      ]
     },
     "execution_count": 239,
     "metadata": {},
     "output_type": "execute_result"
    }
   ],
   "source": [
    "temp_df3['screen_size'].value_counts()"
   ]
  },
  {
   "cell_type": "code",
   "execution_count": 255,
   "id": "4bcf858b",
   "metadata": {},
   "outputs": [],
   "source": [
    "extracted_screen_size3 = temp_df3[temp_df3['screen_size'] == \"Windows 11 OS\"]['features'].str.split(\",\").str[4]\n",
    "temp_df3.loc[temp_df3['screen_size'] == \"Windows 11 OS\", 'screen_size'] = extracted_screen_size3"
   ]
  },
  {
   "cell_type": "code",
   "execution_count": 261,
   "id": "07ba6d83",
   "metadata": {},
   "outputs": [
    {
     "data": {
      "text/plain": [
       "15.6inches                      445\n",
       "14inches                        214\n",
       "16inches                        136\n",
       "13.3inches                       18\n",
       "16.1inches                       18\n",
       "17.3inches                       12\n",
       "13inches                         10\n",
       "14.1inches                        8\n",
       "14.2inches                        8\n",
       "13.6inches                        6\n",
       "11.6inches                        6\n",
       "17inches                          6\n",
       "Touch Screen                      6\n",
       "14.5inches                        6\n",
       "18inches                          5\n",
       " '16.2\\u2009inches                4\n",
       "15.3inches                        4\n",
       "13.4inches                        4\n",
       "13.5inches                        3\n",
       "2880x1800pixels                   3\n",
       "13.8inches                        3\n",
       "15inches                          3\n",
       " '16\\u2009inches                  2\n",
       " '14\\u2009inches                  2\n",
       "Intel Integrated UHD              2\n",
       "15.75inches                       1\n",
       "16.3inches                        1\n",
       "14.6inches                        1\n",
       "12.4inches                        1\n",
       "4GB NVIDIA GeForce GTX 1650       1\n",
       "DOS OS                            1\n",
       "8GB NVIDIA GeForce RTX 4060       1\n",
       "16GB NVIDIA GeForce RTX 4090      1\n",
       " '18\\u2009inches                  1\n",
       "Name: screen_size, dtype: int64"
      ]
     },
     "execution_count": 261,
     "metadata": {},
     "output_type": "execute_result"
    }
   ],
   "source": [
    "temp_df3['screen_size'].value_counts()"
   ]
  },
  {
   "cell_type": "code",
   "execution_count": 260,
   "id": "9ba11a10",
   "metadata": {},
   "outputs": [],
   "source": [
    "extracted_screen_size4 = temp_df3[temp_df3['screen_size'] == \"3456x2234pixels\"]['features'].str.split(\",\").str[5]\n",
    "temp_df3.loc[temp_df3['screen_size'] == \"3456x2234pixels\", 'screen_size'] = extracted_screen_size4"
   ]
  },
  {
   "cell_type": "code",
   "execution_count": 266,
   "id": "65d3df51",
   "metadata": {},
   "outputs": [],
   "source": [
    "temp_df3['screen_size'] = temp_df3['screen_size'].str.strip()"
   ]
  },
  {
   "cell_type": "code",
   "execution_count": 282,
   "id": "2657bf60",
   "metadata": {},
   "outputs": [],
   "source": [
    "extracted_screen_size5 = temp_df3[temp_df3['screen_size'] == \"2880x1800pixels\"]['features'].str.split(\",\").str[5]\n",
    "temp_df3.loc[temp_df3['screen_size'] == \"2880x1800pixels\", 'screen_size'] = extracted_screen_size5"
   ]
  },
  {
   "cell_type": "code",
   "execution_count": 285,
   "id": "363378cd",
   "metadata": {},
   "outputs": [],
   "source": [
    "temp_df3['screen_size'] = temp_df3['screen_size'].str.strip()"
   ]
  },
  {
   "cell_type": "code",
   "execution_count": 289,
   "id": "4ad0f4b8",
   "metadata": {},
   "outputs": [],
   "source": [
    "temp_df3.loc[temp_df3['screen_size'] == \"Intel Integrated UHD\", 'screen_size'] = \"15.6 inches\""
   ]
  },
  {
   "cell_type": "code",
   "execution_count": 293,
   "id": "3e3915e6",
   "metadata": {},
   "outputs": [],
   "source": [
    "temp_df3.loc[temp_df3['screen_size'] == \"4GB NVIDIA GeForce GTX 1650\", 'screen_size'] = \"15.6 inches\""
   ]
  },
  {
   "cell_type": "code",
   "execution_count": 303,
   "id": "51d0ffbc",
   "metadata": {},
   "outputs": [],
   "source": [
    "temp_df3.loc[temp_df3['screen_size'] == \"16GB NVIDIA GeForce RTX 4090\", 'screen_size'] = \"18 inches\""
   ]
  },
  {
   "cell_type": "code",
   "execution_count": 304,
   "id": "1c03aa19",
   "metadata": {},
   "outputs": [
    {
     "data": {
      "text/plain": [
       "15.6inches           445\n",
       "14inches             214\n",
       "16inches             136\n",
       "13.3inches            18\n",
       "16.1inches            18\n",
       "17.3inches            12\n",
       "13inches              10\n",
       "14.1inches             8\n",
       "14.2inches             8\n",
       "13.6inches             6\n",
       "14.5inches             6\n",
       "11.6inches             6\n",
       "17inches               6\n",
       "Touch Screen           6\n",
       "15.6 inches            5\n",
       "18inches               5\n",
       "13.4inches             4\n",
       "15.3inches             4\n",
       "'16.2\\u2009inches      4\n",
       "13.5inches             3\n",
       "'13.4\\u2009inches      3\n",
       "15inches               3\n",
       "13.8inches             3\n",
       "'16\\u2009inches        2\n",
       "'14\\u2009inches        2\n",
       "14.6inches             1\n",
       "18 inches              1\n",
       "12.4inches             1\n",
       "16.3inches             1\n",
       "15.75inches            1\n",
       "'18\\u2009inches        1\n",
       "Name: screen_size, dtype: int64"
      ]
     },
     "execution_count": 304,
     "metadata": {},
     "output_type": "execute_result"
    }
   ],
   "source": [
    "temp_df3['screen_size'].value_counts()"
   ]
  },
  {
   "cell_type": "code",
   "execution_count": 305,
   "id": "3c19a794",
   "metadata": {},
   "outputs": [],
   "source": [
    "temp_df3.to_excel(\"cleaned_laptop3.xlsx\", index=False)"
   ]
  },
  {
   "cell_type": "code",
   "execution_count": 390,
   "id": "9170c7a2",
   "metadata": {},
   "outputs": [],
   "source": [
    "temp_df4 = pd.read_excel(\"cleaned_laptop3.xlsx\")"
   ]
  },
  {
   "cell_type": "code",
   "execution_count": 391,
   "id": "39c5a554",
   "metadata": {},
   "outputs": [
    {
     "data": {
      "text/plain": [
       "Index(['productName', 'price', 'rating', 'specScore', 'features', 'brand',\n",
       "       'processors', 'ram', 'storage', 'storage_type', 'os', 'graphics_card',\n",
       "       'warranty', 'resolution', 'cores', 'screen_size'],\n",
       "      dtype='object')"
      ]
     },
     "execution_count": 391,
     "metadata": {},
     "output_type": "execute_result"
    }
   ],
   "source": [
    "temp_df4.columns"
   ]
  },
  {
   "cell_type": "code",
   "execution_count": 392,
   "id": "960277a7",
   "metadata": {},
   "outputs": [
    {
     "data": {
      "text/plain": [
       "10 Cores (2P + 8E)            138\n",
       "Octa Core (4P + 4E)            99\n",
       "Octa Core                      88\n",
       "Quad Core                      79\n",
       "16 Cores (6P + 8E + 2LP-E)     75\n",
       "Hexa Core (2P + 4E)            72\n",
       "Hexa Core                      69\n",
       "12 Cores (4P + 8E)             52\n",
       "10 Cores (6P + 4E)             46\n",
       "14 Cores (6P + 8E)             46\n",
       "Dual Core                      43\n",
       "24 Cores (8P + 16E)            29\n",
       "14 Cores (4P + 8E + 2LP-E)     29\n",
       "12 Cores                       17\n",
       "20 Cores (8P + 12E)            12\n",
       "16 Cores (8P + 8E)             11\n",
       "12 Cores (2P + 8E + 2LP-E)      9\n",
       "5 Cores (1P + 4E)               5\n",
       "10 Cores                        4\n",
       "16GB LPDDR5X RAM                4\n",
       "12 Cores (6P + 6E)              3\n",
       "14 Cores (10P + 4E)             2\n",
       "32GB  RAM                       2\n",
       "11 Cores (5P + 6E)              1\n",
       "16GB \\u200eLPDDR5x RAM          1\n",
       "16GB LPDDR5x RAM                1\n",
       "20 Threads                      1\n",
       "8GB DDR4 RAM                    1\n",
       "16GB LPDDR3 RAM                 1\n",
       "32GB LPDDR5X RAM                1\n",
       "32GB DDR5 RAM                   1\n",
       "8GB  RAM                        1\n",
       "4GB \\u200eLPDDR4 RAM            1\n",
       "16 Cores (12P + 4E)             1\n",
       "Name: cores, dtype: int64"
      ]
     },
     "execution_count": 392,
     "metadata": {},
     "output_type": "execute_result"
    }
   ],
   "source": [
    "temp_df4['cores'].value_counts()"
   ]
  },
  {
   "cell_type": "code",
   "execution_count": 393,
   "id": "e12395f6",
   "metadata": {},
   "outputs": [],
   "source": [
    "# 16GB LPDDR5X RAM\n",
    "# 32GB  RAM\n",
    "# 16GB \\u200eLPDDR5x RAM\n",
    "# 16GB LPDDR5x RAM\n",
    "# 20 Threads\n",
    "# 8GB DDR4 RAM  \n",
    "# 16GB LPDDR3 RAM   \n",
    "# 32GB LPDDR5X RAM\n",
    "# 32GB DDR5 RAM\n",
    "# 8GB  RAM\n",
    "# 4GB \\u200eLPDDR4 RAM "
   ]
  },
  {
   "cell_type": "code",
   "execution_count": 394,
   "id": "2b1c0408",
   "metadata": {},
   "outputs": [],
   "source": [
    "temp_df4['cores'] = temp_df4['cores'].str.strip()"
   ]
  },
  {
   "cell_type": "code",
   "execution_count": 395,
   "id": "353289fe",
   "metadata": {},
   "outputs": [],
   "source": [
    "values_to_replace = [\n",
    "    '16GB LPDDR5X RAM',\n",
    "    '32GB RAM',\n",
    "    r'16GB \\u200eLPDDR5x RAM',\n",
    "    '16GB LPDDR5x RAM',\n",
    "    '20 Threads',\n",
    "    '8GB DDR4 RAM',\n",
    "    '16GB LPDDR3 RAM',\n",
    "    '32GB LPDDR5X RAM',\n",
    "    '32GB DDR5 RAM',\n",
    "    '8GB RAM',\n",
    "    r'4GB \\u200eLPDDR4 RAM'\n",
    "]\n",
    "\n",
    "# Update 'cores' where it matches any value in `values_to_replace` to 'No Cores'\n",
    "temp_df4['cores'] = temp_df4['cores'].apply(lambda x: 'No Cores' if x in values_to_replace else x)"
   ]
  },
  {
   "cell_type": "code",
   "execution_count": 396,
   "id": "10718f71",
   "metadata": {},
   "outputs": [],
   "source": [
    "temp_df4['cores'] = temp_df4['cores'].str.split(\"(\").str[0].str.strip()"
   ]
  },
  {
   "cell_type": "code",
   "execution_count": 397,
   "id": "b266f079",
   "metadata": {},
   "outputs": [
    {
     "data": {
      "text/plain": [
       "Index(['productName', 'price', 'rating', 'specScore', 'features', 'brand',\n",
       "       'processors', 'ram', 'storage', 'storage_type', 'os', 'graphics_card',\n",
       "       'warranty', 'resolution', 'cores', 'screen_size'],\n",
       "      dtype='object')"
      ]
     },
     "execution_count": 397,
     "metadata": {},
     "output_type": "execute_result"
    }
   ],
   "source": [
    "temp_df4.columns"
   ]
  },
  {
   "cell_type": "code",
   "execution_count": 415,
   "id": "473ab08e",
   "metadata": {},
   "outputs": [
    {
     "data": {
      "text/plain": [
       "Win11              418\n",
       "Win11 Home         348\n",
       "Win 11              43\n",
       "Windows 11 OS       25\n",
       "Chrome OS           23\n",
       "Win 11 Home         21\n",
       "MacOS               15\n",
       "macOS               15\n",
       "Win11 Pro           10\n",
       "Win10 Home           4\n",
       "Windows 11 Home      4\n",
       "Ubuntu               3\n",
       "Win10 Pro            3\n",
       "Win 10 Pro           2\n",
       "Win10                2\n",
       "Kirin OS             2\n",
       "JioOS                2\n",
       "Prime OS             1\n",
       "Android 11           1\n",
       "Linux                1\n",
       "ChromeOS             1\n",
       "Name: os, dtype: int64"
      ]
     },
     "execution_count": 415,
     "metadata": {},
     "output_type": "execute_result"
    }
   ],
   "source": [
    "temp_df4['os'].value_counts()"
   ]
  },
  {
   "cell_type": "code",
   "execution_count": 402,
   "id": "273bc597",
   "metadata": {},
   "outputs": [],
   "source": [
    "# 6 GB Graphics  \n",
    "# 8GB RTX 4070 Graphics\n",
    "# 6GB RTX 4060"
   ]
  },
  {
   "cell_type": "code",
   "execution_count": 403,
   "id": "fc51bf1d",
   "metadata": {},
   "outputs": [],
   "source": [
    "temp_df4['os'] = temp_df4['os'].str.strip()"
   ]
  },
  {
   "cell_type": "code",
   "execution_count": 414,
   "id": "5d4115ed",
   "metadata": {},
   "outputs": [],
   "source": [
    "temp_df4.loc[temp_df4['os'] == \"DOS\", \"os\"] = \"Windows 11 OS\""
   ]
  },
  {
   "cell_type": "code",
   "execution_count": 416,
   "id": "f6e8deb2",
   "metadata": {},
   "outputs": [],
   "source": [
    "os_mapping = {\n",
    "    'Win11': 'Windows 11',\n",
    "    'Win11 Home': 'Windows 11',\n",
    "    'Win 11': 'Windows 11',\n",
    "    'Windows 11 OS': 'Windows 11',\n",
    "    'Win11 Pro': 'Windows 11',\n",
    "    'Windows 11 Home': 'Windows 11',\n",
    "    'Win10 Home': 'Windows 10',\n",
    "    'Win10 Pro': 'Windows 10',\n",
    "    'Win 10 Pro': 'Windows 10',\n",
    "    'Win10': 'Windows 10',\n",
    "    'Chrome OS': 'Chrome OS',\n",
    "    'ChromeOS': 'Chrome OS',\n",
    "    'MacOS': 'macOS',\n",
    "    'macOS': 'macOS',\n",
    "    'Ubuntu': 'Other',\n",
    "    'Kirin OS': 'Other',\n",
    "    'JioOS': 'Other',\n",
    "    'Prime OS': 'Other',\n",
    "    'Android 11': 'Other',\n",
    "    'Linux': 'Other'\n",
    "}\n",
    "\n",
    "# Apply the mapping to the 'os' column\n",
    "temp_df4['os'] = temp_df4['os'].map(os_mapping).fillna('Other')"
   ]
  },
  {
   "cell_type": "code",
   "execution_count": 423,
   "id": "681a01bf",
   "metadata": {},
   "outputs": [],
   "source": [
    "temp_df4['storage_type'] = temp_df4['storage'].str.split(\"B\").str[1]"
   ]
  },
  {
   "cell_type": "code",
   "execution_count": 443,
   "id": "912b43b1",
   "metadata": {},
   "outputs": [
    {
     "data": {
      "text/plain": [
       "SSD              912\n",
       "eMMC              17\n",
       "[SSD']            10\n",
       "[Hard, Disk']      2\n",
       "                   1\n",
       "HDD                1\n",
       "Name: storage_type, dtype: int64"
      ]
     },
     "execution_count": 443,
     "metadata": {},
     "output_type": "execute_result"
    }
   ],
   "source": [
    "temp_df4['storage_type'].value_counts()"
   ]
  },
  {
   "cell_type": "code",
   "execution_count": 426,
   "id": "60fae8a8",
   "metadata": {},
   "outputs": [],
   "source": [
    "temp_df4['storage_type'] = temp_df4['storage_type'].str.strip()"
   ]
  },
  {
   "cell_type": "code",
   "execution_count": 439,
   "id": "744a44ec",
   "metadata": {},
   "outputs": [],
   "source": [
    "extracted_storage_type = temp_df4[temp_df4['storage_type'] == \"UFS\"]['features'].str.split(\",\").str[4].str.split(\" \").str[2:]\n",
    "temp_df4.loc[temp_df4['storage_type'] == \"UFS\", 'storage_type'] = extracted_storage_type"
   ]
  },
  {
   "cell_type": "code",
   "execution_count": 442,
   "id": "307837ee",
   "metadata": {},
   "outputs": [],
   "source": [
    "extracted_storage_type1 = temp_df4[temp_df4['storage_type'] == \"256G\"]['features'].str.split(\",\").str[4].str.split(\" \").str[2:]\n",
    "temp_df4.loc[temp_df4['storage_type'] == \"256G\", 'storage_type'] = extracted_storage_type1"
   ]
  },
  {
   "cell_type": "code",
   "execution_count": 449,
   "id": "bb31ebc3",
   "metadata": {},
   "outputs": [],
   "source": [
    "temp_df4['storage'] = temp_df4['storage'].str.split(\" \").str[0]"
   ]
  },
  {
   "cell_type": "code",
   "execution_count": 459,
   "id": "83c884a6",
   "metadata": {},
   "outputs": [],
   "source": [
    "temp_df4.to_excel(\"cleaned_laptop4.xlsx\", index=False)"
   ]
  },
  {
   "cell_type": "code",
   "execution_count": 460,
   "id": "1ec8dbd0",
   "metadata": {},
   "outputs": [],
   "source": [
    "temp_df5 = pd.read_excel(\"cleaned_laptop4.xlsx\")"
   ]
  },
  {
   "cell_type": "code",
   "execution_count": 464,
   "id": "19bfd29c",
   "metadata": {},
   "outputs": [
    {
     "data": {
      "text/plain": [
       "Index(['productName', 'price', 'rating', 'specScore', 'features', 'brand',\n",
       "       'processors', 'ram', 'storage', 'storage_type', 'os', 'graphics_card',\n",
       "       'warranty', 'resolution', 'cores', 'screen_size'],\n",
       "      dtype='object')"
      ]
     },
     "execution_count": 464,
     "metadata": {},
     "output_type": "execute_result"
    }
   ],
   "source": [
    "temp_df5.columns"
   ]
  },
  {
   "cell_type": "code",
   "execution_count": 467,
   "id": "057364e7",
   "metadata": {},
   "outputs": [
    {
     "data": {
      "text/plain": [
       "hp           195\n",
       "lenovo       181\n",
       "asus         135\n",
       "msi          105\n",
       "acer          87\n",
       "dell          87\n",
       "samsung       29\n",
       "apple         23\n",
       "infinix       21\n",
       "microsoft     20\n",
       "honor          7\n",
       "gigabyte       7\n",
       "thomson        6\n",
       "chuwi          5\n",
       "xiaomi         5\n",
       "zebronics      4\n",
       "huawei         4\n",
       "avita          4\n",
       "ultimus        3\n",
       "colorful       3\n",
       "primebook      3\n",
       "realme         2\n",
       "air            2\n",
       "agb            2\n",
       "‎lenovo        1\n",
       "walker         1\n",
       "red            1\n",
       "razer          1\n",
       "jio            1\n",
       "Name: brand, dtype: int64"
      ]
     },
     "execution_count": 467,
     "metadata": {},
     "output_type": "execute_result"
    }
   ],
   "source": [
    "temp_df5['brand'].value_counts()"
   ]
  },
  {
   "cell_type": "code",
   "execution_count": 468,
   "id": "0be753cc",
   "metadata": {},
   "outputs": [],
   "source": [
    "brand_counts = temp_df5['brand'].value_counts()\n",
    "\n",
    "# Find brands with counts less than 20\n",
    "brands_to_replace = brand_counts[brand_counts < 20].index\n",
    "\n",
    "# Replace those brands with 'Others'\n",
    "temp_df5['brand'] = temp_df5['brand'].replace(brands_to_replace, 'Others')"
   ]
  },
  {
   "cell_type": "code",
   "execution_count": 470,
   "id": "6b73d7d2",
   "metadata": {},
   "outputs": [
    {
     "data": {
      "text/plain": [
       "12th Gen Core i5                         130\n",
       "13th Gen Core i5                          88\n",
       "13th Gen Core i7                          77\n",
       "12th Gen Core i3                          53\n",
       "12th Gen Core i7                          41\n",
       "Intel Core Ultra 7 155H                   33\n",
       "11th Gen Core i5                          30\n",
       "Intel Core Ultra 7                        22\n",
       "13th Gen Core i9                          22\n",
       "13th Gen Core i3                          20\n",
       "14th Gen Core i9                          20\n",
       "14th Gen Core i7                          16\n",
       "Intel Core Ultra 5 125H                   15\n",
       "Intel Core Ultra 9 185H                   15\n",
       "AMD Ryzen 5 7535HS                        13\n",
       "11th Gen Core i3                          13\n",
       "Intel Core Ultra 5                        12\n",
       "AMD Ryzen 7 7840HS                        12\n",
       "AMD Ryzen 5 5500U                         12\n",
       "11th Gen Core i7                          10\n",
       "Celeron N4020                              9\n",
       "AMD Ryzen 5 7530U                          9\n",
       "Apple M3                                   8\n",
       "Apple M3 Pro                               7\n",
       "Snapdragon X Elite                         7\n",
       "Celeron N4500                              6\n",
       "Ryzen 3 7320U                              6\n",
       "Intel Celeron N4500                        6\n",
       "AMD Ryzen 7 7730U                          6\n",
       "AMD Ryzen 7 7435HS                         5\n",
       "AMD Ryzen 7 8845HS                         5\n",
       "Intel Core 5 Processor 120U                5\n",
       "AMD Ryzen 3 7320U                          5\n",
       "Apple M2                                   5\n",
       "AMD Ryzen 5 7520U                          5\n",
       "Apple M3 Max                               5\n",
       "Ryzen 5 7520U                              5\n",
       "10th Gen Core i5                           5\n",
       "Intel Core Ultra 9                         5\n",
       "AMD Ryzen 7 7735H                          4\n",
       "AMD Ryzen 5 5600H                          4\n",
       "AMD Ryzen 7 5700U                          4\n",
       "AMD Ryzen 3 5300U                          4\n",
       "Intel Core 5 120U                          4\n",
       "AMD Ryzen 3 7330U                          4\n",
       "12th Gen Core i5-12450H                    4\n",
       "AMD Ryzen 9 8945HS                         4\n",
       "Intel Core 7 Processor 150U                4\n",
       "AMD Ryzen 7 7735HS                         4\n",
       "Intel Core i3-N305                         4\n",
       "Intel Core Ultra 5 125U                    3\n",
       "Intel Core i3 N305                         3\n",
       "Intel Core Ultra 7 155U                    3\n",
       "AMD Ryzen 5 7535H                          3\n",
       "Ryzen 5 5600H                              3\n",
       "Snapdragon X Plus                          3\n",
       "MediaTek MT8183                            3\n",
       "10th Gen Core i3                           3\n",
       "AMD Ryzen 3 3250U                          3\n",
       "MediaTek Kompanio 520                      3\n",
       "Intel Processor N100                       2\n",
       "Kirin 9006C                                2\n",
       "AMD Ryzen R3-7320U,                        2\n",
       "Ryzen 5 5500U                              2\n",
       "Intel Celeron N5100                        2\n",
       "Octa Core                                  2\n",
       "Intel Celeron N4020                        2\n",
       "AMD Athlon Silver 7120U                    2\n",
       "Apple M1                                   2\n",
       "Ryzen 5 7530U                              2\n",
       "10th Gen Core i7                           2\n",
       "AMD Ryzen 7 6800H                          2\n",
       "Intel Core Celeron N4500                   2\n",
       "AMD Ryzen 5 7235HS                         2\n",
       "AMD Ryzen 9 AI HX 370                      2\n",
       "AMD Ryzen 7 7840H                          1\n",
       "7 ‎ZGM-00023 Snapdragon X Plus             1\n",
       "Intel Evo Core Ultra 7 155H                1\n",
       "AMD Ryzen AI 9 HX 370                      1\n",
       "Intel Core 5 120U Processor                1\n",
       "7 15 ‎‎ZYT-00048 Snapdragon X Elite        1\n",
       "7 15 ‎ZHG-00023 Snapdragon X Elite         1\n",
       "Ryzen AI 9 HX 370                          1\n",
       "7 ‎ZXX-00059 Snapdragon X Elite            1\n",
       "7 13.8 ‎‎ZGQ-00023 Snapdragon X Elite      1\n",
       "13th Gen Intel Core i5-1335U               1\n",
       "7 15 ‎ZHH-00048 Snapdragon X Elite         1\n",
       "Intel Processor N200                       1\n",
       "13th Gen Core i3 1315U                     1\n",
       "AMD Ryzen R7 5700U                         1\n",
       "AMD Ryzen 7 7735U                          1\n",
       "AMD Ryzen AI 300 Series Processors         1\n",
       "Intel Core 7 150U Processor                1\n",
       "AMD Ryzen 9 7940HS                         1\n",
       "Intel Core 3 100U                          1\n",
       "6 Intel Core Ultra 7 165H                  1\n",
       "Intel Core Ultra 7 165U                    1\n",
       "Intel Pentium Gold 7505                    1\n",
       "Intel Core 3 Processor 100U                1\n",
       "AMD Ryzen 7 8840HS                         1\n",
       "Intel Celeron N100                         1\n",
       "Intel Pentium Gold                         1\n",
       "Intel Pentium N100                         1\n",
       "8th Gen Core i5                            1\n",
       "Intel Celeron N4120                        1\n",
       "Snapdragon X Elite X1E-80-100              1\n",
       "Intel Core i5 1335U                        1\n",
       "Intel Evo Core Ultra 7 155U                1\n",
       "AMD Ryzen 7 Pro 7840U                      1\n",
       "AMD Ryzen 9 8945H                          1\n",
       "Snapdragon X Elite X1E-78-100              1\n",
       "Intel 12th Gen Core i7                     1\n",
       "AMD Ryzen 5 8645HS                         1\n",
       "AMD Ryzen 5 7640HS                         1\n",
       "AMD Ryzen 7 8840U                          1\n",
       "Intel Core Ultra i7 155H                   1\n",
       "7 Snapdragon X Plus                        1\n",
       "Ryzen 3 5300U                              1\n",
       "Intel Core i7 1355U                        1\n",
       "Intel Core i5 13420H                       1\n",
       "7 Snapdragon X Elite                       1\n",
       "AMD Ryzen 5 5600HS                         1\n",
       "AMD Ryzen 9 7845HX                         1\n",
       "AMD Athlon Silver-3050U                    1\n",
       "Ryzen 7 5800HS                             1\n",
       "AMD Ryzen 5 5625U                          1\n",
       "MediaTek MT8788                            1\n",
       "AMD Ryzen 5-5600H                          1\n",
       "Ryzen 5 6600H                              1\n",
       "AMD Athlon 3050U                           1\n",
       "Ryzen 7 5800H                              1\n",
       "Ryzen 5-5600H                              1\n",
       "Ryzen 7 5700U                              1\n",
       "AMD Ryzen 9                                1\n",
       "AMD Ryzen 3                                1\n",
       "9th Gen Core i9                            1\n",
       "8th Gen Core i7                            1\n",
       "AMD Ryzen 5 8540U                          1\n",
       "AMD Ryzen 7 7435H                          1\n",
       "Name: processors, dtype: int64"
      ]
     },
     "execution_count": 470,
     "metadata": {},
     "output_type": "execute_result"
    }
   ],
   "source": [
    "temp_df5['processors'].value_counts()"
   ]
  },
  {
   "cell_type": "code",
   "execution_count": 471,
   "id": "55eb87ff",
   "metadata": {},
   "outputs": [
    {
     "name": "stdout",
     "output_type": "stream",
     "text": [
      "Original Processor Counts:\n",
      "12th Gen Core i5                         130\n",
      "13th Gen Core i5                          88\n",
      "13th Gen Core i7                          77\n",
      "12th Gen Core i3                          53\n",
      "12th Gen Core i7                          41\n",
      "Intel Core Ultra 7 155H                   33\n",
      "11th Gen Core i5                          30\n",
      "Intel Core Ultra 7                        22\n",
      "13th Gen Core i9                          22\n",
      "13th Gen Core i3                          20\n",
      "14th Gen Core i9                          20\n",
      "14th Gen Core i7                          16\n",
      "Intel Core Ultra 5 125H                   15\n",
      "Intel Core Ultra 9 185H                   15\n",
      "AMD Ryzen 5 7535HS                        13\n",
      "11th Gen Core i3                          13\n",
      "Intel Core Ultra 5                        12\n",
      "AMD Ryzen 7 7840HS                        12\n",
      "AMD Ryzen 5 5500U                         12\n",
      "11th Gen Core i7                          10\n",
      "Celeron N4020                              9\n",
      "AMD Ryzen 5 7530U                          9\n",
      "Apple M3                                   8\n",
      "Apple M3 Pro                               7\n",
      "Snapdragon X Elite                         7\n",
      "Celeron N4500                              6\n",
      "Ryzen 3 7320U                              6\n",
      "Intel Celeron N4500                        6\n",
      "AMD Ryzen 7 7730U                          6\n",
      "AMD Ryzen 7 7435HS                         5\n",
      "AMD Ryzen 7 8845HS                         5\n",
      "Intel Core 5 Processor 120U                5\n",
      "AMD Ryzen 3 7320U                          5\n",
      "Apple M2                                   5\n",
      "AMD Ryzen 5 7520U                          5\n",
      "Apple M3 Max                               5\n",
      "Ryzen 5 7520U                              5\n",
      "10th Gen Core i5                           5\n",
      "Intel Core Ultra 9                         5\n",
      "AMD Ryzen 7 7735H                          4\n",
      "AMD Ryzen 5 5600H                          4\n",
      "AMD Ryzen 7 5700U                          4\n",
      "AMD Ryzen 3 5300U                          4\n",
      "Intel Core 5 120U                          4\n",
      "AMD Ryzen 3 7330U                          4\n",
      "12th Gen Core i5-12450H                    4\n",
      "AMD Ryzen 9 8945HS                         4\n",
      "Intel Core 7 Processor 150U                4\n",
      "AMD Ryzen 7 7735HS                         4\n",
      "Intel Core i3-N305                         4\n",
      "Intel Core Ultra 5 125U                    3\n",
      "Intel Core i3 N305                         3\n",
      "Intel Core Ultra 7 155U                    3\n",
      "AMD Ryzen 5 7535H                          3\n",
      "Ryzen 5 5600H                              3\n",
      "Snapdragon X Plus                          3\n",
      "MediaTek MT8183                            3\n",
      "10th Gen Core i3                           3\n",
      "AMD Ryzen 3 3250U                          3\n",
      "MediaTek Kompanio 520                      3\n",
      "Intel Processor N100                       2\n",
      "Kirin 9006C                                2\n",
      "AMD Ryzen R3-7320U,                        2\n",
      "Ryzen 5 5500U                              2\n",
      "Intel Celeron N5100                        2\n",
      "Octa Core                                  2\n",
      "Intel Celeron N4020                        2\n",
      "AMD Athlon Silver 7120U                    2\n",
      "Apple M1                                   2\n",
      "Ryzen 5 7530U                              2\n",
      "10th Gen Core i7                           2\n",
      "AMD Ryzen 7 6800H                          2\n",
      "Intel Core Celeron N4500                   2\n",
      "AMD Ryzen 5 7235HS                         2\n",
      "AMD Ryzen 9 AI HX 370                      2\n",
      "AMD Ryzen 7 7840H                          1\n",
      "7 ‎ZGM-00023 Snapdragon X Plus             1\n",
      "Intel Evo Core Ultra 7 155H                1\n",
      "AMD Ryzen AI 9 HX 370                      1\n",
      "Intel Core 5 120U Processor                1\n",
      "7 15 ‎‎ZYT-00048 Snapdragon X Elite        1\n",
      "7 15 ‎ZHG-00023 Snapdragon X Elite         1\n",
      "Ryzen AI 9 HX 370                          1\n",
      "7 ‎ZXX-00059 Snapdragon X Elite            1\n",
      "7 13.8 ‎‎ZGQ-00023 Snapdragon X Elite      1\n",
      "13th Gen Intel Core i5-1335U               1\n",
      "7 15 ‎ZHH-00048 Snapdragon X Elite         1\n",
      "Intel Processor N200                       1\n",
      "13th Gen Core i3 1315U                     1\n",
      "AMD Ryzen R7 5700U                         1\n",
      "AMD Ryzen 7 7735U                          1\n",
      "AMD Ryzen AI 300 Series Processors         1\n",
      "Intel Core 7 150U Processor                1\n",
      "AMD Ryzen 9 7940HS                         1\n",
      "Intel Core 3 100U                          1\n",
      "6 Intel Core Ultra 7 165H                  1\n",
      "Intel Core Ultra 7 165U                    1\n",
      "Intel Pentium Gold 7505                    1\n",
      "Intel Core 3 Processor 100U                1\n",
      "AMD Ryzen 7 8840HS                         1\n",
      "Intel Celeron N100                         1\n",
      "Intel Pentium Gold                         1\n",
      "Intel Pentium N100                         1\n",
      "8th Gen Core i5                            1\n",
      "Intel Celeron N4120                        1\n",
      "Snapdragon X Elite X1E-80-100              1\n",
      "Intel Core i5 1335U                        1\n",
      "Intel Evo Core Ultra 7 155U                1\n",
      "AMD Ryzen 7 Pro 7840U                      1\n",
      "AMD Ryzen 9 8945H                          1\n",
      "Snapdragon X Elite X1E-78-100              1\n",
      "Intel 12th Gen Core i7                     1\n",
      "AMD Ryzen 5 8645HS                         1\n",
      "AMD Ryzen 5 7640HS                         1\n",
      "AMD Ryzen 7 8840U                          1\n",
      "Intel Core Ultra i7 155H                   1\n",
      "7 Snapdragon X Plus                        1\n",
      "Ryzen 3 5300U                              1\n",
      "Intel Core i7 1355U                        1\n",
      "Intel Core i5 13420H                       1\n",
      "7 Snapdragon X Elite                       1\n",
      "AMD Ryzen 5 5600HS                         1\n",
      "AMD Ryzen 9 7845HX                         1\n",
      "AMD Athlon Silver-3050U                    1\n",
      "Ryzen 7 5800HS                             1\n",
      "AMD Ryzen 5 5625U                          1\n",
      "MediaTek MT8788                            1\n",
      "AMD Ryzen 5-5600H                          1\n",
      "Ryzen 5 6600H                              1\n",
      "AMD Athlon 3050U                           1\n",
      "Ryzen 7 5800H                              1\n",
      "Ryzen 5-5600H                              1\n",
      "Ryzen 7 5700U                              1\n",
      "AMD Ryzen 9                                1\n",
      "AMD Ryzen 3                                1\n",
      "9th Gen Core i9                            1\n",
      "8th Gen Core i7                            1\n",
      "AMD Ryzen 5 8540U                          1\n",
      "AMD Ryzen 7 7435H                          1\n",
      "Name: processors, dtype: int64\n",
      "\n",
      "Updated Processor Counts:\n",
      "Intel Core i5       261\n",
      "Intel Core i7       149\n",
      "Intel Core Ultra    113\n",
      "Others               99\n",
      "Intel Core i3        97\n",
      "AMD Ryzen 5          68\n",
      "AMD Ryzen 7          52\n",
      "Intel Core i9        43\n",
      "Apple M Series       27\n",
      "AMD Ryzen 3          24\n",
      "AMD Ryzen 9          12\n",
      "Name: processors, dtype: int64\n"
     ]
    }
   ],
   "source": [
    "# Print original value counts\n",
    "print(\"Original Processor Counts:\")\n",
    "print(temp_df5['processors'].value_counts())\n",
    "\n",
    "# Define mapping of specific processors to broader categories\n",
    "processor_mapping = {\n",
    "    '12th Gen Core i5': 'Intel Core i5',\n",
    "    '13th Gen Core i5': 'Intel Core i5',\n",
    "    '13th Gen Core i7': 'Intel Core i7',\n",
    "    '12th Gen Core i3': 'Intel Core i3',\n",
    "    '12th Gen Core i7': 'Intel Core i7',\n",
    "    'Intel Core Ultra 7 155H': 'Intel Core Ultra',\n",
    "    '11th Gen Core i5': 'Intel Core i5',\n",
    "    'Intel Core Ultra 7': 'Intel Core Ultra',\n",
    "    '13th Gen Core i9': 'Intel Core i9',\n",
    "    '13th Gen Core i3': 'Intel Core i3',\n",
    "    '14th Gen Core i9': 'Intel Core i9',\n",
    "    '14th Gen Core i7': 'Intel Core i7',\n",
    "    'Intel Core Ultra 5 125H': 'Intel Core Ultra',\n",
    "    'Intel Core Ultra 9 185H': 'Intel Core Ultra',\n",
    "    'AMD Ryzen 5 7535HS': 'AMD Ryzen 5',\n",
    "    '11th Gen Core i3': 'Intel Core i3',\n",
    "    'Intel Core Ultra 5': 'Intel Core Ultra',\n",
    "    'AMD Ryzen 7 7840HS': 'AMD Ryzen 7',\n",
    "    'AMD Ryzen 5 5500U': 'AMD Ryzen 5',\n",
    "    '11th Gen Core i7': 'Intel Core i7',\n",
    "    'Celeron N4020': 'Others',\n",
    "    'AMD Ryzen 5 7530U': 'AMD Ryzen 5',\n",
    "    'Apple M3': 'Apple M Series',\n",
    "    'Apple M3 Pro': 'Apple M Series',\n",
    "    'Snapdragon X Elite': 'Others',\n",
    "    'Celeron N4500': 'Others',\n",
    "    'Ryzen 3 7320U': 'AMD Ryzen 3',\n",
    "    'Intel Celeron N4500': 'Others',\n",
    "    'AMD Ryzen 7 7730U': 'AMD Ryzen 7',\n",
    "    'AMD Ryzen 7 7435HS': 'AMD Ryzen 7',\n",
    "    'AMD Ryzen 7 8845HS': 'AMD Ryzen 7',\n",
    "    'Intel Core 5 Processor 120U': 'Others',\n",
    "    'AMD Ryzen 3 7320U': 'AMD Ryzen 3',\n",
    "    'Apple M2': 'Apple M Series',\n",
    "    'AMD Ryzen 5 7520U': 'AMD Ryzen 5',\n",
    "    'Apple M3 Max': 'Apple M Series',\n",
    "    'Ryzen 5 7520U': 'AMD Ryzen 5',\n",
    "    '10th Gen Core i5': 'Intel Core i5',\n",
    "    'Intel Core Ultra 9': 'Intel Core Ultra',\n",
    "    'AMD Ryzen 7 7735H': 'AMD Ryzen 7',\n",
    "    'AMD Ryzen 5 5600H': 'AMD Ryzen 5',\n",
    "    'AMD Ryzen 7 5700U': 'AMD Ryzen 7',\n",
    "    'AMD Ryzen 3 5300U': 'AMD Ryzen 3',\n",
    "    'Intel Core 5 120U': 'Others',\n",
    "    'AMD Ryzen 3 7330U': 'AMD Ryzen 3',\n",
    "    '12th Gen Core i5-12450H': 'Intel Core i5',\n",
    "    'AMD Ryzen 9 8945HS': 'AMD Ryzen 9',\n",
    "    'Intel Core 7 Processor 150U': 'Others',\n",
    "    'AMD Ryzen 7 7735HS': 'AMD Ryzen 7',\n",
    "    'Intel Core i3-N305': 'Intel Core i3',\n",
    "    'Intel Core Ultra 5 125U': 'Intel Core Ultra',\n",
    "    'Intel Core i3 N305': 'Intel Core i3',\n",
    "    'Intel Core Ultra 7 155U': 'Intel Core Ultra',\n",
    "    'AMD Ryzen 5 7535H': 'AMD Ryzen 5',\n",
    "    'Ryzen 5 5600H': 'AMD Ryzen 5',\n",
    "    'Snapdragon X Plus': 'Others',\n",
    "    'MediaTek MT8183': 'Others',\n",
    "    '10th Gen Core i3': 'Intel Core i3',\n",
    "    'AMD Ryzen 3 3250U': 'AMD Ryzen 3',\n",
    "    'MediaTek Kompanio 520': 'Others',\n",
    "    'Intel Processor N100': 'Others',\n",
    "    'Kirin 9006C': 'Others',\n",
    "    'AMD Ryzen R3-7320U': 'AMD Ryzen 3',\n",
    "    'Ryzen 5 5500U': 'AMD Ryzen 5',\n",
    "    'Intel Celeron N5100': 'Others',\n",
    "    'Octa Core': 'Others',\n",
    "    'Intel Celeron N4020': 'Others',\n",
    "    'AMD Athlon Silver 7120U': 'Others',\n",
    "    'Apple M1': 'Apple M Series',\n",
    "    'Ryzen 5 7530U': 'AMD Ryzen 5',\n",
    "    '10th Gen Core i7': 'Intel Core i7',\n",
    "    'AMD Ryzen 7 6800H': 'AMD Ryzen 7',\n",
    "    'Intel Core Celeron N4500': 'Others',\n",
    "    'AMD Ryzen 5 7235HS': 'AMD Ryzen 5',\n",
    "    'AMD Ryzen 9 AI HX 370': 'AMD Ryzen 9',\n",
    "    'AMD Ryzen 7 7840H': 'AMD Ryzen 7',\n",
    "    '7 ‎ZGM-00023 Snapdragon X Plus': 'Others',\n",
    "    'Intel Evo Core Ultra 7 155H': 'Intel Core Ultra',\n",
    "    'AMD Ryzen AI 9 HX 370': 'AMD Ryzen 9',\n",
    "    'Intel Core 5 120U Processor': 'Others',\n",
    "    '7 15 ‎‎ZYT-00048 Snapdragon X Elite': 'Others',\n",
    "    '7 15 ‎ZHG-00023 Snapdragon X Elite': 'Others',\n",
    "    'Ryzen AI 9 HX 370': 'AMD Ryzen 9',\n",
    "    '7 ‎ZXX-00059 Snapdragon X Elite': 'Others',\n",
    "    '7 13.8 ‎‎ZGQ-00023 Snapdragon X Elite': 'Others',\n",
    "    '13th Gen Intel Core i5-1335U': 'Intel Core i5',\n",
    "    '7 15 ‎ZHH-00048 Snapdragon X Elite': 'Others',\n",
    "    'Intel Processor N200': 'Others',\n",
    "    '13th Gen Core i3 1315U': 'Intel Core i3',\n",
    "    'AMD Ryzen R7 5700U': 'AMD Ryzen 7',\n",
    "    'AMD Ryzen 7 7735U': 'AMD Ryzen 7',\n",
    "    'AMD Ryzen AI 300 Series Processors': 'Others',\n",
    "    'Intel Core 7 150U Processor': 'Others',\n",
    "    'AMD Ryzen 9 7940HS': 'AMD Ryzen 9',\n",
    "    'Intel Core 3 100U': 'Others',\n",
    "    '6 Intel Core Ultra 7 165H': 'Intel Core Ultra',\n",
    "    'Intel Core Ultra 7 165U': 'Intel Core Ultra',\n",
    "    'Intel Pentium Gold 7505': 'Others',\n",
    "    'Intel Core 3 Processor 100U': 'Others',\n",
    "    'AMD Ryzen 7 8840HS': 'AMD Ryzen 7',\n",
    "    'Intel Celeron N100': 'Others',\n",
    "    'Intel Pentium Gold': 'Others',\n",
    "    'Intel Pentium N100': 'Others',\n",
    "    '8th Gen Core i5': 'Intel Core i5',\n",
    "    'Intel Celeron N4120': 'Others',\n",
    "    'Snapdragon X Elite X1E-80-100': 'Others',\n",
    "    'Intel Core i5 1335U': 'Intel Core i5',\n",
    "    'Intel Evo Core Ultra 7 155U': 'Intel Core Ultra',\n",
    "    'AMD Ryzen 7 Pro 7840U': 'AMD Ryzen 7',\n",
    "    'AMD Ryzen 9 8945H': 'AMD Ryzen 9',\n",
    "    'Snapdragon X Elite X1E-78-100': 'Others',\n",
    "    'Intel 12th Gen Core i7': 'Intel Core i7',\n",
    "    'AMD Ryzen 5 8645HS': 'AMD Ryzen 5',\n",
    "    'AMD Ryzen 5 7640HS': 'AMD Ryzen 5',\n",
    "    'AMD Ryzen 7 8840U': 'AMD Ryzen 7',\n",
    "    'Intel Core Ultra i7 155H': 'Intel Core Ultra',\n",
    "    '7 Snapdragon X Plus': 'Others',\n",
    "    'Ryzen 3 5300U': 'AMD Ryzen 3',\n",
    "    'Intel Core i7 1355U': 'Intel Core i7',\n",
    "    'Intel Core i5 13420H': 'Intel Core i5',\n",
    "    '7 Snapdragon X Elite': 'Others',\n",
    "    'AMD Ryzen 5 5600HS': 'AMD Ryzen 5',\n",
    "    'AMD Ryzen 9 7845HX': 'AMD Ryzen 9',\n",
    "    'AMD Athlon Silver-3050U': 'Others',\n",
    "    'Ryzen 7 5800HS': 'AMD Ryzen 7',\n",
    "    'AMD Ryzen 5 5625U': 'AMD Ryzen 5',\n",
    "    'MediaTek MT8788': 'Others',\n",
    "    'AMD Ryzen 5-5600H': 'AMD Ryzen 5',\n",
    "    'Ryzen 5 6600H': 'AMD Ryzen 5',\n",
    "    'AMD Athlon 3050U': 'Others',\n",
    "    'Ryzen 7 5800H': 'AMD Ryzen 7',\n",
    "    'Ryzen 5-5600H': 'AMD Ryzen 5',\n",
    "    'Ryzen 7 5700U': 'AMD Ryzen 7',\n",
    "    'AMD Ryzen 9': 'AMD Ryzen 9',\n",
    "    'AMD Ryzen 3': 'AMD Ryzen 3',\n",
    "    '9th Gen Core i9': 'Intel Core i9',\n",
    "    '8th Gen Core i7': 'Intel Core i7',\n",
    "    'AMD Ryzen 5 8540U': 'AMD Ryzen 5',\n",
    "    'AMD Ryzen 7 7435H': 'AMD Ryzen 7'\n",
    "}\n",
    "\n",
    "# Apply the mapping to the 'processors' column\n",
    "temp_df5['processors'] = temp_df5['processors'].map(processor_mapping).fillna('Others')\n",
    "\n",
    "# Print updated value counts\n",
    "print(\"\\nUpdated Processor Counts:\")\n",
    "print(temp_df5['processors'].value_counts())"
   ]
  },
  {
   "cell_type": "code",
   "execution_count": 472,
   "id": "ea619c60",
   "metadata": {},
   "outputs": [
    {
     "data": {
      "text/plain": [
       "Index(['productName', 'price', 'rating', 'specScore', 'features', 'brand',\n",
       "       'processors', 'ram', 'storage', 'storage_type', 'os', 'graphics_card',\n",
       "       'warranty', 'resolution', 'cores', 'screen_size'],\n",
       "      dtype='object')"
      ]
     },
     "execution_count": 472,
     "metadata": {},
     "output_type": "execute_result"
    }
   ],
   "source": [
    "temp_df5.columns"
   ]
  },
  {
   "cell_type": "code",
   "execution_count": 478,
   "id": "1e49382b",
   "metadata": {},
   "outputs": [],
   "source": [
    "temp_df5['ram_in_gb'] = temp_df5['ram'].str.split(\"GB\").str[0].str.strip()"
   ]
  },
  {
   "cell_type": "code",
   "execution_count": 484,
   "id": "da586ffd",
   "metadata": {},
   "outputs": [],
   "source": [
    "temp_df5.loc[temp_df5['storage'] == '1', 'storage'] = '1TB'"
   ]
  },
  {
   "cell_type": "code",
   "execution_count": 485,
   "id": "a087e6ee",
   "metadata": {},
   "outputs": [
    {
     "data": {
      "text/plain": [
       "512GB    548\n",
       "1TB      277\n",
       "256GB     51\n",
       "2TB       23\n",
       "512       16\n",
       "128GB     15\n",
       "64GB       8\n",
       "32GB       2\n",
       "256        2\n",
       "4TB        1\n",
       "1T         1\n",
       "Name: storage, dtype: int64"
      ]
     },
     "execution_count": 485,
     "metadata": {},
     "output_type": "execute_result"
    }
   ],
   "source": [
    "temp_df5['storage'].value_counts()"
   ]
  },
  {
   "cell_type": "code",
   "execution_count": 486,
   "id": "b1f7155d",
   "metadata": {},
   "outputs": [],
   "source": [
    "temp_df5.loc[temp_df5['storage'] == '1T', 'storage'] = '1TB'"
   ]
  },
  {
   "cell_type": "code",
   "execution_count": 487,
   "id": "b66a97b7",
   "metadata": {},
   "outputs": [
    {
     "data": {
      "text/plain": [
       "512GB    548\n",
       "1TB      278\n",
       "256GB     51\n",
       "2TB       23\n",
       "512       16\n",
       "128GB     15\n",
       "64GB       8\n",
       "32GB       2\n",
       "256        2\n",
       "4TB        1\n",
       "Name: storage, dtype: int64"
      ]
     },
     "execution_count": 487,
     "metadata": {},
     "output_type": "execute_result"
    }
   ],
   "source": [
    "temp_df5['storage'].value_counts()"
   ]
  },
  {
   "cell_type": "code",
   "execution_count": 497,
   "id": "81b52ce6",
   "metadata": {},
   "outputs": [],
   "source": [
    "#need to change 256 manually in excel"
   ]
  },
  {
   "cell_type": "code",
   "execution_count": 499,
   "id": "fb0c4762",
   "metadata": {},
   "outputs": [],
   "source": [
    "temp_df5.to_excel(\"cleaned_laptop5.xlsx\", index=False)"
   ]
  },
  {
   "cell_type": "code",
   "execution_count": 500,
   "id": "d2b8d59d",
   "metadata": {},
   "outputs": [],
   "source": [
    "temp_df6 = pd.read_excel(\"cleaned_laptop5.xlsx\")"
   ]
  },
  {
   "cell_type": "code",
   "execution_count": 503,
   "id": "e4f928ae",
   "metadata": {},
   "outputs": [],
   "source": [
    "temp_df6.drop(columns=['ram'], inplace=True)"
   ]
  },
  {
   "cell_type": "code",
   "execution_count": 504,
   "id": "a10a8811",
   "metadata": {},
   "outputs": [
    {
     "data": {
      "text/plain": [
       "Index(['productName', 'price', 'rating', 'specScore', 'features', 'brand',\n",
       "       'processors', 'storage', 'storage_type', 'os', 'graphics_card',\n",
       "       'warranty', 'resolution', 'cores', 'screen_size', 'ram_in_gb'],\n",
       "      dtype='object')"
      ]
     },
     "execution_count": 504,
     "metadata": {},
     "output_type": "execute_result"
    }
   ],
   "source": [
    "temp_df6.columns"
   ]
  },
  {
   "cell_type": "code",
   "execution_count": 512,
   "id": "545f8b49",
   "metadata": {},
   "outputs": [
    {
     "data": {
      "text/plain": [
       "10 Cores     188\n",
       "Octa Core    187\n",
       "Hexa Core    141\n",
       "16 Cores      87\n",
       "12 Cores      81\n",
       "Quad Core     79\n",
       "14 Cores      77\n",
       "Dual Core     43\n",
       "24 Cores      29\n",
       "20 Cores      12\n",
       "No Cores      12\n",
       "5 Cores        5\n",
       "32GB  RAM      2\n",
       "11 Cores       1\n",
       "8GB  RAM       1\n",
       "Name: cores, dtype: int64"
      ]
     },
     "execution_count": 512,
     "metadata": {},
     "output_type": "execute_result"
    }
   ],
   "source": [
    "temp_df6['cores'].value_counts()"
   ]
  },
  {
   "cell_type": "code",
   "execution_count": 514,
   "id": "ac8d7fec",
   "metadata": {},
   "outputs": [],
   "source": [
    "# temp_df6[temp_df6['cores'] == '32GB  RAM']"
   ]
  },
  {
   "cell_type": "code",
   "execution_count": 515,
   "id": "66389a31",
   "metadata": {},
   "outputs": [],
   "source": [
    "values_to_replace = [\n",
    "    '32GB  RAM',\n",
    "    '8GB  RAM',\n",
    "]\n",
    "\n",
    "# Update 'cores' where it matches any value in `values_to_replace` to 'No Cores'\n",
    "temp_df6['cores'] = temp_df6['cores'].apply(lambda x: 'No Cores' if x in values_to_replace else x)"
   ]
  },
  {
   "cell_type": "code",
   "execution_count": 521,
   "id": "977ea929",
   "metadata": {},
   "outputs": [
    {
     "data": {
      "text/plain": [
       "512GB    548\n",
       "1TB      278\n",
       "256GB     51\n",
       "2TB       23\n",
       "512       16\n",
       "128GB     15\n",
       "64GB       8\n",
       "32GB       2\n",
       "4TB        1\n",
       "512        1\n",
       "256        1\n",
       "Name: storage, dtype: int64"
      ]
     },
     "execution_count": 521,
     "metadata": {},
     "output_type": "execute_result"
    }
   ],
   "source": [
    "temp_df6['storage'].value_counts()"
   ]
  },
  {
   "cell_type": "code",
   "execution_count": 522,
   "id": "524a1be7",
   "metadata": {},
   "outputs": [],
   "source": [
    "temp_df6.loc[temp_df6['storage'] == '512', 'storage'] = '512GB'\n",
    "temp_df6.loc[temp_df6['storage'] == '256', 'storage'] = '256GB'"
   ]
  },
  {
   "cell_type": "code",
   "execution_count": 523,
   "id": "54ba73d5",
   "metadata": {},
   "outputs": [
    {
     "data": {
      "text/plain": [
       "512GB    564\n",
       "1TB      278\n",
       "256GB     52\n",
       "2TB       23\n",
       "128GB     15\n",
       "64GB       8\n",
       "32GB       2\n",
       "4TB        1\n",
       "512        1\n",
       "Name: storage, dtype: int64"
      ]
     },
     "execution_count": 523,
     "metadata": {},
     "output_type": "execute_result"
    }
   ],
   "source": [
    "temp_df6['storage'].value_counts()"
   ]
  },
  {
   "cell_type": "code",
   "execution_count": 527,
   "id": "d5564d90",
   "metadata": {},
   "outputs": [],
   "source": [
    "temp_df6['storage'] = temp_df6['storage'].str.strip()"
   ]
  },
  {
   "cell_type": "code",
   "execution_count": 528,
   "id": "1b45f61d",
   "metadata": {},
   "outputs": [
    {
     "data": {
      "text/plain": [
       "512GB    564\n",
       "1TB      278\n",
       "256GB     52\n",
       "2TB       23\n",
       "128GB     15\n",
       "64GB       8\n",
       "32GB       2\n",
       "4TB        1\n",
       "Name: storage, dtype: int64"
      ]
     },
     "execution_count": 528,
     "metadata": {},
     "output_type": "execute_result"
    }
   ],
   "source": [
    "temp_df6['storage'].value_counts()"
   ]
  },
  {
   "cell_type": "code",
   "execution_count": 543,
   "id": "7746b864",
   "metadata": {},
   "outputs": [],
   "source": [
    "temp_df6['storage'] = temp_df6['storage'].apply(lambda x: f\"{float(str(x).replace('TB', '').strip()) * 1000}GB\" if 'TB' in str(x) else x)"
   ]
  },
  {
   "cell_type": "code",
   "execution_count": 544,
   "id": "d93f3f4a",
   "metadata": {},
   "outputs": [
    {
     "data": {
      "text/plain": [
       "512GB       564\n",
       "1000.0GB    278\n",
       "256GB        52\n",
       "2000.0GB     23\n",
       "128GB        15\n",
       "64GB          8\n",
       "32GB          2\n",
       "4000.0GB      1\n",
       "Name: storage, dtype: int64"
      ]
     },
     "execution_count": 544,
     "metadata": {},
     "output_type": "execute_result"
    }
   ],
   "source": [
    "temp_df6['storage'].value_counts()"
   ]
  },
  {
   "cell_type": "code",
   "execution_count": 548,
   "id": "d4c7c8e2",
   "metadata": {},
   "outputs": [],
   "source": [
    "temp_df6['storage'] = temp_df6['storage'].apply(\n",
    "    lambda x: f\"{float(str(x).replace('TB', '').strip()) * 1000}GB\" if 'TB' in str(x) else x\n",
    ")"
   ]
  },
  {
   "cell_type": "code",
   "execution_count": 550,
   "id": "635330ef",
   "metadata": {},
   "outputs": [
    {
     "data": {
      "text/plain": [
       "Index(['productName', 'price', 'rating', 'specScore', 'features', 'brand',\n",
       "       'processors', 'storage', 'storage_type', 'os', 'graphics_card',\n",
       "       'warranty', 'resolution', 'cores', 'screen_size', 'ram_in_gb'],\n",
       "      dtype='object')"
      ]
     },
     "execution_count": 550,
     "metadata": {},
     "output_type": "execute_result"
    }
   ],
   "source": [
    "temp_df6.columns"
   ]
  },
  {
   "cell_type": "code",
   "execution_count": 552,
   "id": "f6b81994",
   "metadata": {},
   "outputs": [
    {
     "data": {
      "text/plain": [
       "512GB       564\n",
       "1000.0GB    278\n",
       "256GB        52\n",
       "2000.0GB     23\n",
       "128GB        15\n",
       "64GB          8\n",
       "32GB          2\n",
       "4000.0GB      1\n",
       "Name: storage, dtype: int64"
      ]
     },
     "execution_count": 552,
     "metadata": {},
     "output_type": "execute_result"
    }
   ],
   "source": [
    "temp_df6['storage'].value_counts()"
   ]
  },
  {
   "cell_type": "code",
   "execution_count": 561,
   "id": "45f16d34",
   "metadata": {},
   "outputs": [
    {
     "data": {
      "text/plain": [
       "10 Cores     188\n",
       "Octa Core    187\n",
       "Hexa Core    141\n",
       "16 Cores      87\n",
       "12 Cores      81\n",
       "Quad Core     79\n",
       "14 Cores      77\n",
       "Dual Core     43\n",
       "24 Cores      29\n",
       "No Cores      15\n",
       "20 Cores      12\n",
       "5 Cores        5\n",
       "11 Cores       1\n",
       "Name: cores, dtype: int64"
      ]
     },
     "execution_count": 561,
     "metadata": {},
     "output_type": "execute_result"
    }
   ],
   "source": [
    "temp_df6['cores'].value_counts()"
   ]
  },
  {
   "cell_type": "code",
   "execution_count": 562,
   "id": "876bc781",
   "metadata": {},
   "outputs": [],
   "source": [
    "replacement_dict = {\n",
    "    'Octa Core': '8 Cores',\n",
    "    'Hexa Core': '6 Cores',\n",
    "    'Quad Core': '4 Cores',\n",
    "    'Dual Core': '2 Cores'\n",
    "}\n",
    "\n",
    "# Apply the replacement using the replace method\n",
    "temp_df6['cores'] = temp_df6['cores'].replace(replacement_dict)"
   ]
  },
  {
   "cell_type": "code",
   "execution_count": 568,
   "id": "3c76f047",
   "metadata": {},
   "outputs": [],
   "source": [
    "temp_df6['cores'] = temp_df6['cores'].str.replace(\" Cores\",\"\").str.strip()"
   ]
  },
  {
   "cell_type": "code",
   "execution_count": 570,
   "id": "af1dd2e6",
   "metadata": {},
   "outputs": [
    {
     "data": {
      "text/plain": [
       "16.0     529\n",
       "8.0      287\n",
       "32.0      82\n",
       "4.0       19\n",
       "36.0       6\n",
       "24.0       5\n",
       "12.0       5\n",
       "18.0       5\n",
       "64.0       4\n",
       "48.0       1\n",
       "128.0      1\n",
       "Name: ram_in_gb, dtype: int64"
      ]
     },
     "execution_count": 570,
     "metadata": {},
     "output_type": "execute_result"
    }
   ],
   "source": [
    "temp_df6['ram_in_gb'].value_counts()"
   ]
  },
  {
   "cell_type": "code",
   "execution_count": 575,
   "id": "b4587a9c",
   "metadata": {},
   "outputs": [
    {
     "data": {
      "text/plain": [
       "Index(['productName', 'price', 'rating', 'specScore', 'features', 'brand',\n",
       "       'processors', 'storage', 'storage_type', 'os', 'graphics_card',\n",
       "       'warranty', 'resolution', 'cores', 'screen_size', 'ram_in_gb'],\n",
       "      dtype='object')"
      ]
     },
     "execution_count": 575,
     "metadata": {},
     "output_type": "execute_result"
    }
   ],
   "source": [
    "temp_df6.columns"
   ]
  },
  {
   "cell_type": "code",
   "execution_count": 592,
   "id": "3f882600",
   "metadata": {},
   "outputs": [],
   "source": [
    "temp_df6['storage'] = temp_df6['storage'].str.replace(\"GB\",\"\").str.strip()"
   ]
  },
  {
   "cell_type": "code",
   "execution_count": 593,
   "id": "dce44323",
   "metadata": {},
   "outputs": [
    {
     "data": {
      "text/plain": [
       "512       564\n",
       "1000.0    278\n",
       "256        52\n",
       "2000.0     23\n",
       "128        15\n",
       "64          8\n",
       "32          2\n",
       "4000.0      1\n",
       "Name: storage, dtype: int64"
      ]
     },
     "execution_count": 593,
     "metadata": {},
     "output_type": "execute_result"
    }
   ],
   "source": [
    "temp_df6['storage'].value_counts()"
   ]
  },
  {
   "cell_type": "code",
   "execution_count": 598,
   "id": "b86563df",
   "metadata": {},
   "outputs": [
    {
     "data": {
      "text/plain": [
       "1920 x 1080     536\n",
       "Touch Screen    112\n",
       "1920 x 1200      98\n",
       "2560 x 1600      58\n",
       "1366 x 768       31\n",
       "2880 x 1800      29\n",
       "2560 x 1440      14\n",
       "3840 x 2400       8\n",
       "2560 x 1664       6\n",
       "3200 x 2000       6\n",
       "2880 x 1620       6\n",
       "3024 x 1964       5\n",
       "1080 x 1920       4\n",
       "2880 x 1864       4\n",
       "3456 x 2234       4\n",
       "3840 x 2160       3\n",
       "2160 x 1440       3\n",
       "2240 x 1400       3\n",
       "2304x1536         2\n",
       "3072 x 1920       2\n",
       "2240x1400         2\n",
       "2048 x 1280       2\n",
       "2560x1600'        1\n",
       "1440 x 2560       1\n",
       "2880x1800         1\n",
       "3200 x 1800       1\n",
       "2880 x 1920       1\n",
       "1440 x 2160       1\n",
       "2561 x 1600       1\n",
       "Name: resolution, dtype: int64"
      ]
     },
     "execution_count": 598,
     "metadata": {},
     "output_type": "execute_result"
    }
   ],
   "source": [
    "pd.read_excel(\"cleaned_laptop5.xlsx\")['resolution'].value_counts()"
   ]
  },
  {
   "cell_type": "code",
   "execution_count": 600,
   "id": "6a4030c6",
   "metadata": {},
   "outputs": [],
   "source": [
    "# temp_df6['resolution'] = pd.read_excel(\"cleaned_laptop5.xlsx\")['resolution']"
   ]
  },
  {
   "cell_type": "code",
   "execution_count": 610,
   "id": "56f5c722",
   "metadata": {},
   "outputs": [],
   "source": [
    "extracted_scree_size_v1 = temp_df6[temp_df6['screen_size'] == \"Touch Screen\"]['features'].str.split(\",\").str[4]"
   ]
  },
  {
   "cell_type": "code",
   "execution_count": 611,
   "id": "6aebcec1",
   "metadata": {},
   "outputs": [],
   "source": [
    "temp_df6.loc[temp_df6['screen_size'] == \"Touch Screen\", 'screen_size'] = extracted_scree_size_v1"
   ]
  },
  {
   "cell_type": "code",
   "execution_count": 613,
   "id": "2d2d2ca4",
   "metadata": {},
   "outputs": [
    {
     "data": {
      "text/plain": [
       "16.0     529\n",
       "8.0      287\n",
       "32.0      82\n",
       "4.0       19\n",
       "36.0       6\n",
       "24.0       5\n",
       "12.0       5\n",
       "18.0       5\n",
       "64.0       4\n",
       "48.0       1\n",
       "128.0      1\n",
       "Name: ram_in_gb, dtype: int64"
      ]
     },
     "execution_count": 613,
     "metadata": {},
     "output_type": "execute_result"
    }
   ],
   "source": [
    "temp_df6['ram_in_gb'].value_counts()"
   ]
  },
  {
   "cell_type": "code",
   "execution_count": 614,
   "id": "971012bb",
   "metadata": {},
   "outputs": [],
   "source": [
    "temp_df6.to_excel(\"cleaned_laptop6.xlsx\", index= False)"
   ]
  },
  {
   "cell_type": "code",
   "execution_count": 627,
   "id": "b1277336",
   "metadata": {},
   "outputs": [],
   "source": [
    "temp_df7 = pd.read_excel(\"cleaned_laptop6.xlsx\")"
   ]
  },
  {
   "cell_type": "code",
   "execution_count": 629,
   "id": "89c6307b",
   "metadata": {},
   "outputs": [],
   "source": [
    "temp_df7 = temp_df7.drop(columns=['Unnamed: 17', 'Unnamed: 18', 'Unnamed: 19', 'Unnamed: 20', 'Unnamed: 21', 'Unnamed: 22', 'Unnamed: 23'])"
   ]
  },
  {
   "cell_type": "code",
   "execution_count": 632,
   "id": "2271b921",
   "metadata": {},
   "outputs": [
    {
     "data": {
      "text/plain": [
       "(112, 17)"
      ]
     },
     "execution_count": 632,
     "metadata": {},
     "output_type": "execute_result"
    }
   ],
   "source": [
    "temp_df7[temp_df7['resolution'] == 'Touch Screen'].shape"
   ]
  },
  {
   "cell_type": "code",
   "execution_count": 633,
   "id": "ed7ae4a3",
   "metadata": {},
   "outputs": [],
   "source": [
    "# Define a function to get the resolution value\n",
    "def get_resolution(row):\n",
    "    if 'pixels' in str(row['res1']):\n",
    "        return row['res1']\n",
    "    elif 'pixels' in str(row['res2']):\n",
    "        return row['res2']\n",
    "    else:\n",
    "        return row['resolution']\n",
    "\n",
    "# Apply the function to update the 'resolution' column\n",
    "temp_df7.loc[temp_df7['resolution'] == 'Touch Screen', 'resolution'] = temp_df7[temp_df7['resolution'] == 'Touch Screen'].apply(get_resolution, axis=1)"
   ]
  },
  {
   "cell_type": "code",
   "execution_count": 634,
   "id": "275f38b8",
   "metadata": {},
   "outputs": [
    {
     "data": {
      "text/plain": [
       "(0, 17)"
      ]
     },
     "execution_count": 634,
     "metadata": {},
     "output_type": "execute_result"
    }
   ],
   "source": [
    "temp_df7[temp_df7['resolution'] == 'Touch Screen'].shape"
   ]
  },
  {
   "cell_type": "code",
   "execution_count": 636,
   "id": "30d62736",
   "metadata": {},
   "outputs": [
    {
     "data": {
      "text/plain": [
       "1920 x 1080                           536\n",
       "1920 x 1200                            98\n",
       "2560 x 1600                            58\n",
       "1366 x 768                             31\n",
       "2880 x 1800                            29\n",
       " 1920\\u2009x\\u20091200\\u2009pixels     28\n",
       " 2880\\u2009x\\u20091800\\u2009pixels     23\n",
       " 1920\\u2009x\\u20091080\\u2009pixels     15\n",
       "2560 x 1440                            14\n",
       " 2880\\u2009x\\u20091920\\u2009pixels      9\n",
       "3840 x 2400                             8\n",
       " 1366\\u2009x\\u2009768\\u2009pixels       7\n",
       "2880 x 1620                             6\n",
       "2560 x 1664                             6\n",
       "3200 x 2000                             6\n",
       "3024 x 1964                             5\n",
       " 2560\\u2009x\\u20091600\\u2009pixels      5\n",
       "2880 x 1864                             4\n",
       "3456 x 2234                             4\n",
       "1080 x 1920                             4\n",
       "2160 x 1440                             3\n",
       " 2496\\u2009x\\u20091664\\u2009pixels      3\n",
       " 3840\\u2009x\\u20092400\\u2009pixels      3\n",
       " 2304\\u2009x\\u20091536\\u2009pixels      3\n",
       "3840 x 2160                             3\n",
       "2240 x 1400                             3\n",
       "2304x1536                               2\n",
       "2048 x 1280                             2\n",
       " 3120\\u2009x\\u20092080\\u2009pixels      2\n",
       "3072 x 1920                             2\n",
       " 3200\\u2009x\\u20092000\\u2009pixels      2\n",
       " 3072\\u2009x\\u20091920\\u2009pixels      2\n",
       "2240x1400                               2\n",
       " 1080\\u2009x\\u20091920\\u2009pixels      2\n",
       " 2256\\u2009x\\u20091504\\u2009pixels      2\n",
       " 3000\\u2009x\\u20092000\\u2009pixels      1\n",
       "2561 x 1600                             1\n",
       " 1920\\u2009x\\u20092880\\u2009pixels      1\n",
       "1440 x 2560                             1\n",
       "1440 x 2160                             1\n",
       "2880 x 1920                             1\n",
       " 1536\\u2009x\\u20091024\\u2009pixels      1\n",
       "3200 x 1800                             1\n",
       " 2240\\u2009x\\u20091400\\u2009pixels      1\n",
       " 2944\\u2009x\\u20091840\\u2009pixels      1\n",
       "2560x1600'                              1\n",
       "2880x1800                               1\n",
       " 2520\\u2009x\\u20091680\\u2009pixels      1\n",
       "Name: resolution, dtype: int64"
      ]
     },
     "execution_count": 636,
     "metadata": {},
     "output_type": "execute_result"
    }
   ],
   "source": [
    "temp_df7['resolution'].value_counts()"
   ]
  },
  {
   "cell_type": "code",
   "execution_count": 637,
   "id": "1a1754af",
   "metadata": {},
   "outputs": [],
   "source": [
    "temp_df7.to_excel(\"cleaned_laptop7.xlsx\", index= False)"
   ]
  },
  {
   "cell_type": "code",
   "execution_count": 638,
   "id": "2a965fcf",
   "metadata": {},
   "outputs": [],
   "source": [
    "temp_df8 = pd.read_excel(\"cleaned_laptop7.xlsx\")"
   ]
  },
  {
   "cell_type": "code",
   "execution_count": 643,
   "id": "e6b43176",
   "metadata": {},
   "outputs": [],
   "source": [
    "temp_df8['ram_type'] = temp_df8['features'].str.split(\",\").str[3].str.split(\" \").str[2]"
   ]
  },
  {
   "cell_type": "code",
   "execution_count": 652,
   "id": "ed1c2afc",
   "metadata": {},
   "outputs": [
    {
     "data": {
      "text/plain": [
       "DDR4           388\n",
       "DDR5           197\n",
       "LPDDR5         116\n",
       "SSD'            56\n",
       "LPDDR5X         54\n",
       "LPDDR4X         36\n",
       "                25\n",
       "LPDDR5x         25\n",
       "LPDDR4x         16\n",
       "LPDDR4          11\n",
       "NVIDIA           5\n",
       "Adreno           3\n",
       "DDR6             2\n",
       "LPDDRx4          2\n",
       "DDR3             2\n",
       "Arc              1\n",
       "DDR4-            1\n",
       "Integrated       1\n",
       "Integrated'      1\n",
       "Radeon           1\n",
       "Name: ram_type, dtype: int64"
      ]
     },
     "execution_count": 652,
     "metadata": {},
     "output_type": "execute_result"
    }
   ],
   "source": [
    "temp_df8['ram_type'].value_counts()"
   ]
  },
  {
   "cell_type": "code",
   "execution_count": 675,
   "id": "b004b084",
   "metadata": {},
   "outputs": [],
   "source": [
    "# Hard             7\n",
    "# NVIDIA           5\n",
    "# Adreno           3\n",
    "# Arc              1\n",
    "# DDR4-            1 - ddr4\n",
    "# Integrated       1 - ddr4\n",
    "# Integrated'      1 - ddr3\n",
    "# Radeon           1 - \"\""
   ]
  },
  {
   "cell_type": "code",
   "execution_count": 651,
   "id": "78705181",
   "metadata": {},
   "outputs": [],
   "source": [
    "# Extract the relevant part of 'features' for rows where 'ram_type' is 'Hard'\n",
    "extracted_ram_type = temp_df8[temp_df8['ram_type'] == 'Hard']['features'].str.split(\",\").str[2].str.split(\" \").str[2]\n",
    "\n",
    "# Update the 'ram_type' column in temp_df8 with the extracted values\n",
    "temp_df8.loc[temp_df8['ram_type'] == 'Hard', 'ram_type'] = extracted_ram_type.values"
   ]
  },
  {
   "cell_type": "code",
   "execution_count": 663,
   "id": "9833aea9",
   "metadata": {},
   "outputs": [],
   "source": [
    "extracted_ram_type1 = temp_df8[temp_df8['ram_type'] == 'NVIDIA']['features'].str.split(\",\").str[1].str.split(\" \").str[2]\n",
    "\n",
    "# Update the 'ram_type' column in temp_df8 with the extracted values\n",
    "temp_df8.loc[temp_df8['ram_type'] == 'NVIDIA', 'ram_type'] = extracted_ram_type1.values"
   ]
  },
  {
   "cell_type": "code",
   "execution_count": 665,
   "id": "22785bd1",
   "metadata": {},
   "outputs": [],
   "source": [
    "extracted_ram_type2 = temp_df8[temp_df8['ram_type'] == 'Adreno']['features'].str.split(\",\").str[1].str.split(\" \").str[2]\n",
    "\n",
    "# Update the 'ram_type' column in temp_df8 with the extracted values\n",
    "temp_df8.loc[temp_df8['ram_type'] == 'Adreno', 'ram_type'] = extracted_ram_type2.values"
   ]
  },
  {
   "cell_type": "code",
   "execution_count": 667,
   "id": "5b24901a",
   "metadata": {},
   "outputs": [],
   "source": [
    "extracted_ram_type3 = temp_df8[temp_df8['ram_type'] == 'Arc']['features'].str.split(\",\").str[1].str.split(\" \").str[2]\n",
    "\n",
    "# Update the 'ram_type' column in temp_df8 with the extracted values\n",
    "temp_df8.loc[temp_df8['ram_type'] == 'Arc', 'ram_type'] = extracted_ram_type3.values"
   ]
  },
  {
   "cell_type": "code",
   "execution_count": 674,
   "id": "4ac01d6d",
   "metadata": {},
   "outputs": [
    {
     "data": {
      "text/plain": [
       "634     '32\\u2009GB  RAM'\n",
       "Name: features, dtype: object"
      ]
     },
     "execution_count": 674,
     "metadata": {},
     "output_type": "execute_result"
    }
   ],
   "source": [
    "temp_df8[temp_df8['ram_type'] == \"Radeon\"]['features'].str.split(\",\").str[1]\n",
    "\n",
    "# Update the 'ram_type' column in temp_df8 with the extracted values\n",
    "# temp_df8.loc[temp_df8['ram_type'] == 'Arc', 'ram_type'] = extracted_ram_type3.values"
   ]
  },
  {
   "cell_type": "code",
   "execution_count": 676,
   "id": "bf5a4305",
   "metadata": {},
   "outputs": [],
   "source": [
    "temp_df8.to_excel(\"cleaned_laptop7.xlsx\", index=False)"
   ]
  },
  {
   "cell_type": "code",
   "execution_count": 677,
   "id": "e7f009f7",
   "metadata": {},
   "outputs": [],
   "source": [
    "temp_df9 = pd.read_excel(\"cleaned_laptop7.xlsx\")"
   ]
  },
  {
   "cell_type": "code",
   "execution_count": 684,
   "id": "871c2149",
   "metadata": {},
   "outputs": [],
   "source": [
    "extracted_ram_type4 = temp_df9[temp_df9['ram_type'] == \"SSD\"]['features'].str.split(\",\").str[2].str.split(\" \").str[2]\n",
    "temp_df9.loc[temp_df9['ram_type'] == 'SSD', 'ram_type'] = extracted_ram_type4.values"
   ]
  },
  {
   "cell_type": "code",
   "execution_count": 688,
   "id": "b4768d19",
   "metadata": {},
   "outputs": [
    {
     "data": {
      "text/plain": [
       "DDR4               398\n",
       "DDR5               212\n",
       "LPDDR5             116\n",
       "LPDDR5X             68\n",
       "LPDDR4X             36\n",
       "LPDDR5x             33\n",
       "LPDDR4x             16\n",
       "                    13\n",
       "LPDDR4              11\n",
       "\\u200eLPDDR5x        4\n",
       "DDR3                 3\n",
       "DDR6                 2\n",
       "Unified Memmory      2\n",
       "LPDDRx4              2\n",
       "Name: ram_type, dtype: int64"
      ]
     },
     "execution_count": 688,
     "metadata": {},
     "output_type": "execute_result"
    }
   ],
   "source": [
    "temp_df9['ram_type'].value_counts()"
   ]
  },
  {
   "cell_type": "code",
   "execution_count": 687,
   "id": "3b497955",
   "metadata": {},
   "outputs": [],
   "source": [
    "temp_df9['ram_type'] = temp_df9['ram_type'].str.replace(\"Unified\", \"Unified Memmory\")"
   ]
  },
  {
   "cell_type": "code",
   "execution_count": 689,
   "id": "dc4f5568",
   "metadata": {},
   "outputs": [],
   "source": [
    "temp_df9.to_excel(\"cleaned_laptop8.xlsx\", index=False)"
   ]
  },
  {
   "cell_type": "code",
   "execution_count": 690,
   "id": "62036a36",
   "metadata": {},
   "outputs": [],
   "source": [
    "temp_df10 = pd.read_excel(\"cleaned_laptop8.xlsx\")"
   ]
  },
  {
   "cell_type": "code",
   "execution_count": 691,
   "id": "8ea04242",
   "metadata": {},
   "outputs": [
    {
     "data": {
      "text/plain": [
       "Index(['productName', 'price', 'rating', 'specScore', 'brand', 'processors',\n",
       "       'storage', 'storage_type', 'os', 'graphics_card', 'warranty',\n",
       "       'resolution', 'cores', 'screen_size', 'ram_in_gb', 'features',\n",
       "       'ram_type'],\n",
       "      dtype='object')"
      ]
     },
     "execution_count": 691,
     "metadata": {},
     "output_type": "execute_result"
    }
   ],
   "source": [
    "temp_df10.columns"
   ]
  },
  {
   "cell_type": "code",
   "execution_count": 692,
   "id": "8153b349",
   "metadata": {},
   "outputs": [
    {
     "data": {
      "text/plain": [
       "DDR4               398\n",
       "DDR5               212\n",
       "LPDDR5             116\n",
       "LPDDR5X             68\n",
       "LPDDR4X             36\n",
       "LPDDR5x             33\n",
       "LPDDR4x             16\n",
       "LPDDR4              11\n",
       "eLPDDR5x             4\n",
       "DDR3                 3\n",
       "DDR6                 2\n",
       "Unified Memmory      2\n",
       "LPDDRx4              2\n",
       "Name: ram_type, dtype: int64"
      ]
     },
     "execution_count": 692,
     "metadata": {},
     "output_type": "execute_result"
    }
   ],
   "source": [
    "temp_df10['ram_type'].value_counts()"
   ]
  },
  {
   "cell_type": "code",
   "execution_count": 693,
   "id": "4b00fda6",
   "metadata": {},
   "outputs": [],
   "source": [
    "category_mapping = {\n",
    "    'DDR4': 'DDR4',\n",
    "    'DDR5': 'DDR5',\n",
    "    'LPDDR5': 'LPDDR5',\n",
    "    'LPDDR5X': 'LPDDR5',\n",
    "    'LPDDR4X': 'LPDDR4',\n",
    "    'LPDDR5x': 'LPDDR5',\n",
    "    'LPDDR4x': 'LPDDR4',\n",
    "    'LPDDR4': 'LPDDR4',\n",
    "    'eLPDDR5x': 'LPDDR5',\n",
    "    'DDR3': 'DDR3',\n",
    "    'DDR6': 'DDR6',\n",
    "    'Unified Memmory': 'Unified Memory',\n",
    "    'LPDDRx4': 'LPDDR4'\n",
    "}\n",
    "\n",
    "# Apply the mapping to the 'ram_type' column\n",
    "temp_df10['ram_type'] = temp_df10['ram_type'].map(category_mapping)"
   ]
  },
  {
   "cell_type": "code",
   "execution_count": 705,
   "id": "4bb2b896",
   "metadata": {},
   "outputs": [],
   "source": [
    "temp_df10.to_excel(\"cleaned_laptop8_final_basic_cleaned.xlsx\", index=False)"
   ]
  },
  {
   "cell_type": "markdown",
   "id": "c7d82a8a",
   "metadata": {},
   "source": [
    "### Final Cleaning"
   ]
  },
  {
   "cell_type": "code",
   "execution_count": 733,
   "id": "87081001",
   "metadata": {},
   "outputs": [],
   "source": [
    "temp_df11 = pd.read_excel(\"cleaned_laptop8_final_basic_cleaned.xlsx\")"
   ]
  },
  {
   "cell_type": "code",
   "execution_count": 708,
   "id": "b831ae39",
   "metadata": {},
   "outputs": [],
   "source": [
    "temp_df11.drop(columns=['productName','features'], inplace=True)"
   ]
  },
  {
   "cell_type": "code",
   "execution_count": 710,
   "id": "c0b60172",
   "metadata": {},
   "outputs": [],
   "source": [
    "temp_df11 = temp_df11.applymap(lambda x: x.strip() if isinstance(x, str) else x)"
   ]
  },
  {
   "cell_type": "code",
   "execution_count": 714,
   "id": "4b9ea9f3",
   "metadata": {},
   "outputs": [
    {
     "data": {
      "text/plain": [
       "(945, 15)"
      ]
     },
     "execution_count": 714,
     "metadata": {},
     "output_type": "execute_result"
    }
   ],
   "source": [
    "temp_df11.shape"
   ]
  },
  {
   "cell_type": "code",
   "execution_count": 725,
   "id": "2293be1b",
   "metadata": {},
   "outputs": [
    {
     "name": "stdout",
     "output_type": "stream",
     "text": [
      "<class 'pandas.core.frame.DataFrame'>\n",
      "RangeIndex: 945 entries, 0 to 944\n",
      "Data columns (total 15 columns):\n",
      " #   Column         Non-Null Count  Dtype  \n",
      "---  ------         --------------  -----  \n",
      " 0   price          945 non-null    int64  \n",
      " 1   rating         945 non-null    float64\n",
      " 2   specScore      945 non-null    int64  \n",
      " 3   brand          945 non-null    object \n",
      " 4   processors     945 non-null    object \n",
      " 5   storage        943 non-null    float64\n",
      " 6   storage_type   942 non-null    object \n",
      " 7   os             945 non-null    object \n",
      " 8   graphics_card  945 non-null    object \n",
      " 9   warranty       934 non-null    float64\n",
      " 10  resolution     945 non-null    object \n",
      " 11  cores          945 non-null    int32  \n",
      " 12  screen_size    943 non-null    float64\n",
      " 13  ram_in_gb      944 non-null    float64\n",
      " 14  ram_type       903 non-null    object \n",
      "dtypes: float64(5), int32(1), int64(2), object(7)\n",
      "memory usage: 107.2+ KB\n"
     ]
    }
   ],
   "source": [
    "temp_df11.info()"
   ]
  },
  {
   "cell_type": "code",
   "execution_count": 724,
   "id": "3541c240",
   "metadata": {},
   "outputs": [],
   "source": [
    "temp_df11['cores'] = pd.to_numeric(temp_df11['cores'].str.extract('(\\d+)')[0], errors='coerce').fillna(0).astype(int)"
   ]
  },
  {
   "cell_type": "code",
   "execution_count": 772,
   "id": "9ae4d895",
   "metadata": {},
   "outputs": [
    {
     "data": {
      "text/plain": [
       "productName      0\n",
       "price            0\n",
       "rating           0\n",
       "specScore        0\n",
       "brand            0\n",
       "processors       0\n",
       "storage          0\n",
       "storage_type     0\n",
       "os               0\n",
       "graphics_card    0\n",
       "warranty         0\n",
       "resolution       0\n",
       "cores            0\n",
       "screen_size      0\n",
       "ram_in_gb        0\n",
       "features         0\n",
       "ram_type         0\n",
       "dtype: int64"
      ]
     },
     "execution_count": 772,
     "metadata": {},
     "output_type": "execute_result"
    }
   ],
   "source": [
    "temp_df11.isnull().sum()"
   ]
  },
  {
   "cell_type": "code",
   "execution_count": 737,
   "id": "b159ed4e",
   "metadata": {},
   "outputs": [],
   "source": [
    "temp_df11['storage'] = temp_df11['storage'].fillna(512)"
   ]
  },
  {
   "cell_type": "code",
   "execution_count": 744,
   "id": "d16beb43",
   "metadata": {},
   "outputs": [],
   "source": [
    "# Extract storage types from 'features' where 'storage_type' is null\n",
    "extracted_storage_type_v2 = temp_df11[temp_df11['storage_type'].isnull()]['features'].str.split(\",\").str[4]\n",
    "\n",
    "# Update 'storage_type' with extracted values for rows where 'storage_type' is null\n",
    "temp_df11.loc[temp_df11['storage_type'].isnull(), 'storage_type'] = extracted_storage_type_v2.values"
   ]
  },
  {
   "cell_type": "code",
   "execution_count": 748,
   "id": "57d5ac81",
   "metadata": {},
   "outputs": [],
   "source": [
    "# temp_df11.loc[temp_df11['warranty'].isnull(), 'warranty'] = extracted_storage_type_v2.values"
   ]
  },
  {
   "cell_type": "code",
   "execution_count": 749,
   "id": "0260b8f8",
   "metadata": {},
   "outputs": [],
   "source": [
    "temp_df11['warranty'] = temp_df11['warranty'].fillna(1)"
   ]
  },
  {
   "cell_type": "code",
   "execution_count": 755,
   "id": "39a98820",
   "metadata": {},
   "outputs": [
    {
     "data": {
      "text/plain": [
       "728    15.6\n",
       "184    15.6\n",
       "216    15.6\n",
       "682    15.6\n",
       "447    14.0\n",
       "49     15.6\n",
       "221    13.3\n",
       "Name: screen_size, dtype: float64"
      ]
     },
     "execution_count": 755,
     "metadata": {},
     "output_type": "execute_result"
    }
   ],
   "source": [
    "temp_df11['screen_size'].sample(7)"
   ]
  },
  {
   "cell_type": "code",
   "execution_count": 757,
   "id": "47031ef5",
   "metadata": {},
   "outputs": [],
   "source": [
    "extrected_screen_size_v3 = temp_df11[temp_df11['screen_size'].isnull()]['features'].str.split(\",\").str[3]\n",
    "temp_df11.loc[temp_df11['screen_size'].isnull(), 'screen_size'] = extrected_screen_size_v3.values"
   ]
  },
  {
   "cell_type": "code",
   "execution_count": 761,
   "id": "6c000e4a",
   "metadata": {},
   "outputs": [],
   "source": [
    "temp_df11['ram_in_gb'] = temp_df11['ram_in_gb'].fillna(8.0)"
   ]
  },
  {
   "cell_type": "code",
   "execution_count": 767,
   "id": "da1a2695",
   "metadata": {},
   "outputs": [],
   "source": [
    "extrected_ram_type_v4 = temp_df11[temp_df11['ram_type'].isnull()]['features'].str.split(\",\").str[3].str.split(\" \").str[2]\n",
    "temp_df11.loc[temp_df11['ram_type'].isnull(), 'ram_type'] = extrected_ram_type_v4.values"
   ]
  },
  {
   "cell_type": "code",
   "execution_count": 771,
   "id": "c1845850",
   "metadata": {},
   "outputs": [],
   "source": [
    "temp_df11['ram_type'] = temp_df11['ram_type'].fillna(\"LPDDR4\")"
   ]
  },
  {
   "cell_type": "code",
   "execution_count": 774,
   "id": "3e7520e3",
   "metadata": {},
   "outputs": [
    {
     "data": {
      "text/plain": [
       "Index(['productName', 'price', 'rating', 'specScore', 'brand', 'processors',\n",
       "       'storage', 'storage_type', 'os', 'graphics_card', 'warranty',\n",
       "       'resolution', 'cores', 'screen_size', 'ram_in_gb', 'features',\n",
       "       'ram_type'],\n",
       "      dtype='object')"
      ]
     },
     "execution_count": 774,
     "metadata": {},
     "output_type": "execute_result"
    }
   ],
   "source": [
    "temp_df11.columns"
   ]
  },
  {
   "cell_type": "code",
   "execution_count": 787,
   "id": "3b097d7c",
   "metadata": {},
   "outputs": [
    {
     "data": {
      "text/plain": [
       "hp           195\n",
       "lenovo       181\n",
       "asus         135\n",
       "msi          105\n",
       "acer          87\n",
       "dell          87\n",
       "Others        62\n",
       "samsung       29\n",
       "apple         23\n",
       "infinix       21\n",
       "microsoft     20\n",
       "Name: brand, dtype: int64"
      ]
     },
     "execution_count": 787,
     "metadata": {},
     "output_type": "execute_result"
    }
   ],
   "source": [
    "temp_df11['brand'].value_counts()"
   ]
  },
  {
   "cell_type": "code",
   "execution_count": 788,
   "id": "f40bb142",
   "metadata": {},
   "outputs": [
    {
     "data": {
      "text/plain": [
       "productName      0\n",
       "price            0\n",
       "rating           0\n",
       "specScore        0\n",
       "brand            0\n",
       "processors       0\n",
       "storage          0\n",
       "storage_type     0\n",
       "os               0\n",
       "graphics_card    0\n",
       "warranty         0\n",
       "resolution       0\n",
       "cores            0\n",
       "screen_size      0\n",
       "ram_in_gb        0\n",
       "features         0\n",
       "ram_type         0\n",
       "dtype: int64"
      ]
     },
     "execution_count": 788,
     "metadata": {},
     "output_type": "execute_result"
    }
   ],
   "source": [
    "temp_df11.isnull().sum()"
   ]
  },
  {
   "cell_type": "code",
   "execution_count": 789,
   "id": "25d6dbf2",
   "metadata": {},
   "outputs": [],
   "source": [
    "temp_df11.to_excel(\"cleaned_laptop10.xlsx\", index=False)"
   ]
  },
  {
   "cell_type": "code",
   "execution_count": 790,
   "id": "dca43534",
   "metadata": {},
   "outputs": [],
   "source": [
    "temp_df12 = pd.read_excel(\"cleaned_laptop10.xlsx\")"
   ]
  },
  {
   "cell_type": "code",
   "execution_count": 796,
   "id": "dee580d1",
   "metadata": {},
   "outputs": [],
   "source": [
    "extrected_ram_type_v5 = temp_df12[temp_df12['ram_type'].isnull()]['features'].str.split(\",\").str[3].str.split(\" \").str[2]\n",
    "temp_df12.loc[temp_df12['ram_type'].isnull(), 'ram_type'] = extrected_ram_type_v5.values"
   ]
  },
  {
   "cell_type": "code",
   "execution_count": 798,
   "id": "004fbdbb",
   "metadata": {},
   "outputs": [
    {
     "data": {
      "text/plain": [
       "productName      0\n",
       "price            0\n",
       "rating           0\n",
       "specScore        0\n",
       "brand            0\n",
       "processors       0\n",
       "storage          0\n",
       "storage_type     0\n",
       "os               0\n",
       "graphics_card    0\n",
       "warranty         0\n",
       "resolution       0\n",
       "cores            0\n",
       "screen_size      0\n",
       "ram_in_gb        0\n",
       "features         0\n",
       "ram_type         0\n",
       "dtype: int64"
      ]
     },
     "execution_count": 798,
     "metadata": {},
     "output_type": "execute_result"
    }
   ],
   "source": [
    "temp_df12.isnull().sum()"
   ]
  },
  {
   "cell_type": "code",
   "execution_count": 799,
   "id": "64c9fa50",
   "metadata": {},
   "outputs": [],
   "source": [
    "temp_df12.to_excel(\"cleaned_laptop11.xlsx\", index=False)"
   ]
  },
  {
   "cell_type": "code",
   "execution_count": 800,
   "id": "1036b79d",
   "metadata": {},
   "outputs": [],
   "source": [
    "temp_df13 = pd.read_excel(\"cleaned_laptop11.xlsx\")"
   ]
  },
  {
   "cell_type": "code",
   "execution_count": 807,
   "id": "de7097a4",
   "metadata": {},
   "outputs": [],
   "source": [
    "temp_df13['cores'] = pd.to_numeric(temp_df13['cores'].str.extract('(\\d+)')[0], errors='coerce').fillna(0).astype(int)"
   ]
  },
  {
   "cell_type": "code",
   "execution_count": 808,
   "id": "1feb11ad",
   "metadata": {},
   "outputs": [
    {
     "name": "stdout",
     "output_type": "stream",
     "text": [
      "<class 'pandas.core.frame.DataFrame'>\n",
      "RangeIndex: 945 entries, 0 to 944\n",
      "Data columns (total 17 columns):\n",
      " #   Column         Non-Null Count  Dtype  \n",
      "---  ------         --------------  -----  \n",
      " 0   productName    945 non-null    object \n",
      " 1   price          945 non-null    int64  \n",
      " 2   rating         945 non-null    float64\n",
      " 3   specScore      945 non-null    int64  \n",
      " 4   brand          945 non-null    object \n",
      " 5   processors     945 non-null    object \n",
      " 6   storage        945 non-null    int64  \n",
      " 7   storage_type   945 non-null    object \n",
      " 8   os             945 non-null    object \n",
      " 9   graphics_card  945 non-null    object \n",
      " 10  warranty       945 non-null    int64  \n",
      " 11  resolution     945 non-null    object \n",
      " 12  cores          945 non-null    int32  \n",
      " 13  screen_size    945 non-null    float64\n",
      " 14  ram_in_gb      945 non-null    int64  \n",
      " 15  features       945 non-null    object \n",
      " 16  ram_type       920 non-null    object \n",
      "dtypes: float64(2), int32(1), int64(5), object(9)\n",
      "memory usage: 121.9+ KB\n"
     ]
    }
   ],
   "source": [
    "temp_df13.info()"
   ]
  },
  {
   "cell_type": "code",
   "execution_count": 809,
   "id": "d4a688d6",
   "metadata": {},
   "outputs": [
    {
     "data": {
      "text/plain": [
       "(945, 17)"
      ]
     },
     "execution_count": 809,
     "metadata": {},
     "output_type": "execute_result"
    }
   ],
   "source": [
    "temp_df13.shape"
   ]
  },
  {
   "cell_type": "code",
   "execution_count": 810,
   "id": "465fc6b8",
   "metadata": {},
   "outputs": [
    {
     "data": {
      "text/plain": [
       "productName       0\n",
       "price             0\n",
       "rating            0\n",
       "specScore         0\n",
       "brand             0\n",
       "processors        0\n",
       "storage           0\n",
       "storage_type      0\n",
       "os                0\n",
       "graphics_card     0\n",
       "warranty          0\n",
       "resolution        0\n",
       "cores             0\n",
       "screen_size       0\n",
       "ram_in_gb         0\n",
       "features          0\n",
       "ram_type         25\n",
       "dtype: int64"
      ]
     },
     "execution_count": 810,
     "metadata": {},
     "output_type": "execute_result"
    }
   ],
   "source": [
    "temp_df13.isnull().sum()"
   ]
  },
  {
   "cell_type": "code",
   "execution_count": 811,
   "id": "9f7f569f",
   "metadata": {},
   "outputs": [],
   "source": [
    "extrected_ram_type_v5 = temp_df13[temp_df13['ram_type'].isnull()]['features'].str.split(\",\").str[3].str.split(\" \").str[2]\n",
    "temp_df13.loc[temp_df13['ram_type'].isnull(), 'ram_type'] = extrected_ram_type_v5.values"
   ]
  },
  {
   "cell_type": "code",
   "execution_count": 812,
   "id": "b249594f",
   "metadata": {},
   "outputs": [
    {
     "data": {
      "text/plain": [
       "productName      0\n",
       "price            0\n",
       "rating           0\n",
       "specScore        0\n",
       "brand            0\n",
       "processors       0\n",
       "storage          0\n",
       "storage_type     0\n",
       "os               0\n",
       "graphics_card    0\n",
       "warranty         0\n",
       "resolution       0\n",
       "cores            0\n",
       "screen_size      0\n",
       "ram_in_gb        0\n",
       "features         0\n",
       "ram_type         0\n",
       "dtype: int64"
      ]
     },
     "execution_count": 812,
     "metadata": {},
     "output_type": "execute_result"
    }
   ],
   "source": [
    "temp_df13.isnull().sum()"
   ]
  },
  {
   "cell_type": "code",
   "execution_count": 818,
   "id": "a027ebb2",
   "metadata": {},
   "outputs": [
    {
     "data": {
      "text/html": [
       "<div>\n",
       "<style scoped>\n",
       "    .dataframe tbody tr th:only-of-type {\n",
       "        vertical-align: middle;\n",
       "    }\n",
       "\n",
       "    .dataframe tbody tr th {\n",
       "        vertical-align: top;\n",
       "    }\n",
       "\n",
       "    .dataframe thead th {\n",
       "        text-align: right;\n",
       "    }\n",
       "</style>\n",
       "<table border=\"1\" class=\"dataframe\">\n",
       "  <thead>\n",
       "    <tr style=\"text-align: right;\">\n",
       "      <th></th>\n",
       "      <th>productName</th>\n",
       "      <th>price</th>\n",
       "      <th>rating</th>\n",
       "      <th>specScore</th>\n",
       "      <th>brand</th>\n",
       "      <th>processors</th>\n",
       "      <th>storage</th>\n",
       "      <th>storage_type</th>\n",
       "      <th>os</th>\n",
       "      <th>graphics_card</th>\n",
       "      <th>warranty</th>\n",
       "      <th>resolution</th>\n",
       "      <th>cores</th>\n",
       "      <th>screen_size</th>\n",
       "      <th>ram_in_gb</th>\n",
       "      <th>features</th>\n",
       "      <th>ram_type</th>\n",
       "    </tr>\n",
       "  </thead>\n",
       "  <tbody>\n",
       "  </tbody>\n",
       "</table>\n",
       "</div>"
      ],
      "text/plain": [
       "Empty DataFrame\n",
       "Columns: [productName, price, rating, specScore, brand, processors, storage, storage_type, os, graphics_card, warranty, resolution, cores, screen_size, ram_in_gb, features, ram_type]\n",
       "Index: []"
      ]
     },
     "execution_count": 818,
     "metadata": {},
     "output_type": "execute_result"
    }
   ],
   "source": [
    "temp_df13[temp_df13['ram_type'].isnull()]"
   ]
  },
  {
   "cell_type": "code",
   "execution_count": 815,
   "id": "95e6577f",
   "metadata": {},
   "outputs": [],
   "source": [
    "temp_df13.to_excel(\"cleaned_laptop12.xlsx\", index=False)"
   ]
  },
  {
   "cell_type": "code",
   "execution_count": 3,
   "id": "41841b3b",
   "metadata": {},
   "outputs": [],
   "source": [
    "temp_df14 = pd.read_excel(\"cleaned_laptop12.xlsx\")"
   ]
  },
  {
   "cell_type": "code",
   "execution_count": 4,
   "id": "2346f1b6",
   "metadata": {},
   "outputs": [
    {
     "data": {
      "text/plain": [
       "productName       0\n",
       "price             0\n",
       "rating            0\n",
       "specScore         0\n",
       "brand             0\n",
       "processors        0\n",
       "storage           0\n",
       "storage_type      0\n",
       "os                0\n",
       "graphics_card     0\n",
       "warranty          0\n",
       "resolution        0\n",
       "cores             0\n",
       "screen_size       0\n",
       "ram_in_gb         0\n",
       "features          0\n",
       "ram_type         25\n",
       "dtype: int64"
      ]
     },
     "execution_count": 4,
     "metadata": {},
     "output_type": "execute_result"
    }
   ],
   "source": [
    "temp_df14.isnull().sum()"
   ]
  },
  {
   "cell_type": "code",
   "execution_count": 6,
   "id": "7eb64b89",
   "metadata": {},
   "outputs": [
    {
     "data": {
      "text/html": [
       "<div>\n",
       "<style scoped>\n",
       "    .dataframe tbody tr th:only-of-type {\n",
       "        vertical-align: middle;\n",
       "    }\n",
       "\n",
       "    .dataframe tbody tr th {\n",
       "        vertical-align: top;\n",
       "    }\n",
       "\n",
       "    .dataframe thead th {\n",
       "        text-align: right;\n",
       "    }\n",
       "</style>\n",
       "<table border=\"1\" class=\"dataframe\">\n",
       "  <thead>\n",
       "    <tr style=\"text-align: right;\">\n",
       "      <th></th>\n",
       "      <th>productName</th>\n",
       "      <th>price</th>\n",
       "      <th>rating</th>\n",
       "      <th>specScore</th>\n",
       "      <th>brand</th>\n",
       "      <th>processors</th>\n",
       "      <th>storage</th>\n",
       "      <th>storage_type</th>\n",
       "      <th>os</th>\n",
       "      <th>graphics_card</th>\n",
       "      <th>warranty</th>\n",
       "      <th>resolution</th>\n",
       "      <th>cores</th>\n",
       "      <th>screen_size</th>\n",
       "      <th>ram_in_gb</th>\n",
       "      <th>features</th>\n",
       "      <th>ram_type</th>\n",
       "    </tr>\n",
       "  </thead>\n",
       "  <tbody>\n",
       "    <tr>\n",
       "      <th>114</th>\n",
       "      <td>Lenovo V15 G4 ‎82YU00W7IN Laptop (AMD Ryzen 3 ...</td>\n",
       "      <td>27980</td>\n",
       "      <td>4.45</td>\n",
       "      <td>52</td>\n",
       "      <td>lenovo</td>\n",
       "      <td>Intel Core i5</td>\n",
       "      <td>512</td>\n",
       "      <td>SSD</td>\n",
       "      <td>Windows 11</td>\n",
       "      <td>AMD Graphics</td>\n",
       "      <td>1</td>\n",
       "      <td>1920 x 1080</td>\n",
       "      <td>4</td>\n",
       "      <td>15.6</td>\n",
       "      <td>8</td>\n",
       "      <td>['7th Gen AMD Ryzen 3 7320U', 'Quad Core, 8 Th...</td>\n",
       "      <td>NaN</td>\n",
       "    </tr>\n",
       "    <tr>\n",
       "      <th>142</th>\n",
       "      <td>Lenovo IdeaPad Slim 1 82R400BGIN Laptop (AMD R...</td>\n",
       "      <td>33990</td>\n",
       "      <td>4.60</td>\n",
       "      <td>46</td>\n",
       "      <td>lenovo</td>\n",
       "      <td>Intel Core i5</td>\n",
       "      <td>512</td>\n",
       "      <td>SSD</td>\n",
       "      <td>Windows 11</td>\n",
       "      <td>AMD Graphics</td>\n",
       "      <td>1</td>\n",
       "      <td>1920 x 1080</td>\n",
       "      <td>6</td>\n",
       "      <td>15.6</td>\n",
       "      <td>8</td>\n",
       "      <td>['5th Gen AMD Ryzen 5 5500U', 'Hexa Core, 12 T...</td>\n",
       "      <td>NaN</td>\n",
       "    </tr>\n",
       "    <tr>\n",
       "      <th>146</th>\n",
       "      <td>Lenovo V15 G4 ‎82YU00W7IN Laptop (AMD Ryzen 3 ...</td>\n",
       "      <td>26990</td>\n",
       "      <td>4.45</td>\n",
       "      <td>52</td>\n",
       "      <td>lenovo</td>\n",
       "      <td>Intel Core i7</td>\n",
       "      <td>1000</td>\n",
       "      <td>SSD</td>\n",
       "      <td>Windows 11</td>\n",
       "      <td>AMD Graphics</td>\n",
       "      <td>1</td>\n",
       "      <td>1920 x 1080</td>\n",
       "      <td>4</td>\n",
       "      <td>15.6</td>\n",
       "      <td>16</td>\n",
       "      <td>['7th Gen AMD Ryzen 3 7320U', 'Quad Core, 8 Th...</td>\n",
       "      <td>NaN</td>\n",
       "    </tr>\n",
       "    <tr>\n",
       "      <th>154</th>\n",
       "      <td>Acer Swift Go 14 SFG14-41 NX.KG3SI.006 Laptop ...</td>\n",
       "      <td>44990</td>\n",
       "      <td>4.30</td>\n",
       "      <td>60</td>\n",
       "      <td>acer</td>\n",
       "      <td>Intel Core i5</td>\n",
       "      <td>512</td>\n",
       "      <td>SSD</td>\n",
       "      <td>Windows 11</td>\n",
       "      <td>Intel Integrated Graphics</td>\n",
       "      <td>1</td>\n",
       "      <td>1920 x 1080</td>\n",
       "      <td>6</td>\n",
       "      <td>14.0</td>\n",
       "      <td>16</td>\n",
       "      <td>['7th Gen AMD Ryzen 5 7430U', 'Hexa Core, 12 T...</td>\n",
       "      <td>NaN</td>\n",
       "    </tr>\n",
       "    <tr>\n",
       "      <th>155</th>\n",
       "      <td>Acer Swift Go 14 SFG14-41 NX.KG3SI.007 Laptop ...</td>\n",
       "      <td>49990</td>\n",
       "      <td>4.00</td>\n",
       "      <td>62</td>\n",
       "      <td>acer</td>\n",
       "      <td>AMD Ryzen 7</td>\n",
       "      <td>512</td>\n",
       "      <td>SSD</td>\n",
       "      <td>Windows 11</td>\n",
       "      <td>Intel Integrated Graphics</td>\n",
       "      <td>1</td>\n",
       "      <td>1920 x 1080</td>\n",
       "      <td>8</td>\n",
       "      <td>14.0</td>\n",
       "      <td>16</td>\n",
       "      <td>['7th Gen AMD Ryzen 7 7730U', 'Octa Core, 16 T...</td>\n",
       "      <td>NaN</td>\n",
       "    </tr>\n",
       "    <tr>\n",
       "      <th>177</th>\n",
       "      <td>Acer Aspire 3 A324-51 UN.343SI.003 Laptop (12t...</td>\n",
       "      <td>41990</td>\n",
       "      <td>4.55</td>\n",
       "      <td>51</td>\n",
       "      <td>acer</td>\n",
       "      <td>Intel Core Ultra</td>\n",
       "      <td>1000</td>\n",
       "      <td>SSD</td>\n",
       "      <td>Windows 11</td>\n",
       "      <td>Intel Integrated Graphics</td>\n",
       "      <td>1</td>\n",
       "      <td>1920 x 1080</td>\n",
       "      <td>10</td>\n",
       "      <td>14.0</td>\n",
       "      <td>16</td>\n",
       "      <td>['12th Gen Intel Core i5 1235U', '10 Cores (2P...</td>\n",
       "      <td>NaN</td>\n",
       "    </tr>\n",
       "    <tr>\n",
       "      <th>188</th>\n",
       "      <td>HP 15-fd0187TU Laptop (13th Gen Core i5/ 8GB/ ...</td>\n",
       "      <td>52990</td>\n",
       "      <td>4.20</td>\n",
       "      <td>50</td>\n",
       "      <td>hp</td>\n",
       "      <td>AMD Ryzen 7</td>\n",
       "      <td>1000</td>\n",
       "      <td>SSD</td>\n",
       "      <td>Windows 11</td>\n",
       "      <td>Intel Integrated Graphics</td>\n",
       "      <td>1</td>\n",
       "      <td>1920 x 1080</td>\n",
       "      <td>10</td>\n",
       "      <td>15.6</td>\n",
       "      <td>32</td>\n",
       "      <td>['13th Gen Intel Core i5 1335U', '10 Cores (2P...</td>\n",
       "      <td>NaN</td>\n",
       "    </tr>\n",
       "    <tr>\n",
       "      <th>316</th>\n",
       "      <td>Dell Vostro 5630 Business Laptop (13th Gen Cor...</td>\n",
       "      <td>84490</td>\n",
       "      <td>4.20</td>\n",
       "      <td>64</td>\n",
       "      <td>dell</td>\n",
       "      <td>Intel Core i9</td>\n",
       "      <td>1000</td>\n",
       "      <td>SSD</td>\n",
       "      <td>Windows 11</td>\n",
       "      <td>NVIDIA Graphics</td>\n",
       "      <td>1</td>\n",
       "      <td>1920 x 1200</td>\n",
       "      <td>12</td>\n",
       "      <td>16.0</td>\n",
       "      <td>16</td>\n",
       "      <td>['13th Gen Intel Core i7 1360P', '12 Cores (4P...</td>\n",
       "      <td>NaN</td>\n",
       "    </tr>\n",
       "    <tr>\n",
       "      <th>337</th>\n",
       "      <td>Acer Chromebook Plus 514 CB514-4H ‎NX.KUTSI.00...</td>\n",
       "      <td>24990</td>\n",
       "      <td>4.00</td>\n",
       "      <td>33</td>\n",
       "      <td>acer</td>\n",
       "      <td>Intel Core i7</td>\n",
       "      <td>512</td>\n",
       "      <td>SSD</td>\n",
       "      <td>Windows 11</td>\n",
       "      <td>Intel Integrated Graphics</td>\n",
       "      <td>1</td>\n",
       "      <td>1920 x 1080</td>\n",
       "      <td>8</td>\n",
       "      <td>14.0</td>\n",
       "      <td>16</td>\n",
       "      <td>['Intel Core i3 N305', 'Octa Core, 8 Threads',...</td>\n",
       "      <td>NaN</td>\n",
       "    </tr>\n",
       "    <tr>\n",
       "      <th>370</th>\n",
       "      <td>Huawei MateBook X Pro 2024 Laptop (Intel Core ...</td>\n",
       "      <td>188990</td>\n",
       "      <td>4.55</td>\n",
       "      <td>74</td>\n",
       "      <td>Others</td>\n",
       "      <td>Intel Core i5</td>\n",
       "      <td>512</td>\n",
       "      <td>SSD</td>\n",
       "      <td>Windows 11</td>\n",
       "      <td>Intel Integrated Graphics</td>\n",
       "      <td>1</td>\n",
       "      <td>3120x2080</td>\n",
       "      <td>16</td>\n",
       "      <td>14.2</td>\n",
       "      <td>8</td>\n",
       "      <td>['Intel Core Ultra 9 Series 1 185H', '16 Cores...</td>\n",
       "      <td>NaN</td>\n",
       "    </tr>\n",
       "    <tr>\n",
       "      <th>377</th>\n",
       "      <td>Acer Swift Go 14 OLED SFG14-73 Laptop (Intel C...</td>\n",
       "      <td>94990</td>\n",
       "      <td>4.75</td>\n",
       "      <td>61</td>\n",
       "      <td>acer</td>\n",
       "      <td>Intel Core i3</td>\n",
       "      <td>512</td>\n",
       "      <td>SSD</td>\n",
       "      <td>Windows 11</td>\n",
       "      <td>Intel Integrated Graphics</td>\n",
       "      <td>1</td>\n",
       "      <td>2880 x 1800</td>\n",
       "      <td>16</td>\n",
       "      <td>14.0</td>\n",
       "      <td>8</td>\n",
       "      <td>['Intel Core Ultra 7 Series 1 155H', '16 Cores...</td>\n",
       "      <td>NaN</td>\n",
       "    </tr>\n",
       "    <tr>\n",
       "      <th>440</th>\n",
       "      <td>Lenovo IdeaPad Slim 3 82RK00VVIN Laptop (12th ...</td>\n",
       "      <td>35490</td>\n",
       "      <td>4.75</td>\n",
       "      <td>48</td>\n",
       "      <td>lenovo</td>\n",
       "      <td>Intel Core i7</td>\n",
       "      <td>512</td>\n",
       "      <td>SSD</td>\n",
       "      <td>Windows 11</td>\n",
       "      <td>Intel Integrated Graphics</td>\n",
       "      <td>1</td>\n",
       "      <td>1920 x 1080</td>\n",
       "      <td>6</td>\n",
       "      <td>15.6</td>\n",
       "      <td>16</td>\n",
       "      <td>['12th Gen Intel Core i3 1215U', 'Hexa Core (2...</td>\n",
       "      <td>NaN</td>\n",
       "    </tr>\n",
       "    <tr>\n",
       "      <th>580</th>\n",
       "      <td>Asus VivoBook 15 X515MA-BR011W Laptop (Celeron...</td>\n",
       "      <td>19990</td>\n",
       "      <td>4.30</td>\n",
       "      <td>33</td>\n",
       "      <td>asus</td>\n",
       "      <td>Others</td>\n",
       "      <td>256</td>\n",
       "      <td>SSD</td>\n",
       "      <td>Windows 11</td>\n",
       "      <td>Intel Integrated Graphics</td>\n",
       "      <td>1</td>\n",
       "      <td>1366 x 768</td>\n",
       "      <td>2</td>\n",
       "      <td>15.6</td>\n",
       "      <td>8</td>\n",
       "      <td>['Intel Celeron  N4020', 'Dual Core, 2 Threads...</td>\n",
       "      <td>NaN</td>\n",
       "    </tr>\n",
       "    <tr>\n",
       "      <th>605</th>\n",
       "      <td>Huawei MateBook GT 14 Laptop (Intel Core Ultra...</td>\n",
       "      <td>127990</td>\n",
       "      <td>4.35</td>\n",
       "      <td>69</td>\n",
       "      <td>Others</td>\n",
       "      <td>Intel Core i3</td>\n",
       "      <td>256</td>\n",
       "      <td>SSD</td>\n",
       "      <td>Windows 11</td>\n",
       "      <td>Intel Integrated Graphics</td>\n",
       "      <td>1</td>\n",
       "      <td>1920x2880</td>\n",
       "      <td>16</td>\n",
       "      <td>14.2</td>\n",
       "      <td>8</td>\n",
       "      <td>['Intel Core Ultra 9 Series 1 185H', '16 Cores...</td>\n",
       "      <td>NaN</td>\n",
       "    </tr>\n",
       "    <tr>\n",
       "      <th>609</th>\n",
       "      <td>MSI Modern 14 C12MO-1211IN Laptop (12th Gen Co...</td>\n",
       "      <td>51990</td>\n",
       "      <td>4.15</td>\n",
       "      <td>55</td>\n",
       "      <td>msi</td>\n",
       "      <td>Intel Core i3</td>\n",
       "      <td>512</td>\n",
       "      <td>SSD</td>\n",
       "      <td>Windows 11</td>\n",
       "      <td>Intel Integrated Graphics</td>\n",
       "      <td>1</td>\n",
       "      <td>1920 x 1080</td>\n",
       "      <td>10</td>\n",
       "      <td>14.0</td>\n",
       "      <td>8</td>\n",
       "      <td>['12th Gen Intel Core i7 1255U', '10 Cores (2P...</td>\n",
       "      <td>NaN</td>\n",
       "    </tr>\n",
       "    <tr>\n",
       "      <th>618</th>\n",
       "      <td>HP Pavilion 15-eg3130TU Laptop (13th Gen Core ...</td>\n",
       "      <td>52485</td>\n",
       "      <td>4.45</td>\n",
       "      <td>48</td>\n",
       "      <td>hp</td>\n",
       "      <td>Intel Core i7</td>\n",
       "      <td>1000</td>\n",
       "      <td>SSD</td>\n",
       "      <td>Windows 11</td>\n",
       "      <td>Intel Integrated Graphics</td>\n",
       "      <td>1</td>\n",
       "      <td>1920 x 1080</td>\n",
       "      <td>6</td>\n",
       "      <td>15.6</td>\n",
       "      <td>16</td>\n",
       "      <td>['13th Gen Intel Core i3 1315U', 'Hexa Core (2...</td>\n",
       "      <td>NaN</td>\n",
       "    </tr>\n",
       "    <tr>\n",
       "      <th>627</th>\n",
       "      <td>Air Falcon Series laptop (12th Gen Core i3/ 8G...</td>\n",
       "      <td>28990</td>\n",
       "      <td>4.20</td>\n",
       "      <td>45</td>\n",
       "      <td>Others</td>\n",
       "      <td>Intel Core Ultra</td>\n",
       "      <td>512</td>\n",
       "      <td>SSD</td>\n",
       "      <td>Windows 11</td>\n",
       "      <td>Intel Integrated Graphics</td>\n",
       "      <td>1</td>\n",
       "      <td>1920 x 1080</td>\n",
       "      <td>6</td>\n",
       "      <td>14.1</td>\n",
       "      <td>16</td>\n",
       "      <td>['12th Gen Intel Core i3 1215U', 'Hexa Core (2...</td>\n",
       "      <td>NaN</td>\n",
       "    </tr>\n",
       "    <tr>\n",
       "      <th>628</th>\n",
       "      <td>Air Falcon Series 14ADL5 laptop (12th Gen Core...</td>\n",
       "      <td>36990</td>\n",
       "      <td>4.45</td>\n",
       "      <td>47</td>\n",
       "      <td>Others</td>\n",
       "      <td>Intel Core Ultra</td>\n",
       "      <td>512</td>\n",
       "      <td>SSD</td>\n",
       "      <td>Windows 11</td>\n",
       "      <td>Intel Integrated Graphics</td>\n",
       "      <td>1</td>\n",
       "      <td>1920 x 1080</td>\n",
       "      <td>10</td>\n",
       "      <td>14.1</td>\n",
       "      <td>16</td>\n",
       "      <td>['12th Gen Intel Core i5 1235U', '10 Cores (2P...</td>\n",
       "      <td>NaN</td>\n",
       "    </tr>\n",
       "    <tr>\n",
       "      <th>678</th>\n",
       "      <td>Acer Aspire 3 A324-51 UN.343SI.00A Laptop (12t...</td>\n",
       "      <td>52990</td>\n",
       "      <td>4.20</td>\n",
       "      <td>54</td>\n",
       "      <td>acer</td>\n",
       "      <td>Intel Core Ultra</td>\n",
       "      <td>1000</td>\n",
       "      <td>SSD</td>\n",
       "      <td>Windows 11</td>\n",
       "      <td>Intel Integrated Graphics</td>\n",
       "      <td>1</td>\n",
       "      <td>1920 x 1080</td>\n",
       "      <td>10</td>\n",
       "      <td>14.0</td>\n",
       "      <td>16</td>\n",
       "      <td>['12th Gen Intel Core i7 1255U', '10 Cores (2P...</td>\n",
       "      <td>NaN</td>\n",
       "    </tr>\n",
       "    <tr>\n",
       "      <th>679</th>\n",
       "      <td>Acer Aspire 3 A324-51 UN.343SI.004 Laptop (12t...</td>\n",
       "      <td>49990</td>\n",
       "      <td>4.75</td>\n",
       "      <td>53</td>\n",
       "      <td>acer</td>\n",
       "      <td>Intel Core i5</td>\n",
       "      <td>512</td>\n",
       "      <td>SSD</td>\n",
       "      <td>Windows 11</td>\n",
       "      <td>Intel Integrated Graphics</td>\n",
       "      <td>1</td>\n",
       "      <td>1920 x 1080</td>\n",
       "      <td>10</td>\n",
       "      <td>14.0</td>\n",
       "      <td>8</td>\n",
       "      <td>['12th Gen Intel Core i7 1255U', '10 Cores (2P...</td>\n",
       "      <td>NaN</td>\n",
       "    </tr>\n",
       "    <tr>\n",
       "      <th>703</th>\n",
       "      <td>Acer Chromebook Plus 515 CB515-2H ‎NX.KNUSI.00...</td>\n",
       "      <td>34990</td>\n",
       "      <td>4.05</td>\n",
       "      <td>46</td>\n",
       "      <td>acer</td>\n",
       "      <td>Intel Core i9</td>\n",
       "      <td>1000</td>\n",
       "      <td>SSD</td>\n",
       "      <td>Windows 11</td>\n",
       "      <td>Intel Integrated Graphics</td>\n",
       "      <td>1</td>\n",
       "      <td>1920 x 1080</td>\n",
       "      <td>6</td>\n",
       "      <td>15.6</td>\n",
       "      <td>32</td>\n",
       "      <td>['13th Gen Intel Core i3 1315U', 'Hexa Core (2...</td>\n",
       "      <td>NaN</td>\n",
       "    </tr>\n",
       "    <tr>\n",
       "      <th>775</th>\n",
       "      <td>Microsoft Surface Laptop 6 (Intel Core Ultra 7...</td>\n",
       "      <td>199990</td>\n",
       "      <td>4.25</td>\n",
       "      <td>61</td>\n",
       "      <td>microsoft</td>\n",
       "      <td>Intel Core Ultra</td>\n",
       "      <td>1000</td>\n",
       "      <td>SSD</td>\n",
       "      <td>Windows 11</td>\n",
       "      <td>Intel Integrated Graphics</td>\n",
       "      <td>1</td>\n",
       "      <td>2256x1504</td>\n",
       "      <td>16</td>\n",
       "      <td>13.5</td>\n",
       "      <td>32</td>\n",
       "      <td>['Intel Core Ultra 7 Series 1 165H', '16 Cores...</td>\n",
       "      <td>NaN</td>\n",
       "    </tr>\n",
       "    <tr>\n",
       "      <th>900</th>\n",
       "      <td>Huawei MateBook 14s 2023 Laptop (13th Gen Core...</td>\n",
       "      <td>80999</td>\n",
       "      <td>4.60</td>\n",
       "      <td>68</td>\n",
       "      <td>Others</td>\n",
       "      <td>Intel Core i9</td>\n",
       "      <td>1000</td>\n",
       "      <td>SSD</td>\n",
       "      <td>Windows 11</td>\n",
       "      <td>Intel Integrated Graphics</td>\n",
       "      <td>1</td>\n",
       "      <td>2520x1680</td>\n",
       "      <td>14</td>\n",
       "      <td>14.2</td>\n",
       "      <td>16</td>\n",
       "      <td>['13th Gen Intel Core i9 13900H', '14 Cores (6...</td>\n",
       "      <td>NaN</td>\n",
       "    </tr>\n",
       "    <tr>\n",
       "      <th>911</th>\n",
       "      <td>Dell Latitude 3520 DLCK3520BL Laptop (11th Gen...</td>\n",
       "      <td>35500</td>\n",
       "      <td>4.50</td>\n",
       "      <td>48</td>\n",
       "      <td>dell</td>\n",
       "      <td>Intel Core i3</td>\n",
       "      <td>512</td>\n",
       "      <td>SSD</td>\n",
       "      <td>Other</td>\n",
       "      <td>Intel Integrated Graphics</td>\n",
       "      <td>1</td>\n",
       "      <td>1920 x 1080</td>\n",
       "      <td>2</td>\n",
       "      <td>15.6</td>\n",
       "      <td>8</td>\n",
       "      <td>['11th Gen Intel Core i3 1115G4', 'Dual Core, ...</td>\n",
       "      <td>NaN</td>\n",
       "    </tr>\n",
       "    <tr>\n",
       "      <th>916</th>\n",
       "      <td>Avita Liber AM15A2INT56F Laptop (12th Gen Core...</td>\n",
       "      <td>25990</td>\n",
       "      <td>4.05</td>\n",
       "      <td>46</td>\n",
       "      <td>Others</td>\n",
       "      <td>Intel Core i3</td>\n",
       "      <td>512</td>\n",
       "      <td>SSD</td>\n",
       "      <td>Windows 11</td>\n",
       "      <td>Intel Integrated Graphics</td>\n",
       "      <td>1</td>\n",
       "      <td>1920 x 1080</td>\n",
       "      <td>6</td>\n",
       "      <td>15.6</td>\n",
       "      <td>8</td>\n",
       "      <td>['12th Gen Intel Core i3 1215U', 'Hexa Core (2...</td>\n",
       "      <td>NaN</td>\n",
       "    </tr>\n",
       "  </tbody>\n",
       "</table>\n",
       "</div>"
      ],
      "text/plain": [
       "                                           productName   price  rating  \\\n",
       "114  Lenovo V15 G4 ‎82YU00W7IN Laptop (AMD Ryzen 3 ...   27980    4.45   \n",
       "142  Lenovo IdeaPad Slim 1 82R400BGIN Laptop (AMD R...   33990    4.60   \n",
       "146  Lenovo V15 G4 ‎82YU00W7IN Laptop (AMD Ryzen 3 ...   26990    4.45   \n",
       "154  Acer Swift Go 14 SFG14-41 NX.KG3SI.006 Laptop ...   44990    4.30   \n",
       "155  Acer Swift Go 14 SFG14-41 NX.KG3SI.007 Laptop ...   49990    4.00   \n",
       "177  Acer Aspire 3 A324-51 UN.343SI.003 Laptop (12t...   41990    4.55   \n",
       "188  HP 15-fd0187TU Laptop (13th Gen Core i5/ 8GB/ ...   52990    4.20   \n",
       "316  Dell Vostro 5630 Business Laptop (13th Gen Cor...   84490    4.20   \n",
       "337  Acer Chromebook Plus 514 CB514-4H ‎NX.KUTSI.00...   24990    4.00   \n",
       "370  Huawei MateBook X Pro 2024 Laptop (Intel Core ...  188990    4.55   \n",
       "377  Acer Swift Go 14 OLED SFG14-73 Laptop (Intel C...   94990    4.75   \n",
       "440  Lenovo IdeaPad Slim 3 82RK00VVIN Laptop (12th ...   35490    4.75   \n",
       "580  Asus VivoBook 15 X515MA-BR011W Laptop (Celeron...   19990    4.30   \n",
       "605  Huawei MateBook GT 14 Laptop (Intel Core Ultra...  127990    4.35   \n",
       "609  MSI Modern 14 C12MO-1211IN Laptop (12th Gen Co...   51990    4.15   \n",
       "618  HP Pavilion 15-eg3130TU Laptop (13th Gen Core ...   52485    4.45   \n",
       "627  Air Falcon Series laptop (12th Gen Core i3/ 8G...   28990    4.20   \n",
       "628  Air Falcon Series 14ADL5 laptop (12th Gen Core...   36990    4.45   \n",
       "678  Acer Aspire 3 A324-51 UN.343SI.00A Laptop (12t...   52990    4.20   \n",
       "679  Acer Aspire 3 A324-51 UN.343SI.004 Laptop (12t...   49990    4.75   \n",
       "703  Acer Chromebook Plus 515 CB515-2H ‎NX.KNUSI.00...   34990    4.05   \n",
       "775  Microsoft Surface Laptop 6 (Intel Core Ultra 7...  199990    4.25   \n",
       "900  Huawei MateBook 14s 2023 Laptop (13th Gen Core...   80999    4.60   \n",
       "911  Dell Latitude 3520 DLCK3520BL Laptop (11th Gen...   35500    4.50   \n",
       "916  Avita Liber AM15A2INT56F Laptop (12th Gen Core...   25990    4.05   \n",
       "\n",
       "     specScore      brand        processors  storage storage_type          os  \\\n",
       "114         52     lenovo     Intel Core i5      512          SSD  Windows 11   \n",
       "142         46     lenovo     Intel Core i5      512          SSD  Windows 11   \n",
       "146         52     lenovo     Intel Core i7     1000          SSD  Windows 11   \n",
       "154         60       acer     Intel Core i5      512          SSD  Windows 11   \n",
       "155         62       acer       AMD Ryzen 7      512          SSD  Windows 11   \n",
       "177         51       acer  Intel Core Ultra     1000          SSD  Windows 11   \n",
       "188         50         hp       AMD Ryzen 7     1000          SSD  Windows 11   \n",
       "316         64       dell     Intel Core i9     1000          SSD  Windows 11   \n",
       "337         33       acer     Intel Core i7      512          SSD  Windows 11   \n",
       "370         74     Others     Intel Core i5      512          SSD  Windows 11   \n",
       "377         61       acer     Intel Core i3      512          SSD  Windows 11   \n",
       "440         48     lenovo     Intel Core i7      512          SSD  Windows 11   \n",
       "580         33       asus            Others      256          SSD  Windows 11   \n",
       "605         69     Others     Intel Core i3      256          SSD  Windows 11   \n",
       "609         55        msi     Intel Core i3      512          SSD  Windows 11   \n",
       "618         48         hp     Intel Core i7     1000          SSD  Windows 11   \n",
       "627         45     Others  Intel Core Ultra      512          SSD  Windows 11   \n",
       "628         47     Others  Intel Core Ultra      512          SSD  Windows 11   \n",
       "678         54       acer  Intel Core Ultra     1000          SSD  Windows 11   \n",
       "679         53       acer     Intel Core i5      512          SSD  Windows 11   \n",
       "703         46       acer     Intel Core i9     1000          SSD  Windows 11   \n",
       "775         61  microsoft  Intel Core Ultra     1000          SSD  Windows 11   \n",
       "900         68     Others     Intel Core i9     1000          SSD  Windows 11   \n",
       "911         48       dell     Intel Core i3      512          SSD       Other   \n",
       "916         46     Others     Intel Core i3      512          SSD  Windows 11   \n",
       "\n",
       "                 graphics_card  warranty    resolution  cores  screen_size  \\\n",
       "114               AMD Graphics         1  1920 x 1080       4         15.6   \n",
       "142               AMD Graphics         1  1920 x 1080       6         15.6   \n",
       "146               AMD Graphics         1  1920 x 1080       4         15.6   \n",
       "154  Intel Integrated Graphics         1  1920 x 1080       6         14.0   \n",
       "155  Intel Integrated Graphics         1  1920 x 1080       8         14.0   \n",
       "177  Intel Integrated Graphics         1  1920 x 1080      10         14.0   \n",
       "188  Intel Integrated Graphics         1  1920 x 1080      10         15.6   \n",
       "316            NVIDIA Graphics         1  1920 x 1200      12         16.0   \n",
       "337  Intel Integrated Graphics         1  1920 x 1080       8         14.0   \n",
       "370  Intel Integrated Graphics         1     3120x2080     16         14.2   \n",
       "377  Intel Integrated Graphics         1  2880 x 1800      16         14.0   \n",
       "440  Intel Integrated Graphics         1  1920 x 1080       6         15.6   \n",
       "580  Intel Integrated Graphics         1   1366 x 768       2         15.6   \n",
       "605  Intel Integrated Graphics         1     1920x2880     16         14.2   \n",
       "609  Intel Integrated Graphics         1  1920 x 1080      10         14.0   \n",
       "618  Intel Integrated Graphics         1  1920 x 1080       6         15.6   \n",
       "627  Intel Integrated Graphics         1  1920 x 1080       6         14.1   \n",
       "628  Intel Integrated Graphics         1  1920 x 1080      10         14.1   \n",
       "678  Intel Integrated Graphics         1  1920 x 1080      10         14.0   \n",
       "679  Intel Integrated Graphics         1  1920 x 1080      10         14.0   \n",
       "703  Intel Integrated Graphics         1  1920 x 1080       6         15.6   \n",
       "775  Intel Integrated Graphics         1     2256x1504     16         13.5   \n",
       "900  Intel Integrated Graphics         1     2520x1680     14         14.2   \n",
       "911  Intel Integrated Graphics         1  1920 x 1080       2         15.6   \n",
       "916  Intel Integrated Graphics         1  1920 x 1080       6         15.6   \n",
       "\n",
       "     ram_in_gb                                           features ram_type  \n",
       "114          8  ['7th Gen AMD Ryzen 3 7320U', 'Quad Core, 8 Th...      NaN  \n",
       "142          8  ['5th Gen AMD Ryzen 5 5500U', 'Hexa Core, 12 T...      NaN  \n",
       "146         16  ['7th Gen AMD Ryzen 3 7320U', 'Quad Core, 8 Th...      NaN  \n",
       "154         16  ['7th Gen AMD Ryzen 5 7430U', 'Hexa Core, 12 T...      NaN  \n",
       "155         16  ['7th Gen AMD Ryzen 7 7730U', 'Octa Core, 16 T...      NaN  \n",
       "177         16  ['12th Gen Intel Core i5 1235U', '10 Cores (2P...      NaN  \n",
       "188         32  ['13th Gen Intel Core i5 1335U', '10 Cores (2P...      NaN  \n",
       "316         16  ['13th Gen Intel Core i7 1360P', '12 Cores (4P...      NaN  \n",
       "337         16  ['Intel Core i3 N305', 'Octa Core, 8 Threads',...      NaN  \n",
       "370          8  ['Intel Core Ultra 9 Series 1 185H', '16 Cores...      NaN  \n",
       "377          8  ['Intel Core Ultra 7 Series 1 155H', '16 Cores...      NaN  \n",
       "440         16  ['12th Gen Intel Core i3 1215U', 'Hexa Core (2...      NaN  \n",
       "580          8  ['Intel Celeron  N4020', 'Dual Core, 2 Threads...      NaN  \n",
       "605          8  ['Intel Core Ultra 9 Series 1 185H', '16 Cores...      NaN  \n",
       "609          8  ['12th Gen Intel Core i7 1255U', '10 Cores (2P...      NaN  \n",
       "618         16  ['13th Gen Intel Core i3 1315U', 'Hexa Core (2...      NaN  \n",
       "627         16  ['12th Gen Intel Core i3 1215U', 'Hexa Core (2...      NaN  \n",
       "628         16  ['12th Gen Intel Core i5 1235U', '10 Cores (2P...      NaN  \n",
       "678         16  ['12th Gen Intel Core i7 1255U', '10 Cores (2P...      NaN  \n",
       "679          8  ['12th Gen Intel Core i7 1255U', '10 Cores (2P...      NaN  \n",
       "703         32  ['13th Gen Intel Core i3 1315U', 'Hexa Core (2...      NaN  \n",
       "775         32  ['Intel Core Ultra 7 Series 1 165H', '16 Cores...      NaN  \n",
       "900         16  ['13th Gen Intel Core i9 13900H', '14 Cores (6...      NaN  \n",
       "911          8  ['11th Gen Intel Core i3 1115G4', 'Dual Core, ...      NaN  \n",
       "916          8  ['12th Gen Intel Core i3 1215U', 'Hexa Core (2...      NaN  "
      ]
     },
     "execution_count": 6,
     "metadata": {},
     "output_type": "execute_result"
    }
   ],
   "source": [
    "temp_df14[temp_df14['ram_type'].isnull()]"
   ]
  },
  {
   "cell_type": "code",
   "execution_count": 7,
   "id": "ccbec93c",
   "metadata": {},
   "outputs": [],
   "source": [
    "# Remove leading/trailing spaces and check for NaN values\n",
    "temp_df14['ram_type'] = temp_df14['ram_type'].str.strip()"
   ]
  },
  {
   "cell_type": "code",
   "execution_count": 8,
   "id": "6b66b60e",
   "metadata": {},
   "outputs": [],
   "source": [
    "# Extract ram_type again if needed\n",
    "extracted_ram_type_v6 = temp_df14[temp_df14['ram_type'].isnull()]['features'].str.split(\",\").str[3].str.split(\" \").str[2]\n",
    "temp_df14.loc[temp_df14['ram_type'].isnull(), 'ram_type'] = extracted_ram_type_v6.values"
   ]
  },
  {
   "cell_type": "code",
   "execution_count": 10,
   "id": "07a7666b",
   "metadata": {},
   "outputs": [
    {
     "data": {
      "text/html": [
       "<div>\n",
       "<style scoped>\n",
       "    .dataframe tbody tr th:only-of-type {\n",
       "        vertical-align: middle;\n",
       "    }\n",
       "\n",
       "    .dataframe tbody tr th {\n",
       "        vertical-align: top;\n",
       "    }\n",
       "\n",
       "    .dataframe thead th {\n",
       "        text-align: right;\n",
       "    }\n",
       "</style>\n",
       "<table border=\"1\" class=\"dataframe\">\n",
       "  <thead>\n",
       "    <tr style=\"text-align: right;\">\n",
       "      <th></th>\n",
       "      <th>productName</th>\n",
       "      <th>price</th>\n",
       "      <th>rating</th>\n",
       "      <th>specScore</th>\n",
       "      <th>brand</th>\n",
       "      <th>processors</th>\n",
       "      <th>storage</th>\n",
       "      <th>storage_type</th>\n",
       "      <th>os</th>\n",
       "      <th>graphics_card</th>\n",
       "      <th>warranty</th>\n",
       "      <th>resolution</th>\n",
       "      <th>cores</th>\n",
       "      <th>screen_size</th>\n",
       "      <th>ram_in_gb</th>\n",
       "      <th>features</th>\n",
       "      <th>ram_type</th>\n",
       "    </tr>\n",
       "  </thead>\n",
       "  <tbody>\n",
       "  </tbody>\n",
       "</table>\n",
       "</div>"
      ],
      "text/plain": [
       "Empty DataFrame\n",
       "Columns: [productName, price, rating, specScore, brand, processors, storage, storage_type, os, graphics_card, warranty, resolution, cores, screen_size, ram_in_gb, features, ram_type]\n",
       "Index: []"
      ]
     },
     "execution_count": 10,
     "metadata": {},
     "output_type": "execute_result"
    }
   ],
   "source": [
    "temp_df14[temp_df14['ram_type'].isnull()]"
   ]
  },
  {
   "cell_type": "code",
   "execution_count": 11,
   "id": "e469ec8d",
   "metadata": {},
   "outputs": [],
   "source": [
    "temp_df14.to_csv(\"cleaned_laptop12.csv\", index=False)"
   ]
  },
  {
   "cell_type": "code",
   "execution_count": 12,
   "id": "37d5140f",
   "metadata": {},
   "outputs": [],
   "source": [
    "temp_df15 = pd.read_excel(\"cleaned_laptop12.xlsx\")"
   ]
  },
  {
   "cell_type": "code",
   "execution_count": 13,
   "id": "212cc32c",
   "metadata": {},
   "outputs": [
    {
     "data": {
      "text/plain": [
       "productName       0\n",
       "price             0\n",
       "rating            0\n",
       "specScore         0\n",
       "brand             0\n",
       "processors        0\n",
       "storage           0\n",
       "storage_type      0\n",
       "os                0\n",
       "graphics_card     0\n",
       "warranty          0\n",
       "resolution        0\n",
       "cores             0\n",
       "screen_size       0\n",
       "ram_in_gb         0\n",
       "features          0\n",
       "ram_type         25\n",
       "dtype: int64"
      ]
     },
     "execution_count": 13,
     "metadata": {},
     "output_type": "execute_result"
    }
   ],
   "source": [
    "temp_df15.isnull().sum()"
   ]
  },
  {
   "cell_type": "code",
   "execution_count": 14,
   "id": "d9225c8f",
   "metadata": {},
   "outputs": [],
   "source": [
    "#these missing value re appeared, dont know where its coming from.. so I'll drop them !!"
   ]
  },
  {
   "cell_type": "code",
   "execution_count": 15,
   "id": "00355a3d",
   "metadata": {},
   "outputs": [],
   "source": [
    "temp_df15.dropna(inplace=True)"
   ]
  },
  {
   "cell_type": "code",
   "execution_count": 16,
   "id": "880028bf",
   "metadata": {},
   "outputs": [],
   "source": [
    "temp_df15.to_csv(\"cleaned_laptop13.csv\", index=False)"
   ]
  },
  {
   "cell_type": "code",
   "execution_count": 50,
   "id": "351d34ec",
   "metadata": {},
   "outputs": [],
   "source": [
    "temp_df16 = pd.read_csv(\"cleaned_laptop13.csv\")"
   ]
  },
  {
   "cell_type": "code",
   "execution_count": 51,
   "id": "837ae902",
   "metadata": {},
   "outputs": [
    {
     "data": {
      "text/plain": [
       "productName      0\n",
       "price            0\n",
       "rating           0\n",
       "specScore        0\n",
       "brand            0\n",
       "processors       0\n",
       "storage          0\n",
       "storage_type     0\n",
       "os               0\n",
       "graphics_card    0\n",
       "warranty         0\n",
       "resolution       0\n",
       "cores            0\n",
       "screen_size      0\n",
       "ram_in_gb        0\n",
       "features         0\n",
       "ram_type         0\n",
       "dtype: int64"
      ]
     },
     "execution_count": 51,
     "metadata": {},
     "output_type": "execute_result"
    }
   ],
   "source": [
    "temp_df16.isnull().sum()"
   ]
  },
  {
   "cell_type": "code",
   "execution_count": 52,
   "id": "663d0cd2",
   "metadata": {},
   "outputs": [],
   "source": [
    "#Now its all gone.. no missing value"
   ]
  },
  {
   "cell_type": "code",
   "execution_count": 53,
   "id": "437defb9",
   "metadata": {},
   "outputs": [
    {
     "data": {
      "text/plain": [
       "(920, 17)"
      ]
     },
     "execution_count": 53,
     "metadata": {},
     "output_type": "execute_result"
    }
   ],
   "source": [
    "temp_df16.shape"
   ]
  },
  {
   "cell_type": "code",
   "execution_count": 54,
   "id": "777c829a",
   "metadata": {},
   "outputs": [],
   "source": [
    "temp_df16.drop(columns=['productName', 'features'], inplace=True)"
   ]
  },
  {
   "cell_type": "code",
   "execution_count": 55,
   "id": "be0a2620",
   "metadata": {},
   "outputs": [],
   "source": [
    "temp_df16 = temp_df16[['brand', 'rating', 'specScore','processors', 'storage','storage_type', 'os', 'graphics_card', 'warranty', 'resolution','cores', 'screen_size', 'ram_in_gb', 'ram_type', 'price']]"
   ]
  },
  {
   "cell_type": "code",
   "execution_count": 56,
   "id": "6b90758c",
   "metadata": {},
   "outputs": [
    {
     "data": {
      "text/html": [
       "<div>\n",
       "<style scoped>\n",
       "    .dataframe tbody tr th:only-of-type {\n",
       "        vertical-align: middle;\n",
       "    }\n",
       "\n",
       "    .dataframe tbody tr th {\n",
       "        vertical-align: top;\n",
       "    }\n",
       "\n",
       "    .dataframe thead th {\n",
       "        text-align: right;\n",
       "    }\n",
       "</style>\n",
       "<table border=\"1\" class=\"dataframe\">\n",
       "  <thead>\n",
       "    <tr style=\"text-align: right;\">\n",
       "      <th></th>\n",
       "      <th>brand</th>\n",
       "      <th>rating</th>\n",
       "      <th>specScore</th>\n",
       "      <th>processors</th>\n",
       "      <th>storage</th>\n",
       "      <th>storage_type</th>\n",
       "      <th>os</th>\n",
       "      <th>graphics_card</th>\n",
       "      <th>warranty</th>\n",
       "      <th>resolution</th>\n",
       "      <th>cores</th>\n",
       "      <th>screen_size</th>\n",
       "      <th>ram_in_gb</th>\n",
       "      <th>ram_type</th>\n",
       "      <th>price</th>\n",
       "    </tr>\n",
       "  </thead>\n",
       "  <tbody>\n",
       "    <tr>\n",
       "      <th>875</th>\n",
       "      <td>Others</td>\n",
       "      <td>4.30</td>\n",
       "      <td>23</td>\n",
       "      <td>Others</td>\n",
       "      <td>256</td>\n",
       "      <td>SSD</td>\n",
       "      <td>Other</td>\n",
       "      <td>Other</td>\n",
       "      <td>1</td>\n",
       "      <td>2160 x 1440</td>\n",
       "      <td>0</td>\n",
       "      <td>14.0</td>\n",
       "      <td>8</td>\n",
       "      <td>LPDDR4</td>\n",
       "      <td>70499</td>\n",
       "    </tr>\n",
       "    <tr>\n",
       "      <th>526</th>\n",
       "      <td>acer</td>\n",
       "      <td>4.20</td>\n",
       "      <td>52</td>\n",
       "      <td>Intel Core i3</td>\n",
       "      <td>256</td>\n",
       "      <td>SSD</td>\n",
       "      <td>Windows 10</td>\n",
       "      <td>Intel Integrated Graphics</td>\n",
       "      <td>1</td>\n",
       "      <td>1920 x 1080</td>\n",
       "      <td>6</td>\n",
       "      <td>15.6</td>\n",
       "      <td>8</td>\n",
       "      <td>DDR4</td>\n",
       "      <td>31990</td>\n",
       "    </tr>\n",
       "    <tr>\n",
       "      <th>201</th>\n",
       "      <td>lenovo</td>\n",
       "      <td>4.75</td>\n",
       "      <td>69</td>\n",
       "      <td>Intel Core i5</td>\n",
       "      <td>512</td>\n",
       "      <td>SSD</td>\n",
       "      <td>Windows 11</td>\n",
       "      <td>NVIDIA Graphics</td>\n",
       "      <td>1</td>\n",
       "      <td>1920 x 1080</td>\n",
       "      <td>8</td>\n",
       "      <td>15.6</td>\n",
       "      <td>16</td>\n",
       "      <td>DDR5</td>\n",
       "      <td>70990</td>\n",
       "    </tr>\n",
       "    <tr>\n",
       "      <th>620</th>\n",
       "      <td>hp</td>\n",
       "      <td>4.05</td>\n",
       "      <td>37</td>\n",
       "      <td>Intel Core i9</td>\n",
       "      <td>2000</td>\n",
       "      <td>SSD</td>\n",
       "      <td>Windows 11</td>\n",
       "      <td>Intel Integrated Graphics</td>\n",
       "      <td>1</td>\n",
       "      <td>1366x768</td>\n",
       "      <td>4</td>\n",
       "      <td>14.0</td>\n",
       "      <td>32</td>\n",
       "      <td>LPDDR5</td>\n",
       "      <td>40785</td>\n",
       "    </tr>\n",
       "    <tr>\n",
       "      <th>297</th>\n",
       "      <td>acer</td>\n",
       "      <td>4.60</td>\n",
       "      <td>60</td>\n",
       "      <td>Intel Core i5</td>\n",
       "      <td>512</td>\n",
       "      <td>SSD</td>\n",
       "      <td>Windows 11</td>\n",
       "      <td>NVIDIA Graphics</td>\n",
       "      <td>1</td>\n",
       "      <td>1920 x 1080</td>\n",
       "      <td>8</td>\n",
       "      <td>15.6</td>\n",
       "      <td>16</td>\n",
       "      <td>DDR4</td>\n",
       "      <td>57990</td>\n",
       "    </tr>\n",
       "    <tr>\n",
       "      <th>558</th>\n",
       "      <td>lenovo</td>\n",
       "      <td>4.60</td>\n",
       "      <td>68</td>\n",
       "      <td>AMD Ryzen 5</td>\n",
       "      <td>512</td>\n",
       "      <td>SSD</td>\n",
       "      <td>Windows 11</td>\n",
       "      <td>Intel Integrated Graphics</td>\n",
       "      <td>1</td>\n",
       "      <td>1920 x 1080</td>\n",
       "      <td>10</td>\n",
       "      <td>15.6</td>\n",
       "      <td>16</td>\n",
       "      <td>DDR4</td>\n",
       "      <td>64119</td>\n",
       "    </tr>\n",
       "    <tr>\n",
       "      <th>14</th>\n",
       "      <td>apple</td>\n",
       "      <td>4.60</td>\n",
       "      <td>43</td>\n",
       "      <td>Apple M Series</td>\n",
       "      <td>256</td>\n",
       "      <td>SSD</td>\n",
       "      <td>macOS</td>\n",
       "      <td>Other</td>\n",
       "      <td>1</td>\n",
       "      <td>2560 x 1600</td>\n",
       "      <td>8</td>\n",
       "      <td>13.3</td>\n",
       "      <td>8</td>\n",
       "      <td>DDR4</td>\n",
       "      <td>67990</td>\n",
       "    </tr>\n",
       "  </tbody>\n",
       "</table>\n",
       "</div>"
      ],
      "text/plain": [
       "      brand  rating  specScore      processors  storage storage_type  \\\n",
       "875  Others    4.30         23          Others      256          SSD   \n",
       "526    acer    4.20         52   Intel Core i3      256          SSD   \n",
       "201  lenovo    4.75         69   Intel Core i5      512          SSD   \n",
       "620      hp    4.05         37   Intel Core i9     2000          SSD   \n",
       "297    acer    4.60         60   Intel Core i5      512          SSD   \n",
       "558  lenovo    4.60         68     AMD Ryzen 5      512          SSD   \n",
       "14    apple    4.60         43  Apple M Series      256          SSD   \n",
       "\n",
       "             os              graphics_card  warranty    resolution  cores  \\\n",
       "875       Other                      Other         1  2160 x 1440       0   \n",
       "526  Windows 10  Intel Integrated Graphics         1  1920 x 1080       6   \n",
       "201  Windows 11            NVIDIA Graphics         1  1920 x 1080       8   \n",
       "620  Windows 11  Intel Integrated Graphics         1      1366x768      4   \n",
       "297  Windows 11            NVIDIA Graphics         1  1920 x 1080       8   \n",
       "558  Windows 11  Intel Integrated Graphics         1  1920 x 1080      10   \n",
       "14        macOS                      Other         1  2560 x 1600       8   \n",
       "\n",
       "     screen_size  ram_in_gb ram_type  price  \n",
       "875         14.0          8   LPDDR4  70499  \n",
       "526         15.6          8     DDR4  31990  \n",
       "201         15.6         16     DDR5  70990  \n",
       "620         14.0         32   LPDDR5  40785  \n",
       "297         15.6         16     DDR4  57990  \n",
       "558         15.6         16     DDR4  64119  \n",
       "14          13.3          8     DDR4  67990  "
      ]
     },
     "execution_count": 56,
     "metadata": {},
     "output_type": "execute_result"
    }
   ],
   "source": [
    "temp_df16.sample(7)"
   ]
  },
  {
   "cell_type": "code",
   "execution_count": 57,
   "id": "7b97a6fd",
   "metadata": {},
   "outputs": [
    {
     "data": {
      "text/plain": [
       "0      1920 x 1200 \n",
       "1      1920 x 1200 \n",
       "2      1920 x 1080 \n",
       "3      1920 x 1080 \n",
       "4      1920 x 1080 \n",
       "           ...     \n",
       "915    1920 x 1080 \n",
       "916    2560 x 1600 \n",
       "917    1920 x 1080 \n",
       "918    1920 x 1080 \n",
       "919     1366 x 768 \n",
       "Name: resolution, Length: 920, dtype: object"
      ]
     },
     "execution_count": 57,
     "metadata": {},
     "output_type": "execute_result"
    }
   ],
   "source": [
    "temp_df16['resolution']"
   ]
  },
  {
   "cell_type": "code",
   "execution_count": 58,
   "id": "a1f178ef",
   "metadata": {},
   "outputs": [
    {
     "name": "stdout",
     "output_type": "stream",
     "text": [
      "<class 'pandas.core.frame.DataFrame'>\n",
      "RangeIndex: 920 entries, 0 to 919\n",
      "Data columns (total 15 columns):\n",
      " #   Column         Non-Null Count  Dtype  \n",
      "---  ------         --------------  -----  \n",
      " 0   brand          920 non-null    object \n",
      " 1   rating         920 non-null    float64\n",
      " 2   specScore      920 non-null    int64  \n",
      " 3   processors     920 non-null    object \n",
      " 4   storage        920 non-null    int64  \n",
      " 5   storage_type   920 non-null    object \n",
      " 6   os             920 non-null    object \n",
      " 7   graphics_card  920 non-null    object \n",
      " 8   warranty       920 non-null    int64  \n",
      " 9   resolution     920 non-null    object \n",
      " 10  cores          920 non-null    int64  \n",
      " 11  screen_size    920 non-null    float64\n",
      " 12  ram_in_gb      920 non-null    int64  \n",
      " 13  ram_type       920 non-null    object \n",
      " 14  price          920 non-null    int64  \n",
      "dtypes: float64(2), int64(6), object(7)\n",
      "memory usage: 107.9+ KB\n"
     ]
    }
   ],
   "source": [
    "temp_df16.info()"
   ]
  },
  {
   "cell_type": "code",
   "execution_count": 62,
   "id": "91cbaab9",
   "metadata": {},
   "outputs": [],
   "source": [
    "def format_resolution(resolution):\n",
    "    # Split the resolution on 'x' and strip extra spaces\n",
    "    parts = resolution.split('x')\n",
    "    # Join the parts with ' x ' ensuring consistent spacing\n",
    "    return ' x '.join(part.strip() for part in parts)"
   ]
  },
  {
   "cell_type": "code",
   "execution_count": 64,
   "id": "6d7d1da0",
   "metadata": {},
   "outputs": [],
   "source": [
    "temp_df16['resolution'] = temp_df16['resolution'].apply(format_resolution)"
   ]
  },
  {
   "cell_type": "code",
   "execution_count": 66,
   "id": "139e09ff",
   "metadata": {},
   "outputs": [],
   "source": [
    "temp_df16['resolution'] = temp_df16['resolution'].str.replace(\"'\",\"\")"
   ]
  },
  {
   "cell_type": "code",
   "execution_count": 67,
   "id": "bfc452bd",
   "metadata": {},
   "outputs": [
    {
     "data": {
      "text/plain": [
       "1920 x 1080    533\n",
       "1920 x 1200    125\n",
       "2560 x 1600     64\n",
       "2880 x 1800     52\n",
       "1366 x 768      37\n",
       "2560 x 1440     14\n",
       "3840 x 2400     11\n",
       "2880 x 1920     10\n",
       "3200 x 2000      8\n",
       "2560 x 1664      6\n",
       "2880 x 1620      6\n",
       "1080 x 1920      6\n",
       "2240 x 1400      6\n",
       "2304 x 1536      5\n",
       "3024 x 1964      5\n",
       "2880 x 1864      4\n",
       "3456 x 2234      4\n",
       "3072 x 1920      4\n",
       "3840 x 2160      3\n",
       "2160 x 1440      3\n",
       "2496 x 1664      3\n",
       "2048 x 1280      2\n",
       "1536 x 1024      1\n",
       "3000 x 2000      1\n",
       "1440 x 2160      1\n",
       "2944 x 1840      1\n",
       "3200 x 1800      1\n",
       "3120 x 2080      1\n",
       "2256 x 1504      1\n",
       "1440 x 2560      1\n",
       "2561 x 1600      1\n",
       "Name: resolution, dtype: int64"
      ]
     },
     "execution_count": 67,
     "metadata": {},
     "output_type": "execute_result"
    }
   ],
   "source": [
    "temp_df16['resolution'].value_counts()"
   ]
  },
  {
   "cell_type": "code",
   "execution_count": 68,
   "id": "34fc9545",
   "metadata": {},
   "outputs": [],
   "source": [
    "# Define a mapping of resolutions to categories\n",
    "resolution_mapping = {\n",
    "    '1920 x 1080': 'Full HD',\n",
    "    '1920 x 1200': 'WUXGA',\n",
    "    '2560 x 1600': 'WQXGA',\n",
    "    '2880 x 1800': 'WQXGA+',\n",
    "    '1366 x 768': 'HD',\n",
    "    '2560 x 1440': 'QHD',\n",
    "    '3840 x 2400': '4K',\n",
    "    '2880 x 1920': 'WQXGA+',\n",
    "    '3200 x 2000': 'Custom',\n",
    "    '2560 x 1664': 'Custom',\n",
    "    '2880 x 1620': 'Custom',\n",
    "    '1080 x 1920': 'Full HD (Portrait)',\n",
    "    '2240 x 1400': 'Custom',\n",
    "    '2304 x 1536': 'Custom',\n",
    "    '3024 x 1964': 'Custom',\n",
    "    '2880 x 1864': 'Custom',\n",
    "    '3456 x 2234': 'Custom',\n",
    "    '3072 x 1920': 'Custom',\n",
    "    '3840 x 2160': '4K UHD',\n",
    "    '2160 x 1440': 'Custom',\n",
    "    '2496 x 1664': 'Custom',\n",
    "    '2048 x 1280': 'Custom',\n",
    "    '1536 x 1024': 'SXGA',\n",
    "    '3000 x 2000': 'Custom',\n",
    "    '1440 x 2160': 'Custom',\n",
    "    '2944 x 1840': 'Custom',\n",
    "    '3200 x 1800': 'Custom',\n",
    "    '3120 x 2080': 'Custom',\n",
    "    '2256 x 1504': 'Custom',\n",
    "    '1440 x 2560': 'Custom',\n",
    "    '2561 x 1600': 'Custom'\n",
    "}"
   ]
  },
  {
   "cell_type": "code",
   "execution_count": 69,
   "id": "03f46ce3",
   "metadata": {},
   "outputs": [],
   "source": [
    "# Define a function to map resolutions to categories\n",
    "def map_resolution(resolution):\n",
    "    return resolution_mapping.get(resolution, 'Unknown')"
   ]
  },
  {
   "cell_type": "code",
   "execution_count": 72,
   "id": "dd0daf62",
   "metadata": {},
   "outputs": [],
   "source": [
    "# Apply the mapping function to the DataFrame\n",
    "temp_df16['screen_resolution'] = temp_df16['resolution'].apply(map_resolution)"
   ]
  },
  {
   "cell_type": "code",
   "execution_count": 73,
   "id": "f6828f29",
   "metadata": {},
   "outputs": [
    {
     "data": {
      "text/plain": [
       "Index(['brand', 'rating', 'specScore', 'processors', 'storage', 'storage_type',\n",
       "       'os', 'graphics_card', 'warranty', 'resolution', 'cores', 'screen_size',\n",
       "       'ram_in_gb', 'ram_type', 'price', 'category', 'screen_resolution'],\n",
       "      dtype='object')"
      ]
     },
     "execution_count": 73,
     "metadata": {},
     "output_type": "execute_result"
    }
   ],
   "source": [
    "temp_df16.columns"
   ]
  },
  {
   "cell_type": "code",
   "execution_count": 74,
   "id": "be602941",
   "metadata": {},
   "outputs": [],
   "source": [
    "temp_df16.drop(columns=['resolution', 'category'], inplace=True)"
   ]
  },
  {
   "cell_type": "code",
   "execution_count": 80,
   "id": "0a927c67",
   "metadata": {},
   "outputs": [
    {
     "data": {
      "text/plain": [
       "Full HD               533\n",
       "WUXGA                 125\n",
       "WQXGA                  64\n",
       "Custom                 64\n",
       "WQXGA+                 62\n",
       "HD                     37\n",
       "QHD                    14\n",
       "4K                     11\n",
       "Full HD (Portrait)      6\n",
       "4K UHD                  3\n",
       "SXGA                    1\n",
       "Name: screen_resolution, dtype: int64"
      ]
     },
     "execution_count": 80,
     "metadata": {},
     "output_type": "execute_result"
    }
   ],
   "source": [
    "temp_df16['screen_resolution'].value_counts()"
   ]
  },
  {
   "cell_type": "code",
   "execution_count": 83,
   "id": "f2375009",
   "metadata": {},
   "outputs": [],
   "source": [
    "temp_df16['screen_resolution'] = temp_df16['screen_resolution'].str.strip().str.replace('Full HD \\(Portrait\\)', 'Full HD', regex=True)"
   ]
  },
  {
   "cell_type": "code",
   "execution_count": 84,
   "id": "333b3821",
   "metadata": {},
   "outputs": [
    {
     "data": {
      "text/plain": [
       "Full HD    539\n",
       "WUXGA      125\n",
       "WQXGA       64\n",
       "Custom      64\n",
       "WQXGA+      62\n",
       "HD          37\n",
       "QHD         14\n",
       "4K          11\n",
       "4K UHD       3\n",
       "SXGA         1\n",
       "Name: screen_resolution, dtype: int64"
      ]
     },
     "execution_count": 84,
     "metadata": {},
     "output_type": "execute_result"
    }
   ],
   "source": [
    "temp_df16['screen_resolution'].value_counts()"
   ]
  },
  {
   "cell_type": "code",
   "execution_count": 86,
   "id": "c908eeaa",
   "metadata": {},
   "outputs": [
    {
     "data": {
      "text/plain": [
       "15.60    440\n",
       "14.00    211\n",
       "16.00    138\n",
       "13.30     19\n",
       "16.10     18\n",
       "17.30     12\n",
       "13.00     10\n",
       "11.60      7\n",
       "18.00      7\n",
       "13.40      7\n",
       "13.60      6\n",
       "14.10      6\n",
       "14.50      6\n",
       "17.00      6\n",
       "13.80      5\n",
       "14.20      5\n",
       "15.30      4\n",
       "16.20      4\n",
       "15.00      3\n",
       "13.50      2\n",
       "14.60      1\n",
       "12.40      1\n",
       "16.30      1\n",
       "15.75      1\n",
       "Name: screen_size, dtype: int64"
      ]
     },
     "execution_count": 86,
     "metadata": {},
     "output_type": "execute_result"
    }
   ],
   "source": [
    "temp_df16['screen_size'].value_counts()"
   ]
  },
  {
   "cell_type": "code",
   "execution_count": 87,
   "id": "5b5db4e6",
   "metadata": {},
   "outputs": [],
   "source": [
    "def categorize_screen_size(size):\n",
    "    if size < 13:\n",
    "        return 'Very Small'\n",
    "    elif 13 <= size < 15:\n",
    "        return 'Small'\n",
    "    elif 15 <= size < 17:\n",
    "        return 'Medium'\n",
    "    elif 17 <= size < 19:\n",
    "        return 'Large'\n",
    "    else:\n",
    "        return 'Very Large'"
   ]
  },
  {
   "cell_type": "code",
   "execution_count": 88,
   "id": "616d07c9",
   "metadata": {},
   "outputs": [],
   "source": [
    "temp_df16['screen_size_category'] = temp_df16['screen_size'].apply(categorize_screen_size)"
   ]
  },
  {
   "cell_type": "code",
   "execution_count": 89,
   "id": "80e778c4",
   "metadata": {},
   "outputs": [
    {
     "data": {
      "text/plain": [
       "Medium        609\n",
       "Small         278\n",
       "Large          25\n",
       "Very Small      8\n",
       "Name: screen_size_category, dtype: int64"
      ]
     },
     "execution_count": 89,
     "metadata": {},
     "output_type": "execute_result"
    }
   ],
   "source": [
    "temp_df16['screen_size_category'].value_counts()"
   ]
  },
  {
   "cell_type": "code",
   "execution_count": 91,
   "id": "f55b5ce3",
   "metadata": {},
   "outputs": [
    {
     "data": {
      "text/plain": [
       "DDR4              398\n",
       "LPDDR5            221\n",
       "DDR5              212\n",
       "LPDDR4             67\n",
       "SSD                13\n",
       "DDR3                3\n",
       "DDR6                2\n",
       "Unified Memory      2\n",
       "NVIDIA              1\n",
       "Radeon              1\n",
       "Name: ram_type, dtype: int64"
      ]
     },
     "execution_count": 91,
     "metadata": {},
     "output_type": "execute_result"
    }
   ],
   "source": [
    "temp_df16['ram_type'].value_counts()"
   ]
  },
  {
   "cell_type": "code",
   "execution_count": 93,
   "id": "3bf308b5",
   "metadata": {},
   "outputs": [],
   "source": [
    "temp_df16.to_excel(\"cleaned_laptop_full_cleaned.xlsx\", index=False)"
   ]
  },
  {
   "cell_type": "code",
   "execution_count": null,
   "id": "fb1728cc",
   "metadata": {},
   "outputs": [],
   "source": []
  }
 ],
 "metadata": {
  "kernelspec": {
   "display_name": "Python 3 (ipykernel)",
   "language": "python",
   "name": "python3"
  },
  "language_info": {
   "codemirror_mode": {
    "name": "ipython",
    "version": 3
   },
   "file_extension": ".py",
   "mimetype": "text/x-python",
   "name": "python",
   "nbconvert_exporter": "python",
   "pygments_lexer": "ipython3",
   "version": "3.10.4"
  }
 },
 "nbformat": 4,
 "nbformat_minor": 5
}
